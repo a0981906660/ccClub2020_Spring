{
 "cells": [
  {
   "cell_type": "markdown",
   "metadata": {},
   "source": [
    "# Obtaining Geographical Location through IP Address"
   ]
  },
  {
   "cell_type": "markdown",
   "metadata": {},
   "source": []
  },
  {
   "cell_type": "markdown",
   "metadata": {},
   "source": [
    "### Selenium"
   ]
  },
  {
   "cell_type": "code",
   "execution_count": 1,
   "metadata": {},
   "outputs": [
    {
     "name": "stderr",
     "output_type": "stream",
     "text": [
      "/Applications/anaconda3/lib/python3.6/site-packages/requests/__init__.py:80: RequestsDependencyWarning: urllib3 (1.25.9) or chardet (3.0.4) doesn't match a supported version!\n",
      "  RequestsDependencyWarning)\n"
     ]
    }
   ],
   "source": [
    "import requests\n",
    "from bs4 import BeautifulSoup\n",
    "import sys\n",
    "import codecs\n",
    "from selenium import webdriver\n",
    "from selenium.webdriver.support.ui import WebDriverWait\n",
    "from selenium.webdriver.common.keys import Keys\n",
    "import requests\n",
    "import time\n",
    "from fake_useragent import UserAgent\n",
    "import csv\n",
    "import pandas as pd\n",
    "import numpy as np"
   ]
  },
  {
   "cell_type": "markdown",
   "metadata": {},
   "source": [
    "### Use try & except"
   ]
  },
  {
   "cell_type": "code",
   "execution_count": 2,
   "metadata": {},
   "outputs": [
    {
     "name": "stderr",
     "output_type": "stream",
     "text": [
      "/Applications/anaconda3/lib/python3.6/site-packages/ipykernel_launcher.py:23: DeprecationWarning: use options instead of chrome_options\n"
     ]
    }
   ],
   "source": [
    "#Use fake UserAgent\n",
    "def set_header_user_agent():\n",
    "    user_agent = UserAgent()\n",
    "    return user_agent.random\n",
    "\n",
    "#open browser #打開瀏覽器，但不要載入圖片\n",
    "options = webdriver.ChromeOptions()\n",
    "prefs = {\n",
    "    'profile.default_content_setting_values': {\n",
    "        'images': 2,\n",
    "        #'javascript': 2\n",
    "    }\n",
    "}\n",
    "options.add_experimental_option('prefs', prefs)\n",
    "\n",
    "#ua = \"Mozilla/5.0 (Windows NT 10.0; WOW64; rv:53.0) Gecko/20100101 Firefox/53.0\"\n",
    "#headers = {'User-Agent': 'User-Agent:Mozilla/5.0 (Macintosh; Intel Mac OS X 10_12_3) AppleWebKit/537.36 (KHTML, like Gecko) Chrome/56.0.2924.87 Safari/537.36'}\n",
    "#user_agent = set_header_user_agent()\n",
    "#headers={ 'user-agent': user_agent }\n",
    "#options.add_argument(\"user-agent={}\".format(user_agent)) # 使用偽造的 user-agent\n",
    "#options.add_argument(headers)\n",
    "\n",
    "driver = webdriver.Chrome('./chromedriver', chrome_options=options)"
   ]
  },
  {
   "cell_type": "code",
   "execution_count": 3,
   "metadata": {},
   "outputs": [],
   "source": [
    "#define urls\n",
    "IP_url1 = \"https://tw.geoipview.com/\"\n",
    "IP_url2 = \"https://www.ez2o.com/App/Net/IP\""
   ]
  },
  {
   "cell_type": "code",
   "execution_count": 4,
   "metadata": {},
   "outputs": [],
   "source": [
    "driver.get(IP_url2)\n",
    "driver.implicitly_wait(5)"
   ]
  },
  {
   "cell_type": "code",
   "execution_count": 5,
   "metadata": {},
   "outputs": [
    {
     "ename": "SyntaxError",
     "evalue": "invalid syntax (<ipython-input-5-e9d8a80a6915>, line 1)",
     "output_type": "error",
     "traceback": [
      "\u001b[0;36m  File \u001b[0;32m\"<ipython-input-5-e9d8a80a6915>\"\u001b[0;36m, line \u001b[0;32m1\u001b[0m\n\u001b[0;31m    (/*[@id=\"QueryIP\"])\u001b[0m\n\u001b[0m     ^\u001b[0m\n\u001b[0;31mSyntaxError\u001b[0m\u001b[0;31m:\u001b[0m invalid syntax\n"
     ]
    }
   ],
   "source": [
    "//*[@id=\"QueryIP\"]"
   ]
  },
  {
   "cell_type": "code",
   "execution_count": null,
   "metadata": {},
   "outputs": [],
   "source": [
    "# 點查詢欄位\n",
    "search_field = driver.find_element_by_xpath(\"\"\"//*[@id=\"QueryIP\"]\"\"\")\n",
    "search_field.click()\n",
    "search_field.clear()\n",
    "\n",
    "# 輸入IP\n",
    "search_field.send_keys(\"110.26.35.209\")\n",
    "search_field.send_keys(Keys.ENTER)\n",
    "driver.implicitly_wait(5)\n",
    "\n",
    "#拿到source page\n",
    "IP_soup_2 = BeautifulSoup(driver.page_source, 'html.parser')"
   ]
  },
  {
   "cell_type": "markdown",
   "metadata": {},
   "source": [
    "# 找table\n",
    "\n",
    "<div id=\"ipinfo_show\">\n",
    "  <table width=\"250\" cellspacing=\"0\" cellpadding=\"1\" border=\"0\">\n",
    "  <tbody><tr><td></td><td></td>\n",
    "  </tr><tr><td class=\"show1\" width=\"20%\" nowrap=\"\">主機名稱:&nbsp;</td><td width=\"80%\" nowrap=\"\"><div class=\"host\"></div></td>\n",
    "  </tr><tr><td class=\"show1\" nowrap=\"\">IP 位址:&nbsp;</td><td class=\"ip\"><span class=\"show2\">140.112.177.146</span> [<a href=\"http://whois.chromefans.org/140.112.177.146\" target=\"_blank\">whois</a>]</td>\n",
    "  </tr><tr><td class=\"show1\" nowrap=\"\">國家/地區代碼:&nbsp;</td><td>TWN / TW &nbsp;  &nbsp; <img src=\"https://image.geoipview.com/flags/tw.png\" width=\"16\" height=\"11\" border=\"0\" align=\"absmiddle\" alt=\"Taiwan\"></td>\n",
    "  </tr><tr><td class=\"show1\" nowrap=\"\">國家:&nbsp;</td><td class=\"show2\">Taiwan</td>\n",
    "  </tr><tr><td class=\"show1\" nowrap=\"\">地區:&nbsp;</td><td>25</td>\n",
    "  </tr><tr><td class=\"show1\" nowrap=\"\">城市:&nbsp;</td><td class=\"show2\">Fuan</td>\n",
    "  </tr><tr><td class=\"show1\" nowrap=\"\">郵政編碼:&nbsp;</td><td></td>\n",
    "  </tr><tr><td class=\"show1\" nowrap=\"\">緯度:&nbsp;</td><td>24.86009979248</td>\n",
    "  </tr><tr><td class=\"show1\" nowrap=\"\">經度:&nbsp;</td><td>121.29570007324</td>\n",
    "  </tr></tbody></table>\n",
    "  </div>"
   ]
  },
  {
   "cell_type": "markdown",
   "metadata": {},
   "source": [
    "<table class=\"table table-striped table-hover\"><tbody><tr class=\"active\"><td class=\"text-right\"><strong>主機名稱：</strong></td><td>110-26-35-209.adsl.fetnet.net</td></tr><tr class=\"active\"><td class=\"text-right\"><strong>國家名稱：</strong></td><td>AS - Asia ( 亞洲 ) <br> <span>TW - Taiwan ( 台灣 )</span> <br> <img src=\"/Images/COUNTRY/TW.png\" width=\"120\" alt=\"TW - Taiwan ( 台灣 )\" title=\"TW - Taiwan ( 台灣 )\" class=\"img-thumbnail\"></td></tr><tr class=\"active\"><td class=\"text-right\"><strong>城市名稱：</strong></td><td>Taipei</td></tr><tr class=\"active\"><td class=\"text-right\"><strong>經度緯度：</strong></td><td>經度：121.532　緯度：25.048</td></tr><tr class=\"active\"><td class=\"text-right\"><strong>電訊名稱：</strong></td><td>FarEasTone</td></tr><tr class=\"active\"><td class=\"text-right\"><strong>單位名稱：</strong></td><td>Far EastTone Telecommunication Co., Ltd.</td></tr><tr class=\"active\"><td class=\"text-right\"><strong>網域名稱：</strong></td><td>fetnet.net</td></tr><tr class=\"active\"><td class=\"text-right\"><strong>時區單位：</strong></td><td>Asia/Taipei (UTC +08:00)</td></tr></tbody></table>"
   ]
  },
  {
   "cell_type": "code",
   "execution_count": 6,
   "metadata": {},
   "outputs": [
    {
     "ename": "NameError",
     "evalue": "name 'IP_soup_2' is not defined",
     "output_type": "error",
     "traceback": [
      "\u001b[0;31m---------------------------------------------------------------------------\u001b[0m",
      "\u001b[0;31mNameError\u001b[0m                                 Traceback (most recent call last)",
      "\u001b[0;32m<ipython-input-6-29d444d556b5>\u001b[0m in \u001b[0;36m<module>\u001b[0;34m()\u001b[0m\n\u001b[1;32m      1\u001b[0m \u001b[0;31m# 找table\u001b[0m\u001b[0;34m\u001b[0m\u001b[0;34m\u001b[0m\u001b[0m\n\u001b[0;32m----> 2\u001b[0;31m \u001b[0mtable_2\u001b[0m \u001b[0;34m=\u001b[0m \u001b[0mIP_soup_2\u001b[0m\u001b[0;34m.\u001b[0m\u001b[0mfind\u001b[0m\u001b[0;34m(\u001b[0m\u001b[0;34m\"table\"\u001b[0m\u001b[0;34m)\u001b[0m\u001b[0;34m\u001b[0m\u001b[0m\n\u001b[0m",
      "\u001b[0;31mNameError\u001b[0m: name 'IP_soup_2' is not defined"
     ]
    }
   ],
   "source": [
    "# 找table\n",
    "table_2 = IP_soup_2.find(\"table\")"
   ]
  },
  {
   "cell_type": "code",
   "execution_count": 7,
   "metadata": {},
   "outputs": [
    {
     "ename": "NameError",
     "evalue": "name 'table_2' is not defined",
     "output_type": "error",
     "traceback": [
      "\u001b[0;31m---------------------------------------------------------------------------\u001b[0m",
      "\u001b[0;31mNameError\u001b[0m                                 Traceback (most recent call last)",
      "\u001b[0;32m<ipython-input-7-d1b728ab923e>\u001b[0m in \u001b[0;36m<module>\u001b[0;34m()\u001b[0m\n\u001b[0;32m----> 1\u001b[0;31m \u001b[0mtable_2\u001b[0m\u001b[0;34m\u001b[0m\u001b[0m\n\u001b[0m",
      "\u001b[0;31mNameError\u001b[0m: name 'table_2' is not defined"
     ]
    }
   ],
   "source": [
    "table_2"
   ]
  },
  {
   "cell_type": "code",
   "execution_count": 8,
   "metadata": {},
   "outputs": [
    {
     "ename": "NameError",
     "evalue": "name 'table_2' is not defined",
     "output_type": "error",
     "traceback": [
      "\u001b[0;31m---------------------------------------------------------------------------\u001b[0m",
      "\u001b[0;31mNameError\u001b[0m                                 Traceback (most recent call last)",
      "\u001b[0;32m<ipython-input-8-bbbf2f0b9d41>\u001b[0m in \u001b[0;36m<module>\u001b[0;34m()\u001b[0m\n\u001b[0;32m----> 1\u001b[0;31m \u001b[0mdf_2\u001b[0m \u001b[0;34m=\u001b[0m \u001b[0mpd\u001b[0m\u001b[0;34m.\u001b[0m\u001b[0mread_html\u001b[0m\u001b[0;34m(\u001b[0m\u001b[0mstr\u001b[0m\u001b[0;34m(\u001b[0m\u001b[0mtable_2\u001b[0m\u001b[0;34m)\u001b[0m\u001b[0;34m)\u001b[0m\u001b[0;34m[\u001b[0m\u001b[0;36m0\u001b[0m\u001b[0;34m]\u001b[0m\u001b[0;34m\u001b[0m\u001b[0m\n\u001b[0m\u001b[1;32m      2\u001b[0m \u001b[0mdf_2\u001b[0m\u001b[0;34m\u001b[0m\u001b[0m\n",
      "\u001b[0;31mNameError\u001b[0m: name 'table_2' is not defined"
     ]
    }
   ],
   "source": [
    "df_2 = pd.read_html(str(table_2))[0]\n",
    "df_2"
   ]
  },
  {
   "cell_type": "code",
   "execution_count": 9,
   "metadata": {},
   "outputs": [
    {
     "ename": "NameError",
     "evalue": "name 'df_2' is not defined",
     "output_type": "error",
     "traceback": [
      "\u001b[0;31m---------------------------------------------------------------------------\u001b[0m",
      "\u001b[0;31mNameError\u001b[0m                                 Traceback (most recent call last)",
      "\u001b[0;32m<ipython-input-9-a0353b8dc7f7>\u001b[0m in \u001b[0;36m<module>\u001b[0;34m()\u001b[0m\n\u001b[0;32m----> 1\u001b[0;31m \u001b[0mdf_2\u001b[0m\u001b[0;34m.\u001b[0m\u001b[0miloc\u001b[0m\u001b[0;34m[\u001b[0m\u001b[0;36m1\u001b[0m\u001b[0;34m]\u001b[0m\u001b[0;34m[\u001b[0m\u001b[0;36m1\u001b[0m\u001b[0;34m]\u001b[0m \u001b[0;31m#國家\u001b[0m\u001b[0;34m\u001b[0m\u001b[0m\n\u001b[0m\u001b[1;32m      2\u001b[0m \u001b[0mdf_2\u001b[0m\u001b[0;34m.\u001b[0m\u001b[0miloc\u001b[0m\u001b[0;34m[\u001b[0m\u001b[0;36m2\u001b[0m\u001b[0;34m]\u001b[0m\u001b[0;34m[\u001b[0m\u001b[0;36m1\u001b[0m\u001b[0;34m]\u001b[0m \u001b[0;31m#城市\u001b[0m\u001b[0;34m\u001b[0m\u001b[0m\n\u001b[1;32m      3\u001b[0m \u001b[0mdf_2\u001b[0m\u001b[0;34m.\u001b[0m\u001b[0miloc\u001b[0m\u001b[0;34m[\u001b[0m\u001b[0;36m3\u001b[0m\u001b[0;34m]\u001b[0m\u001b[0;34m[\u001b[0m\u001b[0;36m1\u001b[0m\u001b[0;34m]\u001b[0m \u001b[0;31m#經緯度\u001b[0m\u001b[0;34m\u001b[0m\u001b[0m\n\u001b[1;32m      4\u001b[0m \u001b[0mdf_2\u001b[0m\u001b[0;34m.\u001b[0m\u001b[0miloc\u001b[0m\u001b[0;34m[\u001b[0m\u001b[0;36m4\u001b[0m\u001b[0;34m]\u001b[0m\u001b[0;34m[\u001b[0m\u001b[0;36m1\u001b[0m\u001b[0;34m]\u001b[0m \u001b[0;31m#電信名稱\u001b[0m\u001b[0;34m\u001b[0m\u001b[0m\n",
      "\u001b[0;31mNameError\u001b[0m: name 'df_2' is not defined"
     ]
    }
   ],
   "source": [
    "df_2.iloc[1][1] #國家\n",
    "df_2.iloc[2][1] #城市\n",
    "df_2.iloc[3][1] #經緯度\n",
    "df_2.iloc[4][1] #電信名稱"
   ]
  },
  {
   "cell_type": "code",
   "execution_count": 10,
   "metadata": {},
   "outputs": [
    {
     "ename": "NameError",
     "evalue": "name 'df_1' is not defined",
     "output_type": "error",
     "traceback": [
      "\u001b[0;31m---------------------------------------------------------------------------\u001b[0m",
      "\u001b[0;31mNameError\u001b[0m                                 Traceback (most recent call last)",
      "\u001b[0;32m<ipython-input-10-1e0bfe260bf0>\u001b[0m in \u001b[0;36m<module>\u001b[0;34m()\u001b[0m\n\u001b[0;32m----> 1\u001b[0;31m \u001b[0mdf_1\u001b[0m\u001b[0;34m.\u001b[0m\u001b[0mtranspose\u001b[0m\u001b[0;34m(\u001b[0m\u001b[0;34m)\u001b[0m\u001b[0;34m\u001b[0m\u001b[0m\n\u001b[0m",
      "\u001b[0;31mNameError\u001b[0m: name 'df_1' is not defined"
     ]
    }
   ],
   "source": [
    "df_1.transpose()"
   ]
  },
  {
   "cell_type": "code",
   "execution_count": 11,
   "metadata": {},
   "outputs": [
    {
     "ename": "NameError",
     "evalue": "name 'df_1' is not defined",
     "output_type": "error",
     "traceback": [
      "\u001b[0;31m---------------------------------------------------------------------------\u001b[0m",
      "\u001b[0;31mNameError\u001b[0m                                 Traceback (most recent call last)",
      "\u001b[0;32m<ipython-input-11-981a16c9a16a>\u001b[0m in \u001b[0;36m<module>\u001b[0;34m()\u001b[0m\n\u001b[0;32m----> 1\u001b[0;31m \u001b[0mdf_1\u001b[0m\u001b[0;34m.\u001b[0m\u001b[0miloc\u001b[0m\u001b[0;34m[\u001b[0m\u001b[0;36m4\u001b[0m\u001b[0;34m]\u001b[0m\u001b[0;34m[\u001b[0m\u001b[0;36m1\u001b[0m\u001b[0;34m]\u001b[0m \u001b[0;31m#國家\u001b[0m\u001b[0;34m\u001b[0m\u001b[0m\n\u001b[0m\u001b[1;32m      2\u001b[0m \u001b[0mdf_1\u001b[0m\u001b[0;34m.\u001b[0m\u001b[0miloc\u001b[0m\u001b[0;34m[\u001b[0m\u001b[0;36m5\u001b[0m\u001b[0;34m]\u001b[0m\u001b[0;34m[\u001b[0m\u001b[0;36m1\u001b[0m\u001b[0;34m]\u001b[0m \u001b[0;31m#地區\u001b[0m\u001b[0;34m\u001b[0m\u001b[0m\n\u001b[1;32m      3\u001b[0m \u001b[0mdf_1\u001b[0m\u001b[0;34m.\u001b[0m\u001b[0miloc\u001b[0m\u001b[0;34m[\u001b[0m\u001b[0;36m6\u001b[0m\u001b[0;34m]\u001b[0m\u001b[0;34m[\u001b[0m\u001b[0;36m1\u001b[0m\u001b[0;34m]\u001b[0m \u001b[0;31m#城市\u001b[0m\u001b[0;34m\u001b[0m\u001b[0m\n\u001b[1;32m      4\u001b[0m \u001b[0mdf_1\u001b[0m\u001b[0;34m.\u001b[0m\u001b[0miloc\u001b[0m\u001b[0;34m[\u001b[0m\u001b[0;36m8\u001b[0m\u001b[0;34m]\u001b[0m\u001b[0;34m[\u001b[0m\u001b[0;36m1\u001b[0m\u001b[0;34m]\u001b[0m \u001b[0;31m#緯度\u001b[0m\u001b[0;34m\u001b[0m\u001b[0m\n\u001b[1;32m      5\u001b[0m \u001b[0mdf_1\u001b[0m\u001b[0;34m.\u001b[0m\u001b[0miloc\u001b[0m\u001b[0;34m[\u001b[0m\u001b[0;36m9\u001b[0m\u001b[0;34m]\u001b[0m\u001b[0;34m[\u001b[0m\u001b[0;36m1\u001b[0m\u001b[0;34m]\u001b[0m \u001b[0;31m#經度\u001b[0m\u001b[0;34m\u001b[0m\u001b[0m\n",
      "\u001b[0;31mNameError\u001b[0m: name 'df_1' is not defined"
     ]
    }
   ],
   "source": [
    "df_1.iloc[4][1] #國家\n",
    "df_1.iloc[5][1] #地區\n",
    "df_1.iloc[6][1] #城市\n",
    "df_1.iloc[8][1] #緯度\n",
    "df_1.iloc[9][1] #經度"
   ]
  },
  {
   "cell_type": "markdown",
   "metadata": {},
   "source": [
    "# 讀所有的IP，先讀爬下來的PTT文章"
   ]
  },
  {
   "cell_type": "code",
   "execution_count": 12,
   "metadata": {},
   "outputs": [],
   "source": [
    "# Save\n",
    "#np.save(\"earthquake_dict_np\", earthquake_dict)\n",
    "\n",
    "# Load\n",
    "earthquake_dict = np.load('earthquake_dict_0612.npy',allow_pickle='TRUE').item()"
   ]
  },
  {
   "cell_type": "code",
   "execution_count": 13,
   "metadata": {},
   "outputs": [],
   "source": [
    "articles = list(earthquake_dict.keys())"
   ]
  },
  {
   "cell_type": "code",
   "execution_count": 14,
   "metadata": {},
   "outputs": [
    {
     "data": {
      "text/plain": [
       "1040"
      ]
     },
     "execution_count": 14,
     "metadata": {},
     "output_type": "execute_result"
    }
   ],
   "source": [
    "len(articles)"
   ]
  },
  {
   "cell_type": "code",
   "execution_count": 15,
   "metadata": {},
   "outputs": [
    {
     "data": {
      "text/plain": [
       "['M2', 'M3', 'M4', 'M5', 'M6', 'M7', 'M8', 'M9', 'M10']"
      ]
     },
     "execution_count": 15,
     "metadata": {},
     "output_type": "execute_result"
    }
   ],
   "source": [
    "articles[1:10]"
   ]
  },
  {
   "cell_type": "markdown",
   "metadata": {},
   "source": [
    "for art in articles:\n",
    "    try:\n",
    "        print(earthquake_dict[art][\"IP\"], end = \" \")\n",
    "    except:\n",
    "        pass"
   ]
  },
  {
   "cell_type": "markdown",
   "metadata": {},
   "source": [
    "## 把IP拿去反查"
   ]
  },
  {
   "cell_type": "code",
   "execution_count": 16,
   "metadata": {},
   "outputs": [
    {
     "name": "stderr",
     "output_type": "stream",
     "text": [
      "/Applications/anaconda3/lib/python3.6/site-packages/ipykernel_launcher.py:23: DeprecationWarning: use options instead of chrome_options\n"
     ]
    },
    {
     "name": "stdout",
     "output_type": "stream",
     "text": [
      "0 1 2 3 4 5 6 7 8 9 10 11 12 13 14 15 16 17 18 19 20 21 22 23 24 25 26 27 28 29 30 31 32 33 34 35 36 37 38 39 40 41 42 43 44 45 46 47 48 49 50 51 52 53 54 55 56 57 58 59 60 61 62 63 64 65 66 67 68 69 70 71 72 73 74 75 76 77 78 79 80 81 82 83 84 85 86 87 88 89 90 91 92 93 94 95 96 97 98 99 100 101 102 103 104 105 106 107 108 109 110 111 112 113 114 115 116 117 118 119 120 121 122 123 124 125 126 127 128 129 130 131 132 133 134 135 136 137 138 139 140 141 142 143 144 145 146 147 148 149 150 151 152 153 154 155 156 157 158 159 160 161 162 163 164 165 166 167 168 169 170 171 172 173 174 175 176 177 178 179 180 181 182 183 184 185 186 187 188 189 190 191 192 193 194 195 196 197 198 199 200 201 202 203 204 205 206 207 208 209 210 211 212 213 214 215 216 217 218 219 220 221 222 223 224 225 226 227 228 229 230 231 232 233 234 235 236 237 238 239 240 241 242 243 244 245 246 247 248 249 250 251 252 253 254 255 256 257 258 259 260 261 262 263 264 265 266 267 268 269 270 271 272 273 274 275 276 277 278 279 280 281 282 283 284 285 286 287 288 289 290 291 292 293 294 295 296 297 298 299 300 301 302 303 304 305 306 307 308 309 310 311 312 313 314 315 316 317 318 319 320 321 322 323 324 325 326 327 328 329 330 331 332 333 334 335 336 337 338 339 340 341 342 343 344 345 346 347 348 349 350 351 352 353 354 355 356 357 358 359 360 361 362 363 364 365 366 367 368 369 370 371 372 373 374 375 376 377 378 379 380 381 382 383 384 385 386 387 388 389 390 391 392 393 394 395 396 397 398 399 400 401 402 403 404 405 406 407 408 409 410 411 412 413 414 415 416 417 418 419 420 421 422 423 424 425 426 427 428 429 430 431 432 433 434 435 436 437 438 439 440 441 442 443 444 445 446 447 448 449 450 451 452 453 454 455 456 457 458 459 460 461 462 463 464 465 466 467 468 469 470 471 472 473 474 475 476 477 478 479 480 481 482 483 484 485 486 487 488 489 490 491 492 493 494 495 496 497 498 499 500 501 502 503 504 505 506 507 508 509 510 511 512 513 514 515 516 517 518 519 520 521 522 523 524 525 526 527 528 529 530 531 532 533 534 535 536 537 538 539 540 541 542 543 544 545 546 547 548 549 550 551 552 553 554 555 556 557 558 559 560 561 562 563 564 565 566 567 568 569 570 571 572 573 574 575 576 577 578 579 580 581 582 583 584 585 586 587 588 589 590 591 592 593 594 595 596 597 598 599 600 601 602 603 604 605 606 607 608 609 610 611 612 613 614 615 616 617 618 619 620 621 622 623 624 625 626 627 628 629 630 631 632 633 634 635 636 637 638 639 640 641 642 643 644 645 646 647 648 649 650 651 652 653 654 655 656 657 658 659 660 661 662 663 664 665 666 667 668 669 670 671 672 673 674 675 676 677 678 679 680 681 682 683 684 685 686 687 688 689 690 691 692 693 694 695 696 697 698 699 700 701 702 703 704 705 706 707 708 709 710 711 712 713 714 715 716 717 718 719 720 721 722 723 724 725 726 727 728 729 730 731 732 733 734 735 736 737 738 739 740 741 742 743 744 745 746 747 748 749 750 751 752 753 754 755 756 757 758 759 760 761 762 763 764 765 766 767 768 769 770 771 772 773 774 775 776 777 778 779 780 781 782 783 784 785 786 787 788 789 790 791 792 793 794 795 796 797 798 799 800 801 802 803 804 805 806 807 808 809 810 811 812 813 814 815 816 817 818 819 820 821 822 823 824 825 826 827 828 829 830 831 832 833 834 835 836 837 838 839 840 841 842 843 844 845 846 847 848 849 850 851 852 853 854 855 856 857 858 859 860 861 862 863 864 865 866 867 868 869 870 871 872 873 874 875 876 877 878 879 880 881 882 883 884 885 886 887 888 889 890 891 892 893 894 895 896 897 898 899 900 901 902 903 904 905 906 907 908 909 910 911 912 913 914 915 916 917 918 919 920 921 922 923 924 925 926 927 928 929 930 931 932 933 934 935 936 937 938 939 940 941 942 943 944 945 946 947 948 949 950 951 952 953 954 955 956 957 958 959 960 961 962 963 964 965 966 967 968 969 970 971 972 973 974 975 976 977 978 979 980 981 982 983 984 985 986 987 988 989 990 991 992 993 994 995 996 997 998 999 1000 1001 1002 1003 1004 1005 1006 1007 1008 1009 1010 1011 1012 1013 1014 1015 1016 1017 1018 1019 1020 1021 "
     ]
    }
   ],
   "source": [
    "#Use fake UserAgent\n",
    "def set_header_user_agent():\n",
    "    user_agent = UserAgent()\n",
    "    return user_agent.random\n",
    "\n",
    "#open browser #打開瀏覽器，但不要載入圖片\n",
    "options = webdriver.ChromeOptions()\n",
    "prefs = {\n",
    "    'profile.default_content_setting_values': {\n",
    "        'images': 2,\n",
    "        #'javascript': 2\n",
    "    }\n",
    "}\n",
    "options.add_experimental_option('prefs', prefs)\n",
    "\n",
    "#ua = \"Mozilla/5.0 (Windows NT 10.0; WOW64; rv:53.0) Gecko/20100101 Firefox/53.0\"\n",
    "#headers = {'User-Agent': 'User-Agent:Mozilla/5.0 (Macintosh; Intel Mac OS X 10_12_3) AppleWebKit/537.36 (KHTML, like Gecko) Chrome/56.0.2924.87 Safari/537.36'}\n",
    "#user_agent = set_header_user_agent()\n",
    "#headers={ 'user-agent': user_agent }\n",
    "#options.add_argument(\"user-agent={}\".format(user_agent)) # 使用偽造的 user-agent\n",
    "#options.add_argument(headers)\n",
    "\n",
    "driver = webdriver.Chrome('./chromedriver', chrome_options=options)\n",
    "\n",
    "count = 0\n",
    "\n",
    "for art in articles:\n",
    "    try:\n",
    "        #print(earthquake_dict[MMMM][\"IP\"])\n",
    "        ip_address = earthquake_dict[art][\"IP\"]\n",
    "        \n",
    "        #define urls\n",
    "        #IP_url1 = \"https://tw.geoipview.com/\"\n",
    "        IP_url2 = \"https://www.ez2o.com/App/Net/IP\"\n",
    "        \n",
    "        #用第一個反查IP網站\n",
    "        driver.get(IP_url2)\n",
    "        driver.implicitly_wait(5)\n",
    "        \n",
    "        # 點查詢欄位\n",
    "        search_field = driver.find_element_by_xpath(\"\"\"//*[@id=\"QueryIP\"]\"\"\")\n",
    "        search_field.click()\n",
    "        search_field.clear()\n",
    "\n",
    "        # 輸入IP\n",
    "        search_field.send_keys(ip_address)\n",
    "        search_field.send_keys(Keys.ENTER)\n",
    "        driver.implicitly_wait(5)\n",
    "\n",
    "        #拿到source page\n",
    "        IP_soup_2 = BeautifulSoup(driver.page_source, 'html.parser')\n",
    "        \n",
    "        # 找table\n",
    "        table_2 = IP_soup_2.find(\"table\")\n",
    "        df_2 = pd.read_html(str(table_2))[0]\n",
    "        \n",
    "        #新增到該筆文章的dictionary下面\n",
    "        earthquake_dict[art][\"Nation\"] = df_2.iloc[1][1] #國家\n",
    "        earthquake_dict[art][\"City\"] = df_2.iloc[2][1] #城市\n",
    "        earthquake_dict[art][\"Longitude and Latitude\"] = df_2.iloc[3][1] #經緯度\n",
    "        earthquake_dict[art][\"Mobile\"] = df_2.iloc[4][1] #電信名稱\n",
    "        \n",
    "        print(count, end = \" \")\n",
    "        count+=1\n",
    "        time.sleep(0.5)\n",
    "    except:\n",
    "        pass"
   ]
  },
  {
   "cell_type": "code",
   "execution_count": 17,
   "metadata": {},
   "outputs": [
    {
     "data": {
      "text/plain": [
       "1022"
      ]
     },
     "execution_count": 17,
     "metadata": {},
     "output_type": "execute_result"
    }
   ],
   "source": [
    "count"
   ]
  },
  {
   "cell_type": "code",
   "execution_count": 18,
   "metadata": {},
   "outputs": [
    {
     "name": "stdout",
     "output_type": "stream",
     "text": [
      "Taoyuan District Nantou City Hualien City Taipei Taipei Taipei Taipei Chang-hua Taoyuan City Taipei Taipei Taipei Tainan City Taipei Taipei Taipei Taichung Taipei Taipei Hsinchu Taipei Yilan Taipei Yilan Chang-hua Taipei Taoyuan District Amsterdam Hsinchu Taipei Miaoli Chiayi City Taipei Chang-hua Shah Alam Taichung Kaohsiung City Taipei Hualien City Taipei Kaohsiung City Tainan City Taipei Taipei Taichung Taipei Taichung Taipei Hsinchu Taipei Taichung Tainan City Chang-hua Taoyuan District Taichung Taipei Taipei Chang-hua Taipei Taipei Taichung Hsinchu Taichung Kaohsiung City Tainan City Taipei Taipei Tainan City Taipei Taipei Los Angeles Taipei Taipei Taoyuan District Taipei Taipei Taipei Taipei Chang-hua Kaohsiung City Taipei Milpitas Taipei Chang-hua Chang-hua Taipei Nantou City Taipei Taichung Tainan City Taipei San Jose Hsinchu Kaohsiung City Taoyuan District Kaohsiung City Nantou City Hualien City Taipei Osaka Taipei Taipei Taipei Chang-hua Chang-hua Taichung Shenzhen Hsinchu Taichung Taoyuan District Taichung Taipei Los Angeles Taipei Tainan City Taipei Taichung Chang-hua Tainan City Kaohsiung City Taipei Taipei Taipei Chiayi City Chiayi City Tainan City Taichung Taipei Taichung Taipei Taipei Kobe Chang-hua Kaohsiung City Kaohsiung City Taipei Taoyuan District Taipei Chang-hua Kaohsiung City Chang-hua Taipei Taipei Taipei Taipei Taipei Taipei Taipei Taoyuan District Taipei Taipei Kaohsiung City Kaohsiung City Taipei Hsinchu Macao Taipei Chang-hua Kaohsiung City Taipei Hsinchu Chang-hua Taipei Taichung Taoyuan District Shah Alam Taipei Taipei Taipei Tainan City Taipei Taichung Tainan City Taipei Hsinchu Taipei Taipei Yilan Taipei Taipei Yilan Taipei Tainan City Taipei Taipei Taipei Keelung Kaohsiung City Taoyuan District Taoyuan District Chang-hua Taipei Taipei Taipei Taichung Taipei Taichung Tainan City Taipei Taipei Taipei Taichung Shah Alam Taichung Hsinchu Taoyuan District Kaohsiung City Hsinchu Taichung Shibuya Taipei Hsinchu Hsinchu Taichung Chang-hua Taoyuan District Taipei Taichung Taipei Taipei Taipei Taipei Taoyuan District Taipei Taipei Taoyuan District Taipei Taipei Taipei Chang-hua Taipei Taipei Miaoli Tainan City Taipei Taichung Taipei Taichung Hualien City Taipei Taichung Taipei Taichung Taipei Taipei Taichung Kaohsiung City Tainan City Taipei Taipei Nantou City Taipei Miaoli Taipei Taipei Taipei Taoyuan District Kaohsiung City Taichung Taipei Taipei Chiayi City Taipei Chang-hua Taipei Chang-hua San Jose Taichung Chang-hua Taichung Kaohsiung City Taoyuan District Taipei Chang-hua Taichung Hsinchu Chang-hua Taipei Taichung Taichung Taichung Kaohsiung City Taichung Taichung Taichung Taichung Taoyuan District Chang-hua Taipei Taipei Taipei Taipei Taichung Taipei Zhubei Tainan City Taichung Kuala Lumpur Los Angeles Chang-hua Chang-hua Taipei Tainan City Taipei Taipei Taichung Chang-hua Chang-hua Taipei Taipei Taipei Taipei Taipei Kaohsiung City Taipei Taipei Chang-hua Vienna Taipei Kaohsiung City Taipei Andong Taipei Taipei Taichung Chang-hua Taipei Taipei Taoyuan District Taichung Taipei Taipei Singapore Kaohsiung City Taipei Taipei Taipei Taipei Taipei Taipei Taipei Taoyuan District 經度：121.000　緯度：23.500 Toufen Township Hualien City Taipei Tainan City Tainan City Taipei Taipei Taipei Tainan City Bien Hoa Sunnyvale Taipei Taichung Taipei Taichung Buenos Aires Taipei Taoyuan District Tainan City Los Angeles Taoyuan District Taoyuan District Kaohsiung City Taoyuan District Taipei Taipei Kaohsiung City Taipei Taipei Hsinchu Taipei Chang-hua Taipei Kaohsiung City Taipei San Jose Kaohsiung City Changzhou Tainan City Taipei Bandung Kaohsiung City Chang-hua Taipei Taipei Tainan City Hsinchu Taipei Taipei Taipei Chang-hua Ho Chi Minh City Taipei Taipei Taipei Taipei Taoyuan District Taipei Taipei Taipei Taoyuan District Yilan Chang-hua Taipei Hsinchu Tokyo Saitama Taipei Taipei Taipei Taipei Tainan City Taipei Taipei Taoyuan District Chang-hua Taichung Taipei Chang-hua Tainan City Taipei Taoyuan District Taipei Taipei Tainan City Chang-hua Kaohsiung City Kaohsiung City Kaohsiung City zuo ying qu Kaohsiung City Kaohsiung City Taichung Tainan City Tainan City Tainan City Kaohsiung City Kaohsiung City Kaohsiung City Kaohsiung City Kaohsiung City Kaohsiung City Taipei Tainan City Kaohsiung City Tainan City Kaohsiung City Kaohsiung City Taipei Taoyuan District Taipei Nantou City Taipei Taipei Taipei Taipei Wufeng District Tainan City Taoyuan District Hsinchu Taipei Taipei Taipei Taipei Chino Tainan City Taoyuan District Taipei Taitung City Kaohsiung City Kaohsiung City Taipei Taipei Taipei Tainan City Tainan City Tainan City Kaohsiung City Taipei Taichung Taichung Taipei Taipei Tai Po Taoyuan District Taipei Hualien City Taipei Taipei Taichung Taipei Taoyuan District Kaohsiung City Taipei Taipei Jincheng Taichung Chang-hua Taoyuan District Hsinchu Taipei Chang-hua Taoyuan District Chang-hua Taichung Taipei Taipei Taipei Chang-hua Taipei Taipei Tainan City Taipei Taichung Chang-hua Taipei Miaoli Taipei Chang-hua Taipei Tainan City Tainan City Taichung Hsinchu Taipei Koto Hsinchu Taoyuan District Hsinchu Taipei Taoyuan District Taipei Tainan City Taipei Nantou City Taipei Taipei Taipei Taipei Taipei Taipei Taipei Taipei Taipei Taipei Taipei Chang-hua Taipei Taipei Taichung Los Angeles Provo Kaohsiung City Taipei Taoyuan District Tainan City Taipei Taipei Taipei Taichung Taipei Taichung Taipei Kaohsiung City Taipei Taipei Tainan City Taipei Taipei Tainan City Taipei Chang-hua Taoyuan District Taipei Aogu Taipei Taipei Kaohsiung City Taoyuan District Taichung Yuanlin Taipei Taipei Yilan Taipei Taipei Kaohsiung City Hualien City Taipei Taipei Taichung Taipei Taipei Taipei Kaohsiung City Hsinchu Taipei Chang-hua Taipei Hsinchu Hsinchu Taipei Chang-hua Mexico City Taipei Chang-hua Taipei Tainan City Taipei Taipei Taipei Puli Taipei Taipei Taitung City Kaohsiung City Taipei Taipei Taipei Taipei Taipei Taipei Taichung Chang-hua Taipei Taoyuan District Taipei Taipei Taipei Magong Chang-hua Chang-hua Hualien City Chang-hua Taipei Taipei Taipei Taichung Shanghai Taipei Shanghai Sydney Taipei Taipei Taipei Taipei Taipei Taipei Taoyuan District Taichung Taipei Tainan City Taipei Taipei Taipei Taipei Kaohsiung City Taipei Taipei Hualien City Taipei Taipei Taipei Tainan City Taoyuan District Taipei 經度：121.000　緯度：23.500 Kaohsiung City Chang-hua Taichung Taitung City Taoyuan District Hsinchu Tainan City Chang-hua Taipei Chang-hua Central Tainan City Nantou City Taichung Taipei Kaohsiung City Taipei Taoyuan District Taipei Taipei Taipei Taipei Taipei Taipei Taipei Taipei Taipei Taipei Hualien City Taipei Taipei Taipei Ningbu Chang-hua Taipei Bade District Chang-hua Chang-hua Taoyuan District Taipei Taipei Taipei Taipei Taipei Taipei Yilan Miaoli Taipei Taipei Taipei 經度：121.000　緯度：23.500 Taipei Taipei Taipei Taipei Taichung Taipei Hsinchu Taipei Taipei Taipei Taipei Taipei Taipei Taichung Taipei Yilan Taoyuan District Taipei Taichung Taipei Taipei Hualien City Taipei Petaling Jaya Kaohsiung City Taipei Chang-hua Chang-hua Taipei Taipei Taichung Taoyuan District Chang-hua Taipei Taipei Taipei Taichung Taipei Kaohsiung City Taoyuan District Taichung Taipei Taipei Hualien City Taichung Taipei Taipei Taichung Taipei Taichung Tainan City Taoyuan District Taipei Taipei Taipei Taoyuan District Taichung Taipei Taoyuan District Taipei Chang-hua Zhongli District Taipei Hsinchu Taipei Taipei Taipei Taoyuan District Taipei Taipei Taipei Taipei Hsinchu Taipei Taipei Taipei Yilan Taipei Chang-hua Taipei Quezon Taipei Taichung Taipei Taipei Taipei Taipei Phnom Penh Taipei Singapore Kaohsiung City Taichung Taipei Taichung Taoyuan District Taipei Taichung Hsinchu Taipei Taipei Taipei Taipei Taipei Tainan City Taichung Taoyuan District Chaoliao Yilan Taoyuan District Taipei Taipei Kaohsiung City Taipei Taipei Yilan Tainan City Taipei Chang-hua Taipei Taipei Seoul Taipei Chang-hua Taipei Taipei Taipei Taipei Pei-nan Hsinchu Taoyuan District Taipei Chang-hua Tokyo Taipei Taipei Bryansk Taipei Taipei Kaohsiung City Miaoli Taipei 經度：139.690　緯度：35.690 Taichung Taichung Kaohsiung City Taipei Taipei Tianjin Taoyuan District Taipei Chang-hua Taipei Taipei Kaohsiung City Taipei Hsinchu Hsinchu Taoyuan District Taipei Chang-hua Brooklyn 經度：139.690　緯度：35.690 Taichung Chang-hua Taipei Chang-hua Taipei Taichung Ashburn Kaohsiung City Hualien City Hsinchu Taichung Taipei Taipei Taipei Taipei Taipei Hsinchu Taichung Chang-hua Taipei Taipei Taichung Tainan City Taichung Taichung Kaohsiung City Tainan City Chiayi City Kaohsiung City Taichung Nakadai Shirokane Hsinchu Kaohsiung City Taichung Taichung Taipei Hsinchu Taipei Taichung Chang-hua Taipei Hsinchu Taichung Taipei Kaohsiung City Taipei Taichung Hsinchu Kaohsiung City Chang-hua Chang-hua Taipei Chang-hua Taipei Tainan City Taipei Taichung Taipei Taipei Taipei Bade District Tainan City Irvine Taipei Taipei Kaohsiung City Taipei Kaohsiung City Tainan City Taoyuan District Taichung Taipei Taipei Seoul Chang-hua San Jose Taipei Taipei Taipei Taichung Taipei Kaohsiung City Taipei Taipei Taipei Kaohsiung City Taipei Chang-hua Nantou City Hualien City Taipei Taichung Taipei Taipei Nanzih District Taichung Zhubei Taipei Bajia Taipei Tainan City Taoyuan District Taipei Chang-hua Pingtung City Taichung Taipei Chang-hua Taichung Taipei Kaohsiung City Tainan City Hsinchu Kaohsiung City Chang-hua Hsinchu Taipei Chang-hua Taipei Taipei Taipei Kaohsiung City Los Angeles Taipei Pingtung City Taipei Taichung Hsinchu Yilan Taipei Hsinchu Tokyo Tainan City Taipei Taichung Taipei Taipei Hsinchu "
     ]
    }
   ],
   "source": [
    "for art in articles:\n",
    "    try:\n",
    "        print(earthquake_dict[art][\"City\"], end = ' ')\n",
    "    except:\n",
    "        pass"
   ]
  },
  {
   "cell_type": "markdown",
   "metadata": {},
   "source": [
    "# Save\n",
    "np.save(\"earthquake_dict_IPquery_0611_2\", earthquake_dict)"
   ]
  },
  {
   "cell_type": "markdown",
   "metadata": {},
   "source": [
    "# 變成DataFrame"
   ]
  },
  {
   "cell_type": "code",
   "execution_count": 19,
   "metadata": {},
   "outputs": [
    {
     "ename": "KeyError",
     "evalue": "'M1590182680'",
     "output_type": "error",
     "traceback": [
      "\u001b[0;31m---------------------------------------------------------------------------\u001b[0m",
      "\u001b[0;31mKeyError\u001b[0m                                  Traceback (most recent call last)",
      "\u001b[0;32m<ipython-input-19-9ecc38af54bd>\u001b[0m in \u001b[0;36m<module>\u001b[0;34m()\u001b[0m\n\u001b[0;32m----> 1\u001b[0;31m \u001b[0mearthquake_dict\u001b[0m\u001b[0;34m[\u001b[0m\u001b[0;34m\"M1590182680\"\u001b[0m\u001b[0;34m]\u001b[0m\u001b[0;34m[\u001b[0m\u001b[0;34m\"Title\"\u001b[0m\u001b[0;34m]\u001b[0m\u001b[0;34m\u001b[0m\u001b[0m\n\u001b[0m",
      "\u001b[0;31mKeyError\u001b[0m: 'M1590182680'"
     ]
    }
   ],
   "source": [
    "earthquake_dict[\"M1590182680\"][\"Title\"]"
   ]
  },
  {
   "cell_type": "code",
   "execution_count": 20,
   "metadata": {},
   "outputs": [],
   "source": [
    "df_earthquake = pd.DataFrame(earthquake_dict)"
   ]
  },
  {
   "cell_type": "code",
   "execution_count": 21,
   "metadata": {},
   "outputs": [],
   "source": [
    "df_earthquake = df_earthquake.transpose()"
   ]
  },
  {
   "cell_type": "code",
   "execution_count": 22,
   "metadata": {},
   "outputs": [
    {
     "data": {
      "text/html": [
       "<div>\n",
       "<style scoped>\n",
       "    .dataframe tbody tr th:only-of-type {\n",
       "        vertical-align: middle;\n",
       "    }\n",
       "\n",
       "    .dataframe tbody tr th {\n",
       "        vertical-align: top;\n",
       "    }\n",
       "\n",
       "    .dataframe thead th {\n",
       "        text-align: right;\n",
       "    }\n",
       "</style>\n",
       "<table border=\"1\" class=\"dataframe\">\n",
       "  <thead>\n",
       "    <tr style=\"text-align: right;\">\n",
       "      <th></th>\n",
       "      <th>Author</th>\n",
       "      <th>Board</th>\n",
       "      <th>City</th>\n",
       "      <th>Content</th>\n",
       "      <th>Date</th>\n",
       "      <th>Full IP</th>\n",
       "      <th>IP</th>\n",
       "      <th>Longitude and Latitude</th>\n",
       "      <th>Mobile</th>\n",
       "      <th>Nation</th>\n",
       "      <th>Push</th>\n",
       "      <th>Title</th>\n",
       "    </tr>\n",
       "  </thead>\n",
       "  <tbody>\n",
       "    <tr>\n",
       "      <th>M1</th>\n",
       "      <td>iimirageii (小黑)</td>\n",
       "      <td>Gossiping</td>\n",
       "      <td>Taoyuan District</td>\n",
       "      <td>女王我愛妳\\n\\n</td>\n",
       "      <td>Fri Jun 12 08:23:29 2020</td>\n",
       "      <td>49.216.191.58 (臺灣)</td>\n",
       "      <td>49.216.191.58</td>\n",
       "      <td>經度：121.318　緯度：24.989</td>\n",
       "      <td>TWN Broadband</td>\n",
       "      <td>AS - Asia ( 亞洲 ) TW - Taiwan ( 台灣 )</td>\n",
       "      <td>[→ WeAntiTVBS: 過慢 滾 06/12 08:23, , , 本網站已依台灣網站...</td>\n",
       "      <td>[爆卦] 地震啦</td>\n",
       "    </tr>\n",
       "    <tr>\n",
       "      <th>M2</th>\n",
       "      <td>LisaPrincess (莎莎)</td>\n",
       "      <td>Gossiping</td>\n",
       "      <td>Nantou City</td>\n",
       "      <td>有感！\\n\\n</td>\n",
       "      <td>Fri Jun 12 08:23:14 2020</td>\n",
       "      <td>36.233.208.129 (臺灣)</td>\n",
       "      <td>36.233.208.129</td>\n",
       "      <td>經度：120.687　緯度：23.906</td>\n",
       "      <td>HiNet</td>\n",
       "      <td>AS - Asia ( 亞洲 ) TW - Taiwan ( 台灣 )</td>\n",
       "      <td>[→ poiutrew: 你4ㄅ4跌倒 06/12 08:23, 推 chawer: 內地地...</td>\n",
       "      <td>[爆卦] 南投地震</td>\n",
       "    </tr>\n",
       "    <tr>\n",
       "      <th>M3</th>\n",
       "      <td>AntitheApple (蘋果? 那是什麼好吃嗎)</td>\n",
       "      <td>Gossiping</td>\n",
       "      <td>Hualien City</td>\n",
       "      <td>居然有地震\\n\\n\\n\\n發震時間：2020/06/12 08:21:35\\n\\n位置：北緯...</td>\n",
       "      <td>Fri Jun 12 08:21:58 2020</td>\n",
       "      <td>114.44.214.137 (臺灣)</td>\n",
       "      <td>114.44.214.137</td>\n",
       "      <td>經度：121.612　緯度：23.981</td>\n",
       "      <td>HiNet</td>\n",
       "      <td>AS - Asia ( 亞洲 ) TW - Taiwan ( 台灣 )</td>\n",
       "      <td>[※ 編輯: AntitheApple (114.44.214.137 臺灣), 06/12...</td>\n",
       "      <td>[爆卦] 地震</td>\n",
       "    </tr>\n",
       "    <tr>\n",
       "      <th>M4</th>\n",
       "      <td>autechre (Untilted)</td>\n",
       "      <td>Gossiping</td>\n",
       "      <td>Taipei</td>\n",
       "      <td>1.媒體來源: UDN\\n\\n2.記者署名: 周辰陽\\n\\n\\n3.完整新聞標題: 俄國幼獅...</td>\n",
       "      <td>Fri Jun 12 06:46:25 2020</td>\n",
       "      <td>118.168.202.243 (臺灣)</td>\n",
       "      <td>118.168.202.243</td>\n",
       "      <td>經度：121.532　緯度：25.048</td>\n",
       "      <td>Taiwan Academic Network</td>\n",
       "      <td>AS - Asia ( 亞洲 ) TW - Taiwan ( 台灣 )</td>\n",
       "      <td>[推 Aska0910: 幼獅 06/12 06:47, 推 testaxsc: 真男人普丁...</td>\n",
       "      <td>[新聞] 幼獅被打斷腿供遊客合影 普丁震怒令調查</td>\n",
       "    </tr>\n",
       "    <tr>\n",
       "      <th>M5</th>\n",
       "      <td>cosmite (焼き団子)</td>\n",
       "      <td>Gossiping</td>\n",
       "      <td>Taipei</td>\n",
       "      <td>你各位是不是都把道頓堀 唸成 道頓ㄐㄩㄝˊ\\n\\n原來正確的唸法是 道頓 ㄎㄨ\\n\\n堀 這...</td>\n",
       "      <td>Thu Jun 11 18:32:44 2020</td>\n",
       "      <td>60.250.30.118 (臺灣)</td>\n",
       "      <td>60.250.30.118</td>\n",
       "      <td>經度：121.532　緯度：25.048</td>\n",
       "      <td>HiNet</td>\n",
       "      <td>AS - Asia ( 亞洲 ) TW - Taiwan ( 台灣 )</td>\n",
       "      <td>[噓 KLGlikeshit: IKEA 06/11 18:32, 推 andy2012: ...</td>\n",
       "      <td>[問卦] 震撼彈 ! 道頓堀　不唸做  道頓ㄐㄩㄝˊ ?</td>\n",
       "    </tr>\n",
       "  </tbody>\n",
       "</table>\n",
       "</div>"
      ],
      "text/plain": [
       "                        Author      Board              City  \\\n",
       "M1             iimirageii (小黑)  Gossiping  Taoyuan District   \n",
       "M2           LisaPrincess (莎莎)  Gossiping       Nantou City   \n",
       "M3  AntitheApple (蘋果? 那是什麼好吃嗎)  Gossiping      Hualien City   \n",
       "M4         autechre (Untilted)  Gossiping            Taipei   \n",
       "M5              cosmite (焼き団子)  Gossiping            Taipei   \n",
       "\n",
       "                                              Content  \\\n",
       "M1                                          女王我愛妳\\n\\n   \n",
       "M2                                            有感！\\n\\n   \n",
       "M3  居然有地震\\n\\n\\n\\n發震時間：2020/06/12 08:21:35\\n\\n位置：北緯...   \n",
       "M4  1.媒體來源: UDN\\n\\n2.記者署名: 周辰陽\\n\\n\\n3.完整新聞標題: 俄國幼獅...   \n",
       "M5  你各位是不是都把道頓堀 唸成 道頓ㄐㄩㄝˊ\\n\\n原來正確的唸法是 道頓 ㄎㄨ\\n\\n堀 這...   \n",
       "\n",
       "                        Date                Full IP               IP  \\\n",
       "M1  Fri Jun 12 08:23:29 2020     49.216.191.58 (臺灣)    49.216.191.58   \n",
       "M2  Fri Jun 12 08:23:14 2020    36.233.208.129 (臺灣)   36.233.208.129   \n",
       "M3  Fri Jun 12 08:21:58 2020    114.44.214.137 (臺灣)   114.44.214.137   \n",
       "M4  Fri Jun 12 06:46:25 2020   118.168.202.243 (臺灣)  118.168.202.243   \n",
       "M5  Thu Jun 11 18:32:44 2020     60.250.30.118 (臺灣)    60.250.30.118   \n",
       "\n",
       "   Longitude and Latitude                   Mobile  \\\n",
       "M1   經度：121.318　緯度：24.989            TWN Broadband   \n",
       "M2   經度：120.687　緯度：23.906                    HiNet   \n",
       "M3   經度：121.612　緯度：23.981                    HiNet   \n",
       "M4   經度：121.532　緯度：25.048  Taiwan Academic Network   \n",
       "M5   經度：121.532　緯度：25.048                    HiNet   \n",
       "\n",
       "                                 Nation  \\\n",
       "M1  AS - Asia ( 亞洲 ) TW - Taiwan ( 台灣 )   \n",
       "M2  AS - Asia ( 亞洲 ) TW - Taiwan ( 台灣 )   \n",
       "M3  AS - Asia ( 亞洲 ) TW - Taiwan ( 台灣 )   \n",
       "M4  AS - Asia ( 亞洲 ) TW - Taiwan ( 台灣 )   \n",
       "M5  AS - Asia ( 亞洲 ) TW - Taiwan ( 台灣 )   \n",
       "\n",
       "                                                 Push  \\\n",
       "M1  [→ WeAntiTVBS: 過慢 滾 06/12 08:23, , , 本網站已依台灣網站...   \n",
       "M2  [→ poiutrew: 你4ㄅ4跌倒 06/12 08:23, 推 chawer: 內地地...   \n",
       "M3  [※ 編輯: AntitheApple (114.44.214.137 臺灣), 06/12...   \n",
       "M4  [推 Aska0910: 幼獅 06/12 06:47, 推 testaxsc: 真男人普丁...   \n",
       "M5  [噓 KLGlikeshit: IKEA 06/11 18:32, 推 andy2012: ...   \n",
       "\n",
       "                           Title  \n",
       "M1                      [爆卦] 地震啦  \n",
       "M2                     [爆卦] 南投地震  \n",
       "M3                       [爆卦] 地震  \n",
       "M4      [新聞] 幼獅被打斷腿供遊客合影 普丁震怒令調查  \n",
       "M5  [問卦] 震撼彈 ! 道頓堀　不唸做  道頓ㄐㄩㄝˊ ?  "
      ]
     },
     "execution_count": 22,
     "metadata": {},
     "output_type": "execute_result"
    }
   ],
   "source": [
    "df_earthquake.head()"
   ]
  },
  {
   "cell_type": "code",
   "execution_count": 23,
   "metadata": {},
   "outputs": [
    {
     "ename": "TypeError",
     "evalue": "argument of type 'float' is not iterable",
     "output_type": "error",
     "traceback": [
      "\u001b[0;31m---------------------------------------------------------------------------\u001b[0m",
      "\u001b[0;31mTypeError\u001b[0m                                 Traceback (most recent call last)",
      "\u001b[0;32m<ipython-input-23-252eb2300885>\u001b[0m in \u001b[0;36m<module>\u001b[0;34m()\u001b[0m\n\u001b[1;32m      1\u001b[0m \u001b[0mBaoGua\u001b[0m \u001b[0;34m=\u001b[0m \u001b[0;34m[\u001b[0m\u001b[0;34m]\u001b[0m \u001b[0;31m#爆卦是dummy，看這篇文章是爆卦還是問卦，藉以判斷是否是「地震文」\u001b[0m\u001b[0;34m\u001b[0m\u001b[0m\n\u001b[1;32m      2\u001b[0m \u001b[0;32mfor\u001b[0m \u001b[0mrow\u001b[0m \u001b[0;32min\u001b[0m \u001b[0mrange\u001b[0m\u001b[0;34m(\u001b[0m\u001b[0;36m0\u001b[0m\u001b[0;34m,\u001b[0m \u001b[0mlen\u001b[0m\u001b[0;34m(\u001b[0m\u001b[0mdf_earthquake\u001b[0m\u001b[0;34m)\u001b[0m\u001b[0;34m)\u001b[0m\u001b[0;34m:\u001b[0m\u001b[0;34m\u001b[0m\u001b[0m\n\u001b[0;32m----> 3\u001b[0;31m     \u001b[0;32mif\u001b[0m \u001b[0;34m\"爆卦\"\u001b[0m \u001b[0;32min\u001b[0m \u001b[0mdf_earthquake\u001b[0m\u001b[0;34m.\u001b[0m\u001b[0miloc\u001b[0m\u001b[0;34m[\u001b[0m\u001b[0mrow\u001b[0m\u001b[0;34m]\u001b[0m\u001b[0;34m[\u001b[0m\u001b[0;36m11\u001b[0m\u001b[0;34m]\u001b[0m\u001b[0;34m:\u001b[0m\u001b[0;34m\u001b[0m\u001b[0m\n\u001b[0m\u001b[1;32m      4\u001b[0m         \u001b[0;31m#print(df_earthquake.iloc[row][11])\u001b[0m\u001b[0;34m\u001b[0m\u001b[0;34m\u001b[0m\u001b[0m\n\u001b[1;32m      5\u001b[0m         \u001b[0mBaoGua\u001b[0m\u001b[0;34m.\u001b[0m\u001b[0mappend\u001b[0m\u001b[0;34m(\u001b[0m\u001b[0;36m1\u001b[0m\u001b[0;34m)\u001b[0m\u001b[0;34m\u001b[0m\u001b[0m\n",
      "\u001b[0;31mTypeError\u001b[0m: argument of type 'float' is not iterable"
     ]
    }
   ],
   "source": [
    "BaoGua = [] #爆卦是dummy，看這篇文章是爆卦還是問卦，藉以判斷是否是「地震文」\n",
    "for row in range(0, len(df_earthquake)):\n",
    "    if \"爆卦\" in df_earthquake.iloc[row][11]:\n",
    "        #print(df_earthquake.iloc[row][11])\n",
    "        BaoGua.append(1)\n",
    "    else:\n",
    "        BaoGua.append(0)\n",
    "len(BaoGua)"
   ]
  },
  {
   "cell_type": "code",
   "execution_count": 24,
   "metadata": {},
   "outputs": [
    {
     "ename": "ValueError",
     "evalue": "Length of values does not match length of index",
     "output_type": "error",
     "traceback": [
      "\u001b[0;31m---------------------------------------------------------------------------\u001b[0m",
      "\u001b[0;31mValueError\u001b[0m                                Traceback (most recent call last)",
      "\u001b[0;32m<ipython-input-24-f1dbcb0fa3d6>\u001b[0m in \u001b[0;36m<module>\u001b[0;34m()\u001b[0m\n\u001b[0;32m----> 1\u001b[0;31m \u001b[0mdf_earthquake\u001b[0m\u001b[0;34m[\u001b[0m\u001b[0;34m\"BaoGua\"\u001b[0m\u001b[0;34m]\u001b[0m \u001b[0;34m=\u001b[0m \u001b[0mBaoGua\u001b[0m\u001b[0;34m\u001b[0m\u001b[0m\n\u001b[0m",
      "\u001b[0;32m/Applications/anaconda3/lib/python3.6/site-packages/pandas/core/frame.py\u001b[0m in \u001b[0;36m__setitem__\u001b[0;34m(self, key, value)\u001b[0m\n\u001b[1;32m   3114\u001b[0m         \u001b[0;32melse\u001b[0m\u001b[0;34m:\u001b[0m\u001b[0;34m\u001b[0m\u001b[0m\n\u001b[1;32m   3115\u001b[0m             \u001b[0;31m# set column\u001b[0m\u001b[0;34m\u001b[0m\u001b[0;34m\u001b[0m\u001b[0m\n\u001b[0;32m-> 3116\u001b[0;31m             \u001b[0mself\u001b[0m\u001b[0;34m.\u001b[0m\u001b[0m_set_item\u001b[0m\u001b[0;34m(\u001b[0m\u001b[0mkey\u001b[0m\u001b[0;34m,\u001b[0m \u001b[0mvalue\u001b[0m\u001b[0;34m)\u001b[0m\u001b[0;34m\u001b[0m\u001b[0m\n\u001b[0m\u001b[1;32m   3117\u001b[0m \u001b[0;34m\u001b[0m\u001b[0m\n\u001b[1;32m   3118\u001b[0m     \u001b[0;32mdef\u001b[0m \u001b[0m_setitem_slice\u001b[0m\u001b[0;34m(\u001b[0m\u001b[0mself\u001b[0m\u001b[0;34m,\u001b[0m \u001b[0mkey\u001b[0m\u001b[0;34m,\u001b[0m \u001b[0mvalue\u001b[0m\u001b[0;34m)\u001b[0m\u001b[0;34m:\u001b[0m\u001b[0;34m\u001b[0m\u001b[0m\n",
      "\u001b[0;32m/Applications/anaconda3/lib/python3.6/site-packages/pandas/core/frame.py\u001b[0m in \u001b[0;36m_set_item\u001b[0;34m(self, key, value)\u001b[0m\n\u001b[1;32m   3189\u001b[0m \u001b[0;34m\u001b[0m\u001b[0m\n\u001b[1;32m   3190\u001b[0m         \u001b[0mself\u001b[0m\u001b[0;34m.\u001b[0m\u001b[0m_ensure_valid_index\u001b[0m\u001b[0;34m(\u001b[0m\u001b[0mvalue\u001b[0m\u001b[0;34m)\u001b[0m\u001b[0;34m\u001b[0m\u001b[0m\n\u001b[0;32m-> 3191\u001b[0;31m         \u001b[0mvalue\u001b[0m \u001b[0;34m=\u001b[0m \u001b[0mself\u001b[0m\u001b[0;34m.\u001b[0m\u001b[0m_sanitize_column\u001b[0m\u001b[0;34m(\u001b[0m\u001b[0mkey\u001b[0m\u001b[0;34m,\u001b[0m \u001b[0mvalue\u001b[0m\u001b[0;34m)\u001b[0m\u001b[0;34m\u001b[0m\u001b[0m\n\u001b[0m\u001b[1;32m   3192\u001b[0m         \u001b[0mNDFrame\u001b[0m\u001b[0;34m.\u001b[0m\u001b[0m_set_item\u001b[0m\u001b[0;34m(\u001b[0m\u001b[0mself\u001b[0m\u001b[0;34m,\u001b[0m \u001b[0mkey\u001b[0m\u001b[0;34m,\u001b[0m \u001b[0mvalue\u001b[0m\u001b[0;34m)\u001b[0m\u001b[0;34m\u001b[0m\u001b[0m\n\u001b[1;32m   3193\u001b[0m \u001b[0;34m\u001b[0m\u001b[0m\n",
      "\u001b[0;32m/Applications/anaconda3/lib/python3.6/site-packages/pandas/core/frame.py\u001b[0m in \u001b[0;36m_sanitize_column\u001b[0;34m(self, key, value, broadcast)\u001b[0m\n\u001b[1;32m   3386\u001b[0m \u001b[0;34m\u001b[0m\u001b[0m\n\u001b[1;32m   3387\u001b[0m             \u001b[0;31m# turn me into an ndarray\u001b[0m\u001b[0;34m\u001b[0m\u001b[0;34m\u001b[0m\u001b[0m\n\u001b[0;32m-> 3388\u001b[0;31m             \u001b[0mvalue\u001b[0m \u001b[0;34m=\u001b[0m \u001b[0m_sanitize_index\u001b[0m\u001b[0;34m(\u001b[0m\u001b[0mvalue\u001b[0m\u001b[0;34m,\u001b[0m \u001b[0mself\u001b[0m\u001b[0;34m.\u001b[0m\u001b[0mindex\u001b[0m\u001b[0;34m,\u001b[0m \u001b[0mcopy\u001b[0m\u001b[0;34m=\u001b[0m\u001b[0;32mFalse\u001b[0m\u001b[0;34m)\u001b[0m\u001b[0;34m\u001b[0m\u001b[0m\n\u001b[0m\u001b[1;32m   3389\u001b[0m             \u001b[0;32mif\u001b[0m \u001b[0;32mnot\u001b[0m \u001b[0misinstance\u001b[0m\u001b[0;34m(\u001b[0m\u001b[0mvalue\u001b[0m\u001b[0;34m,\u001b[0m \u001b[0;34m(\u001b[0m\u001b[0mnp\u001b[0m\u001b[0;34m.\u001b[0m\u001b[0mndarray\u001b[0m\u001b[0;34m,\u001b[0m \u001b[0mIndex\u001b[0m\u001b[0;34m)\u001b[0m\u001b[0;34m)\u001b[0m\u001b[0;34m:\u001b[0m\u001b[0;34m\u001b[0m\u001b[0m\n\u001b[1;32m   3390\u001b[0m                 \u001b[0;32mif\u001b[0m \u001b[0misinstance\u001b[0m\u001b[0;34m(\u001b[0m\u001b[0mvalue\u001b[0m\u001b[0;34m,\u001b[0m \u001b[0mlist\u001b[0m\u001b[0;34m)\u001b[0m \u001b[0;32mand\u001b[0m \u001b[0mlen\u001b[0m\u001b[0;34m(\u001b[0m\u001b[0mvalue\u001b[0m\u001b[0;34m)\u001b[0m \u001b[0;34m>\u001b[0m \u001b[0;36m0\u001b[0m\u001b[0;34m:\u001b[0m\u001b[0;34m\u001b[0m\u001b[0m\n",
      "\u001b[0;32m/Applications/anaconda3/lib/python3.6/site-packages/pandas/core/series.py\u001b[0m in \u001b[0;36m_sanitize_index\u001b[0;34m(data, index, copy)\u001b[0m\n\u001b[1;32m   3996\u001b[0m \u001b[0;34m\u001b[0m\u001b[0m\n\u001b[1;32m   3997\u001b[0m     \u001b[0;32mif\u001b[0m \u001b[0mlen\u001b[0m\u001b[0;34m(\u001b[0m\u001b[0mdata\u001b[0m\u001b[0;34m)\u001b[0m \u001b[0;34m!=\u001b[0m \u001b[0mlen\u001b[0m\u001b[0;34m(\u001b[0m\u001b[0mindex\u001b[0m\u001b[0;34m)\u001b[0m\u001b[0;34m:\u001b[0m\u001b[0;34m\u001b[0m\u001b[0m\n\u001b[0;32m-> 3998\u001b[0;31m         \u001b[0;32mraise\u001b[0m \u001b[0mValueError\u001b[0m\u001b[0;34m(\u001b[0m\u001b[0;34m'Length of values does not match length of '\u001b[0m \u001b[0;34m'index'\u001b[0m\u001b[0;34m)\u001b[0m\u001b[0;34m\u001b[0m\u001b[0m\n\u001b[0m\u001b[1;32m   3999\u001b[0m \u001b[0;34m\u001b[0m\u001b[0m\n\u001b[1;32m   4000\u001b[0m     \u001b[0;32mif\u001b[0m \u001b[0misinstance\u001b[0m\u001b[0;34m(\u001b[0m\u001b[0mdata\u001b[0m\u001b[0;34m,\u001b[0m \u001b[0mABCIndexClass\u001b[0m\u001b[0;34m)\u001b[0m \u001b[0;32mand\u001b[0m \u001b[0;32mnot\u001b[0m \u001b[0mcopy\u001b[0m\u001b[0;34m:\u001b[0m\u001b[0;34m\u001b[0m\u001b[0m\n",
      "\u001b[0;31mValueError\u001b[0m: Length of values does not match length of index"
     ]
    }
   ],
   "source": [
    "df_earthquake[\"BaoGua\"] = BaoGua"
   ]
  },
  {
   "cell_type": "code",
   "execution_count": 25,
   "metadata": {},
   "outputs": [
    {
     "data": {
      "text/html": [
       "<div>\n",
       "<style scoped>\n",
       "    .dataframe tbody tr th:only-of-type {\n",
       "        vertical-align: middle;\n",
       "    }\n",
       "\n",
       "    .dataframe tbody tr th {\n",
       "        vertical-align: top;\n",
       "    }\n",
       "\n",
       "    .dataframe thead th {\n",
       "        text-align: right;\n",
       "    }\n",
       "</style>\n",
       "<table border=\"1\" class=\"dataframe\">\n",
       "  <thead>\n",
       "    <tr style=\"text-align: right;\">\n",
       "      <th></th>\n",
       "      <th>Author</th>\n",
       "      <th>Board</th>\n",
       "      <th>City</th>\n",
       "      <th>Content</th>\n",
       "      <th>Date</th>\n",
       "      <th>Full IP</th>\n",
       "      <th>IP</th>\n",
       "      <th>Longitude and Latitude</th>\n",
       "      <th>Mobile</th>\n",
       "      <th>Nation</th>\n",
       "      <th>Push</th>\n",
       "      <th>Title</th>\n",
       "    </tr>\n",
       "  </thead>\n",
       "  <tbody>\n",
       "    <tr>\n",
       "      <th>M1</th>\n",
       "      <td>iimirageii (小黑)</td>\n",
       "      <td>Gossiping</td>\n",
       "      <td>Taoyuan District</td>\n",
       "      <td>女王我愛妳\\n\\n</td>\n",
       "      <td>Fri Jun 12 08:23:29 2020</td>\n",
       "      <td>49.216.191.58 (臺灣)</td>\n",
       "      <td>49.216.191.58</td>\n",
       "      <td>經度：121.318　緯度：24.989</td>\n",
       "      <td>TWN Broadband</td>\n",
       "      <td>AS - Asia ( 亞洲 ) TW - Taiwan ( 台灣 )</td>\n",
       "      <td>[→ WeAntiTVBS: 過慢 滾 06/12 08:23, , , 本網站已依台灣網站...</td>\n",
       "      <td>[爆卦] 地震啦</td>\n",
       "    </tr>\n",
       "    <tr>\n",
       "      <th>M2</th>\n",
       "      <td>LisaPrincess (莎莎)</td>\n",
       "      <td>Gossiping</td>\n",
       "      <td>Nantou City</td>\n",
       "      <td>有感！\\n\\n</td>\n",
       "      <td>Fri Jun 12 08:23:14 2020</td>\n",
       "      <td>36.233.208.129 (臺灣)</td>\n",
       "      <td>36.233.208.129</td>\n",
       "      <td>經度：120.687　緯度：23.906</td>\n",
       "      <td>HiNet</td>\n",
       "      <td>AS - Asia ( 亞洲 ) TW - Taiwan ( 台灣 )</td>\n",
       "      <td>[→ poiutrew: 你4ㄅ4跌倒 06/12 08:23, 推 chawer: 內地地...</td>\n",
       "      <td>[爆卦] 南投地震</td>\n",
       "    </tr>\n",
       "    <tr>\n",
       "      <th>M3</th>\n",
       "      <td>AntitheApple (蘋果? 那是什麼好吃嗎)</td>\n",
       "      <td>Gossiping</td>\n",
       "      <td>Hualien City</td>\n",
       "      <td>居然有地震\\n\\n\\n\\n發震時間：2020/06/12 08:21:35\\n\\n位置：北緯...</td>\n",
       "      <td>Fri Jun 12 08:21:58 2020</td>\n",
       "      <td>114.44.214.137 (臺灣)</td>\n",
       "      <td>114.44.214.137</td>\n",
       "      <td>經度：121.612　緯度：23.981</td>\n",
       "      <td>HiNet</td>\n",
       "      <td>AS - Asia ( 亞洲 ) TW - Taiwan ( 台灣 )</td>\n",
       "      <td>[※ 編輯: AntitheApple (114.44.214.137 臺灣), 06/12...</td>\n",
       "      <td>[爆卦] 地震</td>\n",
       "    </tr>\n",
       "    <tr>\n",
       "      <th>M4</th>\n",
       "      <td>autechre (Untilted)</td>\n",
       "      <td>Gossiping</td>\n",
       "      <td>Taipei</td>\n",
       "      <td>1.媒體來源: UDN\\n\\n2.記者署名: 周辰陽\\n\\n\\n3.完整新聞標題: 俄國幼獅...</td>\n",
       "      <td>Fri Jun 12 06:46:25 2020</td>\n",
       "      <td>118.168.202.243 (臺灣)</td>\n",
       "      <td>118.168.202.243</td>\n",
       "      <td>經度：121.532　緯度：25.048</td>\n",
       "      <td>Taiwan Academic Network</td>\n",
       "      <td>AS - Asia ( 亞洲 ) TW - Taiwan ( 台灣 )</td>\n",
       "      <td>[推 Aska0910: 幼獅 06/12 06:47, 推 testaxsc: 真男人普丁...</td>\n",
       "      <td>[新聞] 幼獅被打斷腿供遊客合影 普丁震怒令調查</td>\n",
       "    </tr>\n",
       "    <tr>\n",
       "      <th>M5</th>\n",
       "      <td>cosmite (焼き団子)</td>\n",
       "      <td>Gossiping</td>\n",
       "      <td>Taipei</td>\n",
       "      <td>你各位是不是都把道頓堀 唸成 道頓ㄐㄩㄝˊ\\n\\n原來正確的唸法是 道頓 ㄎㄨ\\n\\n堀 這...</td>\n",
       "      <td>Thu Jun 11 18:32:44 2020</td>\n",
       "      <td>60.250.30.118 (臺灣)</td>\n",
       "      <td>60.250.30.118</td>\n",
       "      <td>經度：121.532　緯度：25.048</td>\n",
       "      <td>HiNet</td>\n",
       "      <td>AS - Asia ( 亞洲 ) TW - Taiwan ( 台灣 )</td>\n",
       "      <td>[噓 KLGlikeshit: IKEA 06/11 18:32, 推 andy2012: ...</td>\n",
       "      <td>[問卦] 震撼彈 ! 道頓堀　不唸做  道頓ㄐㄩㄝˊ ?</td>\n",
       "    </tr>\n",
       "  </tbody>\n",
       "</table>\n",
       "</div>"
      ],
      "text/plain": [
       "                        Author      Board              City  \\\n",
       "M1             iimirageii (小黑)  Gossiping  Taoyuan District   \n",
       "M2           LisaPrincess (莎莎)  Gossiping       Nantou City   \n",
       "M3  AntitheApple (蘋果? 那是什麼好吃嗎)  Gossiping      Hualien City   \n",
       "M4         autechre (Untilted)  Gossiping            Taipei   \n",
       "M5              cosmite (焼き団子)  Gossiping            Taipei   \n",
       "\n",
       "                                              Content  \\\n",
       "M1                                          女王我愛妳\\n\\n   \n",
       "M2                                            有感！\\n\\n   \n",
       "M3  居然有地震\\n\\n\\n\\n發震時間：2020/06/12 08:21:35\\n\\n位置：北緯...   \n",
       "M4  1.媒體來源: UDN\\n\\n2.記者署名: 周辰陽\\n\\n\\n3.完整新聞標題: 俄國幼獅...   \n",
       "M5  你各位是不是都把道頓堀 唸成 道頓ㄐㄩㄝˊ\\n\\n原來正確的唸法是 道頓 ㄎㄨ\\n\\n堀 這...   \n",
       "\n",
       "                        Date                Full IP               IP  \\\n",
       "M1  Fri Jun 12 08:23:29 2020     49.216.191.58 (臺灣)    49.216.191.58   \n",
       "M2  Fri Jun 12 08:23:14 2020    36.233.208.129 (臺灣)   36.233.208.129   \n",
       "M3  Fri Jun 12 08:21:58 2020    114.44.214.137 (臺灣)   114.44.214.137   \n",
       "M4  Fri Jun 12 06:46:25 2020   118.168.202.243 (臺灣)  118.168.202.243   \n",
       "M5  Thu Jun 11 18:32:44 2020     60.250.30.118 (臺灣)    60.250.30.118   \n",
       "\n",
       "   Longitude and Latitude                   Mobile  \\\n",
       "M1   經度：121.318　緯度：24.989            TWN Broadband   \n",
       "M2   經度：120.687　緯度：23.906                    HiNet   \n",
       "M3   經度：121.612　緯度：23.981                    HiNet   \n",
       "M4   經度：121.532　緯度：25.048  Taiwan Academic Network   \n",
       "M5   經度：121.532　緯度：25.048                    HiNet   \n",
       "\n",
       "                                 Nation  \\\n",
       "M1  AS - Asia ( 亞洲 ) TW - Taiwan ( 台灣 )   \n",
       "M2  AS - Asia ( 亞洲 ) TW - Taiwan ( 台灣 )   \n",
       "M3  AS - Asia ( 亞洲 ) TW - Taiwan ( 台灣 )   \n",
       "M4  AS - Asia ( 亞洲 ) TW - Taiwan ( 台灣 )   \n",
       "M5  AS - Asia ( 亞洲 ) TW - Taiwan ( 台灣 )   \n",
       "\n",
       "                                                 Push  \\\n",
       "M1  [→ WeAntiTVBS: 過慢 滾 06/12 08:23, , , 本網站已依台灣網站...   \n",
       "M2  [→ poiutrew: 你4ㄅ4跌倒 06/12 08:23, 推 chawer: 內地地...   \n",
       "M3  [※ 編輯: AntitheApple (114.44.214.137 臺灣), 06/12...   \n",
       "M4  [推 Aska0910: 幼獅 06/12 06:47, 推 testaxsc: 真男人普丁...   \n",
       "M5  [噓 KLGlikeshit: IKEA 06/11 18:32, 推 andy2012: ...   \n",
       "\n",
       "                           Title  \n",
       "M1                      [爆卦] 地震啦  \n",
       "M2                     [爆卦] 南投地震  \n",
       "M3                       [爆卦] 地震  \n",
       "M4      [新聞] 幼獅被打斷腿供遊客合影 普丁震怒令調查  \n",
       "M5  [問卦] 震撼彈 ! 道頓堀　不唸做  道頓ㄐㄩㄝˊ ?  "
      ]
     },
     "execution_count": 25,
     "metadata": {},
     "output_type": "execute_result"
    }
   ],
   "source": [
    "df_earthquake.head()"
   ]
  },
  {
   "cell_type": "code",
   "execution_count": 26,
   "metadata": {},
   "outputs": [
    {
     "data": {
      "text/plain": [
       "1040"
      ]
     },
     "execution_count": 26,
     "metadata": {},
     "output_type": "execute_result"
    }
   ],
   "source": [
    "YouWin = [] #是dummy，看這篇文章的推文有沒有「你贏了」，藉以判斷是否是「地震文」\n",
    "for row in range(0, len(df_earthquake)):\n",
    "    push_content = \" \".join(df_earthquake.iloc[row][10])\n",
    "    if \"你贏了\" in push_content or \"贏了\" in push_content:\n",
    "        #print(push_content)\n",
    "        YouWin.append(1)\n",
    "    else:\n",
    "        YouWin.append(0)\n",
    "len(YouWin)"
   ]
  },
  {
   "cell_type": "code",
   "execution_count": 27,
   "metadata": {},
   "outputs": [],
   "source": [
    "df_earthquake[\"YouWin\"] = YouWin"
   ]
  },
  {
   "cell_type": "code",
   "execution_count": 28,
   "metadata": {},
   "outputs": [
    {
     "data": {
      "text/html": [
       "<div>\n",
       "<style scoped>\n",
       "    .dataframe tbody tr th:only-of-type {\n",
       "        vertical-align: middle;\n",
       "    }\n",
       "\n",
       "    .dataframe tbody tr th {\n",
       "        vertical-align: top;\n",
       "    }\n",
       "\n",
       "    .dataframe thead th {\n",
       "        text-align: right;\n",
       "    }\n",
       "</style>\n",
       "<table border=\"1\" class=\"dataframe\">\n",
       "  <thead>\n",
       "    <tr style=\"text-align: right;\">\n",
       "      <th></th>\n",
       "      <th>Author</th>\n",
       "      <th>Board</th>\n",
       "      <th>City</th>\n",
       "      <th>Content</th>\n",
       "      <th>Date</th>\n",
       "      <th>Full IP</th>\n",
       "      <th>IP</th>\n",
       "      <th>Longitude and Latitude</th>\n",
       "      <th>Mobile</th>\n",
       "      <th>Nation</th>\n",
       "      <th>Push</th>\n",
       "      <th>Title</th>\n",
       "      <th>YouWin</th>\n",
       "    </tr>\n",
       "  </thead>\n",
       "  <tbody>\n",
       "    <tr>\n",
       "      <th>M1</th>\n",
       "      <td>iimirageii (小黑)</td>\n",
       "      <td>Gossiping</td>\n",
       "      <td>Taoyuan District</td>\n",
       "      <td>女王我愛妳\\n\\n</td>\n",
       "      <td>Fri Jun 12 08:23:29 2020</td>\n",
       "      <td>49.216.191.58 (臺灣)</td>\n",
       "      <td>49.216.191.58</td>\n",
       "      <td>經度：121.318　緯度：24.989</td>\n",
       "      <td>TWN Broadband</td>\n",
       "      <td>AS - Asia ( 亞洲 ) TW - Taiwan ( 台灣 )</td>\n",
       "      <td>[→ WeAntiTVBS: 過慢 滾 06/12 08:23, , , 本網站已依台灣網站...</td>\n",
       "      <td>[爆卦] 地震啦</td>\n",
       "      <td>0</td>\n",
       "    </tr>\n",
       "    <tr>\n",
       "      <th>M2</th>\n",
       "      <td>LisaPrincess (莎莎)</td>\n",
       "      <td>Gossiping</td>\n",
       "      <td>Nantou City</td>\n",
       "      <td>有感！\\n\\n</td>\n",
       "      <td>Fri Jun 12 08:23:14 2020</td>\n",
       "      <td>36.233.208.129 (臺灣)</td>\n",
       "      <td>36.233.208.129</td>\n",
       "      <td>經度：120.687　緯度：23.906</td>\n",
       "      <td>HiNet</td>\n",
       "      <td>AS - Asia ( 亞洲 ) TW - Taiwan ( 台灣 )</td>\n",
       "      <td>[→ poiutrew: 你4ㄅ4跌倒 06/12 08:23, 推 chawer: 內地地...</td>\n",
       "      <td>[爆卦] 南投地震</td>\n",
       "      <td>0</td>\n",
       "    </tr>\n",
       "    <tr>\n",
       "      <th>M3</th>\n",
       "      <td>AntitheApple (蘋果? 那是什麼好吃嗎)</td>\n",
       "      <td>Gossiping</td>\n",
       "      <td>Hualien City</td>\n",
       "      <td>居然有地震\\n\\n\\n\\n發震時間：2020/06/12 08:21:35\\n\\n位置：北緯...</td>\n",
       "      <td>Fri Jun 12 08:21:58 2020</td>\n",
       "      <td>114.44.214.137 (臺灣)</td>\n",
       "      <td>114.44.214.137</td>\n",
       "      <td>經度：121.612　緯度：23.981</td>\n",
       "      <td>HiNet</td>\n",
       "      <td>AS - Asia ( 亞洲 ) TW - Taiwan ( 台灣 )</td>\n",
       "      <td>[※ 編輯: AntitheApple (114.44.214.137 臺灣), 06/12...</td>\n",
       "      <td>[爆卦] 地震</td>\n",
       "      <td>1</td>\n",
       "    </tr>\n",
       "    <tr>\n",
       "      <th>M4</th>\n",
       "      <td>autechre (Untilted)</td>\n",
       "      <td>Gossiping</td>\n",
       "      <td>Taipei</td>\n",
       "      <td>1.媒體來源: UDN\\n\\n2.記者署名: 周辰陽\\n\\n\\n3.完整新聞標題: 俄國幼獅...</td>\n",
       "      <td>Fri Jun 12 06:46:25 2020</td>\n",
       "      <td>118.168.202.243 (臺灣)</td>\n",
       "      <td>118.168.202.243</td>\n",
       "      <td>經度：121.532　緯度：25.048</td>\n",
       "      <td>Taiwan Academic Network</td>\n",
       "      <td>AS - Asia ( 亞洲 ) TW - Taiwan ( 台灣 )</td>\n",
       "      <td>[推 Aska0910: 幼獅 06/12 06:47, 推 testaxsc: 真男人普丁...</td>\n",
       "      <td>[新聞] 幼獅被打斷腿供遊客合影 普丁震怒令調查</td>\n",
       "      <td>0</td>\n",
       "    </tr>\n",
       "    <tr>\n",
       "      <th>M5</th>\n",
       "      <td>cosmite (焼き団子)</td>\n",
       "      <td>Gossiping</td>\n",
       "      <td>Taipei</td>\n",
       "      <td>你各位是不是都把道頓堀 唸成 道頓ㄐㄩㄝˊ\\n\\n原來正確的唸法是 道頓 ㄎㄨ\\n\\n堀 這...</td>\n",
       "      <td>Thu Jun 11 18:32:44 2020</td>\n",
       "      <td>60.250.30.118 (臺灣)</td>\n",
       "      <td>60.250.30.118</td>\n",
       "      <td>經度：121.532　緯度：25.048</td>\n",
       "      <td>HiNet</td>\n",
       "      <td>AS - Asia ( 亞洲 ) TW - Taiwan ( 台灣 )</td>\n",
       "      <td>[噓 KLGlikeshit: IKEA 06/11 18:32, 推 andy2012: ...</td>\n",
       "      <td>[問卦] 震撼彈 ! 道頓堀　不唸做  道頓ㄐㄩㄝˊ ?</td>\n",
       "      <td>0</td>\n",
       "    </tr>\n",
       "  </tbody>\n",
       "</table>\n",
       "</div>"
      ],
      "text/plain": [
       "                        Author      Board              City  \\\n",
       "M1             iimirageii (小黑)  Gossiping  Taoyuan District   \n",
       "M2           LisaPrincess (莎莎)  Gossiping       Nantou City   \n",
       "M3  AntitheApple (蘋果? 那是什麼好吃嗎)  Gossiping      Hualien City   \n",
       "M4         autechre (Untilted)  Gossiping            Taipei   \n",
       "M5              cosmite (焼き団子)  Gossiping            Taipei   \n",
       "\n",
       "                                              Content  \\\n",
       "M1                                          女王我愛妳\\n\\n   \n",
       "M2                                            有感！\\n\\n   \n",
       "M3  居然有地震\\n\\n\\n\\n發震時間：2020/06/12 08:21:35\\n\\n位置：北緯...   \n",
       "M4  1.媒體來源: UDN\\n\\n2.記者署名: 周辰陽\\n\\n\\n3.完整新聞標題: 俄國幼獅...   \n",
       "M5  你各位是不是都把道頓堀 唸成 道頓ㄐㄩㄝˊ\\n\\n原來正確的唸法是 道頓 ㄎㄨ\\n\\n堀 這...   \n",
       "\n",
       "                        Date                Full IP               IP  \\\n",
       "M1  Fri Jun 12 08:23:29 2020     49.216.191.58 (臺灣)    49.216.191.58   \n",
       "M2  Fri Jun 12 08:23:14 2020    36.233.208.129 (臺灣)   36.233.208.129   \n",
       "M3  Fri Jun 12 08:21:58 2020    114.44.214.137 (臺灣)   114.44.214.137   \n",
       "M4  Fri Jun 12 06:46:25 2020   118.168.202.243 (臺灣)  118.168.202.243   \n",
       "M5  Thu Jun 11 18:32:44 2020     60.250.30.118 (臺灣)    60.250.30.118   \n",
       "\n",
       "   Longitude and Latitude                   Mobile  \\\n",
       "M1   經度：121.318　緯度：24.989            TWN Broadband   \n",
       "M2   經度：120.687　緯度：23.906                    HiNet   \n",
       "M3   經度：121.612　緯度：23.981                    HiNet   \n",
       "M4   經度：121.532　緯度：25.048  Taiwan Academic Network   \n",
       "M5   經度：121.532　緯度：25.048                    HiNet   \n",
       "\n",
       "                                 Nation  \\\n",
       "M1  AS - Asia ( 亞洲 ) TW - Taiwan ( 台灣 )   \n",
       "M2  AS - Asia ( 亞洲 ) TW - Taiwan ( 台灣 )   \n",
       "M3  AS - Asia ( 亞洲 ) TW - Taiwan ( 台灣 )   \n",
       "M4  AS - Asia ( 亞洲 ) TW - Taiwan ( 台灣 )   \n",
       "M5  AS - Asia ( 亞洲 ) TW - Taiwan ( 台灣 )   \n",
       "\n",
       "                                                 Push  \\\n",
       "M1  [→ WeAntiTVBS: 過慢 滾 06/12 08:23, , , 本網站已依台灣網站...   \n",
       "M2  [→ poiutrew: 你4ㄅ4跌倒 06/12 08:23, 推 chawer: 內地地...   \n",
       "M3  [※ 編輯: AntitheApple (114.44.214.137 臺灣), 06/12...   \n",
       "M4  [推 Aska0910: 幼獅 06/12 06:47, 推 testaxsc: 真男人普丁...   \n",
       "M5  [噓 KLGlikeshit: IKEA 06/11 18:32, 推 andy2012: ...   \n",
       "\n",
       "                           Title  YouWin  \n",
       "M1                      [爆卦] 地震啦       0  \n",
       "M2                     [爆卦] 南投地震       0  \n",
       "M3                       [爆卦] 地震       1  \n",
       "M4      [新聞] 幼獅被打斷腿供遊客合影 普丁震怒令調查       0  \n",
       "M5  [問卦] 震撼彈 ! 道頓堀　不唸做  道頓ㄐㄩㄝˊ ?       0  "
      ]
     },
     "execution_count": 28,
     "metadata": {},
     "output_type": "execute_result"
    }
   ],
   "source": [
    "df_earthquake.head()"
   ]
  },
  {
   "cell_type": "markdown",
   "metadata": {},
   "source": [
    "## 看「地震文」\n",
    "\n",
    "假定是同時符合「推文有『你贏了』」及「標題有『爆卦』」才算是地震文"
   ]
  },
  {
   "cell_type": "code",
   "execution_count": 29,
   "metadata": {},
   "outputs": [
    {
     "data": {
      "text/html": [
       "<div>\n",
       "<style scoped>\n",
       "    .dataframe tbody tr th:only-of-type {\n",
       "        vertical-align: middle;\n",
       "    }\n",
       "\n",
       "    .dataframe tbody tr th {\n",
       "        vertical-align: top;\n",
       "    }\n",
       "\n",
       "    .dataframe thead th {\n",
       "        text-align: right;\n",
       "    }\n",
       "</style>\n",
       "<table border=\"1\" class=\"dataframe\">\n",
       "  <thead>\n",
       "    <tr style=\"text-align: right;\">\n",
       "      <th></th>\n",
       "      <th>Author</th>\n",
       "      <th>Board</th>\n",
       "      <th>City</th>\n",
       "      <th>Content</th>\n",
       "      <th>Date</th>\n",
       "      <th>Full IP</th>\n",
       "      <th>IP</th>\n",
       "      <th>Longitude and Latitude</th>\n",
       "      <th>Mobile</th>\n",
       "      <th>Nation</th>\n",
       "      <th>Push</th>\n",
       "      <th>Title</th>\n",
       "      <th>YouWin</th>\n",
       "    </tr>\n",
       "  </thead>\n",
       "  <tbody>\n",
       "    <tr>\n",
       "      <th>M3</th>\n",
       "      <td>AntitheApple (蘋果? 那是什麼好吃嗎)</td>\n",
       "      <td>Gossiping</td>\n",
       "      <td>Hualien City</td>\n",
       "      <td>居然有地震\\n\\n\\n\\n發震時間：2020/06/12 08:21:35\\n\\n位置：北緯...</td>\n",
       "      <td>Fri Jun 12 08:21:58 2020</td>\n",
       "      <td>114.44.214.137 (臺灣)</td>\n",
       "      <td>114.44.214.137</td>\n",
       "      <td>經度：121.612　緯度：23.981</td>\n",
       "      <td>HiNet</td>\n",
       "      <td>AS - Asia ( 亞洲 ) TW - Taiwan ( 台灣 )</td>\n",
       "      <td>[※ 編輯: AntitheApple (114.44.214.137 臺灣), 06/12...</td>\n",
       "      <td>[爆卦] 地震</td>\n",
       "      <td>1</td>\n",
       "    </tr>\n",
       "    <tr>\n",
       "      <th>M25</th>\n",
       "      <td>B0Y0 (假柏濕)</td>\n",
       "      <td>Gossiping</td>\n",
       "      <td>Yilan</td>\n",
       "      <td>到底ˋ有沒有\\n\\n\\n第 030 號顯著有感地震報告\\n發震時間：2020/06/11 0...</td>\n",
       "      <td>Thu Jun 11 09:39:09 2020</td>\n",
       "      <td>114.45.248.37 (臺灣)</td>\n",
       "      <td>114.45.248.37</td>\n",
       "      <td>經度：121.753　緯度：24.757</td>\n",
       "      <td>HiNet</td>\n",
       "      <td>AS - Asia ( 亞洲 ) TW - Taiwan ( 台灣 )</td>\n",
       "      <td>[推 sivhd: 有 06/11 09:39, → sincere77: 贏了 06/11...</td>\n",
       "      <td>[爆卦] 地震</td>\n",
       "      <td>1</td>\n",
       "    </tr>\n",
       "    <tr>\n",
       "      <th>M36</th>\n",
       "      <td>laptic (靜夜聖林彼岸花)</td>\n",
       "      <td>Gossiping</td>\n",
       "      <td>Shah Alam</td>\n",
       "      <td>1.媒體來源:\\n※ 例如蘋果日報、自由時報（請參考版規下方的核准媒體名單）\\n\\nETto...</td>\n",
       "      <td>Mon Jun  8 11:16:19 2020</td>\n",
       "      <td>118.101.128.12 (馬來西亞)</td>\n",
       "      <td>118.101.128.12</td>\n",
       "      <td>經度：101.530　緯度：3.054</td>\n",
       "      <td>TM Net</td>\n",
       "      <td>AS - Asia ( 亞洲 ) MY - Malaysia ( 馬來西亞 )</td>\n",
       "      <td>[→ ah937609: PTT教的 06/08 11:16, → aa1052026: 我...</td>\n",
       "      <td>[新聞] 新北男嫌樓上太吵！天花板裝「震樓神器」反擊1年　鄰居一家</td>\n",
       "      <td>1</td>\n",
       "    </tr>\n",
       "    <tr>\n",
       "      <th>M40</th>\n",
       "      <td>astrayzip</td>\n",
       "      <td>Gossiping</td>\n",
       "      <td>Hualien City</td>\n",
       "      <td>震\\n\\n</td>\n",
       "      <td>Sun Jun  7 09:49:55 2020</td>\n",
       "      <td>118.160.195.185 (臺灣)</td>\n",
       "      <td>118.160.195.185</td>\n",
       "      <td>經度：121.000　緯度：23.500</td>\n",
       "      <td>HiNet</td>\n",
       "      <td>AS - Asia ( 亞洲 ) TW - Taiwan ( 台灣 )</td>\n",
       "      <td>[推 ts17055: 超晃 06/07 09:50, 推 sue709410: 快06/0...</td>\n",
       "      <td>[爆卦] 地震</td>\n",
       "      <td>1</td>\n",
       "    </tr>\n",
       "    <tr>\n",
       "      <th>M55</th>\n",
       "      <td>MayorKoWenJe (☺柯狗揉奶×柯糞吃屎☹)</td>\n",
       "      <td>Gossiping</td>\n",
       "      <td>Taoyuan District</td>\n",
       "      <td>1.媒體來源:\\n\\n中時電子報\\n\\n2.記者署名:\\n\\n黃麗蓉\\n\\n3.完整新聞標題...</td>\n",
       "      <td>Fri Jun  5 20:41:40 2020</td>\n",
       "      <td>61.57.120.234 (臺灣)</td>\n",
       "      <td>61.57.120.234</td>\n",
       "      <td>經度：121.318　緯度：24.989</td>\n",
       "      <td>TBC</td>\n",
       "      <td>AS - Asia ( 亞洲 ) TW - Taiwan ( 台灣 )</td>\n",
       "      <td>[→ ejrq5785: 台灣國民黨又不會支持度比較高　現在主流就是愛CHINA 06/05...</td>\n",
       "      <td>[新聞] 罷韓前夕 王金平拋震撼彈：辜寬敏希望我</td>\n",
       "      <td>1</td>\n",
       "    </tr>\n",
       "  </tbody>\n",
       "</table>\n",
       "</div>"
      ],
      "text/plain": [
       "                         Author      Board              City  \\\n",
       "M3   AntitheApple (蘋果? 那是什麼好吃嗎)  Gossiping      Hualien City   \n",
       "M25                  B0Y0 (假柏濕)  Gossiping             Yilan   \n",
       "M36            laptic (靜夜聖林彼岸花)  Gossiping         Shah Alam   \n",
       "M40                   astrayzip  Gossiping      Hualien City   \n",
       "M55  MayorKoWenJe (☺柯狗揉奶×柯糞吃屎☹)  Gossiping  Taoyuan District   \n",
       "\n",
       "                                               Content  \\\n",
       "M3   居然有地震\\n\\n\\n\\n發震時間：2020/06/12 08:21:35\\n\\n位置：北緯...   \n",
       "M25  到底ˋ有沒有\\n\\n\\n第 030 號顯著有感地震報告\\n發震時間：2020/06/11 0...   \n",
       "M36  1.媒體來源:\\n※ 例如蘋果日報、自由時報（請參考版規下方的核准媒體名單）\\n\\nETto...   \n",
       "M40                                              震\\n\\n   \n",
       "M55  1.媒體來源:\\n\\n中時電子報\\n\\n2.記者署名:\\n\\n黃麗蓉\\n\\n3.完整新聞標題...   \n",
       "\n",
       "                         Date                 Full IP               IP  \\\n",
       "M3   Fri Jun 12 08:21:58 2020     114.44.214.137 (臺灣)   114.44.214.137   \n",
       "M25  Thu Jun 11 09:39:09 2020      114.45.248.37 (臺灣)    114.45.248.37   \n",
       "M36  Mon Jun  8 11:16:19 2020   118.101.128.12 (馬來西亞)   118.101.128.12   \n",
       "M40  Sun Jun  7 09:49:55 2020    118.160.195.185 (臺灣)  118.160.195.185   \n",
       "M55  Fri Jun  5 20:41:40 2020      61.57.120.234 (臺灣)    61.57.120.234   \n",
       "\n",
       "    Longitude and Latitude  Mobile                                   Nation  \\\n",
       "M3    經度：121.612　緯度：23.981   HiNet      AS - Asia ( 亞洲 ) TW - Taiwan ( 台灣 )   \n",
       "M25   經度：121.753　緯度：24.757   HiNet      AS - Asia ( 亞洲 ) TW - Taiwan ( 台灣 )   \n",
       "M36    經度：101.530　緯度：3.054  TM Net  AS - Asia ( 亞洲 ) MY - Malaysia ( 馬來西亞 )   \n",
       "M40   經度：121.000　緯度：23.500   HiNet      AS - Asia ( 亞洲 ) TW - Taiwan ( 台灣 )   \n",
       "M55   經度：121.318　緯度：24.989     TBC      AS - Asia ( 亞洲 ) TW - Taiwan ( 台灣 )   \n",
       "\n",
       "                                                  Push  \\\n",
       "M3   [※ 編輯: AntitheApple (114.44.214.137 臺灣), 06/12...   \n",
       "M25  [推 sivhd: 有 06/11 09:39, → sincere77: 贏了 06/11...   \n",
       "M36  [→ ah937609: PTT教的 06/08 11:16, → aa1052026: 我...   \n",
       "M40  [推 ts17055: 超晃 06/07 09:50, 推 sue709410: 快06/0...   \n",
       "M55  [→ ejrq5785: 台灣國民黨又不會支持度比較高　現在主流就是愛CHINA 06/05...   \n",
       "\n",
       "                                 Title  YouWin  \n",
       "M3                             [爆卦] 地震       1  \n",
       "M25                            [爆卦] 地震       1  \n",
       "M36  [新聞] 新北男嫌樓上太吵！天花板裝「震樓神器」反擊1年　鄰居一家       1  \n",
       "M40                            [爆卦] 地震       1  \n",
       "M55           [新聞] 罷韓前夕 王金平拋震撼彈：辜寬敏希望我       1  "
      ]
     },
     "execution_count": 29,
     "metadata": {},
     "output_type": "execute_result"
    }
   ],
   "source": [
    "# 只有「你贏了」\n",
    "df_earthquake[df_earthquake[\"YouWin\"]==1].head()"
   ]
  },
  {
   "cell_type": "code",
   "execution_count": 30,
   "metadata": {},
   "outputs": [
    {
     "name": "stdout",
     "output_type": "stream",
     "text": [
      "1040 1040\n"
     ]
    }
   ],
   "source": [
    "# 拆開經緯度資訊\n",
    "Longitude = [] #經度\n",
    "Latitude = [] #緯度\n",
    "for row in range(0, len(df_earthquake)):\n",
    "    try:\n",
    "        Long = df_earthquake.iloc[row][7].split(sep = \"：\")[1].split()[0]\n",
    "        Lati = df_earthquake.iloc[row][7].split(sep = \"：\")[2]\n",
    "\n",
    "        Longitude.append(Long)\n",
    "        Latitude.append(Lati)\n",
    "    except:\n",
    "        Longitude.append(\"NaN\")\n",
    "        Latitude.append(\"NaN\")\n",
    "print(len(Longitude), len(Latitude))"
   ]
  },
  {
   "cell_type": "code",
   "execution_count": 36,
   "metadata": {},
   "outputs": [
    {
     "name": "stdout",
     "output_type": "stream",
     "text": [
      "經度：120.971　緯度：24.807\n"
     ]
    },
    {
     "data": {
      "text/plain": [
       "'120.971'"
      ]
     },
     "execution_count": 36,
     "metadata": {},
     "output_type": "execute_result"
    }
   ],
   "source": [
    "print(df_earthquake.iloc[row][7])\n",
    "df_earthquake.iloc[row][7].split(sep = \"：\")[1].split()[0]"
   ]
  },
  {
   "cell_type": "code",
   "execution_count": 32,
   "metadata": {},
   "outputs": [
    {
     "data": {
      "text/plain": [
       "'24.807'"
      ]
     },
     "execution_count": 32,
     "metadata": {},
     "output_type": "execute_result"
    }
   ],
   "source": [
    "df_earthquake.iloc[row][7].split(sep = \"：\")[2]"
   ]
  },
  {
   "cell_type": "code",
   "execution_count": 33,
   "metadata": {},
   "outputs": [
    {
     "data": {
      "text/plain": [
       "'經度：120.971\\u3000緯度：24.807'"
      ]
     },
     "execution_count": 33,
     "metadata": {},
     "output_type": "execute_result"
    }
   ],
   "source": [
    "df_earthquake.iloc[row][7]"
   ]
  },
  {
   "cell_type": "code",
   "execution_count": 34,
   "metadata": {},
   "outputs": [],
   "source": [
    "df_earthquake[\"Longitude\"] = Longitude\n",
    "df_earthquake[\"Latitude\"] = Latitude"
   ]
  },
  {
   "cell_type": "code",
   "execution_count": 35,
   "metadata": {},
   "outputs": [
    {
     "data": {
      "text/html": [
       "<div>\n",
       "<style scoped>\n",
       "    .dataframe tbody tr th:only-of-type {\n",
       "        vertical-align: middle;\n",
       "    }\n",
       "\n",
       "    .dataframe tbody tr th {\n",
       "        vertical-align: top;\n",
       "    }\n",
       "\n",
       "    .dataframe thead th {\n",
       "        text-align: right;\n",
       "    }\n",
       "</style>\n",
       "<table border=\"1\" class=\"dataframe\">\n",
       "  <thead>\n",
       "    <tr style=\"text-align: right;\">\n",
       "      <th></th>\n",
       "      <th>Author</th>\n",
       "      <th>Board</th>\n",
       "      <th>City</th>\n",
       "      <th>Content</th>\n",
       "      <th>Date</th>\n",
       "      <th>Full IP</th>\n",
       "      <th>IP</th>\n",
       "      <th>Longitude and Latitude</th>\n",
       "      <th>Mobile</th>\n",
       "      <th>Nation</th>\n",
       "      <th>Push</th>\n",
       "      <th>Title</th>\n",
       "      <th>YouWin</th>\n",
       "      <th>Longitude</th>\n",
       "      <th>Latitude</th>\n",
       "    </tr>\n",
       "  </thead>\n",
       "  <tbody>\n",
       "    <tr>\n",
       "      <th>M1</th>\n",
       "      <td>iimirageii (小黑)</td>\n",
       "      <td>Gossiping</td>\n",
       "      <td>Taoyuan District</td>\n",
       "      <td>女王我愛妳\\n\\n</td>\n",
       "      <td>Fri Jun 12 08:23:29 2020</td>\n",
       "      <td>49.216.191.58 (臺灣)</td>\n",
       "      <td>49.216.191.58</td>\n",
       "      <td>經度：121.318　緯度：24.989</td>\n",
       "      <td>TWN Broadband</td>\n",
       "      <td>AS - Asia ( 亞洲 ) TW - Taiwan ( 台灣 )</td>\n",
       "      <td>[→ WeAntiTVBS: 過慢 滾 06/12 08:23, , , 本網站已依台灣網站...</td>\n",
       "      <td>[爆卦] 地震啦</td>\n",
       "      <td>0</td>\n",
       "      <td>121.318</td>\n",
       "      <td>24.989</td>\n",
       "    </tr>\n",
       "    <tr>\n",
       "      <th>M2</th>\n",
       "      <td>LisaPrincess (莎莎)</td>\n",
       "      <td>Gossiping</td>\n",
       "      <td>Nantou City</td>\n",
       "      <td>有感！\\n\\n</td>\n",
       "      <td>Fri Jun 12 08:23:14 2020</td>\n",
       "      <td>36.233.208.129 (臺灣)</td>\n",
       "      <td>36.233.208.129</td>\n",
       "      <td>經度：120.687　緯度：23.906</td>\n",
       "      <td>HiNet</td>\n",
       "      <td>AS - Asia ( 亞洲 ) TW - Taiwan ( 台灣 )</td>\n",
       "      <td>[→ poiutrew: 你4ㄅ4跌倒 06/12 08:23, 推 chawer: 內地地...</td>\n",
       "      <td>[爆卦] 南投地震</td>\n",
       "      <td>0</td>\n",
       "      <td>120.687</td>\n",
       "      <td>23.906</td>\n",
       "    </tr>\n",
       "    <tr>\n",
       "      <th>M3</th>\n",
       "      <td>AntitheApple (蘋果? 那是什麼好吃嗎)</td>\n",
       "      <td>Gossiping</td>\n",
       "      <td>Hualien City</td>\n",
       "      <td>居然有地震\\n\\n\\n\\n發震時間：2020/06/12 08:21:35\\n\\n位置：北緯...</td>\n",
       "      <td>Fri Jun 12 08:21:58 2020</td>\n",
       "      <td>114.44.214.137 (臺灣)</td>\n",
       "      <td>114.44.214.137</td>\n",
       "      <td>經度：121.612　緯度：23.981</td>\n",
       "      <td>HiNet</td>\n",
       "      <td>AS - Asia ( 亞洲 ) TW - Taiwan ( 台灣 )</td>\n",
       "      <td>[※ 編輯: AntitheApple (114.44.214.137 臺灣), 06/12...</td>\n",
       "      <td>[爆卦] 地震</td>\n",
       "      <td>1</td>\n",
       "      <td>121.612</td>\n",
       "      <td>23.981</td>\n",
       "    </tr>\n",
       "    <tr>\n",
       "      <th>M4</th>\n",
       "      <td>autechre (Untilted)</td>\n",
       "      <td>Gossiping</td>\n",
       "      <td>Taipei</td>\n",
       "      <td>1.媒體來源: UDN\\n\\n2.記者署名: 周辰陽\\n\\n\\n3.完整新聞標題: 俄國幼獅...</td>\n",
       "      <td>Fri Jun 12 06:46:25 2020</td>\n",
       "      <td>118.168.202.243 (臺灣)</td>\n",
       "      <td>118.168.202.243</td>\n",
       "      <td>經度：121.532　緯度：25.048</td>\n",
       "      <td>Taiwan Academic Network</td>\n",
       "      <td>AS - Asia ( 亞洲 ) TW - Taiwan ( 台灣 )</td>\n",
       "      <td>[推 Aska0910: 幼獅 06/12 06:47, 推 testaxsc: 真男人普丁...</td>\n",
       "      <td>[新聞] 幼獅被打斷腿供遊客合影 普丁震怒令調查</td>\n",
       "      <td>0</td>\n",
       "      <td>121.532</td>\n",
       "      <td>25.048</td>\n",
       "    </tr>\n",
       "    <tr>\n",
       "      <th>M5</th>\n",
       "      <td>cosmite (焼き団子)</td>\n",
       "      <td>Gossiping</td>\n",
       "      <td>Taipei</td>\n",
       "      <td>你各位是不是都把道頓堀 唸成 道頓ㄐㄩㄝˊ\\n\\n原來正確的唸法是 道頓 ㄎㄨ\\n\\n堀 這...</td>\n",
       "      <td>Thu Jun 11 18:32:44 2020</td>\n",
       "      <td>60.250.30.118 (臺灣)</td>\n",
       "      <td>60.250.30.118</td>\n",
       "      <td>經度：121.532　緯度：25.048</td>\n",
       "      <td>HiNet</td>\n",
       "      <td>AS - Asia ( 亞洲 ) TW - Taiwan ( 台灣 )</td>\n",
       "      <td>[噓 KLGlikeshit: IKEA 06/11 18:32, 推 andy2012: ...</td>\n",
       "      <td>[問卦] 震撼彈 ! 道頓堀　不唸做  道頓ㄐㄩㄝˊ ?</td>\n",
       "      <td>0</td>\n",
       "      <td>121.532</td>\n",
       "      <td>25.048</td>\n",
       "    </tr>\n",
       "  </tbody>\n",
       "</table>\n",
       "</div>"
      ],
      "text/plain": [
       "                        Author      Board              City  \\\n",
       "M1             iimirageii (小黑)  Gossiping  Taoyuan District   \n",
       "M2           LisaPrincess (莎莎)  Gossiping       Nantou City   \n",
       "M3  AntitheApple (蘋果? 那是什麼好吃嗎)  Gossiping      Hualien City   \n",
       "M4         autechre (Untilted)  Gossiping            Taipei   \n",
       "M5              cosmite (焼き団子)  Gossiping            Taipei   \n",
       "\n",
       "                                              Content  \\\n",
       "M1                                          女王我愛妳\\n\\n   \n",
       "M2                                            有感！\\n\\n   \n",
       "M3  居然有地震\\n\\n\\n\\n發震時間：2020/06/12 08:21:35\\n\\n位置：北緯...   \n",
       "M4  1.媒體來源: UDN\\n\\n2.記者署名: 周辰陽\\n\\n\\n3.完整新聞標題: 俄國幼獅...   \n",
       "M5  你各位是不是都把道頓堀 唸成 道頓ㄐㄩㄝˊ\\n\\n原來正確的唸法是 道頓 ㄎㄨ\\n\\n堀 這...   \n",
       "\n",
       "                        Date                Full IP               IP  \\\n",
       "M1  Fri Jun 12 08:23:29 2020     49.216.191.58 (臺灣)    49.216.191.58   \n",
       "M2  Fri Jun 12 08:23:14 2020    36.233.208.129 (臺灣)   36.233.208.129   \n",
       "M3  Fri Jun 12 08:21:58 2020    114.44.214.137 (臺灣)   114.44.214.137   \n",
       "M4  Fri Jun 12 06:46:25 2020   118.168.202.243 (臺灣)  118.168.202.243   \n",
       "M5  Thu Jun 11 18:32:44 2020     60.250.30.118 (臺灣)    60.250.30.118   \n",
       "\n",
       "   Longitude and Latitude                   Mobile  \\\n",
       "M1   經度：121.318　緯度：24.989            TWN Broadband   \n",
       "M2   經度：120.687　緯度：23.906                    HiNet   \n",
       "M3   經度：121.612　緯度：23.981                    HiNet   \n",
       "M4   經度：121.532　緯度：25.048  Taiwan Academic Network   \n",
       "M5   經度：121.532　緯度：25.048                    HiNet   \n",
       "\n",
       "                                 Nation  \\\n",
       "M1  AS - Asia ( 亞洲 ) TW - Taiwan ( 台灣 )   \n",
       "M2  AS - Asia ( 亞洲 ) TW - Taiwan ( 台灣 )   \n",
       "M3  AS - Asia ( 亞洲 ) TW - Taiwan ( 台灣 )   \n",
       "M4  AS - Asia ( 亞洲 ) TW - Taiwan ( 台灣 )   \n",
       "M5  AS - Asia ( 亞洲 ) TW - Taiwan ( 台灣 )   \n",
       "\n",
       "                                                 Push  \\\n",
       "M1  [→ WeAntiTVBS: 過慢 滾 06/12 08:23, , , 本網站已依台灣網站...   \n",
       "M2  [→ poiutrew: 你4ㄅ4跌倒 06/12 08:23, 推 chawer: 內地地...   \n",
       "M3  [※ 編輯: AntitheApple (114.44.214.137 臺灣), 06/12...   \n",
       "M4  [推 Aska0910: 幼獅 06/12 06:47, 推 testaxsc: 真男人普丁...   \n",
       "M5  [噓 KLGlikeshit: IKEA 06/11 18:32, 推 andy2012: ...   \n",
       "\n",
       "                           Title  YouWin Longitude Latitude  \n",
       "M1                      [爆卦] 地震啦       0   121.318   24.989  \n",
       "M2                     [爆卦] 南投地震       0   120.687   23.906  \n",
       "M3                       [爆卦] 地震       1   121.612   23.981  \n",
       "M4      [新聞] 幼獅被打斷腿供遊客合影 普丁震怒令調查       0   121.532   25.048  \n",
       "M5  [問卦] 震撼彈 ! 道頓堀　不唸做  道頓ㄐㄩㄝˊ ?       0   121.532   25.048  "
      ]
     },
     "execution_count": 35,
     "metadata": {},
     "output_type": "execute_result"
    }
   ],
   "source": [
    "df_earthquake.head()"
   ]
  },
  {
   "cell_type": "markdown",
   "metadata": {},
   "source": [
    "df_earthquake.to_csv(\"PTT_earthquake_0611_2.csv\", encoding=\"utf-8\")"
   ]
  },
  {
   "cell_type": "markdown",
   "metadata": {},
   "source": [
    "# 處理時間格式"
   ]
  },
  {
   "cell_type": "markdown",
   "metadata": {},
   "source": [
    "eg. \"Sat May 30 22:18:19 2020\"\n",
    "\n",
    "ref: https://docs.python.org/zh-cn/3/library/datetime.html"
   ]
  },
  {
   "cell_type": "code",
   "execution_count": 37,
   "metadata": {},
   "outputs": [],
   "source": [
    "import datetime"
   ]
  },
  {
   "cell_type": "code",
   "execution_count": 38,
   "metadata": {},
   "outputs": [
    {
     "data": {
      "text/plain": [
       "datetime.datetime(1900, 5, 30, 0, 0)"
      ]
     },
     "execution_count": 38,
     "metadata": {},
     "output_type": "execute_result"
    }
   ],
   "source": [
    "dstr = \"Saturday May 30\"\n",
    "#datetime.datetime.strptime(dstr, \"%A %B %d\")\n",
    "datetime.datetime.strptime(dstr, \"%A %B %d\")"
   ]
  },
  {
   "cell_type": "code",
   "execution_count": 39,
   "metadata": {},
   "outputs": [],
   "source": [
    "d = datetime.date.fromordinal(730920)"
   ]
  },
  {
   "cell_type": "code",
   "execution_count": 40,
   "metadata": {},
   "outputs": [
    {
     "data": {
      "text/plain": [
       "datetime.date(2002, 3, 11)"
      ]
     },
     "execution_count": 40,
     "metadata": {},
     "output_type": "execute_result"
    }
   ],
   "source": [
    "d"
   ]
  },
  {
   "cell_type": "code",
   "execution_count": 41,
   "metadata": {},
   "outputs": [
    {
     "data": {
      "text/plain": [
       "'Monday 11. March 2002'"
      ]
     },
     "execution_count": 41,
     "metadata": {},
     "output_type": "execute_result"
    }
   ],
   "source": [
    "d.strftime(\"%A %d. %B %Y\")"
   ]
  },
  {
   "cell_type": "code",
   "execution_count": 42,
   "metadata": {},
   "outputs": [
    {
     "data": {
      "text/plain": [
       "datetime.datetime(1900, 2, 28, 0, 0)"
      ]
     },
     "execution_count": 42,
     "metadata": {},
     "output_type": "execute_result"
    }
   ],
   "source": [
    "dstr = \"Sat Feb 28\"\n",
    "datetime.datetime.strptime(dstr, \"%a %b %d\")"
   ]
  },
  {
   "cell_type": "code",
   "execution_count": 43,
   "metadata": {},
   "outputs": [],
   "source": [
    "# 正確的時間格式\n",
    "dstr = \"Sat May 30 22:18:19 2020\"\n",
    "d = datetime.datetime.strptime(dstr, \"%a %b %d %H:%M:%S %Y\")"
   ]
  },
  {
   "cell_type": "code",
   "execution_count": 44,
   "metadata": {},
   "outputs": [
    {
     "data": {
      "text/plain": [
       "'2020-05-30 22:18:19'"
      ]
     },
     "execution_count": 44,
     "metadata": {},
     "output_type": "execute_result"
    }
   ],
   "source": [
    "d.strftime(\"%Y-%m-%d %H:%M:%S\")"
   ]
  },
  {
   "cell_type": "code",
   "execution_count": 45,
   "metadata": {},
   "outputs": [
    {
     "data": {
      "text/plain": [
       "'Fri Jan 17 00:02:34 2020'"
      ]
     },
     "execution_count": 45,
     "metadata": {},
     "output_type": "execute_result"
    }
   ],
   "source": [
    "df_earthquake.iloc[row][4]"
   ]
  },
  {
   "cell_type": "code",
   "execution_count": 46,
   "metadata": {},
   "outputs": [
    {
     "name": "stdout",
     "output_type": "stream",
     "text": [
      "1040 1\n"
     ]
    }
   ],
   "source": [
    "# 修改時間格式\n",
    "Date_format = [] #經度\n",
    "count = 0\n",
    "for row in range(0, len(df_earthquake)):\n",
    "    try:\n",
    "        dstr = df_earthquake.iloc[row][4]\n",
    "        d = datetime.datetime.strptime(dstr, \"%a %b %d %H:%M:%S %Y\")\n",
    "        Date_format.append(d.strftime(\"%Y-%m-%d %H:%M:%S\"))\n",
    "    except:\n",
    "        Date_format.append(\"NaN\")\n",
    "        count+=1\n",
    "print(len(Date_format), count)"
   ]
  },
  {
   "cell_type": "code",
   "execution_count": 47,
   "metadata": {},
   "outputs": [],
   "source": [
    "df_earthquake[\"Date_format\"] = Date_format"
   ]
  },
  {
   "cell_type": "code",
   "execution_count": 48,
   "metadata": {},
   "outputs": [
    {
     "data": {
      "text/html": [
       "<div>\n",
       "<style scoped>\n",
       "    .dataframe tbody tr th:only-of-type {\n",
       "        vertical-align: middle;\n",
       "    }\n",
       "\n",
       "    .dataframe tbody tr th {\n",
       "        vertical-align: top;\n",
       "    }\n",
       "\n",
       "    .dataframe thead th {\n",
       "        text-align: right;\n",
       "    }\n",
       "</style>\n",
       "<table border=\"1\" class=\"dataframe\">\n",
       "  <thead>\n",
       "    <tr style=\"text-align: right;\">\n",
       "      <th></th>\n",
       "      <th>Author</th>\n",
       "      <th>Board</th>\n",
       "      <th>City</th>\n",
       "      <th>Content</th>\n",
       "      <th>Date</th>\n",
       "      <th>Full IP</th>\n",
       "      <th>IP</th>\n",
       "      <th>Longitude and Latitude</th>\n",
       "      <th>Mobile</th>\n",
       "      <th>Nation</th>\n",
       "      <th>Push</th>\n",
       "      <th>Title</th>\n",
       "      <th>YouWin</th>\n",
       "      <th>Longitude</th>\n",
       "      <th>Latitude</th>\n",
       "      <th>Date_format</th>\n",
       "    </tr>\n",
       "  </thead>\n",
       "  <tbody>\n",
       "    <tr>\n",
       "      <th>M1</th>\n",
       "      <td>iimirageii (小黑)</td>\n",
       "      <td>Gossiping</td>\n",
       "      <td>Taoyuan District</td>\n",
       "      <td>女王我愛妳\\n\\n</td>\n",
       "      <td>Fri Jun 12 08:23:29 2020</td>\n",
       "      <td>49.216.191.58 (臺灣)</td>\n",
       "      <td>49.216.191.58</td>\n",
       "      <td>經度：121.318　緯度：24.989</td>\n",
       "      <td>TWN Broadband</td>\n",
       "      <td>AS - Asia ( 亞洲 ) TW - Taiwan ( 台灣 )</td>\n",
       "      <td>[→ WeAntiTVBS: 過慢 滾 06/12 08:23, , , 本網站已依台灣網站...</td>\n",
       "      <td>[爆卦] 地震啦</td>\n",
       "      <td>0</td>\n",
       "      <td>121.318</td>\n",
       "      <td>24.989</td>\n",
       "      <td>2020-06-12 08:23:29</td>\n",
       "    </tr>\n",
       "    <tr>\n",
       "      <th>M2</th>\n",
       "      <td>LisaPrincess (莎莎)</td>\n",
       "      <td>Gossiping</td>\n",
       "      <td>Nantou City</td>\n",
       "      <td>有感！\\n\\n</td>\n",
       "      <td>Fri Jun 12 08:23:14 2020</td>\n",
       "      <td>36.233.208.129 (臺灣)</td>\n",
       "      <td>36.233.208.129</td>\n",
       "      <td>經度：120.687　緯度：23.906</td>\n",
       "      <td>HiNet</td>\n",
       "      <td>AS - Asia ( 亞洲 ) TW - Taiwan ( 台灣 )</td>\n",
       "      <td>[→ poiutrew: 你4ㄅ4跌倒 06/12 08:23, 推 chawer: 內地地...</td>\n",
       "      <td>[爆卦] 南投地震</td>\n",
       "      <td>0</td>\n",
       "      <td>120.687</td>\n",
       "      <td>23.906</td>\n",
       "      <td>2020-06-12 08:23:14</td>\n",
       "    </tr>\n",
       "    <tr>\n",
       "      <th>M3</th>\n",
       "      <td>AntitheApple (蘋果? 那是什麼好吃嗎)</td>\n",
       "      <td>Gossiping</td>\n",
       "      <td>Hualien City</td>\n",
       "      <td>居然有地震\\n\\n\\n\\n發震時間：2020/06/12 08:21:35\\n\\n位置：北緯...</td>\n",
       "      <td>Fri Jun 12 08:21:58 2020</td>\n",
       "      <td>114.44.214.137 (臺灣)</td>\n",
       "      <td>114.44.214.137</td>\n",
       "      <td>經度：121.612　緯度：23.981</td>\n",
       "      <td>HiNet</td>\n",
       "      <td>AS - Asia ( 亞洲 ) TW - Taiwan ( 台灣 )</td>\n",
       "      <td>[※ 編輯: AntitheApple (114.44.214.137 臺灣), 06/12...</td>\n",
       "      <td>[爆卦] 地震</td>\n",
       "      <td>1</td>\n",
       "      <td>121.612</td>\n",
       "      <td>23.981</td>\n",
       "      <td>2020-06-12 08:21:58</td>\n",
       "    </tr>\n",
       "    <tr>\n",
       "      <th>M4</th>\n",
       "      <td>autechre (Untilted)</td>\n",
       "      <td>Gossiping</td>\n",
       "      <td>Taipei</td>\n",
       "      <td>1.媒體來源: UDN\\n\\n2.記者署名: 周辰陽\\n\\n\\n3.完整新聞標題: 俄國幼獅...</td>\n",
       "      <td>Fri Jun 12 06:46:25 2020</td>\n",
       "      <td>118.168.202.243 (臺灣)</td>\n",
       "      <td>118.168.202.243</td>\n",
       "      <td>經度：121.532　緯度：25.048</td>\n",
       "      <td>Taiwan Academic Network</td>\n",
       "      <td>AS - Asia ( 亞洲 ) TW - Taiwan ( 台灣 )</td>\n",
       "      <td>[推 Aska0910: 幼獅 06/12 06:47, 推 testaxsc: 真男人普丁...</td>\n",
       "      <td>[新聞] 幼獅被打斷腿供遊客合影 普丁震怒令調查</td>\n",
       "      <td>0</td>\n",
       "      <td>121.532</td>\n",
       "      <td>25.048</td>\n",
       "      <td>2020-06-12 06:46:25</td>\n",
       "    </tr>\n",
       "    <tr>\n",
       "      <th>M5</th>\n",
       "      <td>cosmite (焼き団子)</td>\n",
       "      <td>Gossiping</td>\n",
       "      <td>Taipei</td>\n",
       "      <td>你各位是不是都把道頓堀 唸成 道頓ㄐㄩㄝˊ\\n\\n原來正確的唸法是 道頓 ㄎㄨ\\n\\n堀 這...</td>\n",
       "      <td>Thu Jun 11 18:32:44 2020</td>\n",
       "      <td>60.250.30.118 (臺灣)</td>\n",
       "      <td>60.250.30.118</td>\n",
       "      <td>經度：121.532　緯度：25.048</td>\n",
       "      <td>HiNet</td>\n",
       "      <td>AS - Asia ( 亞洲 ) TW - Taiwan ( 台灣 )</td>\n",
       "      <td>[噓 KLGlikeshit: IKEA 06/11 18:32, 推 andy2012: ...</td>\n",
       "      <td>[問卦] 震撼彈 ! 道頓堀　不唸做  道頓ㄐㄩㄝˊ ?</td>\n",
       "      <td>0</td>\n",
       "      <td>121.532</td>\n",
       "      <td>25.048</td>\n",
       "      <td>2020-06-11 18:32:44</td>\n",
       "    </tr>\n",
       "  </tbody>\n",
       "</table>\n",
       "</div>"
      ],
      "text/plain": [
       "                        Author      Board              City  \\\n",
       "M1             iimirageii (小黑)  Gossiping  Taoyuan District   \n",
       "M2           LisaPrincess (莎莎)  Gossiping       Nantou City   \n",
       "M3  AntitheApple (蘋果? 那是什麼好吃嗎)  Gossiping      Hualien City   \n",
       "M4         autechre (Untilted)  Gossiping            Taipei   \n",
       "M5              cosmite (焼き団子)  Gossiping            Taipei   \n",
       "\n",
       "                                              Content  \\\n",
       "M1                                          女王我愛妳\\n\\n   \n",
       "M2                                            有感！\\n\\n   \n",
       "M3  居然有地震\\n\\n\\n\\n發震時間：2020/06/12 08:21:35\\n\\n位置：北緯...   \n",
       "M4  1.媒體來源: UDN\\n\\n2.記者署名: 周辰陽\\n\\n\\n3.完整新聞標題: 俄國幼獅...   \n",
       "M5  你各位是不是都把道頓堀 唸成 道頓ㄐㄩㄝˊ\\n\\n原來正確的唸法是 道頓 ㄎㄨ\\n\\n堀 這...   \n",
       "\n",
       "                        Date                Full IP               IP  \\\n",
       "M1  Fri Jun 12 08:23:29 2020     49.216.191.58 (臺灣)    49.216.191.58   \n",
       "M2  Fri Jun 12 08:23:14 2020    36.233.208.129 (臺灣)   36.233.208.129   \n",
       "M3  Fri Jun 12 08:21:58 2020    114.44.214.137 (臺灣)   114.44.214.137   \n",
       "M4  Fri Jun 12 06:46:25 2020   118.168.202.243 (臺灣)  118.168.202.243   \n",
       "M5  Thu Jun 11 18:32:44 2020     60.250.30.118 (臺灣)    60.250.30.118   \n",
       "\n",
       "   Longitude and Latitude                   Mobile  \\\n",
       "M1   經度：121.318　緯度：24.989            TWN Broadband   \n",
       "M2   經度：120.687　緯度：23.906                    HiNet   \n",
       "M3   經度：121.612　緯度：23.981                    HiNet   \n",
       "M4   經度：121.532　緯度：25.048  Taiwan Academic Network   \n",
       "M5   經度：121.532　緯度：25.048                    HiNet   \n",
       "\n",
       "                                 Nation  \\\n",
       "M1  AS - Asia ( 亞洲 ) TW - Taiwan ( 台灣 )   \n",
       "M2  AS - Asia ( 亞洲 ) TW - Taiwan ( 台灣 )   \n",
       "M3  AS - Asia ( 亞洲 ) TW - Taiwan ( 台灣 )   \n",
       "M4  AS - Asia ( 亞洲 ) TW - Taiwan ( 台灣 )   \n",
       "M5  AS - Asia ( 亞洲 ) TW - Taiwan ( 台灣 )   \n",
       "\n",
       "                                                 Push  \\\n",
       "M1  [→ WeAntiTVBS: 過慢 滾 06/12 08:23, , , 本網站已依台灣網站...   \n",
       "M2  [→ poiutrew: 你4ㄅ4跌倒 06/12 08:23, 推 chawer: 內地地...   \n",
       "M3  [※ 編輯: AntitheApple (114.44.214.137 臺灣), 06/12...   \n",
       "M4  [推 Aska0910: 幼獅 06/12 06:47, 推 testaxsc: 真男人普丁...   \n",
       "M5  [噓 KLGlikeshit: IKEA 06/11 18:32, 推 andy2012: ...   \n",
       "\n",
       "                           Title  YouWin Longitude Latitude  \\\n",
       "M1                      [爆卦] 地震啦       0   121.318   24.989   \n",
       "M2                     [爆卦] 南投地震       0   120.687   23.906   \n",
       "M3                       [爆卦] 地震       1   121.612   23.981   \n",
       "M4      [新聞] 幼獅被打斷腿供遊客合影 普丁震怒令調查       0   121.532   25.048   \n",
       "M5  [問卦] 震撼彈 ! 道頓堀　不唸做  道頓ㄐㄩㄝˊ ?       0   121.532   25.048   \n",
       "\n",
       "            Date_format  \n",
       "M1  2020-06-12 08:23:29  \n",
       "M2  2020-06-12 08:23:14  \n",
       "M3  2020-06-12 08:21:58  \n",
       "M4  2020-06-12 06:46:25  \n",
       "M5  2020-06-11 18:32:44  "
      ]
     },
     "execution_count": 48,
     "metadata": {},
     "output_type": "execute_result"
    }
   ],
   "source": [
    "df_earthquake.head()"
   ]
  },
  {
   "cell_type": "code",
   "execution_count": 49,
   "metadata": {},
   "outputs": [],
   "source": [
    "df_earthquake.to_csv(\"PTT_earthquake_IPQuery_0612.csv\", encoding=\"utf-8\")"
   ]
  },
  {
   "cell_type": "code",
   "execution_count": null,
   "metadata": {},
   "outputs": [],
   "source": []
  }
 ],
 "metadata": {
  "kernelspec": {
   "display_name": "Python 3",
   "language": "python",
   "name": "python3"
  },
  "language_info": {
   "codemirror_mode": {
    "name": "ipython",
    "version": 3
   },
   "file_extension": ".py",
   "mimetype": "text/x-python",
   "name": "python",
   "nbconvert_exporter": "python",
   "pygments_lexer": "ipython3",
   "version": "3.6.5"
  }
 },
 "nbformat": 4,
 "nbformat_minor": 4
}
