{
 "cells": [
  {
   "cell_type": "markdown",
   "metadata": {},
   "source": [
    "# Obtaining Geographical Location through IP Address"
   ]
  },
  {
   "cell_type": "markdown",
   "metadata": {},
   "source": []
  },
  {
   "cell_type": "markdown",
   "metadata": {},
   "source": [
    "### Selenium"
   ]
  },
  {
   "cell_type": "code",
   "execution_count": 1,
   "metadata": {},
   "outputs": [
    {
     "name": "stderr",
     "output_type": "stream",
     "text": [
      "/Applications/anaconda3/lib/python3.6/site-packages/requests/__init__.py:80: RequestsDependencyWarning: urllib3 (1.25.9) or chardet (3.0.4) doesn't match a supported version!\n",
      "  RequestsDependencyWarning)\n"
     ]
    }
   ],
   "source": [
    "import requests\n",
    "from bs4 import BeautifulSoup\n",
    "import sys\n",
    "import codecs\n",
    "from selenium import webdriver\n",
    "from selenium.webdriver.support.ui import WebDriverWait\n",
    "from selenium.webdriver.common.keys import Keys\n",
    "import requests\n",
    "import time\n",
    "from fake_useragent import UserAgent\n",
    "import csv\n",
    "import pandas as pd\n",
    "import numpy as np"
   ]
  },
  {
   "cell_type": "markdown",
   "metadata": {},
   "source": [
    "### Use try & except"
   ]
  },
  {
   "cell_type": "code",
   "execution_count": 2,
   "metadata": {},
   "outputs": [
    {
     "name": "stderr",
     "output_type": "stream",
     "text": [
      "/Applications/anaconda3/lib/python3.6/site-packages/ipykernel_launcher.py:23: DeprecationWarning: use options instead of chrome_options\n"
     ]
    }
   ],
   "source": [
    "#Use fake UserAgent\n",
    "def set_header_user_agent():\n",
    "    user_agent = UserAgent()\n",
    "    return user_agent.random\n",
    "\n",
    "#open browser #打開瀏覽器，但不要載入圖片\n",
    "options = webdriver.ChromeOptions()\n",
    "prefs = {\n",
    "    'profile.default_content_setting_values': {\n",
    "        'images': 2,\n",
    "        #'javascript': 2\n",
    "    }\n",
    "}\n",
    "options.add_experimental_option('prefs', prefs)\n",
    "\n",
    "#ua = \"Mozilla/5.0 (Windows NT 10.0; WOW64; rv:53.0) Gecko/20100101 Firefox/53.0\"\n",
    "#headers = {'User-Agent': 'User-Agent:Mozilla/5.0 (Macintosh; Intel Mac OS X 10_12_3) AppleWebKit/537.36 (KHTML, like Gecko) Chrome/56.0.2924.87 Safari/537.36'}\n",
    "#user_agent = set_header_user_agent()\n",
    "#headers={ 'user-agent': user_agent }\n",
    "#options.add_argument(\"user-agent={}\".format(user_agent)) # 使用偽造的 user-agent\n",
    "#options.add_argument(headers)\n",
    "\n",
    "driver = webdriver.Chrome('./chromedriver', chrome_options=options)"
   ]
  },
  {
   "cell_type": "code",
   "execution_count": 3,
   "metadata": {},
   "outputs": [],
   "source": [
    "#define urls\n",
    "IP_url1 = \"https://tw.geoipview.com/\"\n",
    "IP_url2 = \"https://www.ez2o.com/App/Net/IP\""
   ]
  },
  {
   "cell_type": "code",
   "execution_count": 4,
   "metadata": {},
   "outputs": [],
   "source": [
    "driver.get(IP_url2)\n",
    "driver.implicitly_wait(5)"
   ]
  },
  {
   "cell_type": "code",
   "execution_count": null,
   "metadata": {},
   "outputs": [],
   "source": [
    "//*[@id=\"QueryIP\"]"
   ]
  },
  {
   "cell_type": "code",
   "execution_count": 5,
   "metadata": {},
   "outputs": [],
   "source": [
    "# 點查詢欄位\n",
    "search_field = driver.find_element_by_xpath(\"\"\"//*[@id=\"QueryIP\"]\"\"\")\n",
    "search_field.click()\n",
    "search_field.clear()\n",
    "\n",
    "# 輸入IP\n",
    "search_field.send_keys(\"110.26.35.209\")\n",
    "search_field.send_keys(Keys.ENTER)\n",
    "driver.implicitly_wait(5)\n",
    "\n",
    "#拿到source page\n",
    "IP_soup_2 = BeautifulSoup(driver.page_source, 'html.parser')"
   ]
  },
  {
   "cell_type": "markdown",
   "metadata": {},
   "source": [
    "# 找table\n",
    "\n",
    "<div id=\"ipinfo_show\">\n",
    "  <table width=\"250\" cellspacing=\"0\" cellpadding=\"1\" border=\"0\">\n",
    "  <tbody><tr><td></td><td></td>\n",
    "  </tr><tr><td class=\"show1\" width=\"20%\" nowrap=\"\">主機名稱:&nbsp;</td><td width=\"80%\" nowrap=\"\"><div class=\"host\"></div></td>\n",
    "  </tr><tr><td class=\"show1\" nowrap=\"\">IP 位址:&nbsp;</td><td class=\"ip\"><span class=\"show2\">140.112.177.146</span> [<a href=\"http://whois.chromefans.org/140.112.177.146\" target=\"_blank\">whois</a>]</td>\n",
    "  </tr><tr><td class=\"show1\" nowrap=\"\">國家/地區代碼:&nbsp;</td><td>TWN / TW &nbsp;  &nbsp; <img src=\"https://image.geoipview.com/flags/tw.png\" width=\"16\" height=\"11\" border=\"0\" align=\"absmiddle\" alt=\"Taiwan\"></td>\n",
    "  </tr><tr><td class=\"show1\" nowrap=\"\">國家:&nbsp;</td><td class=\"show2\">Taiwan</td>\n",
    "  </tr><tr><td class=\"show1\" nowrap=\"\">地區:&nbsp;</td><td>25</td>\n",
    "  </tr><tr><td class=\"show1\" nowrap=\"\">城市:&nbsp;</td><td class=\"show2\">Fuan</td>\n",
    "  </tr><tr><td class=\"show1\" nowrap=\"\">郵政編碼:&nbsp;</td><td></td>\n",
    "  </tr><tr><td class=\"show1\" nowrap=\"\">緯度:&nbsp;</td><td>24.86009979248</td>\n",
    "  </tr><tr><td class=\"show1\" nowrap=\"\">經度:&nbsp;</td><td>121.29570007324</td>\n",
    "  </tr></tbody></table>\n",
    "  </div>"
   ]
  },
  {
   "cell_type": "markdown",
   "metadata": {},
   "source": [
    "<table class=\"table table-striped table-hover\"><tbody><tr class=\"active\"><td class=\"text-right\"><strong>主機名稱：</strong></td><td>110-26-35-209.adsl.fetnet.net</td></tr><tr class=\"active\"><td class=\"text-right\"><strong>國家名稱：</strong></td><td>AS - Asia ( 亞洲 ) <br> <span>TW - Taiwan ( 台灣 )</span> <br> <img src=\"/Images/COUNTRY/TW.png\" width=\"120\" alt=\"TW - Taiwan ( 台灣 )\" title=\"TW - Taiwan ( 台灣 )\" class=\"img-thumbnail\"></td></tr><tr class=\"active\"><td class=\"text-right\"><strong>城市名稱：</strong></td><td>Taipei</td></tr><tr class=\"active\"><td class=\"text-right\"><strong>經度緯度：</strong></td><td>經度：121.532　緯度：25.048</td></tr><tr class=\"active\"><td class=\"text-right\"><strong>電訊名稱：</strong></td><td>FarEasTone</td></tr><tr class=\"active\"><td class=\"text-right\"><strong>單位名稱：</strong></td><td>Far EastTone Telecommunication Co., Ltd.</td></tr><tr class=\"active\"><td class=\"text-right\"><strong>網域名稱：</strong></td><td>fetnet.net</td></tr><tr class=\"active\"><td class=\"text-right\"><strong>時區單位：</strong></td><td>Asia/Taipei (UTC +08:00)</td></tr></tbody></table>"
   ]
  },
  {
   "cell_type": "code",
   "execution_count": 15,
   "metadata": {},
   "outputs": [],
   "source": [
    "# 找table\n",
    "table_2 = IP_soup_2.find(\"table\")"
   ]
  },
  {
   "cell_type": "code",
   "execution_count": 16,
   "metadata": {},
   "outputs": [
    {
     "data": {
      "text/plain": [
       "<table class=\"table table-striped table-hover\"><tbody><tr class=\"active\"><td class=\"text-right\"><strong>主機名稱：</strong></td><td>110-26-35-209.adsl.fetnet.net</td></tr><tr class=\"active\"><td class=\"text-right\"><strong>國家名稱：</strong></td><td>AS - Asia ( 亞洲 ) <br/> <span>TW - Taiwan ( 台灣 )</span> <br/> <img alt=\"TW - Taiwan ( 台灣 )\" class=\"img-thumbnail\" src=\"/Images/COUNTRY/TW.png\" title=\"TW - Taiwan ( 台灣 )\" width=\"120\"/></td></tr><tr class=\"active\"><td class=\"text-right\"><strong>城市名稱：</strong></td><td>Taipei</td></tr><tr class=\"active\"><td class=\"text-right\"><strong>經度緯度：</strong></td><td>經度：121.532　緯度：25.048</td></tr><tr class=\"active\"><td class=\"text-right\"><strong>電訊名稱：</strong></td><td>FarEasTone</td></tr><tr class=\"active\"><td class=\"text-right\"><strong>單位名稱：</strong></td><td>Far EastTone Telecommunication Co., Ltd.</td></tr><tr class=\"active\"><td class=\"text-right\"><strong>網域名稱：</strong></td><td>fetnet.net</td></tr><tr class=\"active\"><td class=\"text-right\"><strong>時區單位：</strong></td><td>Asia/Taipei (UTC +08:00)</td></tr></tbody></table>"
      ]
     },
     "execution_count": 16,
     "metadata": {},
     "output_type": "execute_result"
    }
   ],
   "source": [
    "table_2"
   ]
  },
  {
   "cell_type": "code",
   "execution_count": 17,
   "metadata": {},
   "outputs": [
    {
     "data": {
      "text/html": [
       "<div>\n",
       "<style scoped>\n",
       "    .dataframe tbody tr th:only-of-type {\n",
       "        vertical-align: middle;\n",
       "    }\n",
       "\n",
       "    .dataframe tbody tr th {\n",
       "        vertical-align: top;\n",
       "    }\n",
       "\n",
       "    .dataframe thead th {\n",
       "        text-align: right;\n",
       "    }\n",
       "</style>\n",
       "<table border=\"1\" class=\"dataframe\">\n",
       "  <thead>\n",
       "    <tr style=\"text-align: right;\">\n",
       "      <th></th>\n",
       "      <th>0</th>\n",
       "      <th>1</th>\n",
       "    </tr>\n",
       "  </thead>\n",
       "  <tbody>\n",
       "    <tr>\n",
       "      <th>0</th>\n",
       "      <td>主機名稱：</td>\n",
       "      <td>110-26-35-209.adsl.fetnet.net</td>\n",
       "    </tr>\n",
       "    <tr>\n",
       "      <th>1</th>\n",
       "      <td>國家名稱：</td>\n",
       "      <td>AS - Asia ( 亞洲 ) TW - Taiwan ( 台灣 )</td>\n",
       "    </tr>\n",
       "    <tr>\n",
       "      <th>2</th>\n",
       "      <td>城市名稱：</td>\n",
       "      <td>Taipei</td>\n",
       "    </tr>\n",
       "    <tr>\n",
       "      <th>3</th>\n",
       "      <td>經度緯度：</td>\n",
       "      <td>經度：121.532　緯度：25.048</td>\n",
       "    </tr>\n",
       "    <tr>\n",
       "      <th>4</th>\n",
       "      <td>電訊名稱：</td>\n",
       "      <td>FarEasTone</td>\n",
       "    </tr>\n",
       "    <tr>\n",
       "      <th>5</th>\n",
       "      <td>單位名稱：</td>\n",
       "      <td>Far EastTone Telecommunication Co., Ltd.</td>\n",
       "    </tr>\n",
       "    <tr>\n",
       "      <th>6</th>\n",
       "      <td>網域名稱：</td>\n",
       "      <td>fetnet.net</td>\n",
       "    </tr>\n",
       "    <tr>\n",
       "      <th>7</th>\n",
       "      <td>時區單位：</td>\n",
       "      <td>Asia/Taipei (UTC +08:00)</td>\n",
       "    </tr>\n",
       "  </tbody>\n",
       "</table>\n",
       "</div>"
      ],
      "text/plain": [
       "       0                                         1\n",
       "0  主機名稱：             110-26-35-209.adsl.fetnet.net\n",
       "1  國家名稱：       AS - Asia ( 亞洲 ) TW - Taiwan ( 台灣 )\n",
       "2  城市名稱：                                    Taipei\n",
       "3  經度緯度：                      經度：121.532　緯度：25.048\n",
       "4  電訊名稱：                                FarEasTone\n",
       "5  單位名稱：  Far EastTone Telecommunication Co., Ltd.\n",
       "6  網域名稱：                                fetnet.net\n",
       "7  時區單位：                  Asia/Taipei (UTC +08:00)"
      ]
     },
     "execution_count": 17,
     "metadata": {},
     "output_type": "execute_result"
    }
   ],
   "source": [
    "df_2 = pd.read_html(str(table_2))[0]\n",
    "df_2"
   ]
  },
  {
   "cell_type": "code",
   "execution_count": 18,
   "metadata": {},
   "outputs": [
    {
     "data": {
      "text/plain": [
       "'FarEasTone'"
      ]
     },
     "execution_count": 18,
     "metadata": {},
     "output_type": "execute_result"
    }
   ],
   "source": [
    "df_2.iloc[1][1] #國家\n",
    "df_2.iloc[2][1] #城市\n",
    "df_2.iloc[3][1] #經緯度\n",
    "df_2.iloc[4][1] #電信名稱"
   ]
  },
  {
   "cell_type": "code",
   "execution_count": 41,
   "metadata": {},
   "outputs": [
    {
     "data": {
      "text/html": [
       "<div>\n",
       "<style scoped>\n",
       "    .dataframe tbody tr th:only-of-type {\n",
       "        vertical-align: middle;\n",
       "    }\n",
       "\n",
       "    .dataframe tbody tr th {\n",
       "        vertical-align: top;\n",
       "    }\n",
       "\n",
       "    .dataframe thead th {\n",
       "        text-align: right;\n",
       "    }\n",
       "</style>\n",
       "<table border=\"1\" class=\"dataframe\">\n",
       "  <thead>\n",
       "    <tr style=\"text-align: right;\">\n",
       "      <th></th>\n",
       "      <th>0</th>\n",
       "      <th>1</th>\n",
       "      <th>2</th>\n",
       "      <th>3</th>\n",
       "      <th>4</th>\n",
       "      <th>5</th>\n",
       "      <th>6</th>\n",
       "      <th>7</th>\n",
       "      <th>8</th>\n",
       "      <th>9</th>\n",
       "    </tr>\n",
       "  </thead>\n",
       "  <tbody>\n",
       "    <tr>\n",
       "      <th>0</th>\n",
       "      <td>NaN</td>\n",
       "      <td>主機名稱:</td>\n",
       "      <td>IP 位址:</td>\n",
       "      <td>國家/地區代碼:</td>\n",
       "      <td>國家:</td>\n",
       "      <td>地區:</td>\n",
       "      <td>城市:</td>\n",
       "      <td>郵政編碼:</td>\n",
       "      <td>緯度:</td>\n",
       "      <td>經度:</td>\n",
       "    </tr>\n",
       "    <tr>\n",
       "      <th>1</th>\n",
       "      <td>NaN</td>\n",
       "      <td>NaN</td>\n",
       "      <td>110.26.35.209 [whois]</td>\n",
       "      <td>TWN / TW</td>\n",
       "      <td>Taiwan</td>\n",
       "      <td>25</td>\n",
       "      <td>Bade</td>\n",
       "      <td>NaN</td>\n",
       "      <td>24.929800033569</td>\n",
       "      <td>121.28369903564</td>\n",
       "    </tr>\n",
       "  </tbody>\n",
       "</table>\n",
       "</div>"
      ],
      "text/plain": [
       "     0      1                      2         3       4    5     6      7  \\\n",
       "0  NaN  主機名稱:                 IP 位址:  國家/地區代碼:     國家:  地區:   城市:  郵政編碼:   \n",
       "1  NaN    NaN  110.26.35.209 [whois]  TWN / TW  Taiwan   25  Bade    NaN   \n",
       "\n",
       "                 8                9  \n",
       "0              緯度:              經度:  \n",
       "1  24.929800033569  121.28369903564  "
      ]
     },
     "execution_count": 41,
     "metadata": {},
     "output_type": "execute_result"
    }
   ],
   "source": [
    "df_1.transpose()"
   ]
  },
  {
   "cell_type": "code",
   "execution_count": 47,
   "metadata": {},
   "outputs": [
    {
     "data": {
      "text/plain": [
       "'121.28369903564'"
      ]
     },
     "execution_count": 47,
     "metadata": {},
     "output_type": "execute_result"
    }
   ],
   "source": [
    "df_1.iloc[4][1] #國家\n",
    "df_1.iloc[5][1] #地區\n",
    "df_1.iloc[6][1] #城市\n",
    "df_1.iloc[8][1] #緯度\n",
    "df_1.iloc[9][1] #經度"
   ]
  },
  {
   "cell_type": "markdown",
   "metadata": {},
   "source": [
    "# 讀所有的IP，先讀爬下來的PTT文章"
   ]
  },
  {
   "cell_type": "code",
   "execution_count": 48,
   "metadata": {},
   "outputs": [],
   "source": [
    "# Save\n",
    "#np.save(\"earthquake_dict_np\", earthquake_dict)\n",
    "\n",
    "# Load\n",
    "earthquake_dict = np.load('earthquake_dict_np.npy',allow_pickle='TRUE').item()"
   ]
  },
  {
   "cell_type": "code",
   "execution_count": 49,
   "metadata": {},
   "outputs": [],
   "source": [
    "articles = list(earthquake_dict.keys())"
   ]
  },
  {
   "cell_type": "code",
   "execution_count": 50,
   "metadata": {},
   "outputs": [
    {
     "data": {
      "text/plain": [
       "1027"
      ]
     },
     "execution_count": 50,
     "metadata": {},
     "output_type": "execute_result"
    }
   ],
   "source": [
    "len(articles)"
   ]
  },
  {
   "cell_type": "markdown",
   "metadata": {},
   "source": [
    "for art in articles:\n",
    "    try:\n",
    "        print(earthquake_dict[art][\"IP\"], end = \" \")\n",
    "    except:\n",
    "        pass"
   ]
  },
  {
   "cell_type": "markdown",
   "metadata": {},
   "source": [
    "## 把IP拿去反查"
   ]
  },
  {
   "cell_type": "code",
   "execution_count": 51,
   "metadata": {},
   "outputs": [
    {
     "name": "stderr",
     "output_type": "stream",
     "text": [
      "/Applications/anaconda3/lib/python3.6/site-packages/ipykernel_launcher.py:23: DeprecationWarning: use options instead of chrome_options\n"
     ]
    },
    {
     "name": "stdout",
     "output_type": "stream",
     "text": [
      "0 1 2 3 4 5 6 7 8 9 10 11 12 13 14 15 16 17 18 19 20 21 22 23 24 25 26 27 28 29 30 31 32 33 34 35 36 37 38 39 40 41 42 43 44 45 46 47 48 49 50 51 52 53 54 55 56 57 58 59 60 61 62 63 64 65 66 67 68 69 70 71 72 73 74 75 76 77 78 79 80 81 82 83 84 85 86 87 88 89 90 91 92 93 94 95 96 97 98 99 100 101 102 103 104 105 106 107 108 109 110 111 112 113 114 115 116 117 118 119 120 121 122 123 124 125 126 127 128 129 130 131 132 133 134 135 136 137 138 139 140 141 142 143 144 145 146 147 148 149 150 151 152 153 154 155 156 157 158 159 160 161 162 163 164 165 166 167 168 169 170 171 172 173 174 175 176 177 178 179 180 181 182 183 184 185 186 187 188 189 190 191 192 193 194 195 196 197 198 199 200 201 202 203 204 205 206 207 208 209 210 211 212 213 214 215 216 217 218 219 220 221 222 223 224 225 226 227 228 229 230 231 232 233 234 235 236 237 238 239 240 241 242 243 244 245 246 247 248 249 250 251 252 253 254 255 256 257 258 259 260 261 262 263 264 265 266 267 268 269 270 271 272 273 274 275 276 277 278 279 280 281 282 283 284 285 286 287 288 289 290 291 292 293 294 295 296 297 298 299 300 301 302 303 304 305 306 307 308 309 310 311 312 313 314 315 316 317 318 319 320 321 322 323 324 325 326 327 328 329 330 331 332 333 334 335 336 337 338 339 340 341 342 343 344 345 346 347 348 349 350 351 352 353 354 355 356 357 358 359 360 361 362 363 364 365 366 367 368 369 370 371 372 373 374 375 376 377 378 379 380 381 382 383 384 385 386 387 388 389 390 391 392 393 394 395 396 397 398 399 400 401 402 403 404 405 406 407 408 409 410 411 412 413 414 415 416 417 418 419 420 421 422 423 424 425 426 427 428 429 430 431 432 433 434 435 436 437 438 439 440 441 442 443 444 445 446 447 448 449 450 451 452 453 454 455 456 457 458 459 460 461 462 463 464 465 466 467 468 469 470 471 472 473 474 475 476 477 478 479 480 481 482 483 484 485 486 487 488 489 490 491 492 493 494 495 496 497 498 499 500 501 502 503 504 505 506 507 508 509 510 511 512 513 514 515 516 517 518 519 520 521 522 523 524 525 526 527 528 529 530 531 532 533 534 535 536 537 538 539 540 541 542 543 544 545 546 547 548 549 550 551 552 553 554 555 556 557 558 559 560 561 562 563 564 565 566 567 568 569 570 571 572 573 574 575 576 577 578 579 580 581 582 583 584 585 586 587 588 589 590 591 592 593 594 595 596 597 598 599 600 601 602 603 604 605 606 607 608 609 610 611 612 613 614 615 616 617 618 619 620 621 622 623 624 625 626 627 628 629 630 631 632 633 634 635 636 637 638 639 640 641 642 643 644 645 646 647 648 649 650 651 652 653 654 655 656 657 658 659 660 661 662 663 664 665 666 667 668 669 670 671 672 673 674 675 676 677 678 679 680 681 682 683 684 685 686 687 688 689 690 691 692 693 694 695 696 697 698 699 700 701 702 703 704 705 706 707 708 709 710 711 712 713 714 715 716 717 718 719 720 721 722 723 724 725 726 727 728 729 730 731 732 733 734 735 736 737 738 739 740 741 742 743 744 745 746 747 748 749 750 751 752 753 754 755 756 757 758 759 760 761 762 763 764 765 766 767 768 769 770 771 772 773 774 775 776 777 778 779 780 781 782 783 784 785 786 787 788 789 790 791 792 793 794 795 796 797 798 799 800 801 802 803 804 805 806 807 808 809 810 811 812 813 814 815 816 817 818 819 820 821 822 823 824 825 826 827 828 829 830 831 832 833 834 835 836 837 838 839 840 841 842 843 844 845 846 847 848 849 850 851 852 853 854 855 856 857 858 859 860 861 862 863 864 865 866 867 868 869 870 871 872 873 874 875 876 877 878 879 880 881 882 883 884 885 886 887 888 889 890 891 892 893 894 895 896 897 898 899 900 901 902 903 904 905 906 907 908 909 910 911 912 913 914 915 916 917 918 919 920 921 922 923 924 925 926 927 928 929 930 931 932 933 934 935 936 937 938 939 940 941 942 943 944 945 946 947 948 949 950 951 952 953 954 955 956 957 958 959 960 961 962 963 964 965 966 967 968 969 970 971 972 973 974 975 976 977 978 979 980 981 982 "
     ]
    }
   ],
   "source": [
    "#Use fake UserAgent\n",
    "def set_header_user_agent():\n",
    "    user_agent = UserAgent()\n",
    "    return user_agent.random\n",
    "\n",
    "#open browser #打開瀏覽器，但不要載入圖片\n",
    "options = webdriver.ChromeOptions()\n",
    "prefs = {\n",
    "    'profile.default_content_setting_values': {\n",
    "        'images': 2,\n",
    "        #'javascript': 2\n",
    "    }\n",
    "}\n",
    "options.add_experimental_option('prefs', prefs)\n",
    "\n",
    "#ua = \"Mozilla/5.0 (Windows NT 10.0; WOW64; rv:53.0) Gecko/20100101 Firefox/53.0\"\n",
    "#headers = {'User-Agent': 'User-Agent:Mozilla/5.0 (Macintosh; Intel Mac OS X 10_12_3) AppleWebKit/537.36 (KHTML, like Gecko) Chrome/56.0.2924.87 Safari/537.36'}\n",
    "#user_agent = set_header_user_agent()\n",
    "#headers={ 'user-agent': user_agent }\n",
    "#options.add_argument(\"user-agent={}\".format(user_agent)) # 使用偽造的 user-agent\n",
    "#options.add_argument(headers)\n",
    "\n",
    "driver = webdriver.Chrome('./chromedriver', chrome_options=options)\n",
    "\n",
    "count = 0\n",
    "\n",
    "for art in articles:\n",
    "    try:\n",
    "        #print(earthquake_dict[MMMM][\"IP\"])\n",
    "        ip_address = earthquake_dict[art][\"IP\"]\n",
    "        \n",
    "        #define urls\n",
    "        #IP_url1 = \"https://tw.geoipview.com/\"\n",
    "        IP_url2 = \"https://www.ez2o.com/App/Net/IP\"\n",
    "        \n",
    "        #用第一個反查IP網站\n",
    "        driver.get(IP_url2)\n",
    "        driver.implicitly_wait(5)\n",
    "        \n",
    "        # 點查詢欄位\n",
    "        search_field = driver.find_element_by_xpath(\"\"\"//*[@id=\"QueryIP\"]\"\"\")\n",
    "        search_field.click()\n",
    "        search_field.clear()\n",
    "\n",
    "        # 輸入IP\n",
    "        search_field.send_keys(ip_address)\n",
    "        search_field.send_keys(Keys.ENTER)\n",
    "        driver.implicitly_wait(5)\n",
    "\n",
    "        #拿到source page\n",
    "        IP_soup_2 = BeautifulSoup(driver.page_source, 'html.parser')\n",
    "        \n",
    "        # 找table\n",
    "        table_2 = IP_soup_2.find(\"table\")\n",
    "        df_2 = pd.read_html(str(table_2))[0]\n",
    "        \n",
    "        #新增到該筆文章的dictionary下面\n",
    "        earthquake_dict[art][\"Nation\"] = df_2.iloc[1][1] #國家\n",
    "        earthquake_dict[art][\"City\"] = df_2.iloc[2][1] #城市\n",
    "        earthquake_dict[art][\"Longitude and Latitude\"] = df_2.iloc[3][1] #經緯度\n",
    "        earthquake_dict[art][\"Mobile\"] = df_2.iloc[4][1] #電信名稱\n",
    "        \n",
    "        print(count, end = \" \")\n",
    "        count+=1\n",
    "        time.sleep(0.5)\n",
    "    except:\n",
    "        pass"
   ]
  },
  {
   "cell_type": "code",
   "execution_count": 53,
   "metadata": {},
   "outputs": [
    {
     "data": {
      "text/plain": [
       "983"
      ]
     },
     "execution_count": 53,
     "metadata": {},
     "output_type": "execute_result"
    }
   ],
   "source": [
    "count"
   ]
  },
  {
   "cell_type": "code",
   "execution_count": 54,
   "metadata": {},
   "outputs": [
    {
     "name": "stdout",
     "output_type": "stream",
     "text": [
      "Taoyuan District Kaohsiung City Nantou City Zhubei Hualien City Taichung Shenzhen Taichung Taipei Los Angeles Tainan City Taipei Taichung Chang-hua Chiayi City Tainan City Taipei Chang-hua Kaohsiung City Chang-hua Taipei Taoyuan District Taipei Taipei Taipei Tainan City Taipei Tainan City Taipei Hsinchu Taipei Taipei Yilan Taipei Taipei Yilan Taipei Keelung Taichung Taipei Taichung Taichung Taoyuan District Miaoli Hualien City Taipei Taichung Tainan City Nantou City Taichung Taipei Taipei Taipei Chang-hua Taichung Chang-hua Taichung Kaohsiung City Taipei Chang-hua Taichung Hsinchu Chang-hua Taipei Taichung Taichung Kaohsiung City Taichung Taichung Taichung Taichung Taoyuan District Chang-hua Taipei Taipei Taipei Taipei Taichung Taichung Vienna Taichung Chang-hua Taipei Taoyuan District Hualien City Taipei Tainan City Tainan City Tainan City Taichung Taipei Taoyuan District Yilan Taipei Hsinchu Tokyo Saitama Taipei Taipei Taipei Taipei Taipei Taipei Taoyuan District Chang-hua Taichung Taipei Tainan City Taipei Taoyuan District Taipei Taipei Tainan City Chang-hua Kaohsiung City Kaohsiung City Kaohsiung City zuo ying qu Kaohsiung City Kaohsiung City Taichung Tainan City Tainan City Kaohsiung City Kaohsiung City Kaohsiung City Kaohsiung City Kaohsiung City Taipei Tainan City Kaohsiung City Kaohsiung City Taipei Taipei Taipei Taipei Taipei Wufeng District Hsinchu Chino Tainan City Taoyuan District Taipei Tainan City Tainan City Tainan City Kaohsiung City Taipei Taoyuan District Chang-hua Taipei Taipei Tainan City Taipei Miaoli Chang-hua Taipei Tainan City Tainan City Taichung Taipei Taoyuan District Taipei Taipei Taipei Taipei Taipei Taipei Chang-hua Taipei Los Angeles Provo Kaohsiung City Taipei Taipei Kaohsiung City Taipei Taipei Hualien City Taipei Taipei Kaohsiung City Hsinchu Taipei Taipei Taipei Taipei Chang-hua Chang-hua Hualien City Taipei Taipei Taipei Taichung Shanghai Taipei Shanghai Sydney Taipei Taipei Taipei Taipei Taipei Taoyuan District Taichung Taipei Tainan City Taipei Taipei Taipei Taipei Kaohsiung City Taipei Taipei Hualien City Taipei Taipei Taipei Nantou City Taichung Kaohsiung City Taipei Taipei Taipei Taipei Taipei Taipei Taipei Taipei Taipei Taipei Yilan Miaoli Taipei Taipei 經度：121.000　緯度：23.500 Taipei Taipei Taipei Hsinchu Taipei Taipei Taipei Taipei Taipei Yilan Taoyuan District Taipei Taichung Taipei Taipei Taipei Petaling Jaya Kaohsiung City Taipei Chang-hua Chang-hua Taipei Taipei Taichung Taoyuan District Chang-hua Taipei Taipei Taipei Taoyuan District Taipei Taipei Kaohsiung City Taichung Taipei Hualien City Taichung Taipei Taipei Taoyuan District Taipei Taipei Taipei Taoyuan District Taichung Taipei Taoyuan District Taipei Chang-hua Zhongli District Taipei Taipei Taipei Taipei Taoyuan District Taipei Taipei Taipei Hsinchu Taipei Taipei Yilan Taipei Taichung Kaohsiung City Taipei Chang-hua Taipei Taipei Miaoli Taipei Taipei Chang-hua Taoyuan District Taipei Taipei Taichung Ashburn Hualien City Hsinchu Taipei Taipei Taipei Taipei Chang-hua Taichung Tainan City Taichung Kaohsiung City Nakadai Shirokane Taipei Taipei Taipei Hsinchu Taipei Tainan City Taipei Irvine Hualien City Kaohsiung City Taipei Tainan City Taipei Nanzih District Zhubei Tainan City Taipei Hsinchu Hsinchu Taipei Tokyo Taipei Taipei Taichung Taipei Taipei Taipei Taipei Kaohsiung City Yilan Taipei Taipei Taichung 經度：103.800　緯度：1.367 Taoyuan City Taipei Taipei Kaohsiung City Taichung Tainan City Kaohsiung City Taichung Taipei Taipei Taipei Hsinchu Chang-hua Taichung Taipei Taipei Nantou City Taipei Nantou City Taoyuan District Hsinchu Hsinchu Taoyuan District Taichung Taipei Kaohsiung City Yilan Taipei Taipei Taipei Taichung Taipei Taipei Taipei Taipei Taipei Taipei Taipei Taipei Taipei Taipei Taipei Taipei Setagaya-ku Kaohsiung City Hsinchu Taipei Taipei Chang-hua Yilan Taipei Tainan City Taichung Kaohsiung City Tainan City Miaoli Taipei Taichung Taichung Taipei Taipei Taipei Taipei Taipei Taipei Taipei Taipei Taipei Taipei Taipei Kaohsiung City Toufen Township Taipei Kaohsiung City Taipei Taipei Taipei Taichung Taipei Taipei Taipei Taipei Taipei Chang-hua Taipei Taichung Taichung Taipei Taipei Taipei Taipei Taipei Taipei Yilan Panabo Taichung Taichung Taipei Yilan Taipei Tainan City Taipei Douliu Aiding Taipei Taipei Taipei Taipei Taipei Taichung Taichung Taipei Taipei Taipei Taipei Taipei Taipei Taichung Taichung Hsinchu Taipei Taipei Chang-hua Taipei Chang-hua Albany Taipei Taichung Tainan City Taipei Chang-hua Nagasaki Taipei Taipei Tokyo Taipei Hualien City Taipei Taipei Taoyuan District Taipei Taipei Taipei Taipei Taipei Taipei Taipei Taipei Chang-hua Taichung Taoyuan District Taipei Kaohsiung City Taipei Taipei Taipei Taipei Taipei Taipei Chang-hua Shuili Taoyuan District Zhubei Miaoli Miaoli Chang-hua San Francisco Taipei Hsinchu Taipei Taipei Managua Taipei Taipei Taipei Taoyuan District Taipei Kaohsiung City Taipei Tainan City Kaohsiung City Taipei Taipei Taichung Kaohsiung City Taipei Hsinchu Taipei Taipei Taipei Taipei Chang-hua Taichung Taipei Taipei Chang-hua Pingtung City zuo ying qu Tainan City Taipei Taipei Chang-hua Taoyuan District Taichung Yilan Taipei Hualien City Tainan City Hsinchu Taichung Kaohsiung City Taipei Taipei Kaohsiung City Taipei Taipei Taipei Taipei Taipei Taichung Taichung Taichung Taichung Chiayi City Taipei Taipei Taichung Chang-hua Taipei Taipei Taichung Taichung Taipei Taichung Chang-hua Chang-hua Taipei Kaohsiung City Kaohsiung City Taichung Tokyo Chang-hua Taipei Taipei Bade District Taipei Taoyuan District Kaohsiung City Kaohsiung City Taipei Taipei Hsinchu Taipei Tainan City Taoyuan District Taipei Taipei Luodong Taipei Taipei Taipei Taipei Taichung Taipei Montreal Montreal Central Kaohsiung City Chang-hua Taipei Taipei Taipei Macao Taipei Taipei Taipei Taichung Taipei Taipei Taipei Chang-hua Taipei Anli Taipei Taipei Taipei Taipei Taipei Taipei Taipei Taipei Yokohama Taipei Chang-hua Taipei Taipei Yilan Taipei Taipei Taipei Taipei Taipei Taipei Taipei Kaohsiung City Taipei Taipei Taipei Taipei Kaohsiung City Taipei Taipei Taipei Kaohsiung City Taipei Hualien City Taipei Taoyuan District Tainan City Taipei Taipei Taipei Taipei Taipei Houston Taipei Taipei Taipei Hsinchu Taipei Taipei Taichung Taipei Hsinchu Taipei Taipei Taipei Taipei Chiayi City Taipei Taichung Taipei Taichung Taichung Taipei Taipei Taipei Taipei Taipei Taipei Parsippany Tainan City Taipei Magong Taipei Taipei Taipei Taipei Taipei Taipei Taipei Taipei Taipei Taipei Taipei Taipei Hualien City Hualien City Chang-hua Taipei Taipei Yokohama Sendai Taipei Taipei Hualien City Jakarta Taipei Kaohsiung City Taipei Kaohsiung City Taipei Taipei Taipei Taipei Taipei Taipei Taipei Taoyuan District Taipei Taipei Tainan City Taipei Taipei Kaohsiung City Chang-hua Taipei Chang-hua Taoyuan District Taipei Kaohsiung City Taichung Taichung Taipei Taipei Taipei Tainan City Chiayi City Taoyuan District Taipei Hsinchu Hsinchu Taipei Taipei Cerritos Taipei Taipei Chino Irvine Taoyuan District Taipei Chino Taipei Taipei Taipei Hsinchu Tokyo Taipei Taipei Tainan City Pingtung City Taipei Taichung San Francisco Chang-hua Tainan City Chiayi City Taipei Taipei Magong Tokyo Sanmu Nagoya Tama Nantou City Chiayi City Taipei Kaohsiung City Chang-hua Kiev Taichung Taipei Taipei Taipei Kaohsiung City Taichung Taipei Hsinchu Taipei Taichung Toufen Township Shenzhen Taoyuan District Chang-hua Taipei Osaka Taipei Taipei Taipei Hualien City Shinjuku Taipei Taoyuan District Hualien City Yamagata Pingtung City Kaohsiung City Nanqu Taipei Taipei Nanqu Taipei Taipei Akita Kita-ku Sendai Nanzih District Taipei Taipei Taipei Tainan City Shanghai Tainan City Taoyuan District Chang-hua Chang-hua Taipei Taoyuan City Taichung Taichung Taichung Taipei Taipei Taipei Taipei Kaohsiung City Kaohsiung City Taipei Taipei Taipei Shanghai Shanghai Taichung Taipei Taipei Taoyuan District Chiayi City Tainan City Hsinchu Hsinchu Taichung Taipei Taipei Taipei Taipei Taipei Taipei Hsinchu Taipei Tokyo Taipei Chang-hua Kaohsiung City Hsinchu Chang-hua Taipei Taipei Taipei Taichung Taipei Sumida Taipei Taipei Taipei Kaohsiung City Taipei Mountain View Taipei Mountain View Taoyuan District Chang-hua Taichung Taichung Taipei Kaohsiung City Taipei Taichung Chiayi City Taipei Taipei Taoyuan District Taipei Taoyuan District Taipei Taichung Taipei Taipei Kaohsiung City Taipei Nantou City Taipei Taipei Chang-hua Taipei Taipei Taipei Taichung Taipei Taichung Taipei Hsinchu Taipei Taipei Taipei Taipei Taipei Taipei Taipei Taipei Taipei Taoyuan District Taipei Taipei Taipei Mountain View Taipei Taipei Taipei Taipei Yilan Chang-hua Taipei Tainan City Tainan City Taipei Taipei Zhonghe Taipei Kaohsiung City Treviso Taipei Taichung Taichung Chang-hua Chang-hua Chang-hua Chang-hua Tokyo Taichung Taipei Taipei Taipei "
     ]
    }
   ],
   "source": [
    "for art in articles:\n",
    "    try:\n",
    "        print(earthquake_dict[art][\"City\"], end = ' ')\n",
    "    except:\n",
    "        pass"
   ]
  },
  {
   "cell_type": "code",
   "execution_count": 56,
   "metadata": {},
   "outputs": [],
   "source": [
    "# Save\n",
    "np.save(\"earthquake_dict_IPquery_np\", earthquake_dict)"
   ]
  },
  {
   "cell_type": "markdown",
   "metadata": {},
   "source": [
    "# 變成DataFrame"
   ]
  },
  {
   "cell_type": "code",
   "execution_count": 230,
   "metadata": {},
   "outputs": [
    {
     "data": {
      "text/plain": [
       "'[問卦] 最近下大雨了 會不會地震'"
      ]
     },
     "execution_count": 230,
     "metadata": {},
     "output_type": "execute_result"
    }
   ],
   "source": [
    "earthquake_dict[\"M1590182680\"][\"Title\"]"
   ]
  },
  {
   "cell_type": "code",
   "execution_count": 231,
   "metadata": {},
   "outputs": [],
   "source": [
    "df_earthquake = pd.DataFrame(earthquake_dict)"
   ]
  },
  {
   "cell_type": "code",
   "execution_count": 232,
   "metadata": {},
   "outputs": [],
   "source": [
    "df_earthquake = df_earthquake.transpose()"
   ]
  },
  {
   "cell_type": "code",
   "execution_count": 233,
   "metadata": {},
   "outputs": [
    {
     "data": {
      "text/html": [
       "<div>\n",
       "<style scoped>\n",
       "    .dataframe tbody tr th:only-of-type {\n",
       "        vertical-align: middle;\n",
       "    }\n",
       "\n",
       "    .dataframe tbody tr th {\n",
       "        vertical-align: top;\n",
       "    }\n",
       "\n",
       "    .dataframe thead th {\n",
       "        text-align: right;\n",
       "    }\n",
       "</style>\n",
       "<table border=\"1\" class=\"dataframe\">\n",
       "  <thead>\n",
       "    <tr style=\"text-align: right;\">\n",
       "      <th></th>\n",
       "      <th>Author</th>\n",
       "      <th>Board</th>\n",
       "      <th>City</th>\n",
       "      <th>Content</th>\n",
       "      <th>Date</th>\n",
       "      <th>Full IP</th>\n",
       "      <th>IP</th>\n",
       "      <th>Longitude and Latitude</th>\n",
       "      <th>Mobile</th>\n",
       "      <th>Nation</th>\n",
       "      <th>Push</th>\n",
       "      <th>Title</th>\n",
       "    </tr>\n",
       "  </thead>\n",
       "  <tbody>\n",
       "    <tr>\n",
       "      <th>M1590848302</th>\n",
       "      <td>timetolove (艾爾不怕西諾)</td>\n",
       "      <td>Gossiping</td>\n",
       "      <td>Taoyuan District</td>\n",
       "      <td>欸欸\\n\\n就是呀\\n\\n台灣地震算是很頻繁的地區呀\\n\\n而每個肥肥也是幾乎每天都要尻尻的...</td>\n",
       "      <td>Sat May 30 22:18:19 2020</td>\n",
       "      <td>36.229.179.140 (臺灣)</td>\n",
       "      <td>36.229.179.140</td>\n",
       "      <td>經度：121.318　緯度：24.989</td>\n",
       "      <td>HiNet</td>\n",
       "      <td>AS - Asia ( 亞洲 ) TW - Taiwan ( 台灣 )</td>\n",
       "      <td>[推 a27783322: 地震會把洨震出來 05/30 22:18, 噓 DaAnnabe...</td>\n",
       "      <td>[問卦] 地震時剛好在尻尻該怎麼辦?</td>\n",
       "    </tr>\n",
       "    <tr>\n",
       "      <th>M1590845039</th>\n",
       "      <td>redDest (油油)</td>\n",
       "      <td>Gossiping</td>\n",
       "      <td>Kaohsiung City</td>\n",
       "      <td>欸欸 有沒有可能馬桶被地震震碎????\\n\\n如果大便的時候地震\\n\\n馬桶又碎裂\\n\\n這...</td>\n",
       "      <td>Sat May 30 21:23:56 2020</td>\n",
       "      <td>118.171.2.99 (臺灣)</td>\n",
       "      <td>118.171.2.99</td>\n",
       "      <td>經度：120.314　緯度：22.615</td>\n",
       "      <td>HiNet</td>\n",
       "      <td>AS - Asia ( 亞洲 ) TW - Taiwan ( 台灣 )</td>\n",
       "      <td>[推 BILLYTHEKID: 你屁股被強力膠黏起來嗎 05/30 21:24, → s14...</td>\n",
       "      <td>Re: [問卦] 地震時在大便該怎麼辦？</td>\n",
       "    </tr>\n",
       "    <tr>\n",
       "      <th>M1590843927</th>\n",
       "      <td>kvn6933630 ()</td>\n",
       "      <td>Gossiping</td>\n",
       "      <td>Nantou City</td>\n",
       "      <td>如圖\\n\\n剛有地震 而在大便時的話\\n\\n第一步應該怎麼辦比較好呢？\\n\\n\\n</td>\n",
       "      <td>Sat May 30 21:05:24 2020</td>\n",
       "      <td>175.183.91.157 (臺灣)</td>\n",
       "      <td>175.183.91.157</td>\n",
       "      <td>經度：120.687　緯度：23.906</td>\n",
       "      <td>Digital United</td>\n",
       "      <td>AS - Asia ( 亞洲 ) TW - Taiwan ( 台灣 )</td>\n",
       "      <td>[→ ymx3xc: 迅速夾斷 05/30 21:05, 噓 msn159357: 圖？ 0...</td>\n",
       "      <td>[問卦] 地震時在大便該怎麼辦？</td>\n",
       "    </tr>\n",
       "    <tr>\n",
       "      <th>M1590843815</th>\n",
       "      <td>dreamkd (清空)</td>\n",
       "      <td>Gossiping</td>\n",
       "      <td>Zhubei</td>\n",
       "      <td>地震\\n\\n</td>\n",
       "      <td>Sat May 30 21:03:33 2020</td>\n",
       "      <td>220.129.31.85 (臺灣)</td>\n",
       "      <td>220.129.31.85</td>\n",
       "      <td>經度：121.159　緯度：24.671</td>\n",
       "      <td>HiNet</td>\n",
       "      <td>AS - Asia ( 亞洲 ) TW - Taiwan ( 台灣 )</td>\n",
       "      <td>[推 zx3017: 幹 05/30 21:03, 推 cosmoswaves: 有 05/...</td>\n",
       "      <td>地震</td>\n",
       "    </tr>\n",
       "    <tr>\n",
       "      <th>M1590843771</th>\n",
       "      <td>astrayzip</td>\n",
       "      <td>Gossiping</td>\n",
       "      <td>Hualien City</td>\n",
       "      <td>震\\n\\n</td>\n",
       "      <td>Sat May 30 21:02:49 2020</td>\n",
       "      <td>36.229.94.45 (臺灣)</td>\n",
       "      <td>36.229.94.45</td>\n",
       "      <td>經度：121.612　緯度：23.981</td>\n",
       "      <td>HiNet</td>\n",
       "      <td>AS - Asia ( 亞洲 ) TW - Taiwan ( 台灣 )</td>\n",
       "      <td>[推 thexiaomi: 有感 05/30 21:02, 噓 saiulbb: 天龍無感0...</td>\n",
       "      <td>[爆卦] 地震</td>\n",
       "    </tr>\n",
       "  </tbody>\n",
       "</table>\n",
       "</div>"
      ],
      "text/plain": [
       "                          Author      Board              City  \\\n",
       "M1590848302  timetolove (艾爾不怕西諾)  Gossiping  Taoyuan District   \n",
       "M1590845039         redDest (油油)  Gossiping    Kaohsiung City   \n",
       "M1590843927        kvn6933630 ()  Gossiping       Nantou City   \n",
       "M1590843815         dreamkd (清空)  Gossiping            Zhubei   \n",
       "M1590843771            astrayzip  Gossiping      Hualien City   \n",
       "\n",
       "                                                       Content  \\\n",
       "M1590848302  欸欸\\n\\n就是呀\\n\\n台灣地震算是很頻繁的地區呀\\n\\n而每個肥肥也是幾乎每天都要尻尻的...   \n",
       "M1590845039  欸欸 有沒有可能馬桶被地震震碎????\\n\\n如果大便的時候地震\\n\\n馬桶又碎裂\\n\\n這...   \n",
       "M1590843927          如圖\\n\\n剛有地震 而在大便時的話\\n\\n第一步應該怎麼辦比較好呢？\\n\\n\\n   \n",
       "M1590843815                                             地震\\n\\n   \n",
       "M1590843771                                              震\\n\\n   \n",
       "\n",
       "                                 Date               Full IP              IP  \\\n",
       "M1590848302  Sat May 30 22:18:19 2020   36.229.179.140 (臺灣)  36.229.179.140   \n",
       "M1590845039  Sat May 30 21:23:56 2020     118.171.2.99 (臺灣)    118.171.2.99   \n",
       "M1590843927  Sat May 30 21:05:24 2020   175.183.91.157 (臺灣)  175.183.91.157   \n",
       "M1590843815  Sat May 30 21:03:33 2020    220.129.31.85 (臺灣)   220.129.31.85   \n",
       "M1590843771  Sat May 30 21:02:49 2020     36.229.94.45 (臺灣)    36.229.94.45   \n",
       "\n",
       "            Longitude and Latitude          Mobile  \\\n",
       "M1590848302   經度：121.318　緯度：24.989           HiNet   \n",
       "M1590845039   經度：120.314　緯度：22.615           HiNet   \n",
       "M1590843927   經度：120.687　緯度：23.906  Digital United   \n",
       "M1590843815   經度：121.159　緯度：24.671           HiNet   \n",
       "M1590843771   經度：121.612　緯度：23.981           HiNet   \n",
       "\n",
       "                                          Nation  \\\n",
       "M1590848302  AS - Asia ( 亞洲 ) TW - Taiwan ( 台灣 )   \n",
       "M1590845039  AS - Asia ( 亞洲 ) TW - Taiwan ( 台灣 )   \n",
       "M1590843927  AS - Asia ( 亞洲 ) TW - Taiwan ( 台灣 )   \n",
       "M1590843815  AS - Asia ( 亞洲 ) TW - Taiwan ( 台灣 )   \n",
       "M1590843771  AS - Asia ( 亞洲 ) TW - Taiwan ( 台灣 )   \n",
       "\n",
       "                                                          Push  \\\n",
       "M1590848302  [推 a27783322: 地震會把洨震出來 05/30 22:18, 噓 DaAnnabe...   \n",
       "M1590845039  [推 BILLYTHEKID: 你屁股被強力膠黏起來嗎 05/30 21:24, → s14...   \n",
       "M1590843927  [→ ymx3xc: 迅速夾斷 05/30 21:05, 噓 msn159357: 圖？ 0...   \n",
       "M1590843815  [推 zx3017: 幹 05/30 21:03, 推 cosmoswaves: 有 05/...   \n",
       "M1590843771  [推 thexiaomi: 有感 05/30 21:02, 噓 saiulbb: 天龍無感0...   \n",
       "\n",
       "                            Title  \n",
       "M1590848302    [問卦] 地震時剛好在尻尻該怎麼辦?  \n",
       "M1590845039  Re: [問卦] 地震時在大便該怎麼辦？  \n",
       "M1590843927      [問卦] 地震時在大便該怎麼辦？  \n",
       "M1590843815                    地震  \n",
       "M1590843771               [爆卦] 地震  "
      ]
     },
     "execution_count": 233,
     "metadata": {},
     "output_type": "execute_result"
    }
   ],
   "source": [
    "df_earthquake.head()"
   ]
  },
  {
   "cell_type": "code",
   "execution_count": 234,
   "metadata": {},
   "outputs": [
    {
     "data": {
      "text/plain": [
       "1027"
      ]
     },
     "execution_count": 234,
     "metadata": {},
     "output_type": "execute_result"
    }
   ],
   "source": [
    "BaoGua = [] #爆卦是dummy，看這篇文章是爆卦還是問卦，藉以判斷是否是「地震文」\n",
    "for row in range(0, len(df_earthquake)):\n",
    "    if \"爆卦\" in df_earthquake.iloc[row][11]:\n",
    "        #print(df_earthquake.iloc[row][11])\n",
    "        BaoGua.append(1)\n",
    "    else:\n",
    "        BaoGua.append(0)\n",
    "len(BaoGua)"
   ]
  },
  {
   "cell_type": "code",
   "execution_count": 235,
   "metadata": {},
   "outputs": [],
   "source": [
    "df_earthquake[\"BaoGua\"] = BaoGua"
   ]
  },
  {
   "cell_type": "code",
   "execution_count": 236,
   "metadata": {},
   "outputs": [
    {
     "data": {
      "text/html": [
       "<div>\n",
       "<style scoped>\n",
       "    .dataframe tbody tr th:only-of-type {\n",
       "        vertical-align: middle;\n",
       "    }\n",
       "\n",
       "    .dataframe tbody tr th {\n",
       "        vertical-align: top;\n",
       "    }\n",
       "\n",
       "    .dataframe thead th {\n",
       "        text-align: right;\n",
       "    }\n",
       "</style>\n",
       "<table border=\"1\" class=\"dataframe\">\n",
       "  <thead>\n",
       "    <tr style=\"text-align: right;\">\n",
       "      <th></th>\n",
       "      <th>Author</th>\n",
       "      <th>Board</th>\n",
       "      <th>City</th>\n",
       "      <th>Content</th>\n",
       "      <th>Date</th>\n",
       "      <th>Full IP</th>\n",
       "      <th>IP</th>\n",
       "      <th>Longitude and Latitude</th>\n",
       "      <th>Mobile</th>\n",
       "      <th>Nation</th>\n",
       "      <th>Push</th>\n",
       "      <th>Title</th>\n",
       "      <th>BaoGua</th>\n",
       "    </tr>\n",
       "  </thead>\n",
       "  <tbody>\n",
       "    <tr>\n",
       "      <th>M1590848302</th>\n",
       "      <td>timetolove (艾爾不怕西諾)</td>\n",
       "      <td>Gossiping</td>\n",
       "      <td>Taoyuan District</td>\n",
       "      <td>欸欸\\n\\n就是呀\\n\\n台灣地震算是很頻繁的地區呀\\n\\n而每個肥肥也是幾乎每天都要尻尻的...</td>\n",
       "      <td>Sat May 30 22:18:19 2020</td>\n",
       "      <td>36.229.179.140 (臺灣)</td>\n",
       "      <td>36.229.179.140</td>\n",
       "      <td>經度：121.318　緯度：24.989</td>\n",
       "      <td>HiNet</td>\n",
       "      <td>AS - Asia ( 亞洲 ) TW - Taiwan ( 台灣 )</td>\n",
       "      <td>[推 a27783322: 地震會把洨震出來 05/30 22:18, 噓 DaAnnabe...</td>\n",
       "      <td>[問卦] 地震時剛好在尻尻該怎麼辦?</td>\n",
       "      <td>0</td>\n",
       "    </tr>\n",
       "    <tr>\n",
       "      <th>M1590845039</th>\n",
       "      <td>redDest (油油)</td>\n",
       "      <td>Gossiping</td>\n",
       "      <td>Kaohsiung City</td>\n",
       "      <td>欸欸 有沒有可能馬桶被地震震碎????\\n\\n如果大便的時候地震\\n\\n馬桶又碎裂\\n\\n這...</td>\n",
       "      <td>Sat May 30 21:23:56 2020</td>\n",
       "      <td>118.171.2.99 (臺灣)</td>\n",
       "      <td>118.171.2.99</td>\n",
       "      <td>經度：120.314　緯度：22.615</td>\n",
       "      <td>HiNet</td>\n",
       "      <td>AS - Asia ( 亞洲 ) TW - Taiwan ( 台灣 )</td>\n",
       "      <td>[推 BILLYTHEKID: 你屁股被強力膠黏起來嗎 05/30 21:24, → s14...</td>\n",
       "      <td>Re: [問卦] 地震時在大便該怎麼辦？</td>\n",
       "      <td>0</td>\n",
       "    </tr>\n",
       "    <tr>\n",
       "      <th>M1590843927</th>\n",
       "      <td>kvn6933630 ()</td>\n",
       "      <td>Gossiping</td>\n",
       "      <td>Nantou City</td>\n",
       "      <td>如圖\\n\\n剛有地震 而在大便時的話\\n\\n第一步應該怎麼辦比較好呢？\\n\\n\\n</td>\n",
       "      <td>Sat May 30 21:05:24 2020</td>\n",
       "      <td>175.183.91.157 (臺灣)</td>\n",
       "      <td>175.183.91.157</td>\n",
       "      <td>經度：120.687　緯度：23.906</td>\n",
       "      <td>Digital United</td>\n",
       "      <td>AS - Asia ( 亞洲 ) TW - Taiwan ( 台灣 )</td>\n",
       "      <td>[→ ymx3xc: 迅速夾斷 05/30 21:05, 噓 msn159357: 圖？ 0...</td>\n",
       "      <td>[問卦] 地震時在大便該怎麼辦？</td>\n",
       "      <td>0</td>\n",
       "    </tr>\n",
       "    <tr>\n",
       "      <th>M1590843815</th>\n",
       "      <td>dreamkd (清空)</td>\n",
       "      <td>Gossiping</td>\n",
       "      <td>Zhubei</td>\n",
       "      <td>地震\\n\\n</td>\n",
       "      <td>Sat May 30 21:03:33 2020</td>\n",
       "      <td>220.129.31.85 (臺灣)</td>\n",
       "      <td>220.129.31.85</td>\n",
       "      <td>經度：121.159　緯度：24.671</td>\n",
       "      <td>HiNet</td>\n",
       "      <td>AS - Asia ( 亞洲 ) TW - Taiwan ( 台灣 )</td>\n",
       "      <td>[推 zx3017: 幹 05/30 21:03, 推 cosmoswaves: 有 05/...</td>\n",
       "      <td>地震</td>\n",
       "      <td>0</td>\n",
       "    </tr>\n",
       "    <tr>\n",
       "      <th>M1590843771</th>\n",
       "      <td>astrayzip</td>\n",
       "      <td>Gossiping</td>\n",
       "      <td>Hualien City</td>\n",
       "      <td>震\\n\\n</td>\n",
       "      <td>Sat May 30 21:02:49 2020</td>\n",
       "      <td>36.229.94.45 (臺灣)</td>\n",
       "      <td>36.229.94.45</td>\n",
       "      <td>經度：121.612　緯度：23.981</td>\n",
       "      <td>HiNet</td>\n",
       "      <td>AS - Asia ( 亞洲 ) TW - Taiwan ( 台灣 )</td>\n",
       "      <td>[推 thexiaomi: 有感 05/30 21:02, 噓 saiulbb: 天龍無感0...</td>\n",
       "      <td>[爆卦] 地震</td>\n",
       "      <td>1</td>\n",
       "    </tr>\n",
       "  </tbody>\n",
       "</table>\n",
       "</div>"
      ],
      "text/plain": [
       "                          Author      Board              City  \\\n",
       "M1590848302  timetolove (艾爾不怕西諾)  Gossiping  Taoyuan District   \n",
       "M1590845039         redDest (油油)  Gossiping    Kaohsiung City   \n",
       "M1590843927        kvn6933630 ()  Gossiping       Nantou City   \n",
       "M1590843815         dreamkd (清空)  Gossiping            Zhubei   \n",
       "M1590843771            astrayzip  Gossiping      Hualien City   \n",
       "\n",
       "                                                       Content  \\\n",
       "M1590848302  欸欸\\n\\n就是呀\\n\\n台灣地震算是很頻繁的地區呀\\n\\n而每個肥肥也是幾乎每天都要尻尻的...   \n",
       "M1590845039  欸欸 有沒有可能馬桶被地震震碎????\\n\\n如果大便的時候地震\\n\\n馬桶又碎裂\\n\\n這...   \n",
       "M1590843927          如圖\\n\\n剛有地震 而在大便時的話\\n\\n第一步應該怎麼辦比較好呢？\\n\\n\\n   \n",
       "M1590843815                                             地震\\n\\n   \n",
       "M1590843771                                              震\\n\\n   \n",
       "\n",
       "                                 Date               Full IP              IP  \\\n",
       "M1590848302  Sat May 30 22:18:19 2020   36.229.179.140 (臺灣)  36.229.179.140   \n",
       "M1590845039  Sat May 30 21:23:56 2020     118.171.2.99 (臺灣)    118.171.2.99   \n",
       "M1590843927  Sat May 30 21:05:24 2020   175.183.91.157 (臺灣)  175.183.91.157   \n",
       "M1590843815  Sat May 30 21:03:33 2020    220.129.31.85 (臺灣)   220.129.31.85   \n",
       "M1590843771  Sat May 30 21:02:49 2020     36.229.94.45 (臺灣)    36.229.94.45   \n",
       "\n",
       "            Longitude and Latitude          Mobile  \\\n",
       "M1590848302   經度：121.318　緯度：24.989           HiNet   \n",
       "M1590845039   經度：120.314　緯度：22.615           HiNet   \n",
       "M1590843927   經度：120.687　緯度：23.906  Digital United   \n",
       "M1590843815   經度：121.159　緯度：24.671           HiNet   \n",
       "M1590843771   經度：121.612　緯度：23.981           HiNet   \n",
       "\n",
       "                                          Nation  \\\n",
       "M1590848302  AS - Asia ( 亞洲 ) TW - Taiwan ( 台灣 )   \n",
       "M1590845039  AS - Asia ( 亞洲 ) TW - Taiwan ( 台灣 )   \n",
       "M1590843927  AS - Asia ( 亞洲 ) TW - Taiwan ( 台灣 )   \n",
       "M1590843815  AS - Asia ( 亞洲 ) TW - Taiwan ( 台灣 )   \n",
       "M1590843771  AS - Asia ( 亞洲 ) TW - Taiwan ( 台灣 )   \n",
       "\n",
       "                                                          Push  \\\n",
       "M1590848302  [推 a27783322: 地震會把洨震出來 05/30 22:18, 噓 DaAnnabe...   \n",
       "M1590845039  [推 BILLYTHEKID: 你屁股被強力膠黏起來嗎 05/30 21:24, → s14...   \n",
       "M1590843927  [→ ymx3xc: 迅速夾斷 05/30 21:05, 噓 msn159357: 圖？ 0...   \n",
       "M1590843815  [推 zx3017: 幹 05/30 21:03, 推 cosmoswaves: 有 05/...   \n",
       "M1590843771  [推 thexiaomi: 有感 05/30 21:02, 噓 saiulbb: 天龍無感0...   \n",
       "\n",
       "                            Title  BaoGua  \n",
       "M1590848302    [問卦] 地震時剛好在尻尻該怎麼辦?       0  \n",
       "M1590845039  Re: [問卦] 地震時在大便該怎麼辦？       0  \n",
       "M1590843927      [問卦] 地震時在大便該怎麼辦？       0  \n",
       "M1590843815                    地震       0  \n",
       "M1590843771               [爆卦] 地震       1  "
      ]
     },
     "execution_count": 236,
     "metadata": {},
     "output_type": "execute_result"
    }
   ],
   "source": [
    "df_earthquake.head()"
   ]
  },
  {
   "cell_type": "code",
   "execution_count": 237,
   "metadata": {},
   "outputs": [
    {
     "data": {
      "text/plain": [
       "1027"
      ]
     },
     "execution_count": 237,
     "metadata": {},
     "output_type": "execute_result"
    }
   ],
   "source": [
    "YouWin = [] #是dummy，看這篇文章的推文有沒有「你贏了」，藉以判斷是否是「地震文」\n",
    "for row in range(0, len(df_earthquake)):\n",
    "    push_content = \" \".join(df_earthquake.iloc[row][10])\n",
    "    if \"你贏了\" in push_content or \"贏了\" in push_content:\n",
    "        #print(push_content)\n",
    "        YouWin.append(1)\n",
    "    else:\n",
    "        YouWin.append(0)\n",
    "len(YouWin)"
   ]
  },
  {
   "cell_type": "code",
   "execution_count": 238,
   "metadata": {},
   "outputs": [],
   "source": [
    "df_earthquake[\"YouWin\"] = YouWin"
   ]
  },
  {
   "cell_type": "code",
   "execution_count": 239,
   "metadata": {},
   "outputs": [
    {
     "data": {
      "text/html": [
       "<div>\n",
       "<style scoped>\n",
       "    .dataframe tbody tr th:only-of-type {\n",
       "        vertical-align: middle;\n",
       "    }\n",
       "\n",
       "    .dataframe tbody tr th {\n",
       "        vertical-align: top;\n",
       "    }\n",
       "\n",
       "    .dataframe thead th {\n",
       "        text-align: right;\n",
       "    }\n",
       "</style>\n",
       "<table border=\"1\" class=\"dataframe\">\n",
       "  <thead>\n",
       "    <tr style=\"text-align: right;\">\n",
       "      <th></th>\n",
       "      <th>Author</th>\n",
       "      <th>Board</th>\n",
       "      <th>City</th>\n",
       "      <th>Content</th>\n",
       "      <th>Date</th>\n",
       "      <th>Full IP</th>\n",
       "      <th>IP</th>\n",
       "      <th>Longitude and Latitude</th>\n",
       "      <th>Mobile</th>\n",
       "      <th>Nation</th>\n",
       "      <th>Push</th>\n",
       "      <th>Title</th>\n",
       "      <th>BaoGua</th>\n",
       "      <th>YouWin</th>\n",
       "    </tr>\n",
       "  </thead>\n",
       "  <tbody>\n",
       "    <tr>\n",
       "      <th>M1590848302</th>\n",
       "      <td>timetolove (艾爾不怕西諾)</td>\n",
       "      <td>Gossiping</td>\n",
       "      <td>Taoyuan District</td>\n",
       "      <td>欸欸\\n\\n就是呀\\n\\n台灣地震算是很頻繁的地區呀\\n\\n而每個肥肥也是幾乎每天都要尻尻的...</td>\n",
       "      <td>Sat May 30 22:18:19 2020</td>\n",
       "      <td>36.229.179.140 (臺灣)</td>\n",
       "      <td>36.229.179.140</td>\n",
       "      <td>經度：121.318　緯度：24.989</td>\n",
       "      <td>HiNet</td>\n",
       "      <td>AS - Asia ( 亞洲 ) TW - Taiwan ( 台灣 )</td>\n",
       "      <td>[推 a27783322: 地震會把洨震出來 05/30 22:18, 噓 DaAnnabe...</td>\n",
       "      <td>[問卦] 地震時剛好在尻尻該怎麼辦?</td>\n",
       "      <td>0</td>\n",
       "      <td>0</td>\n",
       "    </tr>\n",
       "    <tr>\n",
       "      <th>M1590845039</th>\n",
       "      <td>redDest (油油)</td>\n",
       "      <td>Gossiping</td>\n",
       "      <td>Kaohsiung City</td>\n",
       "      <td>欸欸 有沒有可能馬桶被地震震碎????\\n\\n如果大便的時候地震\\n\\n馬桶又碎裂\\n\\n這...</td>\n",
       "      <td>Sat May 30 21:23:56 2020</td>\n",
       "      <td>118.171.2.99 (臺灣)</td>\n",
       "      <td>118.171.2.99</td>\n",
       "      <td>經度：120.314　緯度：22.615</td>\n",
       "      <td>HiNet</td>\n",
       "      <td>AS - Asia ( 亞洲 ) TW - Taiwan ( 台灣 )</td>\n",
       "      <td>[推 BILLYTHEKID: 你屁股被強力膠黏起來嗎 05/30 21:24, → s14...</td>\n",
       "      <td>Re: [問卦] 地震時在大便該怎麼辦？</td>\n",
       "      <td>0</td>\n",
       "      <td>0</td>\n",
       "    </tr>\n",
       "    <tr>\n",
       "      <th>M1590843927</th>\n",
       "      <td>kvn6933630 ()</td>\n",
       "      <td>Gossiping</td>\n",
       "      <td>Nantou City</td>\n",
       "      <td>如圖\\n\\n剛有地震 而在大便時的話\\n\\n第一步應該怎麼辦比較好呢？\\n\\n\\n</td>\n",
       "      <td>Sat May 30 21:05:24 2020</td>\n",
       "      <td>175.183.91.157 (臺灣)</td>\n",
       "      <td>175.183.91.157</td>\n",
       "      <td>經度：120.687　緯度：23.906</td>\n",
       "      <td>Digital United</td>\n",
       "      <td>AS - Asia ( 亞洲 ) TW - Taiwan ( 台灣 )</td>\n",
       "      <td>[→ ymx3xc: 迅速夾斷 05/30 21:05, 噓 msn159357: 圖？ 0...</td>\n",
       "      <td>[問卦] 地震時在大便該怎麼辦？</td>\n",
       "      <td>0</td>\n",
       "      <td>0</td>\n",
       "    </tr>\n",
       "    <tr>\n",
       "      <th>M1590843815</th>\n",
       "      <td>dreamkd (清空)</td>\n",
       "      <td>Gossiping</td>\n",
       "      <td>Zhubei</td>\n",
       "      <td>地震\\n\\n</td>\n",
       "      <td>Sat May 30 21:03:33 2020</td>\n",
       "      <td>220.129.31.85 (臺灣)</td>\n",
       "      <td>220.129.31.85</td>\n",
       "      <td>經度：121.159　緯度：24.671</td>\n",
       "      <td>HiNet</td>\n",
       "      <td>AS - Asia ( 亞洲 ) TW - Taiwan ( 台灣 )</td>\n",
       "      <td>[推 zx3017: 幹 05/30 21:03, 推 cosmoswaves: 有 05/...</td>\n",
       "      <td>地震</td>\n",
       "      <td>0</td>\n",
       "      <td>1</td>\n",
       "    </tr>\n",
       "    <tr>\n",
       "      <th>M1590843771</th>\n",
       "      <td>astrayzip</td>\n",
       "      <td>Gossiping</td>\n",
       "      <td>Hualien City</td>\n",
       "      <td>震\\n\\n</td>\n",
       "      <td>Sat May 30 21:02:49 2020</td>\n",
       "      <td>36.229.94.45 (臺灣)</td>\n",
       "      <td>36.229.94.45</td>\n",
       "      <td>經度：121.612　緯度：23.981</td>\n",
       "      <td>HiNet</td>\n",
       "      <td>AS - Asia ( 亞洲 ) TW - Taiwan ( 台灣 )</td>\n",
       "      <td>[推 thexiaomi: 有感 05/30 21:02, 噓 saiulbb: 天龍無感0...</td>\n",
       "      <td>[爆卦] 地震</td>\n",
       "      <td>1</td>\n",
       "      <td>1</td>\n",
       "    </tr>\n",
       "  </tbody>\n",
       "</table>\n",
       "</div>"
      ],
      "text/plain": [
       "                          Author      Board              City  \\\n",
       "M1590848302  timetolove (艾爾不怕西諾)  Gossiping  Taoyuan District   \n",
       "M1590845039         redDest (油油)  Gossiping    Kaohsiung City   \n",
       "M1590843927        kvn6933630 ()  Gossiping       Nantou City   \n",
       "M1590843815         dreamkd (清空)  Gossiping            Zhubei   \n",
       "M1590843771            astrayzip  Gossiping      Hualien City   \n",
       "\n",
       "                                                       Content  \\\n",
       "M1590848302  欸欸\\n\\n就是呀\\n\\n台灣地震算是很頻繁的地區呀\\n\\n而每個肥肥也是幾乎每天都要尻尻的...   \n",
       "M1590845039  欸欸 有沒有可能馬桶被地震震碎????\\n\\n如果大便的時候地震\\n\\n馬桶又碎裂\\n\\n這...   \n",
       "M1590843927          如圖\\n\\n剛有地震 而在大便時的話\\n\\n第一步應該怎麼辦比較好呢？\\n\\n\\n   \n",
       "M1590843815                                             地震\\n\\n   \n",
       "M1590843771                                              震\\n\\n   \n",
       "\n",
       "                                 Date               Full IP              IP  \\\n",
       "M1590848302  Sat May 30 22:18:19 2020   36.229.179.140 (臺灣)  36.229.179.140   \n",
       "M1590845039  Sat May 30 21:23:56 2020     118.171.2.99 (臺灣)    118.171.2.99   \n",
       "M1590843927  Sat May 30 21:05:24 2020   175.183.91.157 (臺灣)  175.183.91.157   \n",
       "M1590843815  Sat May 30 21:03:33 2020    220.129.31.85 (臺灣)   220.129.31.85   \n",
       "M1590843771  Sat May 30 21:02:49 2020     36.229.94.45 (臺灣)    36.229.94.45   \n",
       "\n",
       "            Longitude and Latitude          Mobile  \\\n",
       "M1590848302   經度：121.318　緯度：24.989           HiNet   \n",
       "M1590845039   經度：120.314　緯度：22.615           HiNet   \n",
       "M1590843927   經度：120.687　緯度：23.906  Digital United   \n",
       "M1590843815   經度：121.159　緯度：24.671           HiNet   \n",
       "M1590843771   經度：121.612　緯度：23.981           HiNet   \n",
       "\n",
       "                                          Nation  \\\n",
       "M1590848302  AS - Asia ( 亞洲 ) TW - Taiwan ( 台灣 )   \n",
       "M1590845039  AS - Asia ( 亞洲 ) TW - Taiwan ( 台灣 )   \n",
       "M1590843927  AS - Asia ( 亞洲 ) TW - Taiwan ( 台灣 )   \n",
       "M1590843815  AS - Asia ( 亞洲 ) TW - Taiwan ( 台灣 )   \n",
       "M1590843771  AS - Asia ( 亞洲 ) TW - Taiwan ( 台灣 )   \n",
       "\n",
       "                                                          Push  \\\n",
       "M1590848302  [推 a27783322: 地震會把洨震出來 05/30 22:18, 噓 DaAnnabe...   \n",
       "M1590845039  [推 BILLYTHEKID: 你屁股被強力膠黏起來嗎 05/30 21:24, → s14...   \n",
       "M1590843927  [→ ymx3xc: 迅速夾斷 05/30 21:05, 噓 msn159357: 圖？ 0...   \n",
       "M1590843815  [推 zx3017: 幹 05/30 21:03, 推 cosmoswaves: 有 05/...   \n",
       "M1590843771  [推 thexiaomi: 有感 05/30 21:02, 噓 saiulbb: 天龍無感0...   \n",
       "\n",
       "                            Title  BaoGua  YouWin  \n",
       "M1590848302    [問卦] 地震時剛好在尻尻該怎麼辦?       0       0  \n",
       "M1590845039  Re: [問卦] 地震時在大便該怎麼辦？       0       0  \n",
       "M1590843927      [問卦] 地震時在大便該怎麼辦？       0       0  \n",
       "M1590843815                    地震       0       1  \n",
       "M1590843771               [爆卦] 地震       1       1  "
      ]
     },
     "execution_count": 239,
     "metadata": {},
     "output_type": "execute_result"
    }
   ],
   "source": [
    "df_earthquake.head()"
   ]
  },
  {
   "cell_type": "markdown",
   "metadata": {},
   "source": [
    "## 看「地震文」\n",
    "\n",
    "假定是同時符合「推文有『你贏了』」及「標題有『爆卦』」才算是地震文"
   ]
  },
  {
   "cell_type": "code",
   "execution_count": 240,
   "metadata": {},
   "outputs": [
    {
     "data": {
      "text/html": [
       "<div>\n",
       "<style scoped>\n",
       "    .dataframe tbody tr th:only-of-type {\n",
       "        vertical-align: middle;\n",
       "    }\n",
       "\n",
       "    .dataframe tbody tr th {\n",
       "        vertical-align: top;\n",
       "    }\n",
       "\n",
       "    .dataframe thead th {\n",
       "        text-align: right;\n",
       "    }\n",
       "</style>\n",
       "<table border=\"1\" class=\"dataframe\">\n",
       "  <thead>\n",
       "    <tr style=\"text-align: right;\">\n",
       "      <th></th>\n",
       "      <th>Author</th>\n",
       "      <th>Board</th>\n",
       "      <th>City</th>\n",
       "      <th>Content</th>\n",
       "      <th>Date</th>\n",
       "      <th>Full IP</th>\n",
       "      <th>IP</th>\n",
       "      <th>Longitude and Latitude</th>\n",
       "      <th>Mobile</th>\n",
       "      <th>Nation</th>\n",
       "      <th>Push</th>\n",
       "      <th>Title</th>\n",
       "      <th>BaoGua</th>\n",
       "      <th>YouWin</th>\n",
       "    </tr>\n",
       "  </thead>\n",
       "  <tbody>\n",
       "    <tr>\n",
       "      <th>M1590843815</th>\n",
       "      <td>dreamkd (清空)</td>\n",
       "      <td>Gossiping</td>\n",
       "      <td>Zhubei</td>\n",
       "      <td>地震\\n\\n</td>\n",
       "      <td>Sat May 30 21:03:33 2020</td>\n",
       "      <td>220.129.31.85 (臺灣)</td>\n",
       "      <td>220.129.31.85</td>\n",
       "      <td>經度：121.159　緯度：24.671</td>\n",
       "      <td>HiNet</td>\n",
       "      <td>AS - Asia ( 亞洲 ) TW - Taiwan ( 台灣 )</td>\n",
       "      <td>[推 zx3017: 幹 05/30 21:03, 推 cosmoswaves: 有 05/...</td>\n",
       "      <td>地震</td>\n",
       "      <td>0</td>\n",
       "      <td>1</td>\n",
       "    </tr>\n",
       "    <tr>\n",
       "      <th>M1590843771</th>\n",
       "      <td>astrayzip</td>\n",
       "      <td>Gossiping</td>\n",
       "      <td>Hualien City</td>\n",
       "      <td>震\\n\\n</td>\n",
       "      <td>Sat May 30 21:02:49 2020</td>\n",
       "      <td>36.229.94.45 (臺灣)</td>\n",
       "      <td>36.229.94.45</td>\n",
       "      <td>經度：121.612　緯度：23.981</td>\n",
       "      <td>HiNet</td>\n",
       "      <td>AS - Asia ( 亞洲 ) TW - Taiwan ( 台灣 )</td>\n",
       "      <td>[推 thexiaomi: 有感 05/30 21:02, 噓 saiulbb: 天龍無感0...</td>\n",
       "      <td>[爆卦] 地震</td>\n",
       "      <td>1</td>\n",
       "      <td>1</td>\n",
       "    </tr>\n",
       "    <tr>\n",
       "      <th>M1590694492</th>\n",
       "      <td>slcgboy (艾羅米)</td>\n",
       "      <td>Gossiping</td>\n",
       "      <td>Chang-hua</td>\n",
       "      <td>Y大半夜的不要來這麼個大地震\\n\\n還有前波會讓人反應不及阿\\n\\n</td>\n",
       "      <td>Fri May 29 03:34:50 2020</td>\n",
       "      <td>1.165.211.107 (臺灣)</td>\n",
       "      <td>1.165.211.107</td>\n",
       "      <td>經度：120.542　緯度：24.071</td>\n",
       "      <td>HiNet</td>\n",
       "      <td>AS - Asia ( 亞洲 ) TW - Taiwan ( 台灣 )</td>\n",
       "      <td>[推 chu630: 太慢了 05/29 03:34, 推 cyrus017: 超大 05/...</td>\n",
       "      <td>地震</td>\n",
       "      <td>0</td>\n",
       "      <td>1</td>\n",
       "    </tr>\n",
       "    <tr>\n",
       "      <th>M1590359577</th>\n",
       "      <td>SuperCry (極度哭燥)</td>\n",
       "      <td>Gossiping</td>\n",
       "      <td>Taipei</td>\n",
       "      <td>\\n好遙啊快逃啊\\n</td>\n",
       "      <td>Mon May 25 06:32:55 2020</td>\n",
       "      <td>114.44.132.28 (臺灣)</td>\n",
       "      <td>114.44.132.28</td>\n",
       "      <td>經度：121.532　緯度：25.048</td>\n",
       "      <td>HiNet</td>\n",
       "      <td>AS - Asia ( 亞洲 ) TW - Taiwan ( 台灣 )</td>\n",
       "      <td>[推 dd810714: 五樓跌倒 05/25 06:33, 推 coyadi: 你贏了 0...</td>\n",
       "      <td>[爆卦] 大地震</td>\n",
       "      <td>1</td>\n",
       "      <td>1</td>\n",
       "    </tr>\n",
       "    <tr>\n",
       "      <th>M1589907072</th>\n",
       "      <td>lianpig5566 (家庭教師殺手里包恩)</td>\n",
       "      <td>Gossiping</td>\n",
       "      <td>Taichung</td>\n",
       "      <td>\\n如題我包恩\\n\\n\\n包恩在鹽水蠻有感的，不知道其他地方有沒有感覺QQ\\n\\n蠻大力的搖...</td>\n",
       "      <td>Wed May 20 00:51:09 2020</td>\n",
       "      <td>27.242.222.65 (臺灣)</td>\n",
       "      <td>27.242.222.65</td>\n",
       "      <td>經度：120.684　緯度：24.147</td>\n",
       "      <td>FarEasTone</td>\n",
       "      <td>AS - Asia ( 亞洲 ) TW - Taiwan ( 台灣 )</td>\n",
       "      <td>[※ 編輯: lianpig5566 (27.242.222.65 臺灣), 05/20/2...</td>\n",
       "      <td>[爆卦] 地震</td>\n",
       "      <td>1</td>\n",
       "      <td>1</td>\n",
       "    </tr>\n",
       "  </tbody>\n",
       "</table>\n",
       "</div>"
      ],
      "text/plain": [
       "                              Author      Board          City  \\\n",
       "M1590843815             dreamkd (清空)  Gossiping        Zhubei   \n",
       "M1590843771                astrayzip  Gossiping  Hualien City   \n",
       "M1590694492            slcgboy (艾羅米)  Gossiping     Chang-hua   \n",
       "M1590359577          SuperCry (極度哭燥)  Gossiping        Taipei   \n",
       "M1589907072  lianpig5566 (家庭教師殺手里包恩)  Gossiping      Taichung   \n",
       "\n",
       "                                                       Content  \\\n",
       "M1590843815                                             地震\\n\\n   \n",
       "M1590843771                                              震\\n\\n   \n",
       "M1590694492                 Y大半夜的不要來這麼個大地震\\n\\n還有前波會讓人反應不及阿\\n\\n   \n",
       "M1590359577                                         \\n好遙啊快逃啊\\n   \n",
       "M1589907072  \\n如題我包恩\\n\\n\\n包恩在鹽水蠻有感的，不知道其他地方有沒有感覺QQ\\n\\n蠻大力的搖...   \n",
       "\n",
       "                                 Date              Full IP             IP  \\\n",
       "M1590843815  Sat May 30 21:03:33 2020   220.129.31.85 (臺灣)  220.129.31.85   \n",
       "M1590843771  Sat May 30 21:02:49 2020    36.229.94.45 (臺灣)   36.229.94.45   \n",
       "M1590694492  Fri May 29 03:34:50 2020   1.165.211.107 (臺灣)  1.165.211.107   \n",
       "M1590359577  Mon May 25 06:32:55 2020   114.44.132.28 (臺灣)  114.44.132.28   \n",
       "M1589907072  Wed May 20 00:51:09 2020   27.242.222.65 (臺灣)  27.242.222.65   \n",
       "\n",
       "            Longitude and Latitude      Mobile  \\\n",
       "M1590843815   經度：121.159　緯度：24.671       HiNet   \n",
       "M1590843771   經度：121.612　緯度：23.981       HiNet   \n",
       "M1590694492   經度：120.542　緯度：24.071       HiNet   \n",
       "M1590359577   經度：121.532　緯度：25.048       HiNet   \n",
       "M1589907072   經度：120.684　緯度：24.147  FarEasTone   \n",
       "\n",
       "                                          Nation  \\\n",
       "M1590843815  AS - Asia ( 亞洲 ) TW - Taiwan ( 台灣 )   \n",
       "M1590843771  AS - Asia ( 亞洲 ) TW - Taiwan ( 台灣 )   \n",
       "M1590694492  AS - Asia ( 亞洲 ) TW - Taiwan ( 台灣 )   \n",
       "M1590359577  AS - Asia ( 亞洲 ) TW - Taiwan ( 台灣 )   \n",
       "M1589907072  AS - Asia ( 亞洲 ) TW - Taiwan ( 台灣 )   \n",
       "\n",
       "                                                          Push     Title  \\\n",
       "M1590843815  [推 zx3017: 幹 05/30 21:03, 推 cosmoswaves: 有 05/...        地震   \n",
       "M1590843771  [推 thexiaomi: 有感 05/30 21:02, 噓 saiulbb: 天龍無感0...   [爆卦] 地震   \n",
       "M1590694492  [推 chu630: 太慢了 05/29 03:34, 推 cyrus017: 超大 05/...        地震   \n",
       "M1590359577  [推 dd810714: 五樓跌倒 05/25 06:33, 推 coyadi: 你贏了 0...  [爆卦] 大地震   \n",
       "M1589907072  [※ 編輯: lianpig5566 (27.242.222.65 臺灣), 05/20/2...   [爆卦] 地震   \n",
       "\n",
       "             BaoGua  YouWin  \n",
       "M1590843815       0       1  \n",
       "M1590843771       1       1  \n",
       "M1590694492       0       1  \n",
       "M1590359577       1       1  \n",
       "M1589907072       1       1  "
      ]
     },
     "execution_count": 240,
     "metadata": {},
     "output_type": "execute_result"
    }
   ],
   "source": [
    "# 只有「你贏了」\n",
    "df_earthquake[df_earthquake[\"YouWin\"]==1].head()"
   ]
  },
  {
   "cell_type": "code",
   "execution_count": 241,
   "metadata": {},
   "outputs": [
    {
     "name": "stdout",
     "output_type": "stream",
     "text": [
      "1027 1027\n"
     ]
    }
   ],
   "source": [
    "# 拆開經緯度資訊\n",
    "Longitude = [] #經度\n",
    "Latitude = [] #緯度\n",
    "for row in range(0, len(df_earthquake)):\n",
    "    try:\n",
    "        Long = df_earthquake.iloc[row][7].split(sep = \"：\")[1].split()[0]\n",
    "        Lati = df_earthquake.iloc[row][7].split(sep = \"：\")[2]\n",
    "\n",
    "        Longitude.append(Long)\n",
    "        Latitude.append(Lati)\n",
    "    except:\n",
    "        Longitude.append(\"NaN\")\n",
    "        Latitude.append(\"NaN\")\n",
    "print(len(Longitude), len(Latitude))"
   ]
  },
  {
   "cell_type": "code",
   "execution_count": 242,
   "metadata": {},
   "outputs": [
    {
     "name": "stdout",
     "output_type": "stream",
     "text": [
      "經度：121.000　緯度：23.500\n"
     ]
    },
    {
     "data": {
      "text/plain": [
       "'121.000'"
      ]
     },
     "execution_count": 242,
     "metadata": {},
     "output_type": "execute_result"
    }
   ],
   "source": [
    "print(df_earthquake.iloc[row][7])\n",
    "df_earthquake.iloc[row][7].split(sep = \"：\")[1].split()[0]"
   ]
  },
  {
   "cell_type": "code",
   "execution_count": 243,
   "metadata": {},
   "outputs": [
    {
     "data": {
      "text/plain": [
       "'23.500'"
      ]
     },
     "execution_count": 243,
     "metadata": {},
     "output_type": "execute_result"
    }
   ],
   "source": [
    "df_earthquake.iloc[row][7].split(sep = \"：\")[2]"
   ]
  },
  {
   "cell_type": "code",
   "execution_count": 244,
   "metadata": {},
   "outputs": [
    {
     "data": {
      "text/plain": [
       "'經度：121.000\\u3000緯度：23.500'"
      ]
     },
     "execution_count": 244,
     "metadata": {},
     "output_type": "execute_result"
    }
   ],
   "source": [
    "df_earthquake.iloc[row][7]"
   ]
  },
  {
   "cell_type": "code",
   "execution_count": 245,
   "metadata": {},
   "outputs": [],
   "source": [
    "df_earthquake[\"Longitude\"] = Longitude\n",
    "df_earthquake[\"Latitude\"] = Latitude"
   ]
  },
  {
   "cell_type": "code",
   "execution_count": 246,
   "metadata": {},
   "outputs": [
    {
     "data": {
      "text/html": [
       "<div>\n",
       "<style scoped>\n",
       "    .dataframe tbody tr th:only-of-type {\n",
       "        vertical-align: middle;\n",
       "    }\n",
       "\n",
       "    .dataframe tbody tr th {\n",
       "        vertical-align: top;\n",
       "    }\n",
       "\n",
       "    .dataframe thead th {\n",
       "        text-align: right;\n",
       "    }\n",
       "</style>\n",
       "<table border=\"1\" class=\"dataframe\">\n",
       "  <thead>\n",
       "    <tr style=\"text-align: right;\">\n",
       "      <th></th>\n",
       "      <th>Author</th>\n",
       "      <th>Board</th>\n",
       "      <th>City</th>\n",
       "      <th>Content</th>\n",
       "      <th>Date</th>\n",
       "      <th>Full IP</th>\n",
       "      <th>IP</th>\n",
       "      <th>Longitude and Latitude</th>\n",
       "      <th>Mobile</th>\n",
       "      <th>Nation</th>\n",
       "      <th>Push</th>\n",
       "      <th>Title</th>\n",
       "      <th>BaoGua</th>\n",
       "      <th>YouWin</th>\n",
       "      <th>Longitude</th>\n",
       "      <th>Latitude</th>\n",
       "    </tr>\n",
       "  </thead>\n",
       "  <tbody>\n",
       "    <tr>\n",
       "      <th>M1590848302</th>\n",
       "      <td>timetolove (艾爾不怕西諾)</td>\n",
       "      <td>Gossiping</td>\n",
       "      <td>Taoyuan District</td>\n",
       "      <td>欸欸\\n\\n就是呀\\n\\n台灣地震算是很頻繁的地區呀\\n\\n而每個肥肥也是幾乎每天都要尻尻的...</td>\n",
       "      <td>Sat May 30 22:18:19 2020</td>\n",
       "      <td>36.229.179.140 (臺灣)</td>\n",
       "      <td>36.229.179.140</td>\n",
       "      <td>經度：121.318　緯度：24.989</td>\n",
       "      <td>HiNet</td>\n",
       "      <td>AS - Asia ( 亞洲 ) TW - Taiwan ( 台灣 )</td>\n",
       "      <td>[推 a27783322: 地震會把洨震出來 05/30 22:18, 噓 DaAnnabe...</td>\n",
       "      <td>[問卦] 地震時剛好在尻尻該怎麼辦?</td>\n",
       "      <td>0</td>\n",
       "      <td>0</td>\n",
       "      <td>121.318</td>\n",
       "      <td>24.989</td>\n",
       "    </tr>\n",
       "    <tr>\n",
       "      <th>M1590845039</th>\n",
       "      <td>redDest (油油)</td>\n",
       "      <td>Gossiping</td>\n",
       "      <td>Kaohsiung City</td>\n",
       "      <td>欸欸 有沒有可能馬桶被地震震碎????\\n\\n如果大便的時候地震\\n\\n馬桶又碎裂\\n\\n這...</td>\n",
       "      <td>Sat May 30 21:23:56 2020</td>\n",
       "      <td>118.171.2.99 (臺灣)</td>\n",
       "      <td>118.171.2.99</td>\n",
       "      <td>經度：120.314　緯度：22.615</td>\n",
       "      <td>HiNet</td>\n",
       "      <td>AS - Asia ( 亞洲 ) TW - Taiwan ( 台灣 )</td>\n",
       "      <td>[推 BILLYTHEKID: 你屁股被強力膠黏起來嗎 05/30 21:24, → s14...</td>\n",
       "      <td>Re: [問卦] 地震時在大便該怎麼辦？</td>\n",
       "      <td>0</td>\n",
       "      <td>0</td>\n",
       "      <td>120.314</td>\n",
       "      <td>22.615</td>\n",
       "    </tr>\n",
       "    <tr>\n",
       "      <th>M1590843927</th>\n",
       "      <td>kvn6933630 ()</td>\n",
       "      <td>Gossiping</td>\n",
       "      <td>Nantou City</td>\n",
       "      <td>如圖\\n\\n剛有地震 而在大便時的話\\n\\n第一步應該怎麼辦比較好呢？\\n\\n\\n</td>\n",
       "      <td>Sat May 30 21:05:24 2020</td>\n",
       "      <td>175.183.91.157 (臺灣)</td>\n",
       "      <td>175.183.91.157</td>\n",
       "      <td>經度：120.687　緯度：23.906</td>\n",
       "      <td>Digital United</td>\n",
       "      <td>AS - Asia ( 亞洲 ) TW - Taiwan ( 台灣 )</td>\n",
       "      <td>[→ ymx3xc: 迅速夾斷 05/30 21:05, 噓 msn159357: 圖？ 0...</td>\n",
       "      <td>[問卦] 地震時在大便該怎麼辦？</td>\n",
       "      <td>0</td>\n",
       "      <td>0</td>\n",
       "      <td>120.687</td>\n",
       "      <td>23.906</td>\n",
       "    </tr>\n",
       "    <tr>\n",
       "      <th>M1590843815</th>\n",
       "      <td>dreamkd (清空)</td>\n",
       "      <td>Gossiping</td>\n",
       "      <td>Zhubei</td>\n",
       "      <td>地震\\n\\n</td>\n",
       "      <td>Sat May 30 21:03:33 2020</td>\n",
       "      <td>220.129.31.85 (臺灣)</td>\n",
       "      <td>220.129.31.85</td>\n",
       "      <td>經度：121.159　緯度：24.671</td>\n",
       "      <td>HiNet</td>\n",
       "      <td>AS - Asia ( 亞洲 ) TW - Taiwan ( 台灣 )</td>\n",
       "      <td>[推 zx3017: 幹 05/30 21:03, 推 cosmoswaves: 有 05/...</td>\n",
       "      <td>地震</td>\n",
       "      <td>0</td>\n",
       "      <td>1</td>\n",
       "      <td>121.159</td>\n",
       "      <td>24.671</td>\n",
       "    </tr>\n",
       "    <tr>\n",
       "      <th>M1590843771</th>\n",
       "      <td>astrayzip</td>\n",
       "      <td>Gossiping</td>\n",
       "      <td>Hualien City</td>\n",
       "      <td>震\\n\\n</td>\n",
       "      <td>Sat May 30 21:02:49 2020</td>\n",
       "      <td>36.229.94.45 (臺灣)</td>\n",
       "      <td>36.229.94.45</td>\n",
       "      <td>經度：121.612　緯度：23.981</td>\n",
       "      <td>HiNet</td>\n",
       "      <td>AS - Asia ( 亞洲 ) TW - Taiwan ( 台灣 )</td>\n",
       "      <td>[推 thexiaomi: 有感 05/30 21:02, 噓 saiulbb: 天龍無感0...</td>\n",
       "      <td>[爆卦] 地震</td>\n",
       "      <td>1</td>\n",
       "      <td>1</td>\n",
       "      <td>121.612</td>\n",
       "      <td>23.981</td>\n",
       "    </tr>\n",
       "  </tbody>\n",
       "</table>\n",
       "</div>"
      ],
      "text/plain": [
       "                          Author      Board              City  \\\n",
       "M1590848302  timetolove (艾爾不怕西諾)  Gossiping  Taoyuan District   \n",
       "M1590845039         redDest (油油)  Gossiping    Kaohsiung City   \n",
       "M1590843927        kvn6933630 ()  Gossiping       Nantou City   \n",
       "M1590843815         dreamkd (清空)  Gossiping            Zhubei   \n",
       "M1590843771            astrayzip  Gossiping      Hualien City   \n",
       "\n",
       "                                                       Content  \\\n",
       "M1590848302  欸欸\\n\\n就是呀\\n\\n台灣地震算是很頻繁的地區呀\\n\\n而每個肥肥也是幾乎每天都要尻尻的...   \n",
       "M1590845039  欸欸 有沒有可能馬桶被地震震碎????\\n\\n如果大便的時候地震\\n\\n馬桶又碎裂\\n\\n這...   \n",
       "M1590843927          如圖\\n\\n剛有地震 而在大便時的話\\n\\n第一步應該怎麼辦比較好呢？\\n\\n\\n   \n",
       "M1590843815                                             地震\\n\\n   \n",
       "M1590843771                                              震\\n\\n   \n",
       "\n",
       "                                 Date               Full IP              IP  \\\n",
       "M1590848302  Sat May 30 22:18:19 2020   36.229.179.140 (臺灣)  36.229.179.140   \n",
       "M1590845039  Sat May 30 21:23:56 2020     118.171.2.99 (臺灣)    118.171.2.99   \n",
       "M1590843927  Sat May 30 21:05:24 2020   175.183.91.157 (臺灣)  175.183.91.157   \n",
       "M1590843815  Sat May 30 21:03:33 2020    220.129.31.85 (臺灣)   220.129.31.85   \n",
       "M1590843771  Sat May 30 21:02:49 2020     36.229.94.45 (臺灣)    36.229.94.45   \n",
       "\n",
       "            Longitude and Latitude          Mobile  \\\n",
       "M1590848302   經度：121.318　緯度：24.989           HiNet   \n",
       "M1590845039   經度：120.314　緯度：22.615           HiNet   \n",
       "M1590843927   經度：120.687　緯度：23.906  Digital United   \n",
       "M1590843815   經度：121.159　緯度：24.671           HiNet   \n",
       "M1590843771   經度：121.612　緯度：23.981           HiNet   \n",
       "\n",
       "                                          Nation  \\\n",
       "M1590848302  AS - Asia ( 亞洲 ) TW - Taiwan ( 台灣 )   \n",
       "M1590845039  AS - Asia ( 亞洲 ) TW - Taiwan ( 台灣 )   \n",
       "M1590843927  AS - Asia ( 亞洲 ) TW - Taiwan ( 台灣 )   \n",
       "M1590843815  AS - Asia ( 亞洲 ) TW - Taiwan ( 台灣 )   \n",
       "M1590843771  AS - Asia ( 亞洲 ) TW - Taiwan ( 台灣 )   \n",
       "\n",
       "                                                          Push  \\\n",
       "M1590848302  [推 a27783322: 地震會把洨震出來 05/30 22:18, 噓 DaAnnabe...   \n",
       "M1590845039  [推 BILLYTHEKID: 你屁股被強力膠黏起來嗎 05/30 21:24, → s14...   \n",
       "M1590843927  [→ ymx3xc: 迅速夾斷 05/30 21:05, 噓 msn159357: 圖？ 0...   \n",
       "M1590843815  [推 zx3017: 幹 05/30 21:03, 推 cosmoswaves: 有 05/...   \n",
       "M1590843771  [推 thexiaomi: 有感 05/30 21:02, 噓 saiulbb: 天龍無感0...   \n",
       "\n",
       "                            Title  BaoGua  YouWin Longitude Latitude  \n",
       "M1590848302    [問卦] 地震時剛好在尻尻該怎麼辦?       0       0   121.318   24.989  \n",
       "M1590845039  Re: [問卦] 地震時在大便該怎麼辦？       0       0   120.314   22.615  \n",
       "M1590843927      [問卦] 地震時在大便該怎麼辦？       0       0   120.687   23.906  \n",
       "M1590843815                    地震       0       1   121.159   24.671  \n",
       "M1590843771               [爆卦] 地震       1       1   121.612   23.981  "
      ]
     },
     "execution_count": 246,
     "metadata": {},
     "output_type": "execute_result"
    }
   ],
   "source": [
    "df_earthquake.head()"
   ]
  },
  {
   "cell_type": "code",
   "execution_count": 247,
   "metadata": {},
   "outputs": [],
   "source": [
    "df_earthquake.to_csv(\"PTT_earthquake.csv\", encoding=\"utf-8\")"
   ]
  },
  {
   "cell_type": "markdown",
   "metadata": {},
   "source": [
    "# 處理時間格式"
   ]
  },
  {
   "cell_type": "markdown",
   "metadata": {},
   "source": [
    "eg. \"Sat May 30 22:18:19 2020\"\n",
    "\n",
    "ref: https://docs.python.org/zh-cn/3/library/datetime.html"
   ]
  },
  {
   "cell_type": "code",
   "execution_count": 248,
   "metadata": {},
   "outputs": [],
   "source": [
    "import datetime"
   ]
  },
  {
   "cell_type": "code",
   "execution_count": 249,
   "metadata": {},
   "outputs": [
    {
     "data": {
      "text/plain": [
       "datetime.datetime(1900, 5, 30, 0, 0)"
      ]
     },
     "execution_count": 249,
     "metadata": {},
     "output_type": "execute_result"
    }
   ],
   "source": [
    "dstr = \"Saturday May 30\"\n",
    "#datetime.datetime.strptime(dstr, \"%A %B %d\")\n",
    "datetime.datetime.strptime(dstr, \"%A %B %d\")"
   ]
  },
  {
   "cell_type": "code",
   "execution_count": 250,
   "metadata": {},
   "outputs": [],
   "source": [
    "d = datetime.date.fromordinal(730920)"
   ]
  },
  {
   "cell_type": "code",
   "execution_count": 251,
   "metadata": {},
   "outputs": [
    {
     "data": {
      "text/plain": [
       "datetime.date(2002, 3, 11)"
      ]
     },
     "execution_count": 251,
     "metadata": {},
     "output_type": "execute_result"
    }
   ],
   "source": [
    "d"
   ]
  },
  {
   "cell_type": "code",
   "execution_count": 252,
   "metadata": {},
   "outputs": [
    {
     "data": {
      "text/plain": [
       "'Monday 11. March 2002'"
      ]
     },
     "execution_count": 252,
     "metadata": {},
     "output_type": "execute_result"
    }
   ],
   "source": [
    "d.strftime(\"%A %d. %B %Y\")"
   ]
  },
  {
   "cell_type": "code",
   "execution_count": 253,
   "metadata": {},
   "outputs": [
    {
     "data": {
      "text/plain": [
       "datetime.datetime(1900, 2, 28, 0, 0)"
      ]
     },
     "execution_count": 253,
     "metadata": {},
     "output_type": "execute_result"
    }
   ],
   "source": [
    "dstr = \"Sat Feb 28\"\n",
    "datetime.datetime.strptime(dstr, \"%a %b %d\")"
   ]
  },
  {
   "cell_type": "code",
   "execution_count": 254,
   "metadata": {},
   "outputs": [],
   "source": [
    "# 正確的時間格式\n",
    "dstr = \"Sat May 30 22:18:19 2020\"\n",
    "d = datetime.datetime.strptime(dstr, \"%a %b %d %H:%M:%S %Y\")"
   ]
  },
  {
   "cell_type": "code",
   "execution_count": 255,
   "metadata": {},
   "outputs": [
    {
     "data": {
      "text/plain": [
       "'2020-05-30 22:18:19'"
      ]
     },
     "execution_count": 255,
     "metadata": {},
     "output_type": "execute_result"
    }
   ],
   "source": [
    "d.strftime(\"%Y-%m-%d %H:%M:%S\")"
   ]
  },
  {
   "cell_type": "code",
   "execution_count": 256,
   "metadata": {},
   "outputs": [
    {
     "data": {
      "text/plain": [
       "'Fri May 16 11:31:40 2008'"
      ]
     },
     "execution_count": 256,
     "metadata": {},
     "output_type": "execute_result"
    }
   ],
   "source": [
    "df_earthquake.iloc[row][4]"
   ]
  },
  {
   "cell_type": "code",
   "execution_count": 257,
   "metadata": {},
   "outputs": [
    {
     "name": "stdout",
     "output_type": "stream",
     "text": [
      "1027 3\n"
     ]
    }
   ],
   "source": [
    "# 修改時間格式\n",
    "Date_format = [] #經度\n",
    "count = 0\n",
    "for row in range(0, len(df_earthquake)):\n",
    "    try:\n",
    "        dstr = df_earthquake.iloc[row][4]\n",
    "        d = datetime.datetime.strptime(dstr, \"%a %b %d %H:%M:%S %Y\")\n",
    "        Date_format.append(d.strftime(\"%Y-%m-%d %H:%M:%S\"))\n",
    "    except:\n",
    "        Date_format.append(\"NaN\")\n",
    "        count+=1\n",
    "print(len(Date_format), count)"
   ]
  },
  {
   "cell_type": "code",
   "execution_count": 258,
   "metadata": {},
   "outputs": [],
   "source": [
    "df_earthquake[\"Date_format\"] = Date_format"
   ]
  },
  {
   "cell_type": "code",
   "execution_count": 259,
   "metadata": {},
   "outputs": [
    {
     "data": {
      "text/html": [
       "<div>\n",
       "<style scoped>\n",
       "    .dataframe tbody tr th:only-of-type {\n",
       "        vertical-align: middle;\n",
       "    }\n",
       "\n",
       "    .dataframe tbody tr th {\n",
       "        vertical-align: top;\n",
       "    }\n",
       "\n",
       "    .dataframe thead th {\n",
       "        text-align: right;\n",
       "    }\n",
       "</style>\n",
       "<table border=\"1\" class=\"dataframe\">\n",
       "  <thead>\n",
       "    <tr style=\"text-align: right;\">\n",
       "      <th></th>\n",
       "      <th>Author</th>\n",
       "      <th>Board</th>\n",
       "      <th>City</th>\n",
       "      <th>Content</th>\n",
       "      <th>Date</th>\n",
       "      <th>Full IP</th>\n",
       "      <th>IP</th>\n",
       "      <th>Longitude and Latitude</th>\n",
       "      <th>Mobile</th>\n",
       "      <th>Nation</th>\n",
       "      <th>Push</th>\n",
       "      <th>Title</th>\n",
       "      <th>BaoGua</th>\n",
       "      <th>YouWin</th>\n",
       "      <th>Longitude</th>\n",
       "      <th>Latitude</th>\n",
       "      <th>Date_format</th>\n",
       "    </tr>\n",
       "  </thead>\n",
       "  <tbody>\n",
       "    <tr>\n",
       "      <th>M1590848302</th>\n",
       "      <td>timetolove (艾爾不怕西諾)</td>\n",
       "      <td>Gossiping</td>\n",
       "      <td>Taoyuan District</td>\n",
       "      <td>欸欸\\n\\n就是呀\\n\\n台灣地震算是很頻繁的地區呀\\n\\n而每個肥肥也是幾乎每天都要尻尻的...</td>\n",
       "      <td>Sat May 30 22:18:19 2020</td>\n",
       "      <td>36.229.179.140 (臺灣)</td>\n",
       "      <td>36.229.179.140</td>\n",
       "      <td>經度：121.318　緯度：24.989</td>\n",
       "      <td>HiNet</td>\n",
       "      <td>AS - Asia ( 亞洲 ) TW - Taiwan ( 台灣 )</td>\n",
       "      <td>[推 a27783322: 地震會把洨震出來 05/30 22:18, 噓 DaAnnabe...</td>\n",
       "      <td>[問卦] 地震時剛好在尻尻該怎麼辦?</td>\n",
       "      <td>0</td>\n",
       "      <td>0</td>\n",
       "      <td>121.318</td>\n",
       "      <td>24.989</td>\n",
       "      <td>2020-05-30 22:18:19</td>\n",
       "    </tr>\n",
       "    <tr>\n",
       "      <th>M1590845039</th>\n",
       "      <td>redDest (油油)</td>\n",
       "      <td>Gossiping</td>\n",
       "      <td>Kaohsiung City</td>\n",
       "      <td>欸欸 有沒有可能馬桶被地震震碎????\\n\\n如果大便的時候地震\\n\\n馬桶又碎裂\\n\\n這...</td>\n",
       "      <td>Sat May 30 21:23:56 2020</td>\n",
       "      <td>118.171.2.99 (臺灣)</td>\n",
       "      <td>118.171.2.99</td>\n",
       "      <td>經度：120.314　緯度：22.615</td>\n",
       "      <td>HiNet</td>\n",
       "      <td>AS - Asia ( 亞洲 ) TW - Taiwan ( 台灣 )</td>\n",
       "      <td>[推 BILLYTHEKID: 你屁股被強力膠黏起來嗎 05/30 21:24, → s14...</td>\n",
       "      <td>Re: [問卦] 地震時在大便該怎麼辦？</td>\n",
       "      <td>0</td>\n",
       "      <td>0</td>\n",
       "      <td>120.314</td>\n",
       "      <td>22.615</td>\n",
       "      <td>2020-05-30 21:23:56</td>\n",
       "    </tr>\n",
       "    <tr>\n",
       "      <th>M1590843927</th>\n",
       "      <td>kvn6933630 ()</td>\n",
       "      <td>Gossiping</td>\n",
       "      <td>Nantou City</td>\n",
       "      <td>如圖\\n\\n剛有地震 而在大便時的話\\n\\n第一步應該怎麼辦比較好呢？\\n\\n\\n</td>\n",
       "      <td>Sat May 30 21:05:24 2020</td>\n",
       "      <td>175.183.91.157 (臺灣)</td>\n",
       "      <td>175.183.91.157</td>\n",
       "      <td>經度：120.687　緯度：23.906</td>\n",
       "      <td>Digital United</td>\n",
       "      <td>AS - Asia ( 亞洲 ) TW - Taiwan ( 台灣 )</td>\n",
       "      <td>[→ ymx3xc: 迅速夾斷 05/30 21:05, 噓 msn159357: 圖？ 0...</td>\n",
       "      <td>[問卦] 地震時在大便該怎麼辦？</td>\n",
       "      <td>0</td>\n",
       "      <td>0</td>\n",
       "      <td>120.687</td>\n",
       "      <td>23.906</td>\n",
       "      <td>2020-05-30 21:05:24</td>\n",
       "    </tr>\n",
       "    <tr>\n",
       "      <th>M1590843815</th>\n",
       "      <td>dreamkd (清空)</td>\n",
       "      <td>Gossiping</td>\n",
       "      <td>Zhubei</td>\n",
       "      <td>地震\\n\\n</td>\n",
       "      <td>Sat May 30 21:03:33 2020</td>\n",
       "      <td>220.129.31.85 (臺灣)</td>\n",
       "      <td>220.129.31.85</td>\n",
       "      <td>經度：121.159　緯度：24.671</td>\n",
       "      <td>HiNet</td>\n",
       "      <td>AS - Asia ( 亞洲 ) TW - Taiwan ( 台灣 )</td>\n",
       "      <td>[推 zx3017: 幹 05/30 21:03, 推 cosmoswaves: 有 05/...</td>\n",
       "      <td>地震</td>\n",
       "      <td>0</td>\n",
       "      <td>1</td>\n",
       "      <td>121.159</td>\n",
       "      <td>24.671</td>\n",
       "      <td>2020-05-30 21:03:33</td>\n",
       "    </tr>\n",
       "    <tr>\n",
       "      <th>M1590843771</th>\n",
       "      <td>astrayzip</td>\n",
       "      <td>Gossiping</td>\n",
       "      <td>Hualien City</td>\n",
       "      <td>震\\n\\n</td>\n",
       "      <td>Sat May 30 21:02:49 2020</td>\n",
       "      <td>36.229.94.45 (臺灣)</td>\n",
       "      <td>36.229.94.45</td>\n",
       "      <td>經度：121.612　緯度：23.981</td>\n",
       "      <td>HiNet</td>\n",
       "      <td>AS - Asia ( 亞洲 ) TW - Taiwan ( 台灣 )</td>\n",
       "      <td>[推 thexiaomi: 有感 05/30 21:02, 噓 saiulbb: 天龍無感0...</td>\n",
       "      <td>[爆卦] 地震</td>\n",
       "      <td>1</td>\n",
       "      <td>1</td>\n",
       "      <td>121.612</td>\n",
       "      <td>23.981</td>\n",
       "      <td>2020-05-30 21:02:49</td>\n",
       "    </tr>\n",
       "  </tbody>\n",
       "</table>\n",
       "</div>"
      ],
      "text/plain": [
       "                          Author      Board              City  \\\n",
       "M1590848302  timetolove (艾爾不怕西諾)  Gossiping  Taoyuan District   \n",
       "M1590845039         redDest (油油)  Gossiping    Kaohsiung City   \n",
       "M1590843927        kvn6933630 ()  Gossiping       Nantou City   \n",
       "M1590843815         dreamkd (清空)  Gossiping            Zhubei   \n",
       "M1590843771            astrayzip  Gossiping      Hualien City   \n",
       "\n",
       "                                                       Content  \\\n",
       "M1590848302  欸欸\\n\\n就是呀\\n\\n台灣地震算是很頻繁的地區呀\\n\\n而每個肥肥也是幾乎每天都要尻尻的...   \n",
       "M1590845039  欸欸 有沒有可能馬桶被地震震碎????\\n\\n如果大便的時候地震\\n\\n馬桶又碎裂\\n\\n這...   \n",
       "M1590843927          如圖\\n\\n剛有地震 而在大便時的話\\n\\n第一步應該怎麼辦比較好呢？\\n\\n\\n   \n",
       "M1590843815                                             地震\\n\\n   \n",
       "M1590843771                                              震\\n\\n   \n",
       "\n",
       "                                 Date               Full IP              IP  \\\n",
       "M1590848302  Sat May 30 22:18:19 2020   36.229.179.140 (臺灣)  36.229.179.140   \n",
       "M1590845039  Sat May 30 21:23:56 2020     118.171.2.99 (臺灣)    118.171.2.99   \n",
       "M1590843927  Sat May 30 21:05:24 2020   175.183.91.157 (臺灣)  175.183.91.157   \n",
       "M1590843815  Sat May 30 21:03:33 2020    220.129.31.85 (臺灣)   220.129.31.85   \n",
       "M1590843771  Sat May 30 21:02:49 2020     36.229.94.45 (臺灣)    36.229.94.45   \n",
       "\n",
       "            Longitude and Latitude          Mobile  \\\n",
       "M1590848302   經度：121.318　緯度：24.989           HiNet   \n",
       "M1590845039   經度：120.314　緯度：22.615           HiNet   \n",
       "M1590843927   經度：120.687　緯度：23.906  Digital United   \n",
       "M1590843815   經度：121.159　緯度：24.671           HiNet   \n",
       "M1590843771   經度：121.612　緯度：23.981           HiNet   \n",
       "\n",
       "                                          Nation  \\\n",
       "M1590848302  AS - Asia ( 亞洲 ) TW - Taiwan ( 台灣 )   \n",
       "M1590845039  AS - Asia ( 亞洲 ) TW - Taiwan ( 台灣 )   \n",
       "M1590843927  AS - Asia ( 亞洲 ) TW - Taiwan ( 台灣 )   \n",
       "M1590843815  AS - Asia ( 亞洲 ) TW - Taiwan ( 台灣 )   \n",
       "M1590843771  AS - Asia ( 亞洲 ) TW - Taiwan ( 台灣 )   \n",
       "\n",
       "                                                          Push  \\\n",
       "M1590848302  [推 a27783322: 地震會把洨震出來 05/30 22:18, 噓 DaAnnabe...   \n",
       "M1590845039  [推 BILLYTHEKID: 你屁股被強力膠黏起來嗎 05/30 21:24, → s14...   \n",
       "M1590843927  [→ ymx3xc: 迅速夾斷 05/30 21:05, 噓 msn159357: 圖？ 0...   \n",
       "M1590843815  [推 zx3017: 幹 05/30 21:03, 推 cosmoswaves: 有 05/...   \n",
       "M1590843771  [推 thexiaomi: 有感 05/30 21:02, 噓 saiulbb: 天龍無感0...   \n",
       "\n",
       "                            Title  BaoGua  YouWin Longitude Latitude  \\\n",
       "M1590848302    [問卦] 地震時剛好在尻尻該怎麼辦?       0       0   121.318   24.989   \n",
       "M1590845039  Re: [問卦] 地震時在大便該怎麼辦？       0       0   120.314   22.615   \n",
       "M1590843927      [問卦] 地震時在大便該怎麼辦？       0       0   120.687   23.906   \n",
       "M1590843815                    地震       0       1   121.159   24.671   \n",
       "M1590843771               [爆卦] 地震       1       1   121.612   23.981   \n",
       "\n",
       "                     Date_format  \n",
       "M1590848302  2020-05-30 22:18:19  \n",
       "M1590845039  2020-05-30 21:23:56  \n",
       "M1590843927  2020-05-30 21:05:24  \n",
       "M1590843815  2020-05-30 21:03:33  \n",
       "M1590843771  2020-05-30 21:02:49  "
      ]
     },
     "execution_count": 259,
     "metadata": {},
     "output_type": "execute_result"
    }
   ],
   "source": [
    "df_earthquake.head()"
   ]
  },
  {
   "cell_type": "code",
   "execution_count": 260,
   "metadata": {},
   "outputs": [],
   "source": [
    "df_earthquake.to_csv(\"PTT_earthquake.csv\", encoding=\"utf-8\")"
   ]
  },
  {
   "cell_type": "code",
   "execution_count": null,
   "metadata": {},
   "outputs": [],
   "source": []
  }
 ],
 "metadata": {
  "kernelspec": {
   "display_name": "Python 3",
   "language": "python",
   "name": "python3"
  },
  "language_info": {
   "codemirror_mode": {
    "name": "ipython",
    "version": 3
   },
   "file_extension": ".py",
   "mimetype": "text/x-python",
   "name": "python",
   "nbconvert_exporter": "python",
   "pygments_lexer": "ipython3",
   "version": "3.6.5"
  }
 },
 "nbformat": 4,
 "nbformat_minor": 4
}
