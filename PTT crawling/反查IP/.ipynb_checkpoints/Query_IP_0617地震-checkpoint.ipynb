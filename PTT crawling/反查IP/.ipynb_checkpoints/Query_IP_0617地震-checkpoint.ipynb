{
 "cells": [
  {
   "cell_type": "markdown",
   "metadata": {},
   "source": [
    "# Obtaining Geographical Location through IP Address"
   ]
  },
  {
   "cell_type": "markdown",
   "metadata": {},
   "source": []
  },
  {
   "cell_type": "markdown",
   "metadata": {},
   "source": [
    "### Selenium"
   ]
  },
  {
   "cell_type": "code",
   "execution_count": 1,
   "metadata": {},
   "outputs": [
    {
     "name": "stderr",
     "output_type": "stream",
     "text": [
      "/Applications/anaconda3/lib/python3.6/site-packages/requests/__init__.py:80: RequestsDependencyWarning: urllib3 (1.25.9) or chardet (3.0.4) doesn't match a supported version!\n",
      "  RequestsDependencyWarning)\n"
     ]
    }
   ],
   "source": [
    "import requests\n",
    "from bs4 import BeautifulSoup\n",
    "import sys\n",
    "import codecs\n",
    "from selenium import webdriver\n",
    "from selenium.webdriver.support.ui import WebDriverWait\n",
    "from selenium.webdriver.common.keys import Keys\n",
    "import requests\n",
    "import time\n",
    "from fake_useragent import UserAgent\n",
    "import csv\n",
    "import pandas as pd\n",
    "import numpy as np"
   ]
  },
  {
   "cell_type": "markdown",
   "metadata": {},
   "source": [
    "### Use try & except"
   ]
  },
  {
   "cell_type": "code",
   "execution_count": 2,
   "metadata": {},
   "outputs": [
    {
     "name": "stderr",
     "output_type": "stream",
     "text": [
      "/Applications/anaconda3/lib/python3.6/site-packages/ipykernel_launcher.py:23: DeprecationWarning: use options instead of chrome_options\n"
     ]
    }
   ],
   "source": [
    "#Use fake UserAgent\n",
    "def set_header_user_agent():\n",
    "    user_agent = UserAgent()\n",
    "    return user_agent.random\n",
    "\n",
    "#open browser #打開瀏覽器，但不要載入圖片\n",
    "options = webdriver.ChromeOptions()\n",
    "prefs = {\n",
    "    'profile.default_content_setting_values': {\n",
    "        'images': 2,\n",
    "        #'javascript': 2\n",
    "    }\n",
    "}\n",
    "options.add_experimental_option('prefs', prefs)\n",
    "\n",
    "#ua = \"Mozilla/5.0 (Windows NT 10.0; WOW64; rv:53.0) Gecko/20100101 Firefox/53.0\"\n",
    "#headers = {'User-Agent': 'User-Agent:Mozilla/5.0 (Macintosh; Intel Mac OS X 10_12_3) AppleWebKit/537.36 (KHTML, like Gecko) Chrome/56.0.2924.87 Safari/537.36'}\n",
    "#user_agent = set_header_user_agent()\n",
    "#headers={ 'user-agent': user_agent }\n",
    "#options.add_argument(\"user-agent={}\".format(user_agent)) # 使用偽造的 user-agent\n",
    "#options.add_argument(headers)\n",
    "\n",
    "driver = webdriver.Chrome('./chromedriver', chrome_options=options)"
   ]
  },
  {
   "cell_type": "code",
   "execution_count": 3,
   "metadata": {},
   "outputs": [],
   "source": [
    "#define urls\n",
    "IP_url1 = \"https://tw.geoipview.com/\"\n",
    "IP_url2 = \"https://www.ez2o.com/App/Net/IP\""
   ]
  },
  {
   "cell_type": "code",
   "execution_count": 4,
   "metadata": {},
   "outputs": [],
   "source": [
    "driver.get(IP_url2)\n",
    "driver.implicitly_wait(5)"
   ]
  },
  {
   "cell_type": "code",
   "execution_count": 5,
   "metadata": {},
   "outputs": [
    {
     "ename": "SyntaxError",
     "evalue": "invalid syntax (<ipython-input-5-e9d8a80a6915>, line 1)",
     "output_type": "error",
     "traceback": [
      "\u001b[0;36m  File \u001b[0;32m\"<ipython-input-5-e9d8a80a6915>\"\u001b[0;36m, line \u001b[0;32m1\u001b[0m\n\u001b[0;31m    (/*[@id=\"QueryIP\"])\u001b[0m\n\u001b[0m     ^\u001b[0m\n\u001b[0;31mSyntaxError\u001b[0m\u001b[0;31m:\u001b[0m invalid syntax\n"
     ]
    }
   ],
   "source": [
    "//*[@id=\"QueryIP\"]"
   ]
  },
  {
   "cell_type": "code",
   "execution_count": 5,
   "metadata": {},
   "outputs": [],
   "source": [
    "# 點查詢欄位\n",
    "search_field = driver.find_element_by_xpath(\"\"\"//*[@id=\"QueryIP\"]\"\"\")\n",
    "search_field.click()\n",
    "search_field.clear()\n",
    "\n",
    "# 輸入IP\n",
    "search_field.send_keys(\"110.26.35.209\")\n",
    "search_field.send_keys(Keys.ENTER)\n",
    "driver.implicitly_wait(5)\n",
    "\n",
    "#拿到source page\n",
    "IP_soup_2 = BeautifulSoup(driver.page_source, 'html.parser')"
   ]
  },
  {
   "cell_type": "markdown",
   "metadata": {},
   "source": [
    "# 找table\n",
    "\n",
    "<div id=\"ipinfo_show\">\n",
    "  <table width=\"250\" cellspacing=\"0\" cellpadding=\"1\" border=\"0\">\n",
    "  <tbody><tr><td></td><td></td>\n",
    "  </tr><tr><td class=\"show1\" width=\"20%\" nowrap=\"\">主機名稱:&nbsp;</td><td width=\"80%\" nowrap=\"\"><div class=\"host\"></div></td>\n",
    "  </tr><tr><td class=\"show1\" nowrap=\"\">IP 位址:&nbsp;</td><td class=\"ip\"><span class=\"show2\">140.112.177.146</span> [<a href=\"http://whois.chromefans.org/140.112.177.146\" target=\"_blank\">whois</a>]</td>\n",
    "  </tr><tr><td class=\"show1\" nowrap=\"\">國家/地區代碼:&nbsp;</td><td>TWN / TW &nbsp;  &nbsp; <img src=\"https://image.geoipview.com/flags/tw.png\" width=\"16\" height=\"11\" border=\"0\" align=\"absmiddle\" alt=\"Taiwan\"></td>\n",
    "  </tr><tr><td class=\"show1\" nowrap=\"\">國家:&nbsp;</td><td class=\"show2\">Taiwan</td>\n",
    "  </tr><tr><td class=\"show1\" nowrap=\"\">地區:&nbsp;</td><td>25</td>\n",
    "  </tr><tr><td class=\"show1\" nowrap=\"\">城市:&nbsp;</td><td class=\"show2\">Fuan</td>\n",
    "  </tr><tr><td class=\"show1\" nowrap=\"\">郵政編碼:&nbsp;</td><td></td>\n",
    "  </tr><tr><td class=\"show1\" nowrap=\"\">緯度:&nbsp;</td><td>24.86009979248</td>\n",
    "  </tr><tr><td class=\"show1\" nowrap=\"\">經度:&nbsp;</td><td>121.29570007324</td>\n",
    "  </tr></tbody></table>\n",
    "  </div>"
   ]
  },
  {
   "cell_type": "markdown",
   "metadata": {},
   "source": [
    "<table class=\"table table-striped table-hover\"><tbody><tr class=\"active\"><td class=\"text-right\"><strong>主機名稱：</strong></td><td>110-26-35-209.adsl.fetnet.net</td></tr><tr class=\"active\"><td class=\"text-right\"><strong>國家名稱：</strong></td><td>AS - Asia ( 亞洲 ) <br> <span>TW - Taiwan ( 台灣 )</span> <br> <img src=\"/Images/COUNTRY/TW.png\" width=\"120\" alt=\"TW - Taiwan ( 台灣 )\" title=\"TW - Taiwan ( 台灣 )\" class=\"img-thumbnail\"></td></tr><tr class=\"active\"><td class=\"text-right\"><strong>城市名稱：</strong></td><td>Taipei</td></tr><tr class=\"active\"><td class=\"text-right\"><strong>經度緯度：</strong></td><td>經度：121.532　緯度：25.048</td></tr><tr class=\"active\"><td class=\"text-right\"><strong>電訊名稱：</strong></td><td>FarEasTone</td></tr><tr class=\"active\"><td class=\"text-right\"><strong>單位名稱：</strong></td><td>Far EastTone Telecommunication Co., Ltd.</td></tr><tr class=\"active\"><td class=\"text-right\"><strong>網域名稱：</strong></td><td>fetnet.net</td></tr><tr class=\"active\"><td class=\"text-right\"><strong>時區單位：</strong></td><td>Asia/Taipei (UTC +08:00)</td></tr></tbody></table>"
   ]
  },
  {
   "cell_type": "code",
   "execution_count": 6,
   "metadata": {},
   "outputs": [],
   "source": [
    "# 找table\n",
    "table_2 = IP_soup_2.find(\"table\")"
   ]
  },
  {
   "cell_type": "code",
   "execution_count": 7,
   "metadata": {},
   "outputs": [
    {
     "data": {
      "text/plain": [
       "<table class=\"table table-striped table-hover\"><tbody><tr class=\"active\"><td class=\"text-right\"><strong>主機名稱：</strong></td><td>110-26-35-209.adsl.fetnet.net</td></tr><tr class=\"active\"><td class=\"text-right\"><strong>國家名稱：</strong></td><td>AS - Asia ( 亞洲 ) <br/> <span>TW - Taiwan ( 台灣 )</span> <br/> <img alt=\"TW - Taiwan ( 台灣 )\" class=\"img-thumbnail\" src=\"/Images/COUNTRY/TW.png\" title=\"TW - Taiwan ( 台灣 )\" width=\"120\"/></td></tr><tr class=\"active\"><td class=\"text-right\"><strong>城市名稱：</strong></td><td>Taipei</td></tr><tr class=\"active\"><td class=\"text-right\"><strong>經度緯度：</strong></td><td>經度：121.532　緯度：25.048</td></tr><tr class=\"active\"><td class=\"text-right\"><strong>電訊名稱：</strong></td><td>FarEasTone</td></tr><tr class=\"active\"><td class=\"text-right\"><strong>單位名稱：</strong></td><td>Far EastTone Telecommunication Co., Ltd.</td></tr><tr class=\"active\"><td class=\"text-right\"><strong>網域名稱：</strong></td><td>fetnet.net</td></tr><tr class=\"active\"><td class=\"text-right\"><strong>時區單位：</strong></td><td>Asia/Taipei (UTC +08:00)</td></tr></tbody></table>"
      ]
     },
     "execution_count": 7,
     "metadata": {},
     "output_type": "execute_result"
    }
   ],
   "source": [
    "table_2"
   ]
  },
  {
   "cell_type": "code",
   "execution_count": 8,
   "metadata": {},
   "outputs": [
    {
     "data": {
      "text/html": [
       "<div>\n",
       "<style scoped>\n",
       "    .dataframe tbody tr th:only-of-type {\n",
       "        vertical-align: middle;\n",
       "    }\n",
       "\n",
       "    .dataframe tbody tr th {\n",
       "        vertical-align: top;\n",
       "    }\n",
       "\n",
       "    .dataframe thead th {\n",
       "        text-align: right;\n",
       "    }\n",
       "</style>\n",
       "<table border=\"1\" class=\"dataframe\">\n",
       "  <thead>\n",
       "    <tr style=\"text-align: right;\">\n",
       "      <th></th>\n",
       "      <th>0</th>\n",
       "      <th>1</th>\n",
       "    </tr>\n",
       "  </thead>\n",
       "  <tbody>\n",
       "    <tr>\n",
       "      <th>0</th>\n",
       "      <td>主機名稱：</td>\n",
       "      <td>110-26-35-209.adsl.fetnet.net</td>\n",
       "    </tr>\n",
       "    <tr>\n",
       "      <th>1</th>\n",
       "      <td>國家名稱：</td>\n",
       "      <td>AS - Asia ( 亞洲 ) TW - Taiwan ( 台灣 )</td>\n",
       "    </tr>\n",
       "    <tr>\n",
       "      <th>2</th>\n",
       "      <td>城市名稱：</td>\n",
       "      <td>Taipei</td>\n",
       "    </tr>\n",
       "    <tr>\n",
       "      <th>3</th>\n",
       "      <td>經度緯度：</td>\n",
       "      <td>經度：121.532　緯度：25.048</td>\n",
       "    </tr>\n",
       "    <tr>\n",
       "      <th>4</th>\n",
       "      <td>電訊名稱：</td>\n",
       "      <td>FarEasTone</td>\n",
       "    </tr>\n",
       "    <tr>\n",
       "      <th>5</th>\n",
       "      <td>單位名稱：</td>\n",
       "      <td>Far EastTone Telecommunication Co., Ltd.</td>\n",
       "    </tr>\n",
       "    <tr>\n",
       "      <th>6</th>\n",
       "      <td>網域名稱：</td>\n",
       "      <td>fetnet.net</td>\n",
       "    </tr>\n",
       "    <tr>\n",
       "      <th>7</th>\n",
       "      <td>時區單位：</td>\n",
       "      <td>Asia/Taipei (UTC +08:00)</td>\n",
       "    </tr>\n",
       "  </tbody>\n",
       "</table>\n",
       "</div>"
      ],
      "text/plain": [
       "       0                                         1\n",
       "0  主機名稱：             110-26-35-209.adsl.fetnet.net\n",
       "1  國家名稱：       AS - Asia ( 亞洲 ) TW - Taiwan ( 台灣 )\n",
       "2  城市名稱：                                    Taipei\n",
       "3  經度緯度：                      經度：121.532　緯度：25.048\n",
       "4  電訊名稱：                                FarEasTone\n",
       "5  單位名稱：  Far EastTone Telecommunication Co., Ltd.\n",
       "6  網域名稱：                                fetnet.net\n",
       "7  時區單位：                  Asia/Taipei (UTC +08:00)"
      ]
     },
     "execution_count": 8,
     "metadata": {},
     "output_type": "execute_result"
    }
   ],
   "source": [
    "df_2 = pd.read_html(str(table_2))[0]\n",
    "df_2"
   ]
  },
  {
   "cell_type": "code",
   "execution_count": 9,
   "metadata": {},
   "outputs": [
    {
     "data": {
      "text/plain": [
       "'FarEasTone'"
      ]
     },
     "execution_count": 9,
     "metadata": {},
     "output_type": "execute_result"
    }
   ],
   "source": [
    "df_2.iloc[1][1] #國家\n",
    "df_2.iloc[2][1] #城市\n",
    "df_2.iloc[3][1] #經緯度\n",
    "df_2.iloc[4][1] #電信名稱"
   ]
  },
  {
   "cell_type": "code",
   "execution_count": 10,
   "metadata": {},
   "outputs": [
    {
     "ename": "NameError",
     "evalue": "name 'df_1' is not defined",
     "output_type": "error",
     "traceback": [
      "\u001b[0;31m---------------------------------------------------------------------------\u001b[0m",
      "\u001b[0;31mNameError\u001b[0m                                 Traceback (most recent call last)",
      "\u001b[0;32m<ipython-input-10-1e0bfe260bf0>\u001b[0m in \u001b[0;36m<module>\u001b[0;34m()\u001b[0m\n\u001b[0;32m----> 1\u001b[0;31m \u001b[0mdf_1\u001b[0m\u001b[0;34m.\u001b[0m\u001b[0mtranspose\u001b[0m\u001b[0;34m(\u001b[0m\u001b[0;34m)\u001b[0m\u001b[0;34m\u001b[0m\u001b[0m\n\u001b[0m",
      "\u001b[0;31mNameError\u001b[0m: name 'df_1' is not defined"
     ]
    }
   ],
   "source": [
    "df_1.transpose()"
   ]
  },
  {
   "cell_type": "code",
   "execution_count": 11,
   "metadata": {},
   "outputs": [
    {
     "ename": "NameError",
     "evalue": "name 'df_1' is not defined",
     "output_type": "error",
     "traceback": [
      "\u001b[0;31m---------------------------------------------------------------------------\u001b[0m",
      "\u001b[0;31mNameError\u001b[0m                                 Traceback (most recent call last)",
      "\u001b[0;32m<ipython-input-11-981a16c9a16a>\u001b[0m in \u001b[0;36m<module>\u001b[0;34m()\u001b[0m\n\u001b[0;32m----> 1\u001b[0;31m \u001b[0mdf_1\u001b[0m\u001b[0;34m.\u001b[0m\u001b[0miloc\u001b[0m\u001b[0;34m[\u001b[0m\u001b[0;36m4\u001b[0m\u001b[0;34m]\u001b[0m\u001b[0;34m[\u001b[0m\u001b[0;36m1\u001b[0m\u001b[0;34m]\u001b[0m \u001b[0;31m#國家\u001b[0m\u001b[0;34m\u001b[0m\u001b[0m\n\u001b[0m\u001b[1;32m      2\u001b[0m \u001b[0mdf_1\u001b[0m\u001b[0;34m.\u001b[0m\u001b[0miloc\u001b[0m\u001b[0;34m[\u001b[0m\u001b[0;36m5\u001b[0m\u001b[0;34m]\u001b[0m\u001b[0;34m[\u001b[0m\u001b[0;36m1\u001b[0m\u001b[0;34m]\u001b[0m \u001b[0;31m#地區\u001b[0m\u001b[0;34m\u001b[0m\u001b[0m\n\u001b[1;32m      3\u001b[0m \u001b[0mdf_1\u001b[0m\u001b[0;34m.\u001b[0m\u001b[0miloc\u001b[0m\u001b[0;34m[\u001b[0m\u001b[0;36m6\u001b[0m\u001b[0;34m]\u001b[0m\u001b[0;34m[\u001b[0m\u001b[0;36m1\u001b[0m\u001b[0;34m]\u001b[0m \u001b[0;31m#城市\u001b[0m\u001b[0;34m\u001b[0m\u001b[0m\n\u001b[1;32m      4\u001b[0m \u001b[0mdf_1\u001b[0m\u001b[0;34m.\u001b[0m\u001b[0miloc\u001b[0m\u001b[0;34m[\u001b[0m\u001b[0;36m8\u001b[0m\u001b[0;34m]\u001b[0m\u001b[0;34m[\u001b[0m\u001b[0;36m1\u001b[0m\u001b[0;34m]\u001b[0m \u001b[0;31m#緯度\u001b[0m\u001b[0;34m\u001b[0m\u001b[0m\n\u001b[1;32m      5\u001b[0m \u001b[0mdf_1\u001b[0m\u001b[0;34m.\u001b[0m\u001b[0miloc\u001b[0m\u001b[0;34m[\u001b[0m\u001b[0;36m9\u001b[0m\u001b[0;34m]\u001b[0m\u001b[0;34m[\u001b[0m\u001b[0;36m1\u001b[0m\u001b[0;34m]\u001b[0m \u001b[0;31m#經度\u001b[0m\u001b[0;34m\u001b[0m\u001b[0m\n",
      "\u001b[0;31mNameError\u001b[0m: name 'df_1' is not defined"
     ]
    }
   ],
   "source": [
    "df_1.iloc[4][1] #國家\n",
    "df_1.iloc[5][1] #地區\n",
    "df_1.iloc[6][1] #城市\n",
    "df_1.iloc[8][1] #緯度\n",
    "df_1.iloc[9][1] #經度"
   ]
  },
  {
   "cell_type": "markdown",
   "metadata": {},
   "source": [
    "# 讀所有的IP，先讀爬下來的PTT文章"
   ]
  },
  {
   "cell_type": "code",
   "execution_count": 12,
   "metadata": {},
   "outputs": [],
   "source": [
    "# Save\n",
    "#np.save(\"earthquake_dict_np\", earthquake_dict)\n",
    "\n",
    "# Load\n",
    "earthquake_dict = np.load('earthquake_dict_0617地震.npy',allow_pickle='TRUE').item()"
   ]
  },
  {
   "cell_type": "code",
   "execution_count": 13,
   "metadata": {},
   "outputs": [],
   "source": [
    "articles = list(earthquake_dict.keys())"
   ]
  },
  {
   "cell_type": "code",
   "execution_count": 14,
   "metadata": {},
   "outputs": [
    {
     "data": {
      "text/plain": [
       "1040"
      ]
     },
     "execution_count": 14,
     "metadata": {},
     "output_type": "execute_result"
    }
   ],
   "source": [
    "len(articles)"
   ]
  },
  {
   "cell_type": "code",
   "execution_count": 15,
   "metadata": {},
   "outputs": [
    {
     "data": {
      "text/plain": [
       "['M2', 'M3', 'M4', 'M5', 'M6', 'M7', 'M8', 'M9', 'M10']"
      ]
     },
     "execution_count": 15,
     "metadata": {},
     "output_type": "execute_result"
    }
   ],
   "source": [
    "articles[1:10]"
   ]
  },
  {
   "cell_type": "markdown",
   "metadata": {},
   "source": [
    "for art in articles:\n",
    "    try:\n",
    "        print(earthquake_dict[art][\"IP\"], end = \" \")\n",
    "    except:\n",
    "        pass"
   ]
  },
  {
   "cell_type": "markdown",
   "metadata": {},
   "source": [
    "## 把IP拿去反查"
   ]
  },
  {
   "cell_type": "code",
   "execution_count": 16,
   "metadata": {},
   "outputs": [
    {
     "name": "stderr",
     "output_type": "stream",
     "text": [
      "/Applications/anaconda3/lib/python3.6/site-packages/ipykernel_launcher.py:23: DeprecationWarning: use options instead of chrome_options\n"
     ]
    },
    {
     "name": "stdout",
     "output_type": "stream",
     "text": [
      "0 1 2 3 4 5 6 7 8 9 10 11 12 13 14 15 16 17 18 19 20 21 22 23 24 25 26 27 28 29 30 31 32 33 34 35 36 37 38 39 40 41 42 43 44 45 46 47 48 49 50 51 52 53 54 55 56 57 58 59 60 61 62 63 64 65 66 67 68 69 70 71 72 73 74 75 76 77 78 79 80 81 82 83 84 85 86 87 88 89 90 91 92 93 94 95 96 97 98 99 100 101 102 103 104 105 106 107 108 109 110 111 112 113 114 115 116 117 118 119 120 121 122 123 124 125 126 127 128 129 130 131 132 133 134 135 136 137 138 139 140 141 142 143 144 145 146 147 148 149 150 151 152 153 154 155 156 157 158 159 160 161 162 163 164 165 166 167 168 169 170 171 172 173 174 175 176 177 178 179 180 181 182 183 184 185 186 187 188 189 190 191 192 193 194 195 196 197 198 199 200 201 202 203 204 205 206 207 208 209 210 211 212 213 214 215 216 217 218 219 220 221 222 223 224 225 226 227 228 229 230 231 232 233 234 235 236 237 238 239 240 241 242 243 244 245 246 247 248 249 250 251 252 253 254 255 256 257 258 259 260 261 262 263 264 265 266 267 268 269 270 271 272 273 274 275 276 277 278 279 280 281 282 283 284 285 286 287 288 289 290 291 292 293 294 295 296 297 298 299 300 301 302 303 304 305 306 307 308 309 310 311 312 313 314 315 316 317 318 319 320 321 322 323 324 325 326 327 328 329 330 331 332 333 334 335 336 337 338 339 340 341 342 343 344 345 346 347 348 349 350 351 352 353 354 355 356 357 358 359 360 361 362 363 364 365 366 367 368 369 370 371 372 373 374 375 376 377 378 379 380 381 382 383 384 385 386 387 388 389 390 391 392 393 394 395 396 397 398 399 400 401 402 403 404 405 406 407 408 409 410 411 412 413 414 415 416 417 418 419 420 421 422 423 424 425 426 427 428 429 430 431 432 433 434 435 436 437 438 439 440 441 442 443 444 445 446 447 448 449 450 451 452 453 454 455 456 457 458 459 460 461 462 463 464 465 466 467 468 469 470 471 472 473 474 475 476 477 478 479 480 481 482 483 484 485 486 487 488 489 490 491 492 493 494 495 496 497 498 499 500 501 502 503 504 505 506 507 508 509 510 511 512 513 514 515 516 517 518 519 520 521 522 523 524 525 526 527 528 529 530 531 532 533 534 535 536 537 538 539 540 541 542 543 544 545 546 547 548 549 550 551 552 553 554 555 556 557 558 559 560 561 562 563 564 565 566 567 568 569 570 571 572 573 574 575 576 577 578 579 580 581 582 583 584 585 586 587 588 589 590 591 592 593 594 595 596 597 598 599 600 601 602 603 604 605 606 607 608 609 610 611 612 613 614 615 616 617 618 619 620 621 622 623 624 625 626 627 628 629 630 631 632 633 634 635 636 637 638 639 640 641 642 643 644 645 646 647 648 649 650 651 652 653 654 655 656 657 658 659 660 661 662 663 664 665 666 667 668 669 670 671 672 673 674 675 676 677 678 679 680 681 682 683 684 685 686 687 688 689 690 691 692 693 694 695 696 697 698 699 700 701 702 703 704 705 706 707 708 709 710 711 712 713 714 715 716 717 718 719 720 721 722 723 724 725 726 727 728 729 730 731 732 733 734 735 736 737 738 739 740 741 742 743 744 745 746 747 748 749 750 751 752 753 754 755 756 757 758 759 760 761 762 763 764 765 766 767 768 769 770 771 772 773 774 775 776 777 778 779 780 781 782 783 784 785 786 787 788 789 790 791 792 793 794 795 796 797 798 799 800 801 802 803 804 805 806 807 808 809 810 811 812 813 814 815 816 817 818 819 820 821 822 823 824 825 826 827 828 829 830 831 832 833 834 835 836 837 838 839 840 841 842 843 844 845 846 847 848 849 850 851 852 853 854 855 856 857 858 859 860 861 862 863 864 865 866 867 868 869 870 871 872 873 874 875 876 877 878 879 880 881 882 883 884 885 886 887 888 889 890 891 892 893 894 895 896 897 898 899 900 901 902 903 904 905 906 907 908 909 910 911 912 913 914 915 916 917 918 919 920 921 922 923 924 925 926 927 928 929 930 931 932 933 934 935 936 937 938 939 940 941 942 943 944 945 946 947 948 949 950 951 952 953 954 955 956 957 958 959 960 961 962 963 964 965 966 967 968 969 970 971 972 973 974 975 976 977 978 979 980 981 982 983 984 985 986 987 988 989 990 991 992 993 994 995 996 997 998 999 1000 1001 1002 1003 1004 1005 1006 1007 1008 1009 1010 1011 1012 1013 "
     ]
    }
   ],
   "source": [
    "#Use fake UserAgent\n",
    "def set_header_user_agent():\n",
    "    user_agent = UserAgent()\n",
    "    return user_agent.random\n",
    "\n",
    "#open browser #打開瀏覽器，但不要載入圖片\n",
    "options = webdriver.ChromeOptions()\n",
    "prefs = {\n",
    "    'profile.default_content_setting_values': {\n",
    "        'images': 2,\n",
    "        #'javascript': 2\n",
    "    }\n",
    "}\n",
    "options.add_experimental_option('prefs', prefs)\n",
    "\n",
    "#ua = \"Mozilla/5.0 (Windows NT 10.0; WOW64; rv:53.0) Gecko/20100101 Firefox/53.0\"\n",
    "#headers = {'User-Agent': 'User-Agent:Mozilla/5.0 (Macintosh; Intel Mac OS X 10_12_3) AppleWebKit/537.36 (KHTML, like Gecko) Chrome/56.0.2924.87 Safari/537.36'}\n",
    "#user_agent = set_header_user_agent()\n",
    "#headers={ 'user-agent': user_agent }\n",
    "#options.add_argument(\"user-agent={}\".format(user_agent)) # 使用偽造的 user-agent\n",
    "#options.add_argument(headers)\n",
    "\n",
    "driver = webdriver.Chrome('./chromedriver', chrome_options=options)\n",
    "\n",
    "count = 0\n",
    "\n",
    "for art in articles:\n",
    "    try:\n",
    "        #print(earthquake_dict[MMMM][\"IP\"])\n",
    "        ip_address = earthquake_dict[art][\"IP\"]\n",
    "        \n",
    "        #define urls\n",
    "        #IP_url1 = \"https://tw.geoipview.com/\"\n",
    "        IP_url2 = \"https://www.ez2o.com/App/Net/IP\"\n",
    "        \n",
    "        #用第一個反查IP網站\n",
    "        driver.get(IP_url2)\n",
    "        driver.implicitly_wait(5)\n",
    "        \n",
    "        # 點查詢欄位\n",
    "        search_field = driver.find_element_by_xpath(\"\"\"//*[@id=\"QueryIP\"]\"\"\")\n",
    "        search_field.click()\n",
    "        search_field.clear()\n",
    "\n",
    "        # 輸入IP\n",
    "        search_field.send_keys(ip_address)\n",
    "        search_field.send_keys(Keys.ENTER)\n",
    "        driver.implicitly_wait(5)\n",
    "\n",
    "        #拿到source page\n",
    "        IP_soup_2 = BeautifulSoup(driver.page_source, 'html.parser')\n",
    "        \n",
    "        # 找table\n",
    "        table_2 = IP_soup_2.find(\"table\")\n",
    "        df_2 = pd.read_html(str(table_2))[0]\n",
    "        \n",
    "        #新增到該筆文章的dictionary下面\n",
    "        earthquake_dict[art][\"Nation\"] = df_2.iloc[1][1] #國家\n",
    "        earthquake_dict[art][\"City\"] = df_2.iloc[2][1] #城市\n",
    "        earthquake_dict[art][\"Longitude and Latitude\"] = df_2.iloc[3][1] #經緯度\n",
    "        earthquake_dict[art][\"Mobile\"] = df_2.iloc[4][1] #電信名稱\n",
    "        \n",
    "        print(count, end = \" \")\n",
    "        count+=1\n",
    "        time.sleep(0.5)\n",
    "    except:\n",
    "        pass"
   ]
  },
  {
   "cell_type": "code",
   "execution_count": 17,
   "metadata": {},
   "outputs": [
    {
     "data": {
      "text/plain": [
       "1014"
      ]
     },
     "execution_count": 17,
     "metadata": {},
     "output_type": "execute_result"
    }
   ],
   "source": [
    "count"
   ]
  },
  {
   "cell_type": "code",
   "execution_count": 18,
   "metadata": {},
   "outputs": [
    {
     "name": "stdout",
     "output_type": "stream",
     "text": [
      "Keelung Taipei Taipei Taipei Taipei Taichung Taichung Taipei Taipei Taipei Taipei Taipei Taoyuan District Taichung Taipei Hsinchu Tainan City Hsinchu Taipei Taipei Taipei Taipei Taipei Taipei Taichung Taipei Taipei Taipei Tampa Taipei Taipei Hsinchu Taipei Taoyuan City Taichung Taipei Taipei Taipei Taipei Taipei Taipei Taipei Taipei Taipei Taipei Chang-hua Taipei Taipei Taipei Taipei Taipei Taichung Taipei Kaohsiung City Tainan City Tainan City Taipei Yilan Taichung Taipei Taipei Tainan City Taoyuan District Nantou City Hualien City Taipei Taipei Kaohsiung City Chang-hua Taipei Taipei Taipei Tainan City Taipei Taipei Taipei Taichung Taipei Taipei Hsinchu Taipei Yilan Taipei Taipei Chang-hua Taipei Taoyuan District Amsterdam Hsinchu Taipei Miaoli Chiayi City Taipei Chang-hua Shah Alam Taichung Kaohsiung City Taipei Hualien City Taipei Kaohsiung City Tainan City Taipei Taipei Taichung Taipei Taichung Taipei Hsinchu Taipei Taichung Tainan City Chang-hua Taoyuan District Taichung Taipei Taipei Chang-hua Taipei Taipei Taichung Hsinchu Taichung Kaohsiung City Tainan City Taipei Taipei Tainan City Taipei Taipei Los Angeles Taipei Taipei Taoyuan District Taipei Taipei Taipei Taipei Chang-hua Kaohsiung City Taipei Milpitas Taipei Chang-hua Chang-hua Taipei Nantou City Taipei Taichung Tainan City Taipei San Jose Hsinchu Kaohsiung City Taoyuan District Kaohsiung City Nantou City Hualien City Taipei Taipei Osaka Taipei Taipei Taipei Chang-hua Chang-hua Taichung Shenzhen Taichung Taoyuan District Taichung Taipei Los Angeles Taipei Tainan City Taipei Taichung Chang-hua Tainan City Kaohsiung City Taipei Taipei Taipei Chiayi City Chiayi City Tainan City Taichung Taipei Taichung Taipei Taipei Kobe Chang-hua Kaohsiung City Kaohsiung City Taipei Taoyuan District Taipei Taipei Chang-hua Kaohsiung City Chang-hua Taipei Taipei Taipei Taipei Taipei Taipei Taipei Taoyuan District Taipei Kaohsiung City Kaohsiung City Taipei Hsinchu Macao Taipei Chang-hua Kaohsiung City Taipei Hsinchu Chang-hua Taipei Taichung Taoyuan District Shah Alam Taipei Taipei Taipei Tainan City Taipei Taichung Tainan City Taipei Hsinchu Taipei Taipei Yilan Taipei Taipei Yilan Taipei Tainan City Taipei Taipei Taipei Keelung Kaohsiung City Taoyuan District Taipei Taoyuan District Chang-hua Taipei Taipei Taipei Taichung Taipei Taichung Tainan City Taipei Taipei Taipei Taichung Shah Alam Taipei Taichung Hsinchu Taoyuan District Kaohsiung City Hsinchu Taichung Shibuya Taipei Hsinchu Hsinchu Taichung Chang-hua Taoyuan District Taipei Taichung Taipei Taipei Taipei Taipei Taoyuan District Taipei Taipei Taoyuan District Taipei Taipei Taipei Chang-hua Taipei Taipei Miaoli Tainan City Taipei Taichung Taipei Taichung Hualien City Taipei Taichung Taipei Taichung Taipei Taipei Taichung Kaohsiung City Tainan City Taipei Taipei Nantou City Taipei Miaoli Taipei Taipei Taipei Taoyuan District Kaohsiung City Taichung Taipei Taipei Chiayi City Taipei Chang-hua Taipei Taipei Chang-hua San Jose Taichung Chang-hua Taichung Kaohsiung City Taoyuan District Taipei Chang-hua Taichung Hsinchu Chang-hua Taipei Taichung Taichung Taichung Kaohsiung City Taichung Taichung Taichung Taichung Taoyuan District Chang-hua Taipei Taipei Taipei Taichung Taipei Zhubei Tainan City Taichung Kuala Lumpur Los Angeles Chang-hua Chang-hua Taipei Tainan City Taipei Taipei Chang-hua Chang-hua Taipei Taipei Taipei Taipei Taipei Kaohsiung City Taipei Taipei Chang-hua Vienna Taipei Kaohsiung City Taipei Andong Taipei Taipei Taichung Chang-hua Taipei Taipei Taoyuan District Taichung Taipei Taipei Singapore Kaohsiung City Taipei Taipei Taipei Taipei Taipei Taipei Taipei Taoyuan District 經度：121.000　緯度：23.500 Toufen Township Hualien City Taipei Tainan City Tainan City Taipei Taipei Tainan City Bien Hoa Sunnyvale Taipei Taichung Taipei Taichung Buenos Aires Taipei Taoyuan District Tainan City Los Angeles Taoyuan District Taoyuan District Kaohsiung City Taoyuan District Taipei Taipei Kaohsiung City Taipei Taipei Hsinchu Taipei Chang-hua Taipei Kaohsiung City Taipei San Jose Kaohsiung City Changzhou Tainan City Taipei Bandung Kaohsiung City Taipei Chang-hua Taipei Taipei Tainan City Hsinchu Taipei Taipei Taipei Chang-hua Ho Chi Minh City Taipei Taipei Taipei Taipei Taoyuan District Taipei Taipei Taichung Taipei Taoyuan District Yilan Chang-hua Taipei Hsinchu Tokyo Saitama Taipei Taipei Taipei Taipei Taipei Tainan City Taipei Taipei Taoyuan District Chang-hua Taichung Taipei Chang-hua Tainan City Taipei Taoyuan District Taipei Taipei Tainan City Chang-hua Kaohsiung City Kaohsiung City Kaohsiung City Kaohsiung City Kaohsiung City Taichung Tainan City Tainan City Tainan City Kaohsiung City Kaohsiung City Kaohsiung City Kaohsiung City Kaohsiung City Kaohsiung City Taipei Tainan City Kaohsiung City Tainan City Kaohsiung City Kaohsiung City Taipei Taoyuan District Taipei Nantou City Taipei Taipei Taipei Taipei Wufeng District Tainan City Hsinchu Taipei Taipei Taipei Taipei Chino Tainan City Taoyuan District Taipei Taitung City Kaohsiung City Kaohsiung City Taipei Taipei Taipei Tainan City Tainan City Tainan City Kaohsiung City Taipei Taichung Taichung Taipei Taipei Tai Po Taoyuan District Taipei Hualien City Taipei Taipei Taoyuan District Kaohsiung City Taipei Taipei Taichung Chang-hua Taoyuan District Hsinchu Taipei Chang-hua Taoyuan District Chang-hua Taichung Taipei Taipei Taipei Chang-hua Taipei Taipei Tainan City Taipei Taichung Chang-hua Taipei Miaoli Taipei Chang-hua Taipei Tainan City Tainan City Taichung Hsinchu Taipei Koto Taoyuan District Hsinchu Taipei Taoyuan District Taipei Tainan City Taipei Nantou City Taipei Taipei Taipei Taipei Taipei Taipei Taipei Taipei Taipei Taipei Taipei Chang-hua Taipei Taichung Los Angeles Provo Kaohsiung City Taoyuan District Tainan City Taipei Taipei Taipei Taichung Taipei Taichung Taipei Kaohsiung City Taipei Taipei Tainan City Taipei Taipei Tainan City Taipei Chang-hua Taoyuan District Taipei Aogu Taipei Taipei Kaohsiung City Taoyuan District Taichung Yuanlin Taipei Taipei Yilan Taipei Taipei Kaohsiung City Taipei Taipei Hualien City Taipei Taipei Taichung Taipei Taipei Taipei Kaohsiung City Hsinchu Taipei Chang-hua Taipei Hsinchu Hsinchu Taipei Chang-hua Mexico City Taipei Chang-hua Taipei Tainan City Taipei Taipei Taipei Puli Taipei Taitung City Kaohsiung City Taipei Taipei Taipei Taipei Taipei Taipei Taichung Chang-hua Taipei Taoyuan District Taipei Taipei Taipei Magong Chang-hua Chang-hua Hualien City Chang-hua Taipei Taipei Taipei Taichung Shanghai Taipei Shanghai Sydney Taipei Taipei Taipei Taipei Taipei Taipei Taoyuan District Taichung Taipei Tainan City Taipei Taipei Taipei Taipei Kaohsiung City Taipei Taipei Hualien City Taipei Taipei Taipei Tainan City Taoyuan District Taipei 經度：121.000　緯度：23.500 Kaohsiung City Chang-hua Taichung Taitung City Taoyuan District Hsinchu Tainan City Chang-hua Taipei Central Tainan City Nantou City Taichung Taipei Kaohsiung City Taipei Taoyuan District Taipei Taipei Taipei Taipei Taipei Taipei Taipei Taipei Taipei Hualien City Taipei Taipei Taipei Ningbu Chang-hua Taipei Bade District Chang-hua Chang-hua Taoyuan District Taipei Taipei Taipei Taipei Taipei Taipei Yilan Miaoli Taipei Taipei Taipei 經度：121.000　緯度：23.500 Taipei Taipei Taipei Taipei Taichung Taipei Hsinchu Taipei Taipei Taipei Taipei Taipei Taipei Taipei Taipei Yilan Taoyuan District Taipei Taichung Taipei Taipei Hualien City Taipei Petaling Jaya Kaohsiung City Taipei Chang-hua Chang-hua Taipei Taipei Taichung Taoyuan District Chang-hua Taipei Taipei Taipei Taichung Taipei Taipei Kaohsiung City Taoyuan District Taichung Taipei Taipei Hualien City Taichung Taipei Taipei Taichung Taipei Taichung Tainan City Taoyuan District Taipei Taipei Taipei Taoyuan District Taichung Taipei Taoyuan District Taipei Chang-hua Zhongli District Taipei Hsinchu Taipei Taipei Taipei Taoyuan District Taipei Taipei Taipei Taipei Hsinchu Taipei Taipei Taipei Yilan Taipei Chang-hua Taipei Quezon Taipei Taichung Taipei Taipei Taipei Taipei Taipei Singapore Kaohsiung City Taichung Taipei Taichung Taoyuan District Taipei Taichung Hsinchu Taipei Taipei Taipei Taipei Taipei Tainan City Taichung Taoyuan District Chaoliao Yilan Taoyuan District Taipei Taipei Kaohsiung City Taipei Taipei Yilan Tainan City Taipei Taipei Taipei Seoul Taipei Chang-hua Taipei Taipei Taipei Taipei Pei-nan Hsinchu Hualien City Taoyuan District Taipei Chang-hua Tokyo Taipei Taipei Bryansk Taipei Taipei Kaohsiung City Miaoli Taipei 經度：139.690　緯度：35.690 Taichung Taichung Kaohsiung City Taipei Taipei Tianjin Taoyuan District Taipei Chang-hua Taipei Taipei Kaohsiung City Taipei Hsinchu Hsinchu Taoyuan District Taipei Chang-hua Brooklyn 經度：139.690　緯度：35.690 Taichung Chang-hua Taipei Chang-hua Taipei Taichung Ashburn Kaohsiung City Hualien City Hsinchu Taichung Taipei Taipei Taipei Taipei Taipei Hsinchu Taichung Chang-hua Taipei Taipei Taichung Tainan City Taichung Taichung Kaohsiung City Tainan City Chiayi City Kaohsiung City Taichung Taipei Nakadai Shirokane Hsinchu Kaohsiung City Taichung Taichung Taipei Hsinchu Taipei Taichung Chang-hua Taipei Hsinchu Taichung Taipei Kaohsiung City Taipei Hsinchu Kaohsiung City Kaohsiung City Chang-hua Chang-hua Taipei Chang-hua Taipei Tainan City Taipei Taichung Taipei Taipei Taipei Bade District Tainan City Irvine Hualien City Taipei Taipei Kaohsiung City Tainan City Taoyuan District Taichung Taipei Taipei Seoul Chang-hua San Jose "
     ]
    }
   ],
   "source": [
    "for art in articles:\n",
    "    try:\n",
    "        print(earthquake_dict[art][\"City\"], end = ' ')\n",
    "    except:\n",
    "        pass"
   ]
  },
  {
   "cell_type": "markdown",
   "metadata": {},
   "source": [
    "# Save\n",
    "np.save(\"earthquake_dict_IPquery_0611_2\", earthquake_dict)"
   ]
  },
  {
   "cell_type": "markdown",
   "metadata": {},
   "source": [
    "# 變成DataFrame"
   ]
  },
  {
   "cell_type": "code",
   "execution_count": 19,
   "metadata": {},
   "outputs": [
    {
     "ename": "KeyError",
     "evalue": "'M1590182680'",
     "output_type": "error",
     "traceback": [
      "\u001b[0;31m---------------------------------------------------------------------------\u001b[0m",
      "\u001b[0;31mKeyError\u001b[0m                                  Traceback (most recent call last)",
      "\u001b[0;32m<ipython-input-19-9ecc38af54bd>\u001b[0m in \u001b[0;36m<module>\u001b[0;34m()\u001b[0m\n\u001b[0;32m----> 1\u001b[0;31m \u001b[0mearthquake_dict\u001b[0m\u001b[0;34m[\u001b[0m\u001b[0;34m\"M1590182680\"\u001b[0m\u001b[0;34m]\u001b[0m\u001b[0;34m[\u001b[0m\u001b[0;34m\"Title\"\u001b[0m\u001b[0;34m]\u001b[0m\u001b[0;34m\u001b[0m\u001b[0m\n\u001b[0m",
      "\u001b[0;31mKeyError\u001b[0m: 'M1590182680'"
     ]
    }
   ],
   "source": [
    "earthquake_dict[\"M1590182680\"][\"Title\"]"
   ]
  },
  {
   "cell_type": "code",
   "execution_count": 20,
   "metadata": {},
   "outputs": [],
   "source": [
    "df_earthquake = pd.DataFrame(earthquake_dict)"
   ]
  },
  {
   "cell_type": "code",
   "execution_count": 21,
   "metadata": {},
   "outputs": [],
   "source": [
    "df_earthquake = df_earthquake.transpose()"
   ]
  },
  {
   "cell_type": "code",
   "execution_count": 22,
   "metadata": {},
   "outputs": [
    {
     "data": {
      "text/html": [
       "<div>\n",
       "<style scoped>\n",
       "    .dataframe tbody tr th:only-of-type {\n",
       "        vertical-align: middle;\n",
       "    }\n",
       "\n",
       "    .dataframe tbody tr th {\n",
       "        vertical-align: top;\n",
       "    }\n",
       "\n",
       "    .dataframe thead th {\n",
       "        text-align: right;\n",
       "    }\n",
       "</style>\n",
       "<table border=\"1\" class=\"dataframe\">\n",
       "  <thead>\n",
       "    <tr style=\"text-align: right;\">\n",
       "      <th></th>\n",
       "      <th>Author</th>\n",
       "      <th>Board</th>\n",
       "      <th>City</th>\n",
       "      <th>Content</th>\n",
       "      <th>Date</th>\n",
       "      <th>Full IP</th>\n",
       "      <th>IP</th>\n",
       "      <th>Longitude and Latitude</th>\n",
       "      <th>Mobile</th>\n",
       "      <th>Nation</th>\n",
       "      <th>Push</th>\n",
       "      <th>Title</th>\n",
       "    </tr>\n",
       "  </thead>\n",
       "  <tbody>\n",
       "    <tr>\n",
       "      <th>M1</th>\n",
       "      <td>MiLuDaiBoom (ⓂⓛⓁⓤⒹⓐⓛⒷⓞⓞⓂ)</td>\n",
       "      <td>Gossiping</td>\n",
       "      <td>Keelung</td>\n",
       "      <td>\\n\\n欸欸欸欸欸\\n\\n最近覺得地震特別搖\\n\\n但看新聞都說還好\\n\\n所以是我太敏感\\...</td>\n",
       "      <td>Wed Jun 17 08:51:57 2020</td>\n",
       "      <td>110.50.130.167 (臺灣)</td>\n",
       "      <td>110.50.130.167</td>\n",
       "      <td>經度：121.742　緯度：25.128</td>\n",
       "      <td>Vibo Telecom</td>\n",
       "      <td>AS - Asia ( 亞洲 ) TW - Taiwan ( 台灣 )</td>\n",
       "      <td>[→ Usayhiisayha: 跟跌倒的人體重有關 06/17 08:52, 推 VViz...</td>\n",
       "      <td>[問卦] 地震搖晃程度和屋齡有關嗎？</td>\n",
       "    </tr>\n",
       "    <tr>\n",
       "      <th>M2</th>\n",
       "      <td>king1010 (玩酷)</td>\n",
       "      <td>Gossiping</td>\n",
       "      <td>Taipei</td>\n",
       "      <td>不想上班啊 有地震\\n\\n</td>\n",
       "      <td>Wed Jun 17 07:18:48 2020</td>\n",
       "      <td>42.72.69.21 (臺灣)</td>\n",
       "      <td>42.72.69.21</td>\n",
       "      <td>經度：121.532　緯度：25.048</td>\n",
       "      <td>Chunghwa Telecom</td>\n",
       "      <td>AS - Asia ( 亞洲 ) TW - Taiwan ( 台灣 )</td>\n",
       "      <td>[推 Beee09: 你最慢 06/17 07:20, 推 skbshawn: 抓最後一個 ...</td>\n",
       "      <td>[爆卦] 地震</td>\n",
       "    </tr>\n",
       "    <tr>\n",
       "      <th>M3</th>\n",
       "      <td>musashi4735 (武藏)</td>\n",
       "      <td>Gossiping</td>\n",
       "      <td>Taipei</td>\n",
       "      <td>地震!!中壢\\n\\n</td>\n",
       "      <td>Wed Jun 17 07:18:17 2020</td>\n",
       "      <td>114.32.216.39 (臺灣)</td>\n",
       "      <td>114.32.216.39</td>\n",
       "      <td>經度：121.532　緯度：25.048</td>\n",
       "      <td>Taiwan Academic Network</td>\n",
       "      <td>AS - Asia ( 亞洲 ) TW - Taiwan ( 台灣 )</td>\n",
       "      <td>[※ 編輯: musashi4735 (114.32.216.39 臺灣), 06/17/2...</td>\n",
       "      <td>[爆卦] 地震</td>\n",
       "    </tr>\n",
       "    <tr>\n",
       "      <th>M4</th>\n",
       "      <td>air121 (I GOT SPIRIT)</td>\n",
       "      <td>Gossiping</td>\n",
       "      <td>Taipei</td>\n",
       "      <td>台北\\n\\n</td>\n",
       "      <td>Wed Jun 17 07:18:12 2020</td>\n",
       "      <td>123.193.3.30 (臺灣)</td>\n",
       "      <td>123.193.3.30</td>\n",
       "      <td>經度：121.532　緯度：25.048</td>\n",
       "      <td>Taiwan Academic Network</td>\n",
       "      <td>AS - Asia ( 亞洲 ) TW - Taiwan ( 台灣 )</td>\n",
       "      <td>[推 newsun1997: CC 06/17 07:18, , , 本網站已依台灣網站內容...</td>\n",
       "      <td>[爆卦] 地震</td>\n",
       "    </tr>\n",
       "    <tr>\n",
       "      <th>M5</th>\n",
       "      <td>open20023 (open20023)</td>\n",
       "      <td>Gossiping</td>\n",
       "      <td>Taipei</td>\n",
       "      <td>\\n好可怕啊\\n\\n</td>\n",
       "      <td>Wed Jun 17 07:18:10 2020</td>\n",
       "      <td>110.26.190.162 (臺灣)</td>\n",
       "      <td>110.26.190.162</td>\n",
       "      <td>經度：121.532　緯度：25.048</td>\n",
       "      <td>LINE Mobile</td>\n",
       "      <td>AS - Asia ( 亞洲 ) TW - Taiwan ( 台灣 )</td>\n",
       "      <td>[, , 本網站已依台灣網站內容分級規定處理。此區域為限制級，未滿十八歲者不得瀏覽。, ]</td>\n",
       "      <td>地震</td>\n",
       "    </tr>\n",
       "  </tbody>\n",
       "</table>\n",
       "</div>"
      ],
      "text/plain": [
       "                       Author      Board     City  \\\n",
       "M1  MiLuDaiBoom (ⓂⓛⓁⓤⒹⓐⓛⒷⓞⓞⓂ)  Gossiping  Keelung   \n",
       "M2              king1010 (玩酷)  Gossiping   Taipei   \n",
       "M3           musashi4735 (武藏)  Gossiping   Taipei   \n",
       "M4      air121 (I GOT SPIRIT)  Gossiping   Taipei   \n",
       "M5      open20023 (open20023)  Gossiping   Taipei   \n",
       "\n",
       "                                              Content  \\\n",
       "M1  \\n\\n欸欸欸欸欸\\n\\n最近覺得地震特別搖\\n\\n但看新聞都說還好\\n\\n所以是我太敏感\\...   \n",
       "M2                                      不想上班啊 有地震\\n\\n   \n",
       "M3                                         地震!!中壢\\n\\n   \n",
       "M4                                             台北\\n\\n   \n",
       "M5                                         \\n好可怕啊\\n\\n   \n",
       "\n",
       "                        Date               Full IP              IP  \\\n",
       "M1  Wed Jun 17 08:51:57 2020   110.50.130.167 (臺灣)  110.50.130.167   \n",
       "M2  Wed Jun 17 07:18:48 2020      42.72.69.21 (臺灣)     42.72.69.21   \n",
       "M3  Wed Jun 17 07:18:17 2020    114.32.216.39 (臺灣)   114.32.216.39   \n",
       "M4  Wed Jun 17 07:18:12 2020     123.193.3.30 (臺灣)    123.193.3.30   \n",
       "M5  Wed Jun 17 07:18:10 2020   110.26.190.162 (臺灣)  110.26.190.162   \n",
       "\n",
       "   Longitude and Latitude                   Mobile  \\\n",
       "M1   經度：121.742　緯度：25.128             Vibo Telecom   \n",
       "M2   經度：121.532　緯度：25.048         Chunghwa Telecom   \n",
       "M3   經度：121.532　緯度：25.048  Taiwan Academic Network   \n",
       "M4   經度：121.532　緯度：25.048  Taiwan Academic Network   \n",
       "M5   經度：121.532　緯度：25.048              LINE Mobile   \n",
       "\n",
       "                                 Nation  \\\n",
       "M1  AS - Asia ( 亞洲 ) TW - Taiwan ( 台灣 )   \n",
       "M2  AS - Asia ( 亞洲 ) TW - Taiwan ( 台灣 )   \n",
       "M3  AS - Asia ( 亞洲 ) TW - Taiwan ( 台灣 )   \n",
       "M4  AS - Asia ( 亞洲 ) TW - Taiwan ( 台灣 )   \n",
       "M5  AS - Asia ( 亞洲 ) TW - Taiwan ( 台灣 )   \n",
       "\n",
       "                                                 Push               Title  \n",
       "M1  [→ Usayhiisayha: 跟跌倒的人體重有關 06/17 08:52, 推 VViz...  [問卦] 地震搖晃程度和屋齡有關嗎？  \n",
       "M2  [推 Beee09: 你最慢 06/17 07:20, 推 skbshawn: 抓最後一個 ...             [爆卦] 地震  \n",
       "M3  [※ 編輯: musashi4735 (114.32.216.39 臺灣), 06/17/2...             [爆卦] 地震  \n",
       "M4  [推 newsun1997: CC 06/17 07:18, , , 本網站已依台灣網站內容...             [爆卦] 地震  \n",
       "M5      [, , 本網站已依台灣網站內容分級規定處理。此區域為限制級，未滿十八歲者不得瀏覽。, ]                  地震  "
      ]
     },
     "execution_count": 22,
     "metadata": {},
     "output_type": "execute_result"
    }
   ],
   "source": [
    "df_earthquake.head()"
   ]
  },
  {
   "cell_type": "code",
   "execution_count": 23,
   "metadata": {},
   "outputs": [
    {
     "ename": "TypeError",
     "evalue": "argument of type 'float' is not iterable",
     "output_type": "error",
     "traceback": [
      "\u001b[0;31m---------------------------------------------------------------------------\u001b[0m",
      "\u001b[0;31mTypeError\u001b[0m                                 Traceback (most recent call last)",
      "\u001b[0;32m<ipython-input-23-252eb2300885>\u001b[0m in \u001b[0;36m<module>\u001b[0;34m()\u001b[0m\n\u001b[1;32m      1\u001b[0m \u001b[0mBaoGua\u001b[0m \u001b[0;34m=\u001b[0m \u001b[0;34m[\u001b[0m\u001b[0;34m]\u001b[0m \u001b[0;31m#爆卦是dummy，看這篇文章是爆卦還是問卦，藉以判斷是否是「地震文」\u001b[0m\u001b[0;34m\u001b[0m\u001b[0m\n\u001b[1;32m      2\u001b[0m \u001b[0;32mfor\u001b[0m \u001b[0mrow\u001b[0m \u001b[0;32min\u001b[0m \u001b[0mrange\u001b[0m\u001b[0;34m(\u001b[0m\u001b[0;36m0\u001b[0m\u001b[0;34m,\u001b[0m \u001b[0mlen\u001b[0m\u001b[0;34m(\u001b[0m\u001b[0mdf_earthquake\u001b[0m\u001b[0;34m)\u001b[0m\u001b[0;34m)\u001b[0m\u001b[0;34m:\u001b[0m\u001b[0;34m\u001b[0m\u001b[0m\n\u001b[0;32m----> 3\u001b[0;31m     \u001b[0;32mif\u001b[0m \u001b[0;34m\"爆卦\"\u001b[0m \u001b[0;32min\u001b[0m \u001b[0mdf_earthquake\u001b[0m\u001b[0;34m.\u001b[0m\u001b[0miloc\u001b[0m\u001b[0;34m[\u001b[0m\u001b[0mrow\u001b[0m\u001b[0;34m]\u001b[0m\u001b[0;34m[\u001b[0m\u001b[0;36m11\u001b[0m\u001b[0;34m]\u001b[0m\u001b[0;34m:\u001b[0m\u001b[0;34m\u001b[0m\u001b[0m\n\u001b[0m\u001b[1;32m      4\u001b[0m         \u001b[0;31m#print(df_earthquake.iloc[row][11])\u001b[0m\u001b[0;34m\u001b[0m\u001b[0;34m\u001b[0m\u001b[0m\n\u001b[1;32m      5\u001b[0m         \u001b[0mBaoGua\u001b[0m\u001b[0;34m.\u001b[0m\u001b[0mappend\u001b[0m\u001b[0;34m(\u001b[0m\u001b[0;36m1\u001b[0m\u001b[0;34m)\u001b[0m\u001b[0;34m\u001b[0m\u001b[0m\n",
      "\u001b[0;31mTypeError\u001b[0m: argument of type 'float' is not iterable"
     ]
    }
   ],
   "source": [
    "BaoGua = [] #爆卦是dummy，看這篇文章是爆卦還是問卦，藉以判斷是否是「地震文」\n",
    "for row in range(0, len(df_earthquake)):\n",
    "    if \"爆卦\" in df_earthquake.iloc[row][11]:\n",
    "        #print(df_earthquake.iloc[row][11])\n",
    "        BaoGua.append(1)\n",
    "    else:\n",
    "        BaoGua.append(0)\n",
    "len(BaoGua)"
   ]
  },
  {
   "cell_type": "code",
   "execution_count": 24,
   "metadata": {},
   "outputs": [
    {
     "ename": "ValueError",
     "evalue": "Length of values does not match length of index",
     "output_type": "error",
     "traceback": [
      "\u001b[0;31m---------------------------------------------------------------------------\u001b[0m",
      "\u001b[0;31mValueError\u001b[0m                                Traceback (most recent call last)",
      "\u001b[0;32m<ipython-input-24-f1dbcb0fa3d6>\u001b[0m in \u001b[0;36m<module>\u001b[0;34m()\u001b[0m\n\u001b[0;32m----> 1\u001b[0;31m \u001b[0mdf_earthquake\u001b[0m\u001b[0;34m[\u001b[0m\u001b[0;34m\"BaoGua\"\u001b[0m\u001b[0;34m]\u001b[0m \u001b[0;34m=\u001b[0m \u001b[0mBaoGua\u001b[0m\u001b[0;34m\u001b[0m\u001b[0m\n\u001b[0m",
      "\u001b[0;32m/Applications/anaconda3/lib/python3.6/site-packages/pandas/core/frame.py\u001b[0m in \u001b[0;36m__setitem__\u001b[0;34m(self, key, value)\u001b[0m\n\u001b[1;32m   3114\u001b[0m         \u001b[0;32melse\u001b[0m\u001b[0;34m:\u001b[0m\u001b[0;34m\u001b[0m\u001b[0m\n\u001b[1;32m   3115\u001b[0m             \u001b[0;31m# set column\u001b[0m\u001b[0;34m\u001b[0m\u001b[0;34m\u001b[0m\u001b[0m\n\u001b[0;32m-> 3116\u001b[0;31m             \u001b[0mself\u001b[0m\u001b[0;34m.\u001b[0m\u001b[0m_set_item\u001b[0m\u001b[0;34m(\u001b[0m\u001b[0mkey\u001b[0m\u001b[0;34m,\u001b[0m \u001b[0mvalue\u001b[0m\u001b[0;34m)\u001b[0m\u001b[0;34m\u001b[0m\u001b[0m\n\u001b[0m\u001b[1;32m   3117\u001b[0m \u001b[0;34m\u001b[0m\u001b[0m\n\u001b[1;32m   3118\u001b[0m     \u001b[0;32mdef\u001b[0m \u001b[0m_setitem_slice\u001b[0m\u001b[0;34m(\u001b[0m\u001b[0mself\u001b[0m\u001b[0;34m,\u001b[0m \u001b[0mkey\u001b[0m\u001b[0;34m,\u001b[0m \u001b[0mvalue\u001b[0m\u001b[0;34m)\u001b[0m\u001b[0;34m:\u001b[0m\u001b[0;34m\u001b[0m\u001b[0m\n",
      "\u001b[0;32m/Applications/anaconda3/lib/python3.6/site-packages/pandas/core/frame.py\u001b[0m in \u001b[0;36m_set_item\u001b[0;34m(self, key, value)\u001b[0m\n\u001b[1;32m   3189\u001b[0m \u001b[0;34m\u001b[0m\u001b[0m\n\u001b[1;32m   3190\u001b[0m         \u001b[0mself\u001b[0m\u001b[0;34m.\u001b[0m\u001b[0m_ensure_valid_index\u001b[0m\u001b[0;34m(\u001b[0m\u001b[0mvalue\u001b[0m\u001b[0;34m)\u001b[0m\u001b[0;34m\u001b[0m\u001b[0m\n\u001b[0;32m-> 3191\u001b[0;31m         \u001b[0mvalue\u001b[0m \u001b[0;34m=\u001b[0m \u001b[0mself\u001b[0m\u001b[0;34m.\u001b[0m\u001b[0m_sanitize_column\u001b[0m\u001b[0;34m(\u001b[0m\u001b[0mkey\u001b[0m\u001b[0;34m,\u001b[0m \u001b[0mvalue\u001b[0m\u001b[0;34m)\u001b[0m\u001b[0;34m\u001b[0m\u001b[0m\n\u001b[0m\u001b[1;32m   3192\u001b[0m         \u001b[0mNDFrame\u001b[0m\u001b[0;34m.\u001b[0m\u001b[0m_set_item\u001b[0m\u001b[0;34m(\u001b[0m\u001b[0mself\u001b[0m\u001b[0;34m,\u001b[0m \u001b[0mkey\u001b[0m\u001b[0;34m,\u001b[0m \u001b[0mvalue\u001b[0m\u001b[0;34m)\u001b[0m\u001b[0;34m\u001b[0m\u001b[0m\n\u001b[1;32m   3193\u001b[0m \u001b[0;34m\u001b[0m\u001b[0m\n",
      "\u001b[0;32m/Applications/anaconda3/lib/python3.6/site-packages/pandas/core/frame.py\u001b[0m in \u001b[0;36m_sanitize_column\u001b[0;34m(self, key, value, broadcast)\u001b[0m\n\u001b[1;32m   3386\u001b[0m \u001b[0;34m\u001b[0m\u001b[0m\n\u001b[1;32m   3387\u001b[0m             \u001b[0;31m# turn me into an ndarray\u001b[0m\u001b[0;34m\u001b[0m\u001b[0;34m\u001b[0m\u001b[0m\n\u001b[0;32m-> 3388\u001b[0;31m             \u001b[0mvalue\u001b[0m \u001b[0;34m=\u001b[0m \u001b[0m_sanitize_index\u001b[0m\u001b[0;34m(\u001b[0m\u001b[0mvalue\u001b[0m\u001b[0;34m,\u001b[0m \u001b[0mself\u001b[0m\u001b[0;34m.\u001b[0m\u001b[0mindex\u001b[0m\u001b[0;34m,\u001b[0m \u001b[0mcopy\u001b[0m\u001b[0;34m=\u001b[0m\u001b[0;32mFalse\u001b[0m\u001b[0;34m)\u001b[0m\u001b[0;34m\u001b[0m\u001b[0m\n\u001b[0m\u001b[1;32m   3389\u001b[0m             \u001b[0;32mif\u001b[0m \u001b[0;32mnot\u001b[0m \u001b[0misinstance\u001b[0m\u001b[0;34m(\u001b[0m\u001b[0mvalue\u001b[0m\u001b[0;34m,\u001b[0m \u001b[0;34m(\u001b[0m\u001b[0mnp\u001b[0m\u001b[0;34m.\u001b[0m\u001b[0mndarray\u001b[0m\u001b[0;34m,\u001b[0m \u001b[0mIndex\u001b[0m\u001b[0;34m)\u001b[0m\u001b[0;34m)\u001b[0m\u001b[0;34m:\u001b[0m\u001b[0;34m\u001b[0m\u001b[0m\n\u001b[1;32m   3390\u001b[0m                 \u001b[0;32mif\u001b[0m \u001b[0misinstance\u001b[0m\u001b[0;34m(\u001b[0m\u001b[0mvalue\u001b[0m\u001b[0;34m,\u001b[0m \u001b[0mlist\u001b[0m\u001b[0;34m)\u001b[0m \u001b[0;32mand\u001b[0m \u001b[0mlen\u001b[0m\u001b[0;34m(\u001b[0m\u001b[0mvalue\u001b[0m\u001b[0;34m)\u001b[0m \u001b[0;34m>\u001b[0m \u001b[0;36m0\u001b[0m\u001b[0;34m:\u001b[0m\u001b[0;34m\u001b[0m\u001b[0m\n",
      "\u001b[0;32m/Applications/anaconda3/lib/python3.6/site-packages/pandas/core/series.py\u001b[0m in \u001b[0;36m_sanitize_index\u001b[0;34m(data, index, copy)\u001b[0m\n\u001b[1;32m   3996\u001b[0m \u001b[0;34m\u001b[0m\u001b[0m\n\u001b[1;32m   3997\u001b[0m     \u001b[0;32mif\u001b[0m \u001b[0mlen\u001b[0m\u001b[0;34m(\u001b[0m\u001b[0mdata\u001b[0m\u001b[0;34m)\u001b[0m \u001b[0;34m!=\u001b[0m \u001b[0mlen\u001b[0m\u001b[0;34m(\u001b[0m\u001b[0mindex\u001b[0m\u001b[0;34m)\u001b[0m\u001b[0;34m:\u001b[0m\u001b[0;34m\u001b[0m\u001b[0m\n\u001b[0;32m-> 3998\u001b[0;31m         \u001b[0;32mraise\u001b[0m \u001b[0mValueError\u001b[0m\u001b[0;34m(\u001b[0m\u001b[0;34m'Length of values does not match length of '\u001b[0m \u001b[0;34m'index'\u001b[0m\u001b[0;34m)\u001b[0m\u001b[0;34m\u001b[0m\u001b[0m\n\u001b[0m\u001b[1;32m   3999\u001b[0m \u001b[0;34m\u001b[0m\u001b[0m\n\u001b[1;32m   4000\u001b[0m     \u001b[0;32mif\u001b[0m \u001b[0misinstance\u001b[0m\u001b[0;34m(\u001b[0m\u001b[0mdata\u001b[0m\u001b[0;34m,\u001b[0m \u001b[0mABCIndexClass\u001b[0m\u001b[0;34m)\u001b[0m \u001b[0;32mand\u001b[0m \u001b[0;32mnot\u001b[0m \u001b[0mcopy\u001b[0m\u001b[0;34m:\u001b[0m\u001b[0;34m\u001b[0m\u001b[0m\n",
      "\u001b[0;31mValueError\u001b[0m: Length of values does not match length of index"
     ]
    }
   ],
   "source": [
    "df_earthquake[\"BaoGua\"] = BaoGua"
   ]
  },
  {
   "cell_type": "code",
   "execution_count": 25,
   "metadata": {},
   "outputs": [
    {
     "data": {
      "text/html": [
       "<div>\n",
       "<style scoped>\n",
       "    .dataframe tbody tr th:only-of-type {\n",
       "        vertical-align: middle;\n",
       "    }\n",
       "\n",
       "    .dataframe tbody tr th {\n",
       "        vertical-align: top;\n",
       "    }\n",
       "\n",
       "    .dataframe thead th {\n",
       "        text-align: right;\n",
       "    }\n",
       "</style>\n",
       "<table border=\"1\" class=\"dataframe\">\n",
       "  <thead>\n",
       "    <tr style=\"text-align: right;\">\n",
       "      <th></th>\n",
       "      <th>Author</th>\n",
       "      <th>Board</th>\n",
       "      <th>City</th>\n",
       "      <th>Content</th>\n",
       "      <th>Date</th>\n",
       "      <th>Full IP</th>\n",
       "      <th>IP</th>\n",
       "      <th>Longitude and Latitude</th>\n",
       "      <th>Mobile</th>\n",
       "      <th>Nation</th>\n",
       "      <th>Push</th>\n",
       "      <th>Title</th>\n",
       "    </tr>\n",
       "  </thead>\n",
       "  <tbody>\n",
       "    <tr>\n",
       "      <th>M1</th>\n",
       "      <td>MiLuDaiBoom (ⓂⓛⓁⓤⒹⓐⓛⒷⓞⓞⓂ)</td>\n",
       "      <td>Gossiping</td>\n",
       "      <td>Keelung</td>\n",
       "      <td>\\n\\n欸欸欸欸欸\\n\\n最近覺得地震特別搖\\n\\n但看新聞都說還好\\n\\n所以是我太敏感\\...</td>\n",
       "      <td>Wed Jun 17 08:51:57 2020</td>\n",
       "      <td>110.50.130.167 (臺灣)</td>\n",
       "      <td>110.50.130.167</td>\n",
       "      <td>經度：121.742　緯度：25.128</td>\n",
       "      <td>Vibo Telecom</td>\n",
       "      <td>AS - Asia ( 亞洲 ) TW - Taiwan ( 台灣 )</td>\n",
       "      <td>[→ Usayhiisayha: 跟跌倒的人體重有關 06/17 08:52, 推 VViz...</td>\n",
       "      <td>[問卦] 地震搖晃程度和屋齡有關嗎？</td>\n",
       "    </tr>\n",
       "    <tr>\n",
       "      <th>M2</th>\n",
       "      <td>king1010 (玩酷)</td>\n",
       "      <td>Gossiping</td>\n",
       "      <td>Taipei</td>\n",
       "      <td>不想上班啊 有地震\\n\\n</td>\n",
       "      <td>Wed Jun 17 07:18:48 2020</td>\n",
       "      <td>42.72.69.21 (臺灣)</td>\n",
       "      <td>42.72.69.21</td>\n",
       "      <td>經度：121.532　緯度：25.048</td>\n",
       "      <td>Chunghwa Telecom</td>\n",
       "      <td>AS - Asia ( 亞洲 ) TW - Taiwan ( 台灣 )</td>\n",
       "      <td>[推 Beee09: 你最慢 06/17 07:20, 推 skbshawn: 抓最後一個 ...</td>\n",
       "      <td>[爆卦] 地震</td>\n",
       "    </tr>\n",
       "    <tr>\n",
       "      <th>M3</th>\n",
       "      <td>musashi4735 (武藏)</td>\n",
       "      <td>Gossiping</td>\n",
       "      <td>Taipei</td>\n",
       "      <td>地震!!中壢\\n\\n</td>\n",
       "      <td>Wed Jun 17 07:18:17 2020</td>\n",
       "      <td>114.32.216.39 (臺灣)</td>\n",
       "      <td>114.32.216.39</td>\n",
       "      <td>經度：121.532　緯度：25.048</td>\n",
       "      <td>Taiwan Academic Network</td>\n",
       "      <td>AS - Asia ( 亞洲 ) TW - Taiwan ( 台灣 )</td>\n",
       "      <td>[※ 編輯: musashi4735 (114.32.216.39 臺灣), 06/17/2...</td>\n",
       "      <td>[爆卦] 地震</td>\n",
       "    </tr>\n",
       "    <tr>\n",
       "      <th>M4</th>\n",
       "      <td>air121 (I GOT SPIRIT)</td>\n",
       "      <td>Gossiping</td>\n",
       "      <td>Taipei</td>\n",
       "      <td>台北\\n\\n</td>\n",
       "      <td>Wed Jun 17 07:18:12 2020</td>\n",
       "      <td>123.193.3.30 (臺灣)</td>\n",
       "      <td>123.193.3.30</td>\n",
       "      <td>經度：121.532　緯度：25.048</td>\n",
       "      <td>Taiwan Academic Network</td>\n",
       "      <td>AS - Asia ( 亞洲 ) TW - Taiwan ( 台灣 )</td>\n",
       "      <td>[推 newsun1997: CC 06/17 07:18, , , 本網站已依台灣網站內容...</td>\n",
       "      <td>[爆卦] 地震</td>\n",
       "    </tr>\n",
       "    <tr>\n",
       "      <th>M5</th>\n",
       "      <td>open20023 (open20023)</td>\n",
       "      <td>Gossiping</td>\n",
       "      <td>Taipei</td>\n",
       "      <td>\\n好可怕啊\\n\\n</td>\n",
       "      <td>Wed Jun 17 07:18:10 2020</td>\n",
       "      <td>110.26.190.162 (臺灣)</td>\n",
       "      <td>110.26.190.162</td>\n",
       "      <td>經度：121.532　緯度：25.048</td>\n",
       "      <td>LINE Mobile</td>\n",
       "      <td>AS - Asia ( 亞洲 ) TW - Taiwan ( 台灣 )</td>\n",
       "      <td>[, , 本網站已依台灣網站內容分級規定處理。此區域為限制級，未滿十八歲者不得瀏覽。, ]</td>\n",
       "      <td>地震</td>\n",
       "    </tr>\n",
       "  </tbody>\n",
       "</table>\n",
       "</div>"
      ],
      "text/plain": [
       "                       Author      Board     City  \\\n",
       "M1  MiLuDaiBoom (ⓂⓛⓁⓤⒹⓐⓛⒷⓞⓞⓂ)  Gossiping  Keelung   \n",
       "M2              king1010 (玩酷)  Gossiping   Taipei   \n",
       "M3           musashi4735 (武藏)  Gossiping   Taipei   \n",
       "M4      air121 (I GOT SPIRIT)  Gossiping   Taipei   \n",
       "M5      open20023 (open20023)  Gossiping   Taipei   \n",
       "\n",
       "                                              Content  \\\n",
       "M1  \\n\\n欸欸欸欸欸\\n\\n最近覺得地震特別搖\\n\\n但看新聞都說還好\\n\\n所以是我太敏感\\...   \n",
       "M2                                      不想上班啊 有地震\\n\\n   \n",
       "M3                                         地震!!中壢\\n\\n   \n",
       "M4                                             台北\\n\\n   \n",
       "M5                                         \\n好可怕啊\\n\\n   \n",
       "\n",
       "                        Date               Full IP              IP  \\\n",
       "M1  Wed Jun 17 08:51:57 2020   110.50.130.167 (臺灣)  110.50.130.167   \n",
       "M2  Wed Jun 17 07:18:48 2020      42.72.69.21 (臺灣)     42.72.69.21   \n",
       "M3  Wed Jun 17 07:18:17 2020    114.32.216.39 (臺灣)   114.32.216.39   \n",
       "M4  Wed Jun 17 07:18:12 2020     123.193.3.30 (臺灣)    123.193.3.30   \n",
       "M5  Wed Jun 17 07:18:10 2020   110.26.190.162 (臺灣)  110.26.190.162   \n",
       "\n",
       "   Longitude and Latitude                   Mobile  \\\n",
       "M1   經度：121.742　緯度：25.128             Vibo Telecom   \n",
       "M2   經度：121.532　緯度：25.048         Chunghwa Telecom   \n",
       "M3   經度：121.532　緯度：25.048  Taiwan Academic Network   \n",
       "M4   經度：121.532　緯度：25.048  Taiwan Academic Network   \n",
       "M5   經度：121.532　緯度：25.048              LINE Mobile   \n",
       "\n",
       "                                 Nation  \\\n",
       "M1  AS - Asia ( 亞洲 ) TW - Taiwan ( 台灣 )   \n",
       "M2  AS - Asia ( 亞洲 ) TW - Taiwan ( 台灣 )   \n",
       "M3  AS - Asia ( 亞洲 ) TW - Taiwan ( 台灣 )   \n",
       "M4  AS - Asia ( 亞洲 ) TW - Taiwan ( 台灣 )   \n",
       "M5  AS - Asia ( 亞洲 ) TW - Taiwan ( 台灣 )   \n",
       "\n",
       "                                                 Push               Title  \n",
       "M1  [→ Usayhiisayha: 跟跌倒的人體重有關 06/17 08:52, 推 VViz...  [問卦] 地震搖晃程度和屋齡有關嗎？  \n",
       "M2  [推 Beee09: 你最慢 06/17 07:20, 推 skbshawn: 抓最後一個 ...             [爆卦] 地震  \n",
       "M3  [※ 編輯: musashi4735 (114.32.216.39 臺灣), 06/17/2...             [爆卦] 地震  \n",
       "M4  [推 newsun1997: CC 06/17 07:18, , , 本網站已依台灣網站內容...             [爆卦] 地震  \n",
       "M5      [, , 本網站已依台灣網站內容分級規定處理。此區域為限制級，未滿十八歲者不得瀏覽。, ]                  地震  "
      ]
     },
     "execution_count": 25,
     "metadata": {},
     "output_type": "execute_result"
    }
   ],
   "source": [
    "df_earthquake.head()"
   ]
  },
  {
   "cell_type": "code",
   "execution_count": 26,
   "metadata": {},
   "outputs": [
    {
     "data": {
      "text/plain": [
       "1040"
      ]
     },
     "execution_count": 26,
     "metadata": {},
     "output_type": "execute_result"
    }
   ],
   "source": [
    "YouWin = [] #是dummy，看這篇文章的推文有沒有「你贏了」，藉以判斷是否是「地震文」\n",
    "for row in range(0, len(df_earthquake)):\n",
    "    push_content = \" \".join(df_earthquake.iloc[row][10])\n",
    "    if \"你贏了\" in push_content or \"贏了\" in push_content:\n",
    "        #print(push_content)\n",
    "        YouWin.append(1)\n",
    "    else:\n",
    "        YouWin.append(0)\n",
    "len(YouWin)"
   ]
  },
  {
   "cell_type": "code",
   "execution_count": 27,
   "metadata": {},
   "outputs": [],
   "source": [
    "df_earthquake[\"YouWin\"] = YouWin"
   ]
  },
  {
   "cell_type": "code",
   "execution_count": 28,
   "metadata": {},
   "outputs": [
    {
     "data": {
      "text/html": [
       "<div>\n",
       "<style scoped>\n",
       "    .dataframe tbody tr th:only-of-type {\n",
       "        vertical-align: middle;\n",
       "    }\n",
       "\n",
       "    .dataframe tbody tr th {\n",
       "        vertical-align: top;\n",
       "    }\n",
       "\n",
       "    .dataframe thead th {\n",
       "        text-align: right;\n",
       "    }\n",
       "</style>\n",
       "<table border=\"1\" class=\"dataframe\">\n",
       "  <thead>\n",
       "    <tr style=\"text-align: right;\">\n",
       "      <th></th>\n",
       "      <th>Author</th>\n",
       "      <th>Board</th>\n",
       "      <th>City</th>\n",
       "      <th>Content</th>\n",
       "      <th>Date</th>\n",
       "      <th>Full IP</th>\n",
       "      <th>IP</th>\n",
       "      <th>Longitude and Latitude</th>\n",
       "      <th>Mobile</th>\n",
       "      <th>Nation</th>\n",
       "      <th>Push</th>\n",
       "      <th>Title</th>\n",
       "      <th>YouWin</th>\n",
       "    </tr>\n",
       "  </thead>\n",
       "  <tbody>\n",
       "    <tr>\n",
       "      <th>M1</th>\n",
       "      <td>MiLuDaiBoom (ⓂⓛⓁⓤⒹⓐⓛⒷⓞⓞⓂ)</td>\n",
       "      <td>Gossiping</td>\n",
       "      <td>Keelung</td>\n",
       "      <td>\\n\\n欸欸欸欸欸\\n\\n最近覺得地震特別搖\\n\\n但看新聞都說還好\\n\\n所以是我太敏感\\...</td>\n",
       "      <td>Wed Jun 17 08:51:57 2020</td>\n",
       "      <td>110.50.130.167 (臺灣)</td>\n",
       "      <td>110.50.130.167</td>\n",
       "      <td>經度：121.742　緯度：25.128</td>\n",
       "      <td>Vibo Telecom</td>\n",
       "      <td>AS - Asia ( 亞洲 ) TW - Taiwan ( 台灣 )</td>\n",
       "      <td>[→ Usayhiisayha: 跟跌倒的人體重有關 06/17 08:52, 推 VViz...</td>\n",
       "      <td>[問卦] 地震搖晃程度和屋齡有關嗎？</td>\n",
       "      <td>0</td>\n",
       "    </tr>\n",
       "    <tr>\n",
       "      <th>M2</th>\n",
       "      <td>king1010 (玩酷)</td>\n",
       "      <td>Gossiping</td>\n",
       "      <td>Taipei</td>\n",
       "      <td>不想上班啊 有地震\\n\\n</td>\n",
       "      <td>Wed Jun 17 07:18:48 2020</td>\n",
       "      <td>42.72.69.21 (臺灣)</td>\n",
       "      <td>42.72.69.21</td>\n",
       "      <td>經度：121.532　緯度：25.048</td>\n",
       "      <td>Chunghwa Telecom</td>\n",
       "      <td>AS - Asia ( 亞洲 ) TW - Taiwan ( 台灣 )</td>\n",
       "      <td>[推 Beee09: 你最慢 06/17 07:20, 推 skbshawn: 抓最後一個 ...</td>\n",
       "      <td>[爆卦] 地震</td>\n",
       "      <td>0</td>\n",
       "    </tr>\n",
       "    <tr>\n",
       "      <th>M3</th>\n",
       "      <td>musashi4735 (武藏)</td>\n",
       "      <td>Gossiping</td>\n",
       "      <td>Taipei</td>\n",
       "      <td>地震!!中壢\\n\\n</td>\n",
       "      <td>Wed Jun 17 07:18:17 2020</td>\n",
       "      <td>114.32.216.39 (臺灣)</td>\n",
       "      <td>114.32.216.39</td>\n",
       "      <td>經度：121.532　緯度：25.048</td>\n",
       "      <td>Taiwan Academic Network</td>\n",
       "      <td>AS - Asia ( 亞洲 ) TW - Taiwan ( 台灣 )</td>\n",
       "      <td>[※ 編輯: musashi4735 (114.32.216.39 臺灣), 06/17/2...</td>\n",
       "      <td>[爆卦] 地震</td>\n",
       "      <td>0</td>\n",
       "    </tr>\n",
       "    <tr>\n",
       "      <th>M4</th>\n",
       "      <td>air121 (I GOT SPIRIT)</td>\n",
       "      <td>Gossiping</td>\n",
       "      <td>Taipei</td>\n",
       "      <td>台北\\n\\n</td>\n",
       "      <td>Wed Jun 17 07:18:12 2020</td>\n",
       "      <td>123.193.3.30 (臺灣)</td>\n",
       "      <td>123.193.3.30</td>\n",
       "      <td>經度：121.532　緯度：25.048</td>\n",
       "      <td>Taiwan Academic Network</td>\n",
       "      <td>AS - Asia ( 亞洲 ) TW - Taiwan ( 台灣 )</td>\n",
       "      <td>[推 newsun1997: CC 06/17 07:18, , , 本網站已依台灣網站內容...</td>\n",
       "      <td>[爆卦] 地震</td>\n",
       "      <td>0</td>\n",
       "    </tr>\n",
       "    <tr>\n",
       "      <th>M5</th>\n",
       "      <td>open20023 (open20023)</td>\n",
       "      <td>Gossiping</td>\n",
       "      <td>Taipei</td>\n",
       "      <td>\\n好可怕啊\\n\\n</td>\n",
       "      <td>Wed Jun 17 07:18:10 2020</td>\n",
       "      <td>110.26.190.162 (臺灣)</td>\n",
       "      <td>110.26.190.162</td>\n",
       "      <td>經度：121.532　緯度：25.048</td>\n",
       "      <td>LINE Mobile</td>\n",
       "      <td>AS - Asia ( 亞洲 ) TW - Taiwan ( 台灣 )</td>\n",
       "      <td>[, , 本網站已依台灣網站內容分級規定處理。此區域為限制級，未滿十八歲者不得瀏覽。, ]</td>\n",
       "      <td>地震</td>\n",
       "      <td>0</td>\n",
       "    </tr>\n",
       "  </tbody>\n",
       "</table>\n",
       "</div>"
      ],
      "text/plain": [
       "                       Author      Board     City  \\\n",
       "M1  MiLuDaiBoom (ⓂⓛⓁⓤⒹⓐⓛⒷⓞⓞⓂ)  Gossiping  Keelung   \n",
       "M2              king1010 (玩酷)  Gossiping   Taipei   \n",
       "M3           musashi4735 (武藏)  Gossiping   Taipei   \n",
       "M4      air121 (I GOT SPIRIT)  Gossiping   Taipei   \n",
       "M5      open20023 (open20023)  Gossiping   Taipei   \n",
       "\n",
       "                                              Content  \\\n",
       "M1  \\n\\n欸欸欸欸欸\\n\\n最近覺得地震特別搖\\n\\n但看新聞都說還好\\n\\n所以是我太敏感\\...   \n",
       "M2                                      不想上班啊 有地震\\n\\n   \n",
       "M3                                         地震!!中壢\\n\\n   \n",
       "M4                                             台北\\n\\n   \n",
       "M5                                         \\n好可怕啊\\n\\n   \n",
       "\n",
       "                        Date               Full IP              IP  \\\n",
       "M1  Wed Jun 17 08:51:57 2020   110.50.130.167 (臺灣)  110.50.130.167   \n",
       "M2  Wed Jun 17 07:18:48 2020      42.72.69.21 (臺灣)     42.72.69.21   \n",
       "M3  Wed Jun 17 07:18:17 2020    114.32.216.39 (臺灣)   114.32.216.39   \n",
       "M4  Wed Jun 17 07:18:12 2020     123.193.3.30 (臺灣)    123.193.3.30   \n",
       "M5  Wed Jun 17 07:18:10 2020   110.26.190.162 (臺灣)  110.26.190.162   \n",
       "\n",
       "   Longitude and Latitude                   Mobile  \\\n",
       "M1   經度：121.742　緯度：25.128             Vibo Telecom   \n",
       "M2   經度：121.532　緯度：25.048         Chunghwa Telecom   \n",
       "M3   經度：121.532　緯度：25.048  Taiwan Academic Network   \n",
       "M4   經度：121.532　緯度：25.048  Taiwan Academic Network   \n",
       "M5   經度：121.532　緯度：25.048              LINE Mobile   \n",
       "\n",
       "                                 Nation  \\\n",
       "M1  AS - Asia ( 亞洲 ) TW - Taiwan ( 台灣 )   \n",
       "M2  AS - Asia ( 亞洲 ) TW - Taiwan ( 台灣 )   \n",
       "M3  AS - Asia ( 亞洲 ) TW - Taiwan ( 台灣 )   \n",
       "M4  AS - Asia ( 亞洲 ) TW - Taiwan ( 台灣 )   \n",
       "M5  AS - Asia ( 亞洲 ) TW - Taiwan ( 台灣 )   \n",
       "\n",
       "                                                 Push               Title  \\\n",
       "M1  [→ Usayhiisayha: 跟跌倒的人體重有關 06/17 08:52, 推 VViz...  [問卦] 地震搖晃程度和屋齡有關嗎？   \n",
       "M2  [推 Beee09: 你最慢 06/17 07:20, 推 skbshawn: 抓最後一個 ...             [爆卦] 地震   \n",
       "M3  [※ 編輯: musashi4735 (114.32.216.39 臺灣), 06/17/2...             [爆卦] 地震   \n",
       "M4  [推 newsun1997: CC 06/17 07:18, , , 本網站已依台灣網站內容...             [爆卦] 地震   \n",
       "M5      [, , 本網站已依台灣網站內容分級規定處理。此區域為限制級，未滿十八歲者不得瀏覽。, ]                  地震   \n",
       "\n",
       "    YouWin  \n",
       "M1       0  \n",
       "M2       0  \n",
       "M3       0  \n",
       "M4       0  \n",
       "M5       0  "
      ]
     },
     "execution_count": 28,
     "metadata": {},
     "output_type": "execute_result"
    }
   ],
   "source": [
    "df_earthquake.head()"
   ]
  },
  {
   "cell_type": "markdown",
   "metadata": {},
   "source": [
    "## 看「地震文」\n",
    "\n",
    "假定是同時符合「推文有『你贏了』」及「標題有『爆卦』」才算是地震文"
   ]
  },
  {
   "cell_type": "code",
   "execution_count": 29,
   "metadata": {},
   "outputs": [
    {
     "data": {
      "text/html": [
       "<div>\n",
       "<style scoped>\n",
       "    .dataframe tbody tr th:only-of-type {\n",
       "        vertical-align: middle;\n",
       "    }\n",
       "\n",
       "    .dataframe tbody tr th {\n",
       "        vertical-align: top;\n",
       "    }\n",
       "\n",
       "    .dataframe thead th {\n",
       "        text-align: right;\n",
       "    }\n",
       "</style>\n",
       "<table border=\"1\" class=\"dataframe\">\n",
       "  <thead>\n",
       "    <tr style=\"text-align: right;\">\n",
       "      <th></th>\n",
       "      <th>Author</th>\n",
       "      <th>Board</th>\n",
       "      <th>City</th>\n",
       "      <th>Content</th>\n",
       "      <th>Date</th>\n",
       "      <th>Full IP</th>\n",
       "      <th>IP</th>\n",
       "      <th>Longitude and Latitude</th>\n",
       "      <th>Mobile</th>\n",
       "      <th>Nation</th>\n",
       "      <th>Push</th>\n",
       "      <th>Title</th>\n",
       "      <th>YouWin</th>\n",
       "    </tr>\n",
       "  </thead>\n",
       "  <tbody>\n",
       "    <tr>\n",
       "      <th>M11</th>\n",
       "      <td>spirit119 (一二三木頭人)</td>\n",
       "      <td>Gossiping</td>\n",
       "      <td>Taipei</td>\n",
       "      <td>居然搶到地震文頭香了\\n\\n塊陶!!!\\n\\nhttps://reurl.cc/4RM3RX...</td>\n",
       "      <td>Wed Jun 17 07:17:37 2020</td>\n",
       "      <td>27.246.72.199 (臺灣)</td>\n",
       "      <td>27.246.72.199</td>\n",
       "      <td>經度：121.532　緯度：25.048</td>\n",
       "      <td>FarEasTone</td>\n",
       "      <td>AS - Asia ( 亞洲 ) TW - Taiwan ( 台灣 )</td>\n",
       "      <td>[推 justlovedada: 幹 06/17 07:17, 推 KLGlikeshit:...</td>\n",
       "      <td>[爆卦] 地震</td>\n",
       "      <td>1</td>\n",
       "    </tr>\n",
       "    <tr>\n",
       "      <th>M54</th>\n",
       "      <td>seabax (seabox)</td>\n",
       "      <td>Gossiping</td>\n",
       "      <td>Taipei</td>\n",
       "      <td>\\n啊啊啊\\n\\n</td>\n",
       "      <td>Sun Jun 14 04:20:16 2020</td>\n",
       "      <td>223.140.163.204 (臺灣)</td>\n",
       "      <td>223.140.163.204</td>\n",
       "      <td>經度：121.532　緯度：25.048</td>\n",
       "      <td>Chunghwa Telecom</td>\n",
       "      <td>AS - Asia ( 亞洲 ) TW - Taiwan ( 台灣 )</td>\n",
       "      <td>[推 jsyunlin: 你贏了 06/14 04:20, , , 本網站已依台灣網站內容分...</td>\n",
       "      <td>[爆卦] 震</td>\n",
       "      <td>1</td>\n",
       "    </tr>\n",
       "    <tr>\n",
       "      <th>M59</th>\n",
       "      <td>Tiandai (Tiandai)</td>\n",
       "      <td>Gossiping</td>\n",
       "      <td>Yilan</td>\n",
       "      <td>欸不是  我人生兩次地震文\\n\\n怎麼都贏啊\\n\\n\\n</td>\n",
       "      <td>Sun Jun 14 04:19:37 2020</td>\n",
       "      <td>49.159.180.229 (臺灣)</td>\n",
       "      <td>49.159.180.229</td>\n",
       "      <td>經度：121.753　緯度：24.757</td>\n",
       "      <td>Yeong Jia Leh Cable Tv Co.</td>\n",
       "      <td>AS - Asia ( 亞洲 ) TW - Taiwan ( 台灣 )</td>\n",
       "      <td>[噓 a27588679: 幹 06/14 04:19, 推 bill403777: 幹 0...</td>\n",
       "      <td>[爆卦] 地震</td>\n",
       "      <td>1</td>\n",
       "    </tr>\n",
       "    <tr>\n",
       "      <th>M66</th>\n",
       "      <td>AntitheApple (蘋果? 那是什麼好吃嗎)</td>\n",
       "      <td>Gossiping</td>\n",
       "      <td>Hualien City</td>\n",
       "      <td>居然有地震\\n\\n\\n\\n發震時間：2020/06/12 08:21:35\\n\\n位置：北緯...</td>\n",
       "      <td>Fri Jun 12 08:21:58 2020</td>\n",
       "      <td>114.44.214.137 (臺灣)</td>\n",
       "      <td>114.44.214.137</td>\n",
       "      <td>經度：121.612　緯度：23.981</td>\n",
       "      <td>HiNet</td>\n",
       "      <td>AS - Asia ( 亞洲 ) TW - Taiwan ( 台灣 )</td>\n",
       "      <td>[※ 編輯: AntitheApple (114.44.214.137 臺灣), 06/12...</td>\n",
       "      <td>[爆卦] 地震</td>\n",
       "      <td>1</td>\n",
       "    </tr>\n",
       "    <tr>\n",
       "      <th>M88</th>\n",
       "      <td>B0Y0 (假柏濕)</td>\n",
       "      <td>Gossiping</td>\n",
       "      <td>NaN</td>\n",
       "      <td>到底ˋ有沒有\\n\\n\\n第 030 號顯著有感地震報告\\n發震時間：2020/06/11 0...</td>\n",
       "      <td>Thu Jun 11 09:39:09 2020</td>\n",
       "      <td>114.45.248.37 (臺灣)</td>\n",
       "      <td>114.45.248.37</td>\n",
       "      <td>NaN</td>\n",
       "      <td>NaN</td>\n",
       "      <td>NaN</td>\n",
       "      <td>[推 sivhd: 有 06/11 09:39, → sincere77: 贏了 06/11...</td>\n",
       "      <td>[爆卦] 地震</td>\n",
       "      <td>1</td>\n",
       "    </tr>\n",
       "  </tbody>\n",
       "</table>\n",
       "</div>"
      ],
      "text/plain": [
       "                         Author      Board          City  \\\n",
       "M11          spirit119 (一二三木頭人)  Gossiping        Taipei   \n",
       "M54             seabax (seabox)  Gossiping        Taipei   \n",
       "M59           Tiandai (Tiandai)  Gossiping         Yilan   \n",
       "M66  AntitheApple (蘋果? 那是什麼好吃嗎)  Gossiping  Hualien City   \n",
       "M88                  B0Y0 (假柏濕)  Gossiping           NaN   \n",
       "\n",
       "                                               Content  \\\n",
       "M11  居然搶到地震文頭香了\\n\\n塊陶!!!\\n\\nhttps://reurl.cc/4RM3RX...   \n",
       "M54                                          \\n啊啊啊\\n\\n   \n",
       "M59                       欸不是  我人生兩次地震文\\n\\n怎麼都贏啊\\n\\n\\n   \n",
       "M66  居然有地震\\n\\n\\n\\n發震時間：2020/06/12 08:21:35\\n\\n位置：北緯...   \n",
       "M88  到底ˋ有沒有\\n\\n\\n第 030 號顯著有感地震報告\\n發震時間：2020/06/11 0...   \n",
       "\n",
       "                         Date                Full IP               IP  \\\n",
       "M11  Wed Jun 17 07:17:37 2020     27.246.72.199 (臺灣)    27.246.72.199   \n",
       "M54  Sun Jun 14 04:20:16 2020   223.140.163.204 (臺灣)  223.140.163.204   \n",
       "M59  Sun Jun 14 04:19:37 2020    49.159.180.229 (臺灣)   49.159.180.229   \n",
       "M66  Fri Jun 12 08:21:58 2020    114.44.214.137 (臺灣)   114.44.214.137   \n",
       "M88  Thu Jun 11 09:39:09 2020     114.45.248.37 (臺灣)    114.45.248.37   \n",
       "\n",
       "    Longitude and Latitude                      Mobile  \\\n",
       "M11   經度：121.532　緯度：25.048                  FarEasTone   \n",
       "M54   經度：121.532　緯度：25.048            Chunghwa Telecom   \n",
       "M59   經度：121.753　緯度：24.757  Yeong Jia Leh Cable Tv Co.   \n",
       "M66   經度：121.612　緯度：23.981                       HiNet   \n",
       "M88                    NaN                         NaN   \n",
       "\n",
       "                                  Nation  \\\n",
       "M11  AS - Asia ( 亞洲 ) TW - Taiwan ( 台灣 )   \n",
       "M54  AS - Asia ( 亞洲 ) TW - Taiwan ( 台灣 )   \n",
       "M59  AS - Asia ( 亞洲 ) TW - Taiwan ( 台灣 )   \n",
       "M66  AS - Asia ( 亞洲 ) TW - Taiwan ( 台灣 )   \n",
       "M88                                  NaN   \n",
       "\n",
       "                                                  Push    Title  YouWin  \n",
       "M11  [推 justlovedada: 幹 06/17 07:17, 推 KLGlikeshit:...  [爆卦] 地震       1  \n",
       "M54  [推 jsyunlin: 你贏了 06/14 04:20, , , 本網站已依台灣網站內容分...   [爆卦] 震       1  \n",
       "M59  [噓 a27588679: 幹 06/14 04:19, 推 bill403777: 幹 0...  [爆卦] 地震       1  \n",
       "M66  [※ 編輯: AntitheApple (114.44.214.137 臺灣), 06/12...  [爆卦] 地震       1  \n",
       "M88  [推 sivhd: 有 06/11 09:39, → sincere77: 贏了 06/11...  [爆卦] 地震       1  "
      ]
     },
     "execution_count": 29,
     "metadata": {},
     "output_type": "execute_result"
    }
   ],
   "source": [
    "# 只有「你贏了」\n",
    "df_earthquake[df_earthquake[\"YouWin\"]==1].head()"
   ]
  },
  {
   "cell_type": "code",
   "execution_count": 30,
   "metadata": {},
   "outputs": [
    {
     "name": "stdout",
     "output_type": "stream",
     "text": [
      "1040 1040\n"
     ]
    }
   ],
   "source": [
    "# 拆開經緯度資訊\n",
    "Longitude = [] #經度\n",
    "Latitude = [] #緯度\n",
    "for row in range(0, len(df_earthquake)):\n",
    "    try:\n",
    "        Long = df_earthquake.iloc[row][7].split(sep = \"：\")[1].split()[0]\n",
    "        Lati = df_earthquake.iloc[row][7].split(sep = \"：\")[2]\n",
    "\n",
    "        Longitude.append(Long)\n",
    "        Latitude.append(Lati)\n",
    "    except:\n",
    "        Longitude.append(\"NaN\")\n",
    "        Latitude.append(\"NaN\")\n",
    "print(len(Longitude), len(Latitude))"
   ]
  },
  {
   "cell_type": "code",
   "execution_count": 31,
   "metadata": {},
   "outputs": [
    {
     "name": "stdout",
     "output_type": "stream",
     "text": [
      "經度：-121.816　緯度：37.370\n"
     ]
    },
    {
     "data": {
      "text/plain": [
       "'-121.816'"
      ]
     },
     "execution_count": 31,
     "metadata": {},
     "output_type": "execute_result"
    }
   ],
   "source": [
    "print(df_earthquake.iloc[row][7])\n",
    "df_earthquake.iloc[row][7].split(sep = \"：\")[1].split()[0]"
   ]
  },
  {
   "cell_type": "code",
   "execution_count": 32,
   "metadata": {},
   "outputs": [
    {
     "data": {
      "text/plain": [
       "'37.370'"
      ]
     },
     "execution_count": 32,
     "metadata": {},
     "output_type": "execute_result"
    }
   ],
   "source": [
    "df_earthquake.iloc[row][7].split(sep = \"：\")[2]"
   ]
  },
  {
   "cell_type": "code",
   "execution_count": 33,
   "metadata": {},
   "outputs": [
    {
     "data": {
      "text/plain": [
       "'經度：-121.816\\u3000緯度：37.370'"
      ]
     },
     "execution_count": 33,
     "metadata": {},
     "output_type": "execute_result"
    }
   ],
   "source": [
    "df_earthquake.iloc[row][7]"
   ]
  },
  {
   "cell_type": "code",
   "execution_count": 34,
   "metadata": {},
   "outputs": [],
   "source": [
    "df_earthquake[\"Longitude\"] = Longitude\n",
    "df_earthquake[\"Latitude\"] = Latitude"
   ]
  },
  {
   "cell_type": "code",
   "execution_count": 35,
   "metadata": {},
   "outputs": [
    {
     "data": {
      "text/html": [
       "<div>\n",
       "<style scoped>\n",
       "    .dataframe tbody tr th:only-of-type {\n",
       "        vertical-align: middle;\n",
       "    }\n",
       "\n",
       "    .dataframe tbody tr th {\n",
       "        vertical-align: top;\n",
       "    }\n",
       "\n",
       "    .dataframe thead th {\n",
       "        text-align: right;\n",
       "    }\n",
       "</style>\n",
       "<table border=\"1\" class=\"dataframe\">\n",
       "  <thead>\n",
       "    <tr style=\"text-align: right;\">\n",
       "      <th></th>\n",
       "      <th>Author</th>\n",
       "      <th>Board</th>\n",
       "      <th>City</th>\n",
       "      <th>Content</th>\n",
       "      <th>Date</th>\n",
       "      <th>Full IP</th>\n",
       "      <th>IP</th>\n",
       "      <th>Longitude and Latitude</th>\n",
       "      <th>Mobile</th>\n",
       "      <th>Nation</th>\n",
       "      <th>Push</th>\n",
       "      <th>Title</th>\n",
       "      <th>YouWin</th>\n",
       "      <th>Longitude</th>\n",
       "      <th>Latitude</th>\n",
       "    </tr>\n",
       "  </thead>\n",
       "  <tbody>\n",
       "    <tr>\n",
       "      <th>M1</th>\n",
       "      <td>MiLuDaiBoom (ⓂⓛⓁⓤⒹⓐⓛⒷⓞⓞⓂ)</td>\n",
       "      <td>Gossiping</td>\n",
       "      <td>Keelung</td>\n",
       "      <td>\\n\\n欸欸欸欸欸\\n\\n最近覺得地震特別搖\\n\\n但看新聞都說還好\\n\\n所以是我太敏感\\...</td>\n",
       "      <td>Wed Jun 17 08:51:57 2020</td>\n",
       "      <td>110.50.130.167 (臺灣)</td>\n",
       "      <td>110.50.130.167</td>\n",
       "      <td>經度：121.742　緯度：25.128</td>\n",
       "      <td>Vibo Telecom</td>\n",
       "      <td>AS - Asia ( 亞洲 ) TW - Taiwan ( 台灣 )</td>\n",
       "      <td>[→ Usayhiisayha: 跟跌倒的人體重有關 06/17 08:52, 推 VViz...</td>\n",
       "      <td>[問卦] 地震搖晃程度和屋齡有關嗎？</td>\n",
       "      <td>0</td>\n",
       "      <td>121.742</td>\n",
       "      <td>25.128</td>\n",
       "    </tr>\n",
       "    <tr>\n",
       "      <th>M2</th>\n",
       "      <td>king1010 (玩酷)</td>\n",
       "      <td>Gossiping</td>\n",
       "      <td>Taipei</td>\n",
       "      <td>不想上班啊 有地震\\n\\n</td>\n",
       "      <td>Wed Jun 17 07:18:48 2020</td>\n",
       "      <td>42.72.69.21 (臺灣)</td>\n",
       "      <td>42.72.69.21</td>\n",
       "      <td>經度：121.532　緯度：25.048</td>\n",
       "      <td>Chunghwa Telecom</td>\n",
       "      <td>AS - Asia ( 亞洲 ) TW - Taiwan ( 台灣 )</td>\n",
       "      <td>[推 Beee09: 你最慢 06/17 07:20, 推 skbshawn: 抓最後一個 ...</td>\n",
       "      <td>[爆卦] 地震</td>\n",
       "      <td>0</td>\n",
       "      <td>121.532</td>\n",
       "      <td>25.048</td>\n",
       "    </tr>\n",
       "    <tr>\n",
       "      <th>M3</th>\n",
       "      <td>musashi4735 (武藏)</td>\n",
       "      <td>Gossiping</td>\n",
       "      <td>Taipei</td>\n",
       "      <td>地震!!中壢\\n\\n</td>\n",
       "      <td>Wed Jun 17 07:18:17 2020</td>\n",
       "      <td>114.32.216.39 (臺灣)</td>\n",
       "      <td>114.32.216.39</td>\n",
       "      <td>經度：121.532　緯度：25.048</td>\n",
       "      <td>Taiwan Academic Network</td>\n",
       "      <td>AS - Asia ( 亞洲 ) TW - Taiwan ( 台灣 )</td>\n",
       "      <td>[※ 編輯: musashi4735 (114.32.216.39 臺灣), 06/17/2...</td>\n",
       "      <td>[爆卦] 地震</td>\n",
       "      <td>0</td>\n",
       "      <td>121.532</td>\n",
       "      <td>25.048</td>\n",
       "    </tr>\n",
       "    <tr>\n",
       "      <th>M4</th>\n",
       "      <td>air121 (I GOT SPIRIT)</td>\n",
       "      <td>Gossiping</td>\n",
       "      <td>Taipei</td>\n",
       "      <td>台北\\n\\n</td>\n",
       "      <td>Wed Jun 17 07:18:12 2020</td>\n",
       "      <td>123.193.3.30 (臺灣)</td>\n",
       "      <td>123.193.3.30</td>\n",
       "      <td>經度：121.532　緯度：25.048</td>\n",
       "      <td>Taiwan Academic Network</td>\n",
       "      <td>AS - Asia ( 亞洲 ) TW - Taiwan ( 台灣 )</td>\n",
       "      <td>[推 newsun1997: CC 06/17 07:18, , , 本網站已依台灣網站內容...</td>\n",
       "      <td>[爆卦] 地震</td>\n",
       "      <td>0</td>\n",
       "      <td>121.532</td>\n",
       "      <td>25.048</td>\n",
       "    </tr>\n",
       "    <tr>\n",
       "      <th>M5</th>\n",
       "      <td>open20023 (open20023)</td>\n",
       "      <td>Gossiping</td>\n",
       "      <td>Taipei</td>\n",
       "      <td>\\n好可怕啊\\n\\n</td>\n",
       "      <td>Wed Jun 17 07:18:10 2020</td>\n",
       "      <td>110.26.190.162 (臺灣)</td>\n",
       "      <td>110.26.190.162</td>\n",
       "      <td>經度：121.532　緯度：25.048</td>\n",
       "      <td>LINE Mobile</td>\n",
       "      <td>AS - Asia ( 亞洲 ) TW - Taiwan ( 台灣 )</td>\n",
       "      <td>[, , 本網站已依台灣網站內容分級規定處理。此區域為限制級，未滿十八歲者不得瀏覽。, ]</td>\n",
       "      <td>地震</td>\n",
       "      <td>0</td>\n",
       "      <td>121.532</td>\n",
       "      <td>25.048</td>\n",
       "    </tr>\n",
       "  </tbody>\n",
       "</table>\n",
       "</div>"
      ],
      "text/plain": [
       "                       Author      Board     City  \\\n",
       "M1  MiLuDaiBoom (ⓂⓛⓁⓤⒹⓐⓛⒷⓞⓞⓂ)  Gossiping  Keelung   \n",
       "M2              king1010 (玩酷)  Gossiping   Taipei   \n",
       "M3           musashi4735 (武藏)  Gossiping   Taipei   \n",
       "M4      air121 (I GOT SPIRIT)  Gossiping   Taipei   \n",
       "M5      open20023 (open20023)  Gossiping   Taipei   \n",
       "\n",
       "                                              Content  \\\n",
       "M1  \\n\\n欸欸欸欸欸\\n\\n最近覺得地震特別搖\\n\\n但看新聞都說還好\\n\\n所以是我太敏感\\...   \n",
       "M2                                      不想上班啊 有地震\\n\\n   \n",
       "M3                                         地震!!中壢\\n\\n   \n",
       "M4                                             台北\\n\\n   \n",
       "M5                                         \\n好可怕啊\\n\\n   \n",
       "\n",
       "                        Date               Full IP              IP  \\\n",
       "M1  Wed Jun 17 08:51:57 2020   110.50.130.167 (臺灣)  110.50.130.167   \n",
       "M2  Wed Jun 17 07:18:48 2020      42.72.69.21 (臺灣)     42.72.69.21   \n",
       "M3  Wed Jun 17 07:18:17 2020    114.32.216.39 (臺灣)   114.32.216.39   \n",
       "M4  Wed Jun 17 07:18:12 2020     123.193.3.30 (臺灣)    123.193.3.30   \n",
       "M5  Wed Jun 17 07:18:10 2020   110.26.190.162 (臺灣)  110.26.190.162   \n",
       "\n",
       "   Longitude and Latitude                   Mobile  \\\n",
       "M1   經度：121.742　緯度：25.128             Vibo Telecom   \n",
       "M2   經度：121.532　緯度：25.048         Chunghwa Telecom   \n",
       "M3   經度：121.532　緯度：25.048  Taiwan Academic Network   \n",
       "M4   經度：121.532　緯度：25.048  Taiwan Academic Network   \n",
       "M5   經度：121.532　緯度：25.048              LINE Mobile   \n",
       "\n",
       "                                 Nation  \\\n",
       "M1  AS - Asia ( 亞洲 ) TW - Taiwan ( 台灣 )   \n",
       "M2  AS - Asia ( 亞洲 ) TW - Taiwan ( 台灣 )   \n",
       "M3  AS - Asia ( 亞洲 ) TW - Taiwan ( 台灣 )   \n",
       "M4  AS - Asia ( 亞洲 ) TW - Taiwan ( 台灣 )   \n",
       "M5  AS - Asia ( 亞洲 ) TW - Taiwan ( 台灣 )   \n",
       "\n",
       "                                                 Push               Title  \\\n",
       "M1  [→ Usayhiisayha: 跟跌倒的人體重有關 06/17 08:52, 推 VViz...  [問卦] 地震搖晃程度和屋齡有關嗎？   \n",
       "M2  [推 Beee09: 你最慢 06/17 07:20, 推 skbshawn: 抓最後一個 ...             [爆卦] 地震   \n",
       "M3  [※ 編輯: musashi4735 (114.32.216.39 臺灣), 06/17/2...             [爆卦] 地震   \n",
       "M4  [推 newsun1997: CC 06/17 07:18, , , 本網站已依台灣網站內容...             [爆卦] 地震   \n",
       "M5      [, , 本網站已依台灣網站內容分級規定處理。此區域為限制級，未滿十八歲者不得瀏覽。, ]                  地震   \n",
       "\n",
       "    YouWin Longitude Latitude  \n",
       "M1       0   121.742   25.128  \n",
       "M2       0   121.532   25.048  \n",
       "M3       0   121.532   25.048  \n",
       "M4       0   121.532   25.048  \n",
       "M5       0   121.532   25.048  "
      ]
     },
     "execution_count": 35,
     "metadata": {},
     "output_type": "execute_result"
    }
   ],
   "source": [
    "df_earthquake.head()"
   ]
  },
  {
   "cell_type": "markdown",
   "metadata": {},
   "source": [
    "df_earthquake.to_csv(\"PTT_earthquake_0611_2.csv\", encoding=\"utf-8\")"
   ]
  },
  {
   "cell_type": "markdown",
   "metadata": {},
   "source": [
    "# 處理時間格式"
   ]
  },
  {
   "cell_type": "markdown",
   "metadata": {},
   "source": [
    "eg. \"Sat May 30 22:18:19 2020\"\n",
    "\n",
    "ref: https://docs.python.org/zh-cn/3/library/datetime.html"
   ]
  },
  {
   "cell_type": "code",
   "execution_count": 36,
   "metadata": {},
   "outputs": [],
   "source": [
    "import datetime"
   ]
  },
  {
   "cell_type": "code",
   "execution_count": 37,
   "metadata": {},
   "outputs": [
    {
     "data": {
      "text/plain": [
       "datetime.datetime(1900, 5, 30, 0, 0)"
      ]
     },
     "execution_count": 37,
     "metadata": {},
     "output_type": "execute_result"
    }
   ],
   "source": [
    "dstr = \"Saturday May 30\"\n",
    "#datetime.datetime.strptime(dstr, \"%A %B %d\")\n",
    "datetime.datetime.strptime(dstr, \"%A %B %d\")"
   ]
  },
  {
   "cell_type": "code",
   "execution_count": 38,
   "metadata": {},
   "outputs": [],
   "source": [
    "d = datetime.date.fromordinal(730920)"
   ]
  },
  {
   "cell_type": "code",
   "execution_count": 39,
   "metadata": {},
   "outputs": [
    {
     "data": {
      "text/plain": [
       "datetime.date(2002, 3, 11)"
      ]
     },
     "execution_count": 39,
     "metadata": {},
     "output_type": "execute_result"
    }
   ],
   "source": [
    "d"
   ]
  },
  {
   "cell_type": "code",
   "execution_count": 40,
   "metadata": {},
   "outputs": [
    {
     "data": {
      "text/plain": [
       "'Monday 11. March 2002'"
      ]
     },
     "execution_count": 40,
     "metadata": {},
     "output_type": "execute_result"
    }
   ],
   "source": [
    "d.strftime(\"%A %d. %B %Y\")"
   ]
  },
  {
   "cell_type": "code",
   "execution_count": 41,
   "metadata": {},
   "outputs": [
    {
     "data": {
      "text/plain": [
       "datetime.datetime(1900, 2, 28, 0, 0)"
      ]
     },
     "execution_count": 41,
     "metadata": {},
     "output_type": "execute_result"
    }
   ],
   "source": [
    "dstr = \"Sat Feb 28\"\n",
    "datetime.datetime.strptime(dstr, \"%a %b %d\")"
   ]
  },
  {
   "cell_type": "code",
   "execution_count": 42,
   "metadata": {},
   "outputs": [],
   "source": [
    "# 正確的時間格式\n",
    "dstr = \"Sat May 30 22:18:19 2020\"\n",
    "d = datetime.datetime.strptime(dstr, \"%a %b %d %H:%M:%S %Y\")"
   ]
  },
  {
   "cell_type": "code",
   "execution_count": 43,
   "metadata": {},
   "outputs": [
    {
     "data": {
      "text/plain": [
       "'2020-05-30 22:18:19'"
      ]
     },
     "execution_count": 43,
     "metadata": {},
     "output_type": "execute_result"
    }
   ],
   "source": [
    "d.strftime(\"%Y-%m-%d %H:%M:%S\")"
   ]
  },
  {
   "cell_type": "code",
   "execution_count": 44,
   "metadata": {},
   "outputs": [
    {
     "data": {
      "text/plain": [
       "'Mon Jan 27 08:40:23 2020'"
      ]
     },
     "execution_count": 44,
     "metadata": {},
     "output_type": "execute_result"
    }
   ],
   "source": [
    "df_earthquake.iloc[row][4]"
   ]
  },
  {
   "cell_type": "code",
   "execution_count": 45,
   "metadata": {},
   "outputs": [
    {
     "name": "stdout",
     "output_type": "stream",
     "text": [
      "1040 1\n"
     ]
    }
   ],
   "source": [
    "# 修改時間格式\n",
    "Date_format = [] #經度\n",
    "count = 0\n",
    "for row in range(0, len(df_earthquake)):\n",
    "    try:\n",
    "        dstr = df_earthquake.iloc[row][4]\n",
    "        d = datetime.datetime.strptime(dstr, \"%a %b %d %H:%M:%S %Y\")\n",
    "        Date_format.append(d.strftime(\"%Y-%m-%d %H:%M:%S\"))\n",
    "    except:\n",
    "        Date_format.append(\"NaN\")\n",
    "        count+=1\n",
    "print(len(Date_format), count)"
   ]
  },
  {
   "cell_type": "code",
   "execution_count": 46,
   "metadata": {},
   "outputs": [],
   "source": [
    "df_earthquake[\"Date_format\"] = Date_format"
   ]
  },
  {
   "cell_type": "code",
   "execution_count": 47,
   "metadata": {},
   "outputs": [
    {
     "data": {
      "text/html": [
       "<div>\n",
       "<style scoped>\n",
       "    .dataframe tbody tr th:only-of-type {\n",
       "        vertical-align: middle;\n",
       "    }\n",
       "\n",
       "    .dataframe tbody tr th {\n",
       "        vertical-align: top;\n",
       "    }\n",
       "\n",
       "    .dataframe thead th {\n",
       "        text-align: right;\n",
       "    }\n",
       "</style>\n",
       "<table border=\"1\" class=\"dataframe\">\n",
       "  <thead>\n",
       "    <tr style=\"text-align: right;\">\n",
       "      <th></th>\n",
       "      <th>Author</th>\n",
       "      <th>Board</th>\n",
       "      <th>City</th>\n",
       "      <th>Content</th>\n",
       "      <th>Date</th>\n",
       "      <th>Full IP</th>\n",
       "      <th>IP</th>\n",
       "      <th>Longitude and Latitude</th>\n",
       "      <th>Mobile</th>\n",
       "      <th>Nation</th>\n",
       "      <th>Push</th>\n",
       "      <th>Title</th>\n",
       "      <th>YouWin</th>\n",
       "      <th>Longitude</th>\n",
       "      <th>Latitude</th>\n",
       "      <th>Date_format</th>\n",
       "    </tr>\n",
       "  </thead>\n",
       "  <tbody>\n",
       "    <tr>\n",
       "      <th>M1</th>\n",
       "      <td>MiLuDaiBoom (ⓂⓛⓁⓤⒹⓐⓛⒷⓞⓞⓂ)</td>\n",
       "      <td>Gossiping</td>\n",
       "      <td>Keelung</td>\n",
       "      <td>\\n\\n欸欸欸欸欸\\n\\n最近覺得地震特別搖\\n\\n但看新聞都說還好\\n\\n所以是我太敏感\\...</td>\n",
       "      <td>Wed Jun 17 08:51:57 2020</td>\n",
       "      <td>110.50.130.167 (臺灣)</td>\n",
       "      <td>110.50.130.167</td>\n",
       "      <td>經度：121.742　緯度：25.128</td>\n",
       "      <td>Vibo Telecom</td>\n",
       "      <td>AS - Asia ( 亞洲 ) TW - Taiwan ( 台灣 )</td>\n",
       "      <td>[→ Usayhiisayha: 跟跌倒的人體重有關 06/17 08:52, 推 VViz...</td>\n",
       "      <td>[問卦] 地震搖晃程度和屋齡有關嗎？</td>\n",
       "      <td>0</td>\n",
       "      <td>121.742</td>\n",
       "      <td>25.128</td>\n",
       "      <td>2020-06-17 08:51:57</td>\n",
       "    </tr>\n",
       "    <tr>\n",
       "      <th>M2</th>\n",
       "      <td>king1010 (玩酷)</td>\n",
       "      <td>Gossiping</td>\n",
       "      <td>Taipei</td>\n",
       "      <td>不想上班啊 有地震\\n\\n</td>\n",
       "      <td>Wed Jun 17 07:18:48 2020</td>\n",
       "      <td>42.72.69.21 (臺灣)</td>\n",
       "      <td>42.72.69.21</td>\n",
       "      <td>經度：121.532　緯度：25.048</td>\n",
       "      <td>Chunghwa Telecom</td>\n",
       "      <td>AS - Asia ( 亞洲 ) TW - Taiwan ( 台灣 )</td>\n",
       "      <td>[推 Beee09: 你最慢 06/17 07:20, 推 skbshawn: 抓最後一個 ...</td>\n",
       "      <td>[爆卦] 地震</td>\n",
       "      <td>0</td>\n",
       "      <td>121.532</td>\n",
       "      <td>25.048</td>\n",
       "      <td>2020-06-17 07:18:48</td>\n",
       "    </tr>\n",
       "    <tr>\n",
       "      <th>M3</th>\n",
       "      <td>musashi4735 (武藏)</td>\n",
       "      <td>Gossiping</td>\n",
       "      <td>Taipei</td>\n",
       "      <td>地震!!中壢\\n\\n</td>\n",
       "      <td>Wed Jun 17 07:18:17 2020</td>\n",
       "      <td>114.32.216.39 (臺灣)</td>\n",
       "      <td>114.32.216.39</td>\n",
       "      <td>經度：121.532　緯度：25.048</td>\n",
       "      <td>Taiwan Academic Network</td>\n",
       "      <td>AS - Asia ( 亞洲 ) TW - Taiwan ( 台灣 )</td>\n",
       "      <td>[※ 編輯: musashi4735 (114.32.216.39 臺灣), 06/17/2...</td>\n",
       "      <td>[爆卦] 地震</td>\n",
       "      <td>0</td>\n",
       "      <td>121.532</td>\n",
       "      <td>25.048</td>\n",
       "      <td>2020-06-17 07:18:17</td>\n",
       "    </tr>\n",
       "    <tr>\n",
       "      <th>M4</th>\n",
       "      <td>air121 (I GOT SPIRIT)</td>\n",
       "      <td>Gossiping</td>\n",
       "      <td>Taipei</td>\n",
       "      <td>台北\\n\\n</td>\n",
       "      <td>Wed Jun 17 07:18:12 2020</td>\n",
       "      <td>123.193.3.30 (臺灣)</td>\n",
       "      <td>123.193.3.30</td>\n",
       "      <td>經度：121.532　緯度：25.048</td>\n",
       "      <td>Taiwan Academic Network</td>\n",
       "      <td>AS - Asia ( 亞洲 ) TW - Taiwan ( 台灣 )</td>\n",
       "      <td>[推 newsun1997: CC 06/17 07:18, , , 本網站已依台灣網站內容...</td>\n",
       "      <td>[爆卦] 地震</td>\n",
       "      <td>0</td>\n",
       "      <td>121.532</td>\n",
       "      <td>25.048</td>\n",
       "      <td>2020-06-17 07:18:12</td>\n",
       "    </tr>\n",
       "    <tr>\n",
       "      <th>M5</th>\n",
       "      <td>open20023 (open20023)</td>\n",
       "      <td>Gossiping</td>\n",
       "      <td>Taipei</td>\n",
       "      <td>\\n好可怕啊\\n\\n</td>\n",
       "      <td>Wed Jun 17 07:18:10 2020</td>\n",
       "      <td>110.26.190.162 (臺灣)</td>\n",
       "      <td>110.26.190.162</td>\n",
       "      <td>經度：121.532　緯度：25.048</td>\n",
       "      <td>LINE Mobile</td>\n",
       "      <td>AS - Asia ( 亞洲 ) TW - Taiwan ( 台灣 )</td>\n",
       "      <td>[, , 本網站已依台灣網站內容分級規定處理。此區域為限制級，未滿十八歲者不得瀏覽。, ]</td>\n",
       "      <td>地震</td>\n",
       "      <td>0</td>\n",
       "      <td>121.532</td>\n",
       "      <td>25.048</td>\n",
       "      <td>2020-06-17 07:18:10</td>\n",
       "    </tr>\n",
       "  </tbody>\n",
       "</table>\n",
       "</div>"
      ],
      "text/plain": [
       "                       Author      Board     City  \\\n",
       "M1  MiLuDaiBoom (ⓂⓛⓁⓤⒹⓐⓛⒷⓞⓞⓂ)  Gossiping  Keelung   \n",
       "M2              king1010 (玩酷)  Gossiping   Taipei   \n",
       "M3           musashi4735 (武藏)  Gossiping   Taipei   \n",
       "M4      air121 (I GOT SPIRIT)  Gossiping   Taipei   \n",
       "M5      open20023 (open20023)  Gossiping   Taipei   \n",
       "\n",
       "                                              Content  \\\n",
       "M1  \\n\\n欸欸欸欸欸\\n\\n最近覺得地震特別搖\\n\\n但看新聞都說還好\\n\\n所以是我太敏感\\...   \n",
       "M2                                      不想上班啊 有地震\\n\\n   \n",
       "M3                                         地震!!中壢\\n\\n   \n",
       "M4                                             台北\\n\\n   \n",
       "M5                                         \\n好可怕啊\\n\\n   \n",
       "\n",
       "                        Date               Full IP              IP  \\\n",
       "M1  Wed Jun 17 08:51:57 2020   110.50.130.167 (臺灣)  110.50.130.167   \n",
       "M2  Wed Jun 17 07:18:48 2020      42.72.69.21 (臺灣)     42.72.69.21   \n",
       "M3  Wed Jun 17 07:18:17 2020    114.32.216.39 (臺灣)   114.32.216.39   \n",
       "M4  Wed Jun 17 07:18:12 2020     123.193.3.30 (臺灣)    123.193.3.30   \n",
       "M5  Wed Jun 17 07:18:10 2020   110.26.190.162 (臺灣)  110.26.190.162   \n",
       "\n",
       "   Longitude and Latitude                   Mobile  \\\n",
       "M1   經度：121.742　緯度：25.128             Vibo Telecom   \n",
       "M2   經度：121.532　緯度：25.048         Chunghwa Telecom   \n",
       "M3   經度：121.532　緯度：25.048  Taiwan Academic Network   \n",
       "M4   經度：121.532　緯度：25.048  Taiwan Academic Network   \n",
       "M5   經度：121.532　緯度：25.048              LINE Mobile   \n",
       "\n",
       "                                 Nation  \\\n",
       "M1  AS - Asia ( 亞洲 ) TW - Taiwan ( 台灣 )   \n",
       "M2  AS - Asia ( 亞洲 ) TW - Taiwan ( 台灣 )   \n",
       "M3  AS - Asia ( 亞洲 ) TW - Taiwan ( 台灣 )   \n",
       "M4  AS - Asia ( 亞洲 ) TW - Taiwan ( 台灣 )   \n",
       "M5  AS - Asia ( 亞洲 ) TW - Taiwan ( 台灣 )   \n",
       "\n",
       "                                                 Push               Title  \\\n",
       "M1  [→ Usayhiisayha: 跟跌倒的人體重有關 06/17 08:52, 推 VViz...  [問卦] 地震搖晃程度和屋齡有關嗎？   \n",
       "M2  [推 Beee09: 你最慢 06/17 07:20, 推 skbshawn: 抓最後一個 ...             [爆卦] 地震   \n",
       "M3  [※ 編輯: musashi4735 (114.32.216.39 臺灣), 06/17/2...             [爆卦] 地震   \n",
       "M4  [推 newsun1997: CC 06/17 07:18, , , 本網站已依台灣網站內容...             [爆卦] 地震   \n",
       "M5      [, , 本網站已依台灣網站內容分級規定處理。此區域為限制級，未滿十八歲者不得瀏覽。, ]                  地震   \n",
       "\n",
       "    YouWin Longitude Latitude          Date_format  \n",
       "M1       0   121.742   25.128  2020-06-17 08:51:57  \n",
       "M2       0   121.532   25.048  2020-06-17 07:18:48  \n",
       "M3       0   121.532   25.048  2020-06-17 07:18:17  \n",
       "M4       0   121.532   25.048  2020-06-17 07:18:12  \n",
       "M5       0   121.532   25.048  2020-06-17 07:18:10  "
      ]
     },
     "execution_count": 47,
     "metadata": {},
     "output_type": "execute_result"
    }
   ],
   "source": [
    "df_earthquake.head()"
   ]
  },
  {
   "cell_type": "code",
   "execution_count": 48,
   "metadata": {},
   "outputs": [],
   "source": [
    "df_earthquake.to_csv(\"PTT_earthquake_IPQuery_0617地震.csv\", encoding=\"utf-8\")"
   ]
  },
  {
   "cell_type": "code",
   "execution_count": null,
   "metadata": {},
   "outputs": [],
   "source": []
  }
 ],
 "metadata": {
  "kernelspec": {
   "display_name": "Python 3",
   "language": "python",
   "name": "python3"
  },
  "language_info": {
   "codemirror_mode": {
    "name": "ipython",
    "version": 3
   },
   "file_extension": ".py",
   "mimetype": "text/x-python",
   "name": "python",
   "nbconvert_exporter": "python",
   "pygments_lexer": "ipython3",
   "version": "3.6.5"
  }
 },
 "nbformat": 4,
 "nbformat_minor": 4
}
