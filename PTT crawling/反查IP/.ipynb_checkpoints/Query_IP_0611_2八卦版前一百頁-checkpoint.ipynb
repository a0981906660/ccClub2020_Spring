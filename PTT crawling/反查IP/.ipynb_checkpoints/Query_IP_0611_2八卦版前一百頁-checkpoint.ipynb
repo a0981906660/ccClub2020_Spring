{
 "cells": [
  {
   "cell_type": "markdown",
   "metadata": {},
   "source": [
    "# Obtaining Geographical Location through IP Address"
   ]
  },
  {
   "cell_type": "markdown",
   "metadata": {},
   "source": []
  },
  {
   "cell_type": "markdown",
   "metadata": {},
   "source": [
    "### Selenium"
   ]
  },
  {
   "cell_type": "code",
   "execution_count": 1,
   "metadata": {},
   "outputs": [
    {
     "name": "stderr",
     "output_type": "stream",
     "text": [
      "/Applications/anaconda3/lib/python3.6/site-packages/requests/__init__.py:80: RequestsDependencyWarning: urllib3 (1.25.9) or chardet (3.0.4) doesn't match a supported version!\n",
      "  RequestsDependencyWarning)\n"
     ]
    }
   ],
   "source": [
    "import requests\n",
    "from bs4 import BeautifulSoup\n",
    "import sys\n",
    "import codecs\n",
    "from selenium import webdriver\n",
    "from selenium.webdriver.support.ui import WebDriverWait\n",
    "from selenium.webdriver.common.keys import Keys\n",
    "import requests\n",
    "import time\n",
    "from fake_useragent import UserAgent\n",
    "import csv\n",
    "import pandas as pd\n",
    "import numpy as np"
   ]
  },
  {
   "cell_type": "markdown",
   "metadata": {},
   "source": [
    "### Use try & except"
   ]
  },
  {
   "cell_type": "code",
   "execution_count": 2,
   "metadata": {},
   "outputs": [
    {
     "name": "stderr",
     "output_type": "stream",
     "text": [
      "/Applications/anaconda3/lib/python3.6/site-packages/ipykernel_launcher.py:23: DeprecationWarning: use options instead of chrome_options\n"
     ]
    }
   ],
   "source": [
    "#Use fake UserAgent\n",
    "def set_header_user_agent():\n",
    "    user_agent = UserAgent()\n",
    "    return user_agent.random\n",
    "\n",
    "#open browser #打開瀏覽器，但不要載入圖片\n",
    "options = webdriver.ChromeOptions()\n",
    "prefs = {\n",
    "    'profile.default_content_setting_values': {\n",
    "        'images': 2,\n",
    "        #'javascript': 2\n",
    "    }\n",
    "}\n",
    "options.add_experimental_option('prefs', prefs)\n",
    "\n",
    "#ua = \"Mozilla/5.0 (Windows NT 10.0; WOW64; rv:53.0) Gecko/20100101 Firefox/53.0\"\n",
    "#headers = {'User-Agent': 'User-Agent:Mozilla/5.0 (Macintosh; Intel Mac OS X 10_12_3) AppleWebKit/537.36 (KHTML, like Gecko) Chrome/56.0.2924.87 Safari/537.36'}\n",
    "#user_agent = set_header_user_agent()\n",
    "#headers={ 'user-agent': user_agent }\n",
    "#options.add_argument(\"user-agent={}\".format(user_agent)) # 使用偽造的 user-agent\n",
    "#options.add_argument(headers)\n",
    "\n",
    "driver = webdriver.Chrome('./chromedriver', chrome_options=options)"
   ]
  },
  {
   "cell_type": "code",
   "execution_count": 3,
   "metadata": {},
   "outputs": [],
   "source": [
    "#define urls\n",
    "IP_url1 = \"https://tw.geoipview.com/\"\n",
    "IP_url2 = \"https://www.ez2o.com/App/Net/IP\""
   ]
  },
  {
   "cell_type": "code",
   "execution_count": 4,
   "metadata": {},
   "outputs": [],
   "source": [
    "driver.get(IP_url2)\n",
    "driver.implicitly_wait(5)"
   ]
  },
  {
   "cell_type": "code",
   "execution_count": 5,
   "metadata": {},
   "outputs": [
    {
     "ename": "SyntaxError",
     "evalue": "invalid syntax (<ipython-input-5-e9d8a80a6915>, line 1)",
     "output_type": "error",
     "traceback": [
      "\u001b[0;36m  File \u001b[0;32m\"<ipython-input-5-e9d8a80a6915>\"\u001b[0;36m, line \u001b[0;32m1\u001b[0m\n\u001b[0;31m    (/*[@id=\"QueryIP\"])\u001b[0m\n\u001b[0m     ^\u001b[0m\n\u001b[0;31mSyntaxError\u001b[0m\u001b[0;31m:\u001b[0m invalid syntax\n"
     ]
    }
   ],
   "source": [
    "//*[@id=\"QueryIP\"]"
   ]
  },
  {
   "cell_type": "code",
   "execution_count": 5,
   "metadata": {},
   "outputs": [],
   "source": [
    "# 點查詢欄位\n",
    "search_field = driver.find_element_by_xpath(\"\"\"//*[@id=\"QueryIP\"]\"\"\")\n",
    "search_field.click()\n",
    "search_field.clear()\n",
    "\n",
    "# 輸入IP\n",
    "search_field.send_keys(\"110.26.35.209\")\n",
    "search_field.send_keys(Keys.ENTER)\n",
    "driver.implicitly_wait(5)\n",
    "\n",
    "#拿到source page\n",
    "IP_soup_2 = BeautifulSoup(driver.page_source, 'html.parser')"
   ]
  },
  {
   "cell_type": "markdown",
   "metadata": {},
   "source": [
    "# 找table\n",
    "\n",
    "<div id=\"ipinfo_show\">\n",
    "  <table width=\"250\" cellspacing=\"0\" cellpadding=\"1\" border=\"0\">\n",
    "  <tbody><tr><td></td><td></td>\n",
    "  </tr><tr><td class=\"show1\" width=\"20%\" nowrap=\"\">主機名稱:&nbsp;</td><td width=\"80%\" nowrap=\"\"><div class=\"host\"></div></td>\n",
    "  </tr><tr><td class=\"show1\" nowrap=\"\">IP 位址:&nbsp;</td><td class=\"ip\"><span class=\"show2\">140.112.177.146</span> [<a href=\"http://whois.chromefans.org/140.112.177.146\" target=\"_blank\">whois</a>]</td>\n",
    "  </tr><tr><td class=\"show1\" nowrap=\"\">國家/地區代碼:&nbsp;</td><td>TWN / TW &nbsp;  &nbsp; <img src=\"https://image.geoipview.com/flags/tw.png\" width=\"16\" height=\"11\" border=\"0\" align=\"absmiddle\" alt=\"Taiwan\"></td>\n",
    "  </tr><tr><td class=\"show1\" nowrap=\"\">國家:&nbsp;</td><td class=\"show2\">Taiwan</td>\n",
    "  </tr><tr><td class=\"show1\" nowrap=\"\">地區:&nbsp;</td><td>25</td>\n",
    "  </tr><tr><td class=\"show1\" nowrap=\"\">城市:&nbsp;</td><td class=\"show2\">Fuan</td>\n",
    "  </tr><tr><td class=\"show1\" nowrap=\"\">郵政編碼:&nbsp;</td><td></td>\n",
    "  </tr><tr><td class=\"show1\" nowrap=\"\">緯度:&nbsp;</td><td>24.86009979248</td>\n",
    "  </tr><tr><td class=\"show1\" nowrap=\"\">經度:&nbsp;</td><td>121.29570007324</td>\n",
    "  </tr></tbody></table>\n",
    "  </div>"
   ]
  },
  {
   "cell_type": "markdown",
   "metadata": {},
   "source": [
    "<table class=\"table table-striped table-hover\"><tbody><tr class=\"active\"><td class=\"text-right\"><strong>主機名稱：</strong></td><td>110-26-35-209.adsl.fetnet.net</td></tr><tr class=\"active\"><td class=\"text-right\"><strong>國家名稱：</strong></td><td>AS - Asia ( 亞洲 ) <br> <span>TW - Taiwan ( 台灣 )</span> <br> <img src=\"/Images/COUNTRY/TW.png\" width=\"120\" alt=\"TW - Taiwan ( 台灣 )\" title=\"TW - Taiwan ( 台灣 )\" class=\"img-thumbnail\"></td></tr><tr class=\"active\"><td class=\"text-right\"><strong>城市名稱：</strong></td><td>Taipei</td></tr><tr class=\"active\"><td class=\"text-right\"><strong>經度緯度：</strong></td><td>經度：121.532　緯度：25.048</td></tr><tr class=\"active\"><td class=\"text-right\"><strong>電訊名稱：</strong></td><td>FarEasTone</td></tr><tr class=\"active\"><td class=\"text-right\"><strong>單位名稱：</strong></td><td>Far EastTone Telecommunication Co., Ltd.</td></tr><tr class=\"active\"><td class=\"text-right\"><strong>網域名稱：</strong></td><td>fetnet.net</td></tr><tr class=\"active\"><td class=\"text-right\"><strong>時區單位：</strong></td><td>Asia/Taipei (UTC +08:00)</td></tr></tbody></table>"
   ]
  },
  {
   "cell_type": "code",
   "execution_count": 7,
   "metadata": {},
   "outputs": [
    {
     "ename": "NameError",
     "evalue": "name 'IP_soup_2' is not defined",
     "output_type": "error",
     "traceback": [
      "\u001b[0;31m---------------------------------------------------------------------------\u001b[0m",
      "\u001b[0;31mNameError\u001b[0m                                 Traceback (most recent call last)",
      "\u001b[0;32m<ipython-input-7-29d444d556b5>\u001b[0m in \u001b[0;36m<module>\u001b[0;34m()\u001b[0m\n\u001b[1;32m      1\u001b[0m \u001b[0;31m# 找table\u001b[0m\u001b[0;34m\u001b[0m\u001b[0;34m\u001b[0m\u001b[0m\n\u001b[0;32m----> 2\u001b[0;31m \u001b[0mtable_2\u001b[0m \u001b[0;34m=\u001b[0m \u001b[0mIP_soup_2\u001b[0m\u001b[0;34m.\u001b[0m\u001b[0mfind\u001b[0m\u001b[0;34m(\u001b[0m\u001b[0;34m\"table\"\u001b[0m\u001b[0;34m)\u001b[0m\u001b[0;34m\u001b[0m\u001b[0m\n\u001b[0m",
      "\u001b[0;31mNameError\u001b[0m: name 'IP_soup_2' is not defined"
     ]
    }
   ],
   "source": [
    "# 找table\n",
    "table_2 = IP_soup_2.find(\"table\")"
   ]
  },
  {
   "cell_type": "code",
   "execution_count": 16,
   "metadata": {},
   "outputs": [
    {
     "data": {
      "text/plain": [
       "<table class=\"table table-striped table-hover\"><tbody><tr class=\"active\"><td class=\"text-right\"><strong>主機名稱：</strong></td><td>110-26-35-209.adsl.fetnet.net</td></tr><tr class=\"active\"><td class=\"text-right\"><strong>國家名稱：</strong></td><td>AS - Asia ( 亞洲 ) <br/> <span>TW - Taiwan ( 台灣 )</span> <br/> <img alt=\"TW - Taiwan ( 台灣 )\" class=\"img-thumbnail\" src=\"/Images/COUNTRY/TW.png\" title=\"TW - Taiwan ( 台灣 )\" width=\"120\"/></td></tr><tr class=\"active\"><td class=\"text-right\"><strong>城市名稱：</strong></td><td>Taipei</td></tr><tr class=\"active\"><td class=\"text-right\"><strong>經度緯度：</strong></td><td>經度：121.532　緯度：25.048</td></tr><tr class=\"active\"><td class=\"text-right\"><strong>電訊名稱：</strong></td><td>FarEasTone</td></tr><tr class=\"active\"><td class=\"text-right\"><strong>單位名稱：</strong></td><td>Far EastTone Telecommunication Co., Ltd.</td></tr><tr class=\"active\"><td class=\"text-right\"><strong>網域名稱：</strong></td><td>fetnet.net</td></tr><tr class=\"active\"><td class=\"text-right\"><strong>時區單位：</strong></td><td>Asia/Taipei (UTC +08:00)</td></tr></tbody></table>"
      ]
     },
     "execution_count": 16,
     "metadata": {},
     "output_type": "execute_result"
    }
   ],
   "source": [
    "table_2"
   ]
  },
  {
   "cell_type": "code",
   "execution_count": 17,
   "metadata": {},
   "outputs": [
    {
     "data": {
      "text/html": [
       "<div>\n",
       "<style scoped>\n",
       "    .dataframe tbody tr th:only-of-type {\n",
       "        vertical-align: middle;\n",
       "    }\n",
       "\n",
       "    .dataframe tbody tr th {\n",
       "        vertical-align: top;\n",
       "    }\n",
       "\n",
       "    .dataframe thead th {\n",
       "        text-align: right;\n",
       "    }\n",
       "</style>\n",
       "<table border=\"1\" class=\"dataframe\">\n",
       "  <thead>\n",
       "    <tr style=\"text-align: right;\">\n",
       "      <th></th>\n",
       "      <th>0</th>\n",
       "      <th>1</th>\n",
       "    </tr>\n",
       "  </thead>\n",
       "  <tbody>\n",
       "    <tr>\n",
       "      <th>0</th>\n",
       "      <td>主機名稱：</td>\n",
       "      <td>110-26-35-209.adsl.fetnet.net</td>\n",
       "    </tr>\n",
       "    <tr>\n",
       "      <th>1</th>\n",
       "      <td>國家名稱：</td>\n",
       "      <td>AS - Asia ( 亞洲 ) TW - Taiwan ( 台灣 )</td>\n",
       "    </tr>\n",
       "    <tr>\n",
       "      <th>2</th>\n",
       "      <td>城市名稱：</td>\n",
       "      <td>Taipei</td>\n",
       "    </tr>\n",
       "    <tr>\n",
       "      <th>3</th>\n",
       "      <td>經度緯度：</td>\n",
       "      <td>經度：121.532　緯度：25.048</td>\n",
       "    </tr>\n",
       "    <tr>\n",
       "      <th>4</th>\n",
       "      <td>電訊名稱：</td>\n",
       "      <td>FarEasTone</td>\n",
       "    </tr>\n",
       "    <tr>\n",
       "      <th>5</th>\n",
       "      <td>單位名稱：</td>\n",
       "      <td>Far EastTone Telecommunication Co., Ltd.</td>\n",
       "    </tr>\n",
       "    <tr>\n",
       "      <th>6</th>\n",
       "      <td>網域名稱：</td>\n",
       "      <td>fetnet.net</td>\n",
       "    </tr>\n",
       "    <tr>\n",
       "      <th>7</th>\n",
       "      <td>時區單位：</td>\n",
       "      <td>Asia/Taipei (UTC +08:00)</td>\n",
       "    </tr>\n",
       "  </tbody>\n",
       "</table>\n",
       "</div>"
      ],
      "text/plain": [
       "       0                                         1\n",
       "0  主機名稱：             110-26-35-209.adsl.fetnet.net\n",
       "1  國家名稱：       AS - Asia ( 亞洲 ) TW - Taiwan ( 台灣 )\n",
       "2  城市名稱：                                    Taipei\n",
       "3  經度緯度：                      經度：121.532　緯度：25.048\n",
       "4  電訊名稱：                                FarEasTone\n",
       "5  單位名稱：  Far EastTone Telecommunication Co., Ltd.\n",
       "6  網域名稱：                                fetnet.net\n",
       "7  時區單位：                  Asia/Taipei (UTC +08:00)"
      ]
     },
     "execution_count": 17,
     "metadata": {},
     "output_type": "execute_result"
    }
   ],
   "source": [
    "df_2 = pd.read_html(str(table_2))[0]\n",
    "df_2"
   ]
  },
  {
   "cell_type": "code",
   "execution_count": 18,
   "metadata": {},
   "outputs": [
    {
     "data": {
      "text/plain": [
       "'FarEasTone'"
      ]
     },
     "execution_count": 18,
     "metadata": {},
     "output_type": "execute_result"
    }
   ],
   "source": [
    "df_2.iloc[1][1] #國家\n",
    "df_2.iloc[2][1] #城市\n",
    "df_2.iloc[3][1] #經緯度\n",
    "df_2.iloc[4][1] #電信名稱"
   ]
  },
  {
   "cell_type": "code",
   "execution_count": 41,
   "metadata": {},
   "outputs": [
    {
     "data": {
      "text/html": [
       "<div>\n",
       "<style scoped>\n",
       "    .dataframe tbody tr th:only-of-type {\n",
       "        vertical-align: middle;\n",
       "    }\n",
       "\n",
       "    .dataframe tbody tr th {\n",
       "        vertical-align: top;\n",
       "    }\n",
       "\n",
       "    .dataframe thead th {\n",
       "        text-align: right;\n",
       "    }\n",
       "</style>\n",
       "<table border=\"1\" class=\"dataframe\">\n",
       "  <thead>\n",
       "    <tr style=\"text-align: right;\">\n",
       "      <th></th>\n",
       "      <th>0</th>\n",
       "      <th>1</th>\n",
       "      <th>2</th>\n",
       "      <th>3</th>\n",
       "      <th>4</th>\n",
       "      <th>5</th>\n",
       "      <th>6</th>\n",
       "      <th>7</th>\n",
       "      <th>8</th>\n",
       "      <th>9</th>\n",
       "    </tr>\n",
       "  </thead>\n",
       "  <tbody>\n",
       "    <tr>\n",
       "      <th>0</th>\n",
       "      <td>NaN</td>\n",
       "      <td>主機名稱:</td>\n",
       "      <td>IP 位址:</td>\n",
       "      <td>國家/地區代碼:</td>\n",
       "      <td>國家:</td>\n",
       "      <td>地區:</td>\n",
       "      <td>城市:</td>\n",
       "      <td>郵政編碼:</td>\n",
       "      <td>緯度:</td>\n",
       "      <td>經度:</td>\n",
       "    </tr>\n",
       "    <tr>\n",
       "      <th>1</th>\n",
       "      <td>NaN</td>\n",
       "      <td>NaN</td>\n",
       "      <td>110.26.35.209 [whois]</td>\n",
       "      <td>TWN / TW</td>\n",
       "      <td>Taiwan</td>\n",
       "      <td>25</td>\n",
       "      <td>Bade</td>\n",
       "      <td>NaN</td>\n",
       "      <td>24.929800033569</td>\n",
       "      <td>121.28369903564</td>\n",
       "    </tr>\n",
       "  </tbody>\n",
       "</table>\n",
       "</div>"
      ],
      "text/plain": [
       "     0      1                      2         3       4    5     6      7  \\\n",
       "0  NaN  主機名稱:                 IP 位址:  國家/地區代碼:     國家:  地區:   城市:  郵政編碼:   \n",
       "1  NaN    NaN  110.26.35.209 [whois]  TWN / TW  Taiwan   25  Bade    NaN   \n",
       "\n",
       "                 8                9  \n",
       "0              緯度:              經度:  \n",
       "1  24.929800033569  121.28369903564  "
      ]
     },
     "execution_count": 41,
     "metadata": {},
     "output_type": "execute_result"
    }
   ],
   "source": [
    "df_1.transpose()"
   ]
  },
  {
   "cell_type": "code",
   "execution_count": 47,
   "metadata": {},
   "outputs": [
    {
     "data": {
      "text/plain": [
       "'121.28369903564'"
      ]
     },
     "execution_count": 47,
     "metadata": {},
     "output_type": "execute_result"
    }
   ],
   "source": [
    "df_1.iloc[4][1] #國家\n",
    "df_1.iloc[5][1] #地區\n",
    "df_1.iloc[6][1] #城市\n",
    "df_1.iloc[8][1] #緯度\n",
    "df_1.iloc[9][1] #經度"
   ]
  },
  {
   "cell_type": "markdown",
   "metadata": {},
   "source": [
    "# 讀所有的IP，先讀爬下來的PTT文章"
   ]
  },
  {
   "cell_type": "code",
   "execution_count": 6,
   "metadata": {},
   "outputs": [],
   "source": [
    "# Save\n",
    "#np.save(\"earthquake_dict_np\", earthquake_dict)\n",
    "\n",
    "# Load\n",
    "earthquake_dict = np.load('earthquake_dict_0611_5 八卦前一百頁.npy',allow_pickle='TRUE').item()"
   ]
  },
  {
   "cell_type": "code",
   "execution_count": 7,
   "metadata": {},
   "outputs": [],
   "source": [
    "articles = list(earthquake_dict.keys())"
   ]
  },
  {
   "cell_type": "code",
   "execution_count": 8,
   "metadata": {},
   "outputs": [
    {
     "data": {
      "text/plain": [
       "2003"
      ]
     },
     "execution_count": 8,
     "metadata": {},
     "output_type": "execute_result"
    }
   ],
   "source": [
    "len(articles)"
   ]
  },
  {
   "cell_type": "code",
   "execution_count": 9,
   "metadata": {},
   "outputs": [
    {
     "data": {
      "text/plain": [
       "['M2', 'M3', 'M4', 'M5', 'M6', 'M7', 'M8', 'M9', 'M10']"
      ]
     },
     "execution_count": 9,
     "metadata": {},
     "output_type": "execute_result"
    }
   ],
   "source": [
    "articles[1:10]"
   ]
  },
  {
   "cell_type": "markdown",
   "metadata": {},
   "source": [
    "for art in articles:\n",
    "    try:\n",
    "        print(earthquake_dict[art][\"IP\"], end = \" \")\n",
    "    except:\n",
    "        pass"
   ]
  },
  {
   "cell_type": "markdown",
   "metadata": {},
   "source": [
    "## 把IP拿去反查"
   ]
  },
  {
   "cell_type": "code",
   "execution_count": 10,
   "metadata": {},
   "outputs": [
    {
     "name": "stderr",
     "output_type": "stream",
     "text": [
      "/Applications/anaconda3/lib/python3.6/site-packages/ipykernel_launcher.py:23: DeprecationWarning: use options instead of chrome_options\n"
     ]
    },
    {
     "name": "stdout",
     "output_type": "stream",
     "text": [
      "0 1 2 3 4 5 6 7 8 9 10 11 12 13 14 15 16 17 18 19 20 21 22 23 24 25 26 27 28 29 30 31 32 33 34 35 36 37 38 39 40 41 42 43 44 45 46 47 48 49 50 51 52 53 54 55 56 57 58 59 60 61 62 63 64 65 66 67 68 69 70 71 72 73 74 75 76 77 78 79 80 81 82 83 84 85 86 87 88 89 90 91 92 93 94 95 96 97 98 99 100 101 102 103 104 105 106 107 108 109 110 111 112 113 114 115 116 117 118 119 120 121 122 123 124 125 126 127 128 129 130 131 132 133 134 135 136 137 138 139 140 141 142 143 144 145 146 147 148 149 150 151 152 153 154 155 156 157 158 159 160 161 162 163 164 165 166 167 168 169 170 171 172 173 174 175 176 177 178 179 180 181 182 183 184 185 186 187 188 189 190 191 192 193 194 195 196 197 198 199 200 201 202 203 204 205 206 207 208 209 210 211 212 213 214 215 216 217 218 219 220 221 222 223 224 225 226 227 228 229 230 231 232 233 234 235 236 237 238 239 240 241 242 243 244 245 246 247 248 249 250 251 252 253 254 255 256 257 258 259 260 261 262 263 264 265 266 267 268 269 270 271 272 273 274 275 276 277 278 279 280 281 282 283 284 285 286 287 288 289 290 291 292 293 294 295 296 297 298 299 300 301 302 303 304 305 306 307 308 309 310 311 312 313 314 315 316 317 318 319 320 321 322 323 324 325 326 327 328 329 330 331 332 333 334 335 336 337 338 339 340 341 342 343 344 345 346 347 348 349 350 351 352 353 354 355 356 357 358 359 360 361 362 363 364 365 366 367 368 369 370 371 372 373 374 375 376 377 378 379 380 381 382 383 384 385 386 387 388 389 390 391 392 393 394 395 396 397 398 399 400 401 402 403 404 405 406 407 408 409 410 411 412 413 414 415 416 417 418 419 420 421 422 423 424 425 426 427 428 429 430 431 432 433 434 435 436 437 438 439 440 441 442 443 444 445 446 447 448 449 450 451 452 453 454 455 456 457 458 459 460 461 462 463 464 465 466 467 468 469 470 471 472 473 474 475 476 477 478 479 480 481 482 483 484 485 486 487 488 489 490 491 492 493 494 495 496 497 498 499 500 501 502 503 504 505 506 507 508 509 510 511 512 513 514 515 516 517 518 519 520 521 522 523 524 525 526 527 528 529 530 531 532 533 534 535 536 537 538 539 540 541 542 543 544 545 546 547 548 549 550 551 552 553 554 555 556 557 558 559 560 561 562 563 564 565 566 567 568 569 570 571 572 573 574 575 576 577 578 579 580 581 582 583 584 585 586 587 588 589 590 591 592 593 594 595 596 597 598 599 600 601 602 603 604 605 606 607 608 609 610 611 612 613 614 615 616 617 618 619 620 621 622 623 624 625 626 627 628 629 630 631 632 633 634 635 636 637 638 639 640 641 642 643 644 645 646 647 648 649 650 651 652 653 654 655 656 657 658 659 660 661 662 663 664 665 666 667 668 669 670 671 672 673 674 675 676 677 678 679 680 681 682 683 684 685 686 687 688 689 690 691 692 693 694 695 696 697 698 699 700 701 702 703 704 705 706 707 708 709 710 711 712 713 714 715 716 717 718 719 720 721 722 723 724 725 726 727 728 729 730 731 732 733 734 735 736 737 738 739 740 741 742 743 744 745 746 747 748 749 750 751 752 753 754 755 756 757 758 759 760 761 762 763 764 765 766 767 768 769 770 771 772 773 774 775 776 777 778 779 780 781 782 783 784 785 786 787 788 789 790 791 792 793 794 795 796 797 798 799 800 801 802 803 804 805 806 807 808 809 810 811 812 813 814 815 816 817 818 819 820 821 822 823 824 825 826 827 828 829 830 831 832 833 834 835 836 837 838 839 840 841 842 843 844 845 846 847 848 849 850 851 852 853 854 855 856 857 858 859 860 861 862 863 864 865 866 867 868 869 870 871 872 873 874 875 876 877 878 879 880 881 882 883 884 885 886 887 888 889 890 891 892 893 894 895 896 897 898 899 900 901 902 903 904 905 906 907 908 909 910 911 912 913 914 915 916 917 918 919 920 921 922 923 924 925 926 927 928 929 930 931 932 933 934 935 936 937 938 939 940 941 942 943 944 945 946 947 948 949 950 951 952 953 954 955 956 957 958 959 960 961 962 963 964 965 966 967 968 969 970 971 972 973 974 975 976 977 978 979 980 981 982 983 984 985 986 987 988 989 990 991 992 993 994 995 996 997 998 999 1000 1001 1002 1003 1004 1005 1006 1007 1008 1009 1010 1011 1012 1013 1014 1015 1016 1017 1018 1019 1020 1021 1022 1023 1024 1025 1026 1027 1028 1029 1030 1031 1032 1033 1034 1035 1036 1037 1038 1039 1040 1041 1042 1043 1044 1045 1046 1047 1048 1049 1050 1051 1052 1053 1054 1055 1056 1057 1058 1059 1060 1061 1062 1063 1064 1065 1066 1067 1068 1069 1070 1071 1072 1073 1074 1075 1076 1077 1078 1079 1080 1081 1082 1083 1084 1085 1086 1087 1088 1089 1090 1091 1092 1093 1094 1095 1096 1097 1098 1099 1100 1101 1102 1103 1104 1105 1106 1107 1108 1109 1110 1111 1112 1113 1114 1115 1116 1117 1118 1119 1120 1121 1122 1123 1124 1125 1126 1127 1128 1129 1130 1131 1132 1133 1134 1135 1136 1137 1138 1139 1140 1141 1142 1143 1144 1145 1146 1147 1148 1149 1150 1151 1152 1153 1154 1155 1156 1157 1158 1159 1160 1161 1162 1163 1164 1165 1166 1167 1168 1169 1170 1171 1172 1173 1174 1175 1176 1177 1178 1179 1180 1181 1182 1183 1184 1185 1186 1187 1188 1189 1190 1191 1192 1193 1194 1195 1196 1197 1198 1199 1200 1201 1202 1203 1204 1205 1206 1207 1208 1209 1210 1211 1212 1213 1214 1215 1216 1217 1218 1219 1220 1221 1222 1223 1224 1225 1226 1227 1228 1229 1230 1231 1232 1233 1234 1235 1236 1237 1238 1239 1240 1241 1242 1243 1244 1245 1246 1247 1248 1249 1250 1251 1252 1253 1254 1255 1256 1257 1258 1259 1260 1261 1262 1263 1264 1265 1266 1267 1268 1269 1270 1271 1272 1273 1274 1275 1276 1277 1278 1279 1280 1281 1282 1283 1284 1285 1286 1287 1288 1289 1290 1291 1292 1293 1294 1295 1296 1297 1298 1299 1300 1301 1302 1303 1304 1305 1306 1307 1308 1309 1310 1311 1312 1313 1314 1315 1316 1317 1318 1319 1320 1321 1322 1323 1324 1325 1326 1327 1328 1329 1330 1331 1332 1333 1334 1335 1336 1337 1338 1339 1340 1341 1342 1343 1344 1345 1346 1347 1348 1349 1350 1351 1352 1353 1354 1355 1356 1357 1358 1359 1360 1361 1362 1363 1364 1365 1366 1367 1368 1369 1370 1371 1372 1373 1374 1375 1376 1377 1378 1379 1380 1381 1382 1383 1384 1385 1386 1387 1388 1389 1390 1391 1392 1393 1394 1395 1396 1397 1398 1399 1400 1401 1402 1403 1404 1405 1406 1407 1408 1409 1410 1411 1412 1413 1414 1415 1416 1417 1418 1419 1420 1421 1422 1423 1424 1425 1426 1427 1428 1429 1430 1431 1432 1433 1434 1435 1436 1437 1438 1439 1440 1441 1442 1443 1444 1445 1446 1447 1448 1449 1450 1451 1452 1453 1454 1455 1456 1457 1458 1459 1460 1461 1462 1463 1464 1465 1466 1467 1468 1469 1470 1471 1472 1473 1474 1475 1476 1477 1478 1479 1480 1481 1482 1483 1484 1485 1486 1487 1488 1489 1490 1491 1492 1493 1494 1495 1496 1497 1498 1499 1500 1501 1502 1503 1504 1505 1506 1507 1508 1509 1510 1511 1512 1513 1514 1515 1516 1517 1518 1519 1520 1521 1522 1523 1524 1525 1526 1527 1528 1529 1530 1531 1532 1533 1534 1535 1536 1537 1538 1539 1540 1541 1542 1543 1544 1545 1546 1547 1548 1549 1550 1551 1552 1553 1554 1555 1556 1557 1558 1559 1560 1561 1562 1563 1564 1565 1566 1567 1568 1569 1570 1571 1572 1573 1574 1575 1576 1577 1578 1579 1580 1581 1582 1583 1584 1585 1586 1587 1588 1589 1590 1591 1592 1593 1594 1595 1596 1597 1598 1599 1600 1601 1602 1603 1604 1605 1606 1607 1608 1609 1610 1611 1612 1613 1614 1615 1616 1617 1618 1619 1620 1621 1622 1623 1624 1625 1626 1627 1628 1629 1630 1631 1632 1633 1634 1635 1636 1637 1638 1639 1640 1641 1642 1643 1644 1645 1646 1647 1648 1649 1650 1651 1652 1653 1654 1655 1656 1657 1658 1659 1660 1661 1662 1663 1664 1665 1666 1667 1668 1669 1670 1671 1672 1673 1674 1675 1676 1677 1678 1679 1680 1681 1682 1683 1684 1685 1686 1687 1688 1689 1690 1691 1692 1693 1694 1695 1696 1697 1698 1699 1700 1701 1702 1703 1704 1705 1706 1707 1708 1709 1710 1711 1712 1713 1714 1715 1716 1717 1718 1719 1720 1721 1722 1723 1724 1725 1726 1727 1728 1729 1730 1731 1732 1733 1734 1735 1736 1737 1738 1739 1740 1741 1742 1743 1744 1745 1746 1747 1748 1749 1750 1751 1752 1753 1754 1755 1756 1757 1758 1759 1760 1761 1762 1763 1764 1765 1766 1767 1768 1769 1770 1771 1772 1773 1774 1775 1776 1777 1778 1779 1780 1781 1782 1783 1784 1785 1786 1787 1788 1789 1790 1791 1792 1793 1794 1795 1796 1797 1798 1799 1800 1801 1802 1803 1804 1805 1806 1807 1808 1809 1810 1811 1812 1813 1814 1815 1816 1817 1818 1819 1820 1821 1822 1823 1824 1825 1826 1827 1828 1829 1830 1831 1832 1833 1834 1835 1836 1837 1838 1839 1840 1841 1842 1843 1844 1845 1846 1847 1848 1849 1850 1851 1852 1853 1854 1855 1856 1857 1858 1859 1860 1861 1862 1863 1864 1865 1866 1867 1868 1869 1870 1871 1872 1873 1874 1875 1876 1877 1878 1879 1880 1881 1882 1883 1884 1885 1886 1887 1888 1889 1890 1891 1892 1893 1894 1895 1896 1897 1898 1899 1900 1901 1902 1903 1904 1905 1906 1907 1908 1909 1910 1911 1912 1913 1914 1915 1916 1917 1918 1919 1920 1921 1922 1923 1924 1925 1926 1927 1928 1929 1930 1931 1932 1933 1934 1935 1936 1937 1938 1939 1940 1941 1942 1943 1944 1945 1946 1947 1948 1949 1950 1951 1952 1953 1954 "
     ]
    }
   ],
   "source": [
    "#Use fake UserAgent\n",
    "def set_header_user_agent():\n",
    "    user_agent = UserAgent()\n",
    "    return user_agent.random\n",
    "\n",
    "#open browser #打開瀏覽器，但不要載入圖片\n",
    "options = webdriver.ChromeOptions()\n",
    "prefs = {\n",
    "    'profile.default_content_setting_values': {\n",
    "        'images': 2,\n",
    "        #'javascript': 2\n",
    "    }\n",
    "}\n",
    "options.add_experimental_option('prefs', prefs)\n",
    "\n",
    "#ua = \"Mozilla/5.0 (Windows NT 10.0; WOW64; rv:53.0) Gecko/20100101 Firefox/53.0\"\n",
    "#headers = {'User-Agent': 'User-Agent:Mozilla/5.0 (Macintosh; Intel Mac OS X 10_12_3) AppleWebKit/537.36 (KHTML, like Gecko) Chrome/56.0.2924.87 Safari/537.36'}\n",
    "#user_agent = set_header_user_agent()\n",
    "#headers={ 'user-agent': user_agent }\n",
    "#options.add_argument(\"user-agent={}\".format(user_agent)) # 使用偽造的 user-agent\n",
    "#options.add_argument(headers)\n",
    "\n",
    "driver = webdriver.Chrome('./chromedriver', chrome_options=options)\n",
    "\n",
    "count = 0\n",
    "\n",
    "for art in articles:\n",
    "    try:\n",
    "        #print(earthquake_dict[MMMM][\"IP\"])\n",
    "        ip_address = earthquake_dict[art][\"IP\"]\n",
    "        \n",
    "        #define urls\n",
    "        #IP_url1 = \"https://tw.geoipview.com/\"\n",
    "        IP_url2 = \"https://www.ez2o.com/App/Net/IP\"\n",
    "        \n",
    "        #用第一個反查IP網站\n",
    "        driver.get(IP_url2)\n",
    "        driver.implicitly_wait(5)\n",
    "        \n",
    "        # 點查詢欄位\n",
    "        search_field = driver.find_element_by_xpath(\"\"\"//*[@id=\"QueryIP\"]\"\"\")\n",
    "        search_field.click()\n",
    "        search_field.clear()\n",
    "\n",
    "        # 輸入IP\n",
    "        search_field.send_keys(ip_address)\n",
    "        search_field.send_keys(Keys.ENTER)\n",
    "        driver.implicitly_wait(5)\n",
    "\n",
    "        #拿到source page\n",
    "        IP_soup_2 = BeautifulSoup(driver.page_source, 'html.parser')\n",
    "        \n",
    "        # 找table\n",
    "        table_2 = IP_soup_2.find(\"table\")\n",
    "        df_2 = pd.read_html(str(table_2))[0]\n",
    "        \n",
    "        #新增到該筆文章的dictionary下面\n",
    "        earthquake_dict[art][\"Nation\"] = df_2.iloc[1][1] #國家\n",
    "        earthquake_dict[art][\"City\"] = df_2.iloc[2][1] #城市\n",
    "        earthquake_dict[art][\"Longitude and Latitude\"] = df_2.iloc[3][1] #經緯度\n",
    "        earthquake_dict[art][\"Mobile\"] = df_2.iloc[4][1] #電信名稱\n",
    "        \n",
    "        print(count, end = \" \")\n",
    "        count+=1\n",
    "        time.sleep(0.5)\n",
    "    except:\n",
    "        pass"
   ]
  },
  {
   "cell_type": "code",
   "execution_count": 11,
   "metadata": {},
   "outputs": [
    {
     "data": {
      "text/plain": [
       "1955"
      ]
     },
     "execution_count": 11,
     "metadata": {},
     "output_type": "execute_result"
    }
   ],
   "source": [
    "count"
   ]
  },
  {
   "cell_type": "code",
   "execution_count": 12,
   "metadata": {},
   "outputs": [
    {
     "name": "stdout",
     "output_type": "stream",
     "text": [
      "Taipei Taipei Taipei Taipei Taipei Taipei Kaohsiung City Taipei Tainan City Taipei Taipei Taipei Taipei Taipei Taipei Taipei Taipei Miaoli Taoyuan District Yuanlin Taipei Taipei Taipei Tainan City Taipei Taipei Chang-hua Taipei Amsterdam New York Taipei Taipei Taichung Taipei Taipei San Francisco Taipei Taipei Kaohsiung City Taipei Ann Arbor Hsinchu Chang-hua Taitung City Hsinchu Taichung Taoyuan District Taipei Andong Taipei Chang-hua Taipei Ulsan Taipei Taipei Taipei Hsinchu Taipei Singapore Hsinchu Chang-hua Kaohsiung City Kaohsiung City Taichung Taipei Taichung Taoyuan City Bangkok Tainan City Taipei Taipei Taipei Taipei Taichung Tainan City Taichung Taipei Pingtung City Taipei Tainan City Yilan Taipei Taipei Taipei Taichung Wuhan Taipei Taipei Taipei Tainan City Taoyuan City Taipei Shanghai Chang-hua Taichung Taipei Taipei Taichung Taichung Taipei Taipei Taipei Tainan City Chiayi City Chiayi City Taipei Taipei Taipei Taipei Kaohsiung City Taipei Taipei Taipei Tainan City Taipei Chang-hua Chang-hua Chang-hua Chang-hua Chang-hua Taipei Taipei Taipei Taipei Yilan Taipei Hsinchu Hsinchu Taipei Taipei Taipei Taipei Taichung Taipei Taipei Tainan City Taipei Taipei Chang-hua Kaohsiung City Miaoli Chang-hua Wuhan Taipei Taipei Taipei Taipei Taipei Taipei Taipei Taoyuan City Taipei Aspley Yilan Taoyuan District Taipei Taipei Taipei Taipei Taipei Taipei Taipei Taipei Taipei Kaohsiung City Taipei Taipei Taichung Chang-hua Prague Taoyuan City Taipei Taipei Taipei Zhonghe Taipei Kaohsiung City Taipei Kaohsiung City Taipei Hsinchu Taipei Taipei Chang-hua Taichung Taichung Taipei Chang-hua Taipei Taipei Tainan City Taipei Taipei Taipei Taipei Taipei Taichung Taipei Tainan City Taipei Taoyuan District Taipei Taoyuan District Taipei Taipei Taipei Taichung Taipei Taipei Taichung Taipei Kaohsiung City Taipei Taipei Taipei Taipei Chang-hua Taipei Taipei Tainan City Taichung Scarborough Taipei Taichung Chang-hua Taoyuan District Chiayi City Taipei Taipei Taichung Taichung Taichung Taichung Taichung Taipei Tainan City Taipei Wufeng District Taipei Yilan Kaohsiung City Taipei Chiayi City Taipei Taipei Taipei Taipei Taipei Kaohsiung City Kaohsiung City Taichung Taipei Taipei Taipei Taipei Kaohsiung City Taichung Taipei Taipei Taipei Taipei Kuala Lumpur Taipei Hsinchu Magong Taoyuan District Keelung Taipei Taipei Kirkland Hillsboro Taipei Taichung Taipei Taipei Taipei Seoul Chang-hua Taipei Taoyuan District Tainan City Taipei Taipei Taichung Chang-hua Kaohsiung City Taipei Kuala Lumpur Taipei Taipei 經度：-97.822　緯度：37.751 Taipei Chang-hua Tainan City Taichung Taipei Taipei Taipei Taipei 經度：139.690　緯度：35.690 Taoyuan District Chang-hua Taipei Taipei Taoyuan District Taipei Hsinchu Tainan City Austin Taipei Taipei Taipei Taipei Taipei Pingtung City East District Taichung Taipei Taipei Chang-hua Taipei Taipei Yokohama Taipei Taipei Kaohsiung City Taipei Taipei Taipei Xinzhu Taoyuan District Tainan City Hsinchu Hsinchu Taipei Chang-hua Chang-hua Hsinchu Taipei Taichung Taichung Tainan City Taipei Chang-hua Taoyuan District Hsinchu State College Taipei Taichung Taipei Taipei Taipei Kaohsiung City Pingtung City Taoyuan District Taoyuan District Chang-hua Taipei Taipei Taipei Chang-hua Chang-hua Taipei Taipei Mustang Taipei Los Angeles Kaohsiung City Kaohsiung City Ashburn Chang-hua Taipei Tainan City Taipei Taipei Taipei Taipei Taichung Hsinchu Taoyuan District Taichung Manchester Taipei Taichung Taoyuan District Taipei Taipei Yilan Taipei Taipei Taipei Taipei Taipei Hsinchu Taipei Taipei Taipei Hsinchu Taoyuan District Taipei Chicago Chicago Taipei Taichung Taipei Taoyuan District Taipei Hsinchu Taipei Taipei Beixing Miaoli Taipei Taipei Taichung Taipei Taipei Shanghai Taichung Chang-hua Taipei Taichung Chang-hua Taipei Taipei Taipei Kaohsiung City Taipei Taipei Taipei Taipei Taipei Taipei Taoyuan District Taipei Taipei Taipei Chang-hua Taipei Taipei Chang-hua Taichung Hualien City Taipei Taipei Taipei Taichung Taichung Minneapolis Taipei Taipei Taipei Tainan City Andong Chang-hua Taipei Taipei Taipei Taichung Chang-hua San Jose Chenggong Taipei Taipei Tainan City Taipei Taichung Chang-hua Hsinchu Tainan City Tainan City Hsinchu Chang-hua Taipei Taipei Tainan City Taipei Kaohsiung City Taipei Hualien City Taipei Taipei Kaohsiung City Hsinchu Taipei Taipei Taipei Hsinchu Taipei Hsinchu Tainan City Taipei Tainan City Taipei Tainan City Kaohsiung City Taipei Taipei Taoyuan District Taipei Chiayi City Chiayi City Taipei Taipei Beimen Taichung Taipei Shanghai Taipei Taipei Taipei Chang-hua Chang-hua Hsinchu Taipei Taipei Taipei Taipei Tainan City Taoyuan District Taichung Taipei Taipei Taipei Taipei Taipei Hsinchu Beimen Taipei Taipei Hsinchu Taipei Tainan City Taipei Taoyuan District Chang-hua Taipei Taoyuan District Hualien City Cuxi Taipei Jincheng Fongshan District Taipei Taipei Chiayi City Taipei Taipei Taipei Taipei Taipei Nantou City Hsinchu Taipei Taichung Taipei Taipei Taipei Taipei Taipei Taipei Taipei Taipei Taipei Taipei Taipei Tainan City Dake Taipei Tainan City Taipei Taipei Taipei Taipei Kaohsiung City Taipei Taipei Taipei Taichung Taipei Hsinchu Hsinchu Taipei Taipei Taipei Taipei Tainan City Tainan City Taipei Central Taoyuan District Kaohsiung City Taipei Zhubei Tainan City Taipei Taipei Taipei Taipei Taichung Taipei Taipei Taoyuan City Taichung Taipei Taipei Miaoli Taipei Shanghai Taoyuan District Taipei Nantou City Taipei Taipei Taipei Kaohsiung City Taipei Taipei Taipei Taipei Taipei Chang-hua Taoyuan District Kaohsiung City Taipei Kaohsiung City Baiyu Taipei Taipei Taipei Chang-hua Taipei Chang-hua Kaohsiung City Chang-hua Taipei Taipei Kaohsiung City Taoyuan District Chang-hua Jincheng Chiayi City Taoyuan District Taipei Kaohsiung City Taipei Taipei Zhubei Taipei Taoyuan District Chang-hua Chang-hua Kaohsiung City Taipei Magong Taipei Pingtung City Taoyuan District Hsinchu Kaohsiung City Kaohsiung City Kaohsiung City Taipei Chang-hua Shanghai Taipei Tainan City Taipei Taipei Taipei Hsinchu Taipei Taichung Chang-hua Taichung Taipei Taipei Taipei Osaka Jincheng Taipei Zhubei Kaohsiung City Kaohsiung City Taichung Taichung Taipei Chang-hua Taipei Chiayi City Taipei Taipei Taichung Tainan City Taipei Taipei Taipei Chang-hua Chang-hua Taipei Chuxiang Kimso Taipei Taipei Taipei Hsinchu Tainan City Taipei Miaoli Hsinchu Chang-hua Chang-hua Taipei Central Shinagawa Kaohsiung City Taipei Taipei Taoyuan District Taipei Taipei Taipei Chang-hua Taipei Kaohsiung City Kaohsiung City Taipei Taipei Taipei Taipei Taichung Chang-hua Kaohsiung City Seattle Taichung Hsinchu Hsinchu Taoyuan District Taoyuan District Taipei Taipei Chiayi City Kaohsiung City Taipei Taipei Taipei Taipei Central Taipei Taipei Taipei Taichung Taipei Taipei Taipei Taipei Taipei Taipei Taipei Taipei Tainan City Taipei Taipei Bitou Taipei Taichung Miaoli Chang-hua Hsinchu Taipei Taipei Taipei Taipei Taipei Taichung Taichung Chang-hua Taipei Chang-hua Jincheng Chang-hua Taipei Taoyuan District Taichung Taichung Taipei Taipei Taipei Taipei Taipei Taipei Taichung Chiayi City Chang-hua Taipei Kaohsiung City Taipei Taipei Chang-hua Shanghai Kaohsiung City Chiayi City Tainan City Kaohsiung City Taipei Taipei Central Taipei Taipei Taipei Taoyuan District Zurich Hsinchu Chang-hua Taipei Taipei Taoyuan District Taichung Tainan City Taichung Taipei Taipei Taichung Shinagawa Taipei Taipei Taichung Nantou City Taichung Taoyuan District Taipei Taichung Taipei Taipei Taipei Taichung Taipei Taipei Jincheng Taichung Taichung Chang-hua Tainan City Taipei Taipei Taichung Taichung Taipei Tainan City Hsinchu Taipei Tainan City Dorchester Yilan Yilan East District Tainan City Taipei Taipei Taipei Kaohsiung City Taipei Taipei Taichung Taipei Taipei Tainan City Kaohsiung City Taipei Taipei Taipei Taichung Taipei Kaohsiung City Taoyuan District Taichung Taipei Taipei Taipei Zhongxiqu Taipei Chang-hua Kaohsiung City Taipei Taipei Taipei Taipei Taichung Kaohsiung City Taipei Kaohsiung City Tainan City Taipei Taipei Taipei Taipei Taipei Taipei Kaohsiung City Hualien City Taipei Taipei Chang-hua Taipei Kaohsiung City Taipei Taichung Taoyuan District Taipei Taipei Taipei Taipei Taichung Taipei Taitung City Taipei Taipei Taipei Taipei Taipei Taipei Taipei Chang-hua Central Central Central Taipei Taipei Taichung Taipei Taipei Taipei Taichung Taichung Kaohsiung City Chang-hua Taoyuan District Tainan City Taipei Taipei Taipei Taichung Taichung Kaohsiung City Chiayi City Kaohsiung City Hsinchu Taipei Yilan Taoyuan District Taipei Taipei Tainan City Buzhong Buzhong Fremont Taoyuan District Taichung Taipei Taipei Taipei Taipei Chang-hua Taipei Zhongxiqu Hsinchu Taoyuan District Taoyuan District Hsinchu Glynde Taipei Taipei Taipei Tainan City Makati City Berlin Hsinchu Taipei Taipei Taichung Taipei Pingtung City Kaohsiung City Kaohsiung City Chang-hua Taipei Taipei Taipei Taipei Tainan City Taipei Taoyuan District Taipei Taipei Koto Kaohsiung City Shenzhen Matsudo Taipei Kaohsiung City Tainan City Taipei Taipei Hsinchu Taichung Taipei Taipei Taipei Kaohsiung City Taichung Taichung Hsinchu Taoyuan City Kaohsiung City Taipei Taipei Yilan Taipei Taipei Pingtung City Taipei Hsinchu Chiayi City Taoyuan District Hsinchu Taipei Taipei San Francisco Kaohsiung City Taichung Ankeng Taoyuan District Taipei Chang-hua Honcho Chang-hua Taipei Taipei Taichung Taoyuan City Taichung Taoyuan District Taichung Tainan City Buenos Aires Buenos Aires Kaohsiung City Kaohsiung City Taipei Taipei Toronto Koto Taipei Kaohsiung City 經度：139.690　緯度：35.690 Chang-hua Zhubei Taoyuan District Taipei Tainan City Taipei Taoyuan District Taipei Taipei Chang-hua Taipei Taoyuan District Chang-hua Taipei Taichung Taipei Taoyuan District Taichung Taichung Chennai Taipei Taipei Taipei Taipei Taipei Kaohsiung City Chang-hua Taipei Buenos Aires Taipei Kaohsiung City Taichung Taipei Taipei Taipei Kaohsiung City Taipei Taipei Taipei Taipei Taoyuan District Taoyuan District Chang-hua Taipei Kaohsiung City Taipei Chang-hua Taoyuan District Taipei Kaohsiung City Hualien City Taipei Taipei Tainan City Tainan City Taipei Taipei Chang-hua Taoyuan District Kaohsiung City Taichung Taichung Taipei Kaohsiung City Tainan City Singapore Taipei Taipei Kimso Kaohsiung City Kaohsiung City Taipei Kaohsiung City Taipei Taipei Hsinchu Singapore Taipei Taoyuan District Kaohsiung City Kaohsiung City Taipei Zhubei Taipei Taipei Taipei Taipei Chang-hua Taipei Prague Chang-hua Taichung Chang-hua Chang-hua 經度：121.000　緯度：23.500 Taipei Taipei Taichung Dakeng Taichung Taipei Chang-hua Taipei Miaoli 經度：139.690　緯度：35.690 Taoyuan District Jincheng Taipei Taipei Taichung Chang-hua Taipei Taipei Taipei Mountain View Tong'anliao Taichung Taipei Taipei Taipei Kaohsiung City Kaohsiung City Taipei Taipei Taichung Taichung Taichung Chang-hua Taichung Hsinchu Tong'anliao Osaka Taipei Taipei Taipei Taipei Chang-hua Hsinchu Taichung Chang-hua Taipei Kaohsiung City Taipei Kaohsiung City Taipei Taipei Taipei Taipei Badu Taoyuan District Taoyuan District Taipei Taipei Taoyuan District Kaohsiung City Taipei Taipei Taipei Taipei Tainan City Chennai Miaoli Tainan City Taipei Taipei Chang-hua Taichung Taipei Taipei Taipei Taipei Chang-hua Tainan City Taipei Kaohsiung City Taipei Taipei Taipei Taipei Hsinchu Chang-hua Taipei Taichung Chang-hua Taipei Tainan City Taipei Taipei Jackson Tainan City Tokyo Taipei Pingtung City Chang-hua Taipei Taipei Taipei Adelaide Taipei Taipei Nantou City Taipei Taipei Kaohsiung City Taoyuan District Kaohsiung City Taipei Taichung Taichung Chang-hua Taoyuan District Taichung Hsinchu Taipei Miaoli Taipei Taipei Taipei Taipei Hsinchu Taipei Chang-hua Taipei São Paulo Chang-hua Taipei Taipei Taipei Taipei Taipei Tainan City Chang-hua Bengaluru Bengaluru Bengaluru Taoyuan District Taipei Taoyuan District Hsinchu Taipei Chang-hua Taichung Kaohsiung City Kaohsiung City Nantou City Nantou City Taichung Taipei Taipei Taichung Taipei Taipei Taichung Taichung Taipei Taipei Taipei Taichung Tainan City Chang-hua Taipei Taipei Tainan City Rotterdam Taipei Hsinchu Taipei Taipei Taipei Taipei Taipei Taipei Taipei Taipei Chang-hua Bandung Taipei Chang-hua Chang-hua Taipei Kuala Lumpur Taipei Taoyuan District Taipei Taipei Taipei Taipei Taipei Hsinchu Taipei Taipei Yilan Seoul Taipei Taipei Taipei Taipei Taipei Toufen Township Taichung St Petersburg 經度：139.690　緯度：35.690 Taipei Taipei Taichung Everett Taipei Taichung Jackson Taipei Taichung Chang-hua Taipei Hsinchu Kaohsiung City Chang-hua Taipei Taichung Taipei Taoyuan District Taipei Taipei Taipei Taipei Taipei Taipei Taipei Chang-hua Taipei Edogawa Taipei Taipei Taipei Hsinchu Taipei Tainan City Taichung Taipei Taipei Taipei Taoyuan District Taipei Taipei Taipei Taichung Taichung Taoyuan District Taipei Taipei Taipei Taipei Taipei Chang-hua Taipei Taipei Frankfurt am Main Chang-hua Taipei Taipei Chang-hua Taipei Taipei Taoyuan District Taichung Kaohsiung City Taichung Taipei Chang-hua Taipei Chiayi City Taipei Taipei Taipei Taoyuan District Taipei Taipei Taipei Shah Alam Hsinchu Pingtung City Taipei Taipei Taipei Chang-hua Kaohsiung City Taipei Taipei Taipei Chang-hua Kaohsiung City Taichung Taipei Taipei Taipei Taichung Taichung Taichung Amsterdam Tainan City Taoyuan District Taipei Taipei Taipei Taipei Ballybough Kaohsiung City Taipei Taipei Dulan Kaohsiung City Taipei Taipei Taipei Taipei Taichung Taipei Taipei Taipei Taipei Taichung Taipei Kaohsiung City Taipei Taipei Hualien City Tokyo Taichung Taichung Pasig Tokyo Taipei Taipei Taipei Kaohsiung City Taipei Kaohsiung City Taipei Taipei Taipei Taipei Taipei Taipei Irvine Taipei Chenggong Taipei Taipei 經度：-97.822　緯度：37.751 Taichung Taipei Taipei Taipei Kaohsiung City Taipei Hsinchu Taoyuan District Xinzhu Los Angeles Taipei Pingtung City Taipei Taipei Taipei Taoyuan District Taichung Taipei Chang-hua Chang-hua Kyoto Chang-hua Taipei Taipei Taipei Taipei Taipei Taipei Taichung Taipei Taipei Taipei Taipei Taipei Taipei Taichung Taipei Taipei Chang-hua Chang-hua Taipei Kaohsiung City Taipei Taipei Taipei Taichung Tokyo Chang-hua Kaohsiung City Taipei Taipei Taipei Nantou City Taoyuan District Magong Taipei Taipei Taichung Taipei Chang-hua Taipei Taipei Taipei Kaohsiung City Taipei Taipei Taipei Chang-hua Chang-hua Taichung Hsinchu Taipei Taipei Taoyuan District Taipei Tainan City Chang-hua Taipei Taipei Taipei Hsinchu Taichung Chang-hua Taipei Taichung Taipei Taipei Taichung Chang-hua Taipei Taichung Taipei Taipei Taipei Taipei Kaohsiung City Danville Nantou City Hsinchu Taipei Chiayi City Taipei Taipei Taipei Taoyuan District Kaohsiung City Taipei Puchong Batu Dua Belas Taipei Taipei Taipei Taipei Chang-hua Taichung Taipei Taipei Taichung Taichung Taipei Taipei Taipei Taipei Kaohsiung City Taoyuan District Taipei Taichung Taoyuan District Taipei Taipei Taipei Tainan City Taipei Tokyo Douliu Taipei Taipei Taichung Taipei Taipei Taichung Taipei Taipei Taipei Taipei Taoyuan District Chang-hua Taipei Taipei Fongshan District Taipei Taipei Taipei Mexico City Miaoli Taipei Taoyuan District Chiayi City Taipei Taipei Hsinchu Taipei Taipei Taipei Kamisu Taipei Taipei Taipei Chang-hua Taipei Chang-hua Taipei Taipei Taipei Taipei Yilan Yilan Taipei Taichung Taipei Taipei Taoyuan District Chang-hua Taipei Taipei Taoyuan District Taipei Taipei Taipei Taipei Taipei Taipei Tai'an Taipei Taipei Chang-hua Taoyuan District Chang-hua Taipei Taipei Taipei Taichung Buhe Chang-hua Taichung Taipei Taipei Taipei Wufeng District Taichung Santa Clara Taipei Taipei Chang-hua Taipei Taipei Chang-hua Chiayi City Taipei Chang-hua Taichung Taipei Taipei Taipei Taoyuan District Taoyuan District Taipei Keelung Taipei Taipei Hsinchu Kaohsiung City Taipei Taipei Taoyuan District Kaohsiung City Taipei Taipei Kuala Lumpur Taichung Taipei Oxford Yilan Taoyuan District Taichung Taipei Taipei Taipei Taipei Ankeng Pingtung City Taoyuan District Taipei Taipei Taipei Taipei Taipei Taipei Taichung Kaohsiung City Taipei Douliu Taoyuan District Taipei Taipei Taipei Taipei Taipei Taipei Taipei Taichung Taipei Taipei Nantou City Hsinchu Kaohsiung City Kaohsiung City Taipei Taipei Taichung Taipei Taichung Taipei Taipei Taipei Kaohsiung City Taipei Baifu Los Angeles Taichung Pingtung City Taipei Taoyuan District Chang-hua Chang-hua Taichung Taitung City Hsinchu Tainan City Kaohsiung City Taipei Chang-hua Taichung Taipei Chang-hua Taipei Taipei San Jose San Jose Central Chang-hua Taipei Taipei Oxford Chang-hua Taipei Taipei Taipei Chiayi City Hsinchu Taipei Chang-hua Kaohsiung City Kaohsiung City Hsinchu Taipei Taipei Taipei Nantou City Chang-hua Taipei San Jose Taipei Taoyuan District Taipei Taichung Taipei Taipei Taipei Chang-hua Taipei Hsinchu Taipei Taipei Taipei Taipei Hsinchu Taipei Taipei Taoyuan District Taipei Taipei Tokyo Tainan City Chang-hua Taichung Taipei Taipei Taoyuan District Chang-hua Chang-hua Taipei Kaohsiung City Taipei Taipei Taipei Shanghai Kaohsiung City Kaohsiung City Taipei Taipei Taipei Taoyuan District Taipei 經度：139.690　緯度：35.690 Taipei Taipei Taipei Hsinchu Taipei Taipei Taoyuan District Kaohsiung City Kaohsiung City Taipei Taoyuan District Taipei Taipei Tampa Taipei Taipei Kimso Taipei Chang-hua Amsterdam Taipei Taipei Chang-hua Kaohsiung City Taichung Tainan City Taipei Taipei 經度：139.690　緯度：35.690 Taipei Taipei Taoyuan District Taipei Taipei Taipei Taipei Taichung Taipei Taipei Chang-hua Taipei Taipei Tainan City Miaoli Hsinchu Andong Taoyuan District Chang-hua Chang-hua Taoyuan District Taoyuan District Taipei Kaohsiung City Pingtung City Hsinchu Edogawa Taipei Taipei Chang-hua Taipei Taipei Kaohsiung City Taipei Taipei Taipei Santa Clara Andong Kaohsiung City Taipei Zhubei Taipei Taichung Taoyuan District Pingtung City Aikou Taipei Taipei Taipei "
     ]
    }
   ],
   "source": [
    "for art in articles:\n",
    "    try:\n",
    "        print(earthquake_dict[art][\"City\"], end = ' ')\n",
    "    except:\n",
    "        pass"
   ]
  },
  {
   "cell_type": "markdown",
   "metadata": {},
   "source": [
    "# Save\n",
    "np.save(\"earthquake_dict_IPquery_0611_2\", earthquake_dict)"
   ]
  },
  {
   "cell_type": "markdown",
   "metadata": {},
   "source": [
    "# 變成DataFrame"
   ]
  },
  {
   "cell_type": "code",
   "execution_count": 13,
   "metadata": {},
   "outputs": [
    {
     "ename": "KeyError",
     "evalue": "'M1590182680'",
     "output_type": "error",
     "traceback": [
      "\u001b[0;31m---------------------------------------------------------------------------\u001b[0m",
      "\u001b[0;31mKeyError\u001b[0m                                  Traceback (most recent call last)",
      "\u001b[0;32m<ipython-input-13-9ecc38af54bd>\u001b[0m in \u001b[0;36m<module>\u001b[0;34m()\u001b[0m\n\u001b[0;32m----> 1\u001b[0;31m \u001b[0mearthquake_dict\u001b[0m\u001b[0;34m[\u001b[0m\u001b[0;34m\"M1590182680\"\u001b[0m\u001b[0;34m]\u001b[0m\u001b[0;34m[\u001b[0m\u001b[0;34m\"Title\"\u001b[0m\u001b[0;34m]\u001b[0m\u001b[0;34m\u001b[0m\u001b[0m\n\u001b[0m",
      "\u001b[0;31mKeyError\u001b[0m: 'M1590182680'"
     ]
    }
   ],
   "source": [
    "earthquake_dict[\"M1590182680\"][\"Title\"]"
   ]
  },
  {
   "cell_type": "code",
   "execution_count": 14,
   "metadata": {},
   "outputs": [],
   "source": [
    "df_earthquake = pd.DataFrame(earthquake_dict)"
   ]
  },
  {
   "cell_type": "code",
   "execution_count": 15,
   "metadata": {},
   "outputs": [],
   "source": [
    "df_earthquake = df_earthquake.transpose()"
   ]
  },
  {
   "cell_type": "code",
   "execution_count": 16,
   "metadata": {},
   "outputs": [
    {
     "data": {
      "text/html": [
       "<div>\n",
       "<style scoped>\n",
       "    .dataframe tbody tr th:only-of-type {\n",
       "        vertical-align: middle;\n",
       "    }\n",
       "\n",
       "    .dataframe tbody tr th {\n",
       "        vertical-align: top;\n",
       "    }\n",
       "\n",
       "    .dataframe thead th {\n",
       "        text-align: right;\n",
       "    }\n",
       "</style>\n",
       "<table border=\"1\" class=\"dataframe\">\n",
       "  <thead>\n",
       "    <tr style=\"text-align: right;\">\n",
       "      <th></th>\n",
       "      <th>Author</th>\n",
       "      <th>Board</th>\n",
       "      <th>City</th>\n",
       "      <th>Content</th>\n",
       "      <th>Date</th>\n",
       "      <th>Full IP</th>\n",
       "      <th>IP</th>\n",
       "      <th>Longitude and Latitude</th>\n",
       "      <th>Mobile</th>\n",
       "      <th>Nation</th>\n",
       "      <th>Push</th>\n",
       "      <th>Title</th>\n",
       "    </tr>\n",
       "  </thead>\n",
       "  <tbody>\n",
       "    <tr>\n",
       "      <th>M1</th>\n",
       "      <td>AllenHuang (∴'☆:∵★.＼:)</td>\n",
       "      <td>Gossiping</td>\n",
       "      <td>Taipei</td>\n",
       "      <td>「明天上班最後一天」　韓國瑜臉書號召：歡迎市民到鳳山跟他告別\\nhttps://www.et...</td>\n",
       "      <td>Thu Jun 11 10:30:34 2020</td>\n",
       "      <td>140.109.104.46 (臺灣)</td>\n",
       "      <td>140.109.104.46</td>\n",
       "      <td>經度：121.532　緯度：25.048</td>\n",
       "      <td>Academic Sinica Network</td>\n",
       "      <td>AS - Asia ( 亞洲 ) TW - Taiwan ( 台灣 )</td>\n",
       "      <td>[→ gp500adsl: 告別...要瞻仰遺容嗎XD 06/11 10:31, 推 yad...</td>\n",
       "      <td>[新聞] 韓國瑜臉書號召：歡迎市民到鳳山跟他告別</td>\n",
       "    </tr>\n",
       "    <tr>\n",
       "      <th>M2</th>\n",
       "      <td>intotherain (&gt;\"&lt;)</td>\n",
       "      <td>Gossiping</td>\n",
       "      <td>NaN</td>\n",
       "      <td>\\n大家好\\n小弟外科醫師\\n每天都在摸醫材\\n\\n衛福部立意可能良好，但制度上一如往常違反...</td>\n",
       "      <td>Thu Jun 11 10:31:17 2020</td>\n",
       "      <td>42.73.192.226 (臺灣)</td>\n",
       "      <td>42.73.192.226</td>\n",
       "      <td>NaN</td>\n",
       "      <td>NaN</td>\n",
       "      <td>NaN</td>\n",
       "      <td>[, , 本網站已依台灣網站內容分級規定處理。此區域為限制級，未滿十八歲者不得瀏覽。, ]</td>\n",
       "      <td>Re: [問卦] 醫材自付上限醫師抗議什麼？</td>\n",
       "    </tr>\n",
       "    <tr>\n",
       "      <th>M3</th>\n",
       "      <td>freeunixer (離自相空她相)</td>\n",
       "      <td>Gossiping</td>\n",
       "      <td>Taipei</td>\n",
       "      <td>在 e shopping 板看到挺多人說用台哥大網路上淘寶,圖片都 load 不出來,\\n還...</td>\n",
       "      <td>Thu Jun 11 10:31:50 2020</td>\n",
       "      <td>60.250.90.238 (臺灣)</td>\n",
       "      <td>60.250.90.238</td>\n",
       "      <td>經度：121.532　緯度：25.048</td>\n",
       "      <td>Taiwan Academic Network</td>\n",
       "      <td>AS - Asia ( 亞洲 ) TW - Taiwan ( 台灣 )</td>\n",
       "      <td>[, , 本網站已依台灣網站內容分級規定處理。此區域為限制級，未滿十八歲者不得瀏覽。, ]</td>\n",
       "      <td>[問卦] 台哥大的網路怎麼了?</td>\n",
       "    </tr>\n",
       "    <tr>\n",
       "      <th>M4</th>\n",
       "      <td>kaky (菩提本無樹明鏡亦非台)</td>\n",
       "      <td>Gossiping</td>\n",
       "      <td>Taipei</td>\n",
       "      <td>\\n  馬政府兩岸貿易增加 親中賣台 雞蛋都放在一個籃子被中國大陸控制! !\\n\\n  蔡政...</td>\n",
       "      <td>Thu Jun 11 10:32:41 2020</td>\n",
       "      <td>36.238.20.218 (臺灣)</td>\n",
       "      <td>36.238.20.218</td>\n",
       "      <td>經度：121.532　緯度：25.048</td>\n",
       "      <td>Taiwan Academic Network</td>\n",
       "      <td>AS - Asia ( 亞洲 ) TW - Taiwan ( 台灣 )</td>\n",
       "      <td>[, , 本網站已依台灣網站內容分級規定處理。此區域為限制級，未滿十八歲者不得瀏覽。, ]</td>\n",
       "      <td>Re: [新聞] 新南向潰敗 我對陸出口飆升 東協占比創10</td>\n",
       "    </tr>\n",
       "    <tr>\n",
       "      <th>M5</th>\n",
       "      <td>layu19920414 (Guan-Jie Huang)</td>\n",
       "      <td>Gossiping</td>\n",
       "      <td>Taipei</td>\n",
       "      <td>https://woundero.wordpress.com/2013/07/04/illu...</td>\n",
       "      <td>Thu Jun 11 10:32:41 2020</td>\n",
       "      <td>101.14.140.183 (臺灣)</td>\n",
       "      <td>101.14.140.183</td>\n",
       "      <td>經度：121.532　緯度：25.048</td>\n",
       "      <td>Taiwan Mobile</td>\n",
       "      <td>AS - Asia ( 亞洲 ) TW - Taiwan ( 台灣 )</td>\n",
       "      <td>[, , 本網站已依台灣網站內容分級規定處理。此區域為限制級，未滿十八歲者不得瀏覽。, ]</td>\n",
       "      <td>Re: [問卦] 兩家公司其實同一個老闆？？</td>\n",
       "    </tr>\n",
       "  </tbody>\n",
       "</table>\n",
       "</div>"
      ],
      "text/plain": [
       "                           Author      Board    City  \\\n",
       "M1         AllenHuang (∴'☆:∵★.＼:)  Gossiping  Taipei   \n",
       "M2              intotherain (>\"<)  Gossiping     NaN   \n",
       "M3            freeunixer (離自相空她相)  Gossiping  Taipei   \n",
       "M4              kaky (菩提本無樹明鏡亦非台)  Gossiping  Taipei   \n",
       "M5  layu19920414 (Guan-Jie Huang)  Gossiping  Taipei   \n",
       "\n",
       "                                              Content  \\\n",
       "M1  「明天上班最後一天」　韓國瑜臉書號召：歡迎市民到鳳山跟他告別\\nhttps://www.et...   \n",
       "M2  \\n大家好\\n小弟外科醫師\\n每天都在摸醫材\\n\\n衛福部立意可能良好，但制度上一如往常違反...   \n",
       "M3  在 e shopping 板看到挺多人說用台哥大網路上淘寶,圖片都 load 不出來,\\n還...   \n",
       "M4  \\n  馬政府兩岸貿易增加 親中賣台 雞蛋都放在一個籃子被中國大陸控制! !\\n\\n  蔡政...   \n",
       "M5  https://woundero.wordpress.com/2013/07/04/illu...   \n",
       "\n",
       "                        Date               Full IP              IP  \\\n",
       "M1  Thu Jun 11 10:30:34 2020   140.109.104.46 (臺灣)  140.109.104.46   \n",
       "M2  Thu Jun 11 10:31:17 2020    42.73.192.226 (臺灣)   42.73.192.226   \n",
       "M3  Thu Jun 11 10:31:50 2020    60.250.90.238 (臺灣)   60.250.90.238   \n",
       "M4  Thu Jun 11 10:32:41 2020    36.238.20.218 (臺灣)   36.238.20.218   \n",
       "M5  Thu Jun 11 10:32:41 2020   101.14.140.183 (臺灣)  101.14.140.183   \n",
       "\n",
       "   Longitude and Latitude                   Mobile  \\\n",
       "M1   經度：121.532　緯度：25.048  Academic Sinica Network   \n",
       "M2                    NaN                      NaN   \n",
       "M3   經度：121.532　緯度：25.048  Taiwan Academic Network   \n",
       "M4   經度：121.532　緯度：25.048  Taiwan Academic Network   \n",
       "M5   經度：121.532　緯度：25.048            Taiwan Mobile   \n",
       "\n",
       "                                 Nation  \\\n",
       "M1  AS - Asia ( 亞洲 ) TW - Taiwan ( 台灣 )   \n",
       "M2                                  NaN   \n",
       "M3  AS - Asia ( 亞洲 ) TW - Taiwan ( 台灣 )   \n",
       "M4  AS - Asia ( 亞洲 ) TW - Taiwan ( 台灣 )   \n",
       "M5  AS - Asia ( 亞洲 ) TW - Taiwan ( 台灣 )   \n",
       "\n",
       "                                                 Push  \\\n",
       "M1  [→ gp500adsl: 告別...要瞻仰遺容嗎XD 06/11 10:31, 推 yad...   \n",
       "M2      [, , 本網站已依台灣網站內容分級規定處理。此區域為限制級，未滿十八歲者不得瀏覽。, ]   \n",
       "M3      [, , 本網站已依台灣網站內容分級規定處理。此區域為限制級，未滿十八歲者不得瀏覽。, ]   \n",
       "M4      [, , 本網站已依台灣網站內容分級規定處理。此區域為限制級，未滿十八歲者不得瀏覽。, ]   \n",
       "M5      [, , 本網站已依台灣網站內容分級規定處理。此區域為限制級，未滿十八歲者不得瀏覽。, ]   \n",
       "\n",
       "                             Title  \n",
       "M1        [新聞] 韓國瑜臉書號召：歡迎市民到鳳山跟他告別  \n",
       "M2          Re: [問卦] 醫材自付上限醫師抗議什麼？  \n",
       "M3                 [問卦] 台哥大的網路怎麼了?  \n",
       "M4  Re: [新聞] 新南向潰敗 我對陸出口飆升 東協占比創10  \n",
       "M5          Re: [問卦] 兩家公司其實同一個老闆？？  "
      ]
     },
     "execution_count": 16,
     "metadata": {},
     "output_type": "execute_result"
    }
   ],
   "source": [
    "df_earthquake.head()"
   ]
  },
  {
   "cell_type": "code",
   "execution_count": 17,
   "metadata": {},
   "outputs": [
    {
     "data": {
      "text/plain": [
       "2003"
      ]
     },
     "execution_count": 17,
     "metadata": {},
     "output_type": "execute_result"
    }
   ],
   "source": [
    "BaoGua = [] #爆卦是dummy，看這篇文章是爆卦還是問卦，藉以判斷是否是「地震文」\n",
    "for row in range(0, len(df_earthquake)):\n",
    "    if \"爆卦\" in df_earthquake.iloc[row][11]:\n",
    "        #print(df_earthquake.iloc[row][11])\n",
    "        BaoGua.append(1)\n",
    "    else:\n",
    "        BaoGua.append(0)\n",
    "len(BaoGua)"
   ]
  },
  {
   "cell_type": "code",
   "execution_count": 18,
   "metadata": {},
   "outputs": [],
   "source": [
    "df_earthquake[\"BaoGua\"] = BaoGua"
   ]
  },
  {
   "cell_type": "code",
   "execution_count": 19,
   "metadata": {},
   "outputs": [
    {
     "data": {
      "text/html": [
       "<div>\n",
       "<style scoped>\n",
       "    .dataframe tbody tr th:only-of-type {\n",
       "        vertical-align: middle;\n",
       "    }\n",
       "\n",
       "    .dataframe tbody tr th {\n",
       "        vertical-align: top;\n",
       "    }\n",
       "\n",
       "    .dataframe thead th {\n",
       "        text-align: right;\n",
       "    }\n",
       "</style>\n",
       "<table border=\"1\" class=\"dataframe\">\n",
       "  <thead>\n",
       "    <tr style=\"text-align: right;\">\n",
       "      <th></th>\n",
       "      <th>Author</th>\n",
       "      <th>Board</th>\n",
       "      <th>City</th>\n",
       "      <th>Content</th>\n",
       "      <th>Date</th>\n",
       "      <th>Full IP</th>\n",
       "      <th>IP</th>\n",
       "      <th>Longitude and Latitude</th>\n",
       "      <th>Mobile</th>\n",
       "      <th>Nation</th>\n",
       "      <th>Push</th>\n",
       "      <th>Title</th>\n",
       "      <th>BaoGua</th>\n",
       "    </tr>\n",
       "  </thead>\n",
       "  <tbody>\n",
       "    <tr>\n",
       "      <th>M1</th>\n",
       "      <td>AllenHuang (∴'☆:∵★.＼:)</td>\n",
       "      <td>Gossiping</td>\n",
       "      <td>Taipei</td>\n",
       "      <td>「明天上班最後一天」　韓國瑜臉書號召：歡迎市民到鳳山跟他告別\\nhttps://www.et...</td>\n",
       "      <td>Thu Jun 11 10:30:34 2020</td>\n",
       "      <td>140.109.104.46 (臺灣)</td>\n",
       "      <td>140.109.104.46</td>\n",
       "      <td>經度：121.532　緯度：25.048</td>\n",
       "      <td>Academic Sinica Network</td>\n",
       "      <td>AS - Asia ( 亞洲 ) TW - Taiwan ( 台灣 )</td>\n",
       "      <td>[→ gp500adsl: 告別...要瞻仰遺容嗎XD 06/11 10:31, 推 yad...</td>\n",
       "      <td>[新聞] 韓國瑜臉書號召：歡迎市民到鳳山跟他告別</td>\n",
       "      <td>0</td>\n",
       "    </tr>\n",
       "    <tr>\n",
       "      <th>M2</th>\n",
       "      <td>intotherain (&gt;\"&lt;)</td>\n",
       "      <td>Gossiping</td>\n",
       "      <td>NaN</td>\n",
       "      <td>\\n大家好\\n小弟外科醫師\\n每天都在摸醫材\\n\\n衛福部立意可能良好，但制度上一如往常違反...</td>\n",
       "      <td>Thu Jun 11 10:31:17 2020</td>\n",
       "      <td>42.73.192.226 (臺灣)</td>\n",
       "      <td>42.73.192.226</td>\n",
       "      <td>NaN</td>\n",
       "      <td>NaN</td>\n",
       "      <td>NaN</td>\n",
       "      <td>[, , 本網站已依台灣網站內容分級規定處理。此區域為限制級，未滿十八歲者不得瀏覽。, ]</td>\n",
       "      <td>Re: [問卦] 醫材自付上限醫師抗議什麼？</td>\n",
       "      <td>0</td>\n",
       "    </tr>\n",
       "    <tr>\n",
       "      <th>M3</th>\n",
       "      <td>freeunixer (離自相空她相)</td>\n",
       "      <td>Gossiping</td>\n",
       "      <td>Taipei</td>\n",
       "      <td>在 e shopping 板看到挺多人說用台哥大網路上淘寶,圖片都 load 不出來,\\n還...</td>\n",
       "      <td>Thu Jun 11 10:31:50 2020</td>\n",
       "      <td>60.250.90.238 (臺灣)</td>\n",
       "      <td>60.250.90.238</td>\n",
       "      <td>經度：121.532　緯度：25.048</td>\n",
       "      <td>Taiwan Academic Network</td>\n",
       "      <td>AS - Asia ( 亞洲 ) TW - Taiwan ( 台灣 )</td>\n",
       "      <td>[, , 本網站已依台灣網站內容分級規定處理。此區域為限制級，未滿十八歲者不得瀏覽。, ]</td>\n",
       "      <td>[問卦] 台哥大的網路怎麼了?</td>\n",
       "      <td>0</td>\n",
       "    </tr>\n",
       "    <tr>\n",
       "      <th>M4</th>\n",
       "      <td>kaky (菩提本無樹明鏡亦非台)</td>\n",
       "      <td>Gossiping</td>\n",
       "      <td>Taipei</td>\n",
       "      <td>\\n  馬政府兩岸貿易增加 親中賣台 雞蛋都放在一個籃子被中國大陸控制! !\\n\\n  蔡政...</td>\n",
       "      <td>Thu Jun 11 10:32:41 2020</td>\n",
       "      <td>36.238.20.218 (臺灣)</td>\n",
       "      <td>36.238.20.218</td>\n",
       "      <td>經度：121.532　緯度：25.048</td>\n",
       "      <td>Taiwan Academic Network</td>\n",
       "      <td>AS - Asia ( 亞洲 ) TW - Taiwan ( 台灣 )</td>\n",
       "      <td>[, , 本網站已依台灣網站內容分級規定處理。此區域為限制級，未滿十八歲者不得瀏覽。, ]</td>\n",
       "      <td>Re: [新聞] 新南向潰敗 我對陸出口飆升 東協占比創10</td>\n",
       "      <td>0</td>\n",
       "    </tr>\n",
       "    <tr>\n",
       "      <th>M5</th>\n",
       "      <td>layu19920414 (Guan-Jie Huang)</td>\n",
       "      <td>Gossiping</td>\n",
       "      <td>Taipei</td>\n",
       "      <td>https://woundero.wordpress.com/2013/07/04/illu...</td>\n",
       "      <td>Thu Jun 11 10:32:41 2020</td>\n",
       "      <td>101.14.140.183 (臺灣)</td>\n",
       "      <td>101.14.140.183</td>\n",
       "      <td>經度：121.532　緯度：25.048</td>\n",
       "      <td>Taiwan Mobile</td>\n",
       "      <td>AS - Asia ( 亞洲 ) TW - Taiwan ( 台灣 )</td>\n",
       "      <td>[, , 本網站已依台灣網站內容分級規定處理。此區域為限制級，未滿十八歲者不得瀏覽。, ]</td>\n",
       "      <td>Re: [問卦] 兩家公司其實同一個老闆？？</td>\n",
       "      <td>0</td>\n",
       "    </tr>\n",
       "  </tbody>\n",
       "</table>\n",
       "</div>"
      ],
      "text/plain": [
       "                           Author      Board    City  \\\n",
       "M1         AllenHuang (∴'☆:∵★.＼:)  Gossiping  Taipei   \n",
       "M2              intotherain (>\"<)  Gossiping     NaN   \n",
       "M3            freeunixer (離自相空她相)  Gossiping  Taipei   \n",
       "M4              kaky (菩提本無樹明鏡亦非台)  Gossiping  Taipei   \n",
       "M5  layu19920414 (Guan-Jie Huang)  Gossiping  Taipei   \n",
       "\n",
       "                                              Content  \\\n",
       "M1  「明天上班最後一天」　韓國瑜臉書號召：歡迎市民到鳳山跟他告別\\nhttps://www.et...   \n",
       "M2  \\n大家好\\n小弟外科醫師\\n每天都在摸醫材\\n\\n衛福部立意可能良好，但制度上一如往常違反...   \n",
       "M3  在 e shopping 板看到挺多人說用台哥大網路上淘寶,圖片都 load 不出來,\\n還...   \n",
       "M4  \\n  馬政府兩岸貿易增加 親中賣台 雞蛋都放在一個籃子被中國大陸控制! !\\n\\n  蔡政...   \n",
       "M5  https://woundero.wordpress.com/2013/07/04/illu...   \n",
       "\n",
       "                        Date               Full IP              IP  \\\n",
       "M1  Thu Jun 11 10:30:34 2020   140.109.104.46 (臺灣)  140.109.104.46   \n",
       "M2  Thu Jun 11 10:31:17 2020    42.73.192.226 (臺灣)   42.73.192.226   \n",
       "M3  Thu Jun 11 10:31:50 2020    60.250.90.238 (臺灣)   60.250.90.238   \n",
       "M4  Thu Jun 11 10:32:41 2020    36.238.20.218 (臺灣)   36.238.20.218   \n",
       "M5  Thu Jun 11 10:32:41 2020   101.14.140.183 (臺灣)  101.14.140.183   \n",
       "\n",
       "   Longitude and Latitude                   Mobile  \\\n",
       "M1   經度：121.532　緯度：25.048  Academic Sinica Network   \n",
       "M2                    NaN                      NaN   \n",
       "M3   經度：121.532　緯度：25.048  Taiwan Academic Network   \n",
       "M4   經度：121.532　緯度：25.048  Taiwan Academic Network   \n",
       "M5   經度：121.532　緯度：25.048            Taiwan Mobile   \n",
       "\n",
       "                                 Nation  \\\n",
       "M1  AS - Asia ( 亞洲 ) TW - Taiwan ( 台灣 )   \n",
       "M2                                  NaN   \n",
       "M3  AS - Asia ( 亞洲 ) TW - Taiwan ( 台灣 )   \n",
       "M4  AS - Asia ( 亞洲 ) TW - Taiwan ( 台灣 )   \n",
       "M5  AS - Asia ( 亞洲 ) TW - Taiwan ( 台灣 )   \n",
       "\n",
       "                                                 Push  \\\n",
       "M1  [→ gp500adsl: 告別...要瞻仰遺容嗎XD 06/11 10:31, 推 yad...   \n",
       "M2      [, , 本網站已依台灣網站內容分級規定處理。此區域為限制級，未滿十八歲者不得瀏覽。, ]   \n",
       "M3      [, , 本網站已依台灣網站內容分級規定處理。此區域為限制級，未滿十八歲者不得瀏覽。, ]   \n",
       "M4      [, , 本網站已依台灣網站內容分級規定處理。此區域為限制級，未滿十八歲者不得瀏覽。, ]   \n",
       "M5      [, , 本網站已依台灣網站內容分級規定處理。此區域為限制級，未滿十八歲者不得瀏覽。, ]   \n",
       "\n",
       "                             Title  BaoGua  \n",
       "M1        [新聞] 韓國瑜臉書號召：歡迎市民到鳳山跟他告別       0  \n",
       "M2          Re: [問卦] 醫材自付上限醫師抗議什麼？       0  \n",
       "M3                 [問卦] 台哥大的網路怎麼了?       0  \n",
       "M4  Re: [新聞] 新南向潰敗 我對陸出口飆升 東協占比創10       0  \n",
       "M5          Re: [問卦] 兩家公司其實同一個老闆？？       0  "
      ]
     },
     "execution_count": 19,
     "metadata": {},
     "output_type": "execute_result"
    }
   ],
   "source": [
    "df_earthquake.head()"
   ]
  },
  {
   "cell_type": "code",
   "execution_count": 20,
   "metadata": {},
   "outputs": [
    {
     "data": {
      "text/plain": [
       "2003"
      ]
     },
     "execution_count": 20,
     "metadata": {},
     "output_type": "execute_result"
    }
   ],
   "source": [
    "YouWin = [] #是dummy，看這篇文章的推文有沒有「你贏了」，藉以判斷是否是「地震文」\n",
    "for row in range(0, len(df_earthquake)):\n",
    "    push_content = \" \".join(df_earthquake.iloc[row][10])\n",
    "    if \"你贏了\" in push_content or \"贏了\" in push_content:\n",
    "        #print(push_content)\n",
    "        YouWin.append(1)\n",
    "    else:\n",
    "        YouWin.append(0)\n",
    "len(YouWin)"
   ]
  },
  {
   "cell_type": "code",
   "execution_count": 21,
   "metadata": {},
   "outputs": [],
   "source": [
    "df_earthquake[\"YouWin\"] = YouWin"
   ]
  },
  {
   "cell_type": "code",
   "execution_count": 22,
   "metadata": {},
   "outputs": [
    {
     "data": {
      "text/html": [
       "<div>\n",
       "<style scoped>\n",
       "    .dataframe tbody tr th:only-of-type {\n",
       "        vertical-align: middle;\n",
       "    }\n",
       "\n",
       "    .dataframe tbody tr th {\n",
       "        vertical-align: top;\n",
       "    }\n",
       "\n",
       "    .dataframe thead th {\n",
       "        text-align: right;\n",
       "    }\n",
       "</style>\n",
       "<table border=\"1\" class=\"dataframe\">\n",
       "  <thead>\n",
       "    <tr style=\"text-align: right;\">\n",
       "      <th></th>\n",
       "      <th>Author</th>\n",
       "      <th>Board</th>\n",
       "      <th>City</th>\n",
       "      <th>Content</th>\n",
       "      <th>Date</th>\n",
       "      <th>Full IP</th>\n",
       "      <th>IP</th>\n",
       "      <th>Longitude and Latitude</th>\n",
       "      <th>Mobile</th>\n",
       "      <th>Nation</th>\n",
       "      <th>Push</th>\n",
       "      <th>Title</th>\n",
       "      <th>BaoGua</th>\n",
       "      <th>YouWin</th>\n",
       "    </tr>\n",
       "  </thead>\n",
       "  <tbody>\n",
       "    <tr>\n",
       "      <th>M1</th>\n",
       "      <td>AllenHuang (∴'☆:∵★.＼:)</td>\n",
       "      <td>Gossiping</td>\n",
       "      <td>Taipei</td>\n",
       "      <td>「明天上班最後一天」　韓國瑜臉書號召：歡迎市民到鳳山跟他告別\\nhttps://www.et...</td>\n",
       "      <td>Thu Jun 11 10:30:34 2020</td>\n",
       "      <td>140.109.104.46 (臺灣)</td>\n",
       "      <td>140.109.104.46</td>\n",
       "      <td>經度：121.532　緯度：25.048</td>\n",
       "      <td>Academic Sinica Network</td>\n",
       "      <td>AS - Asia ( 亞洲 ) TW - Taiwan ( 台灣 )</td>\n",
       "      <td>[→ gp500adsl: 告別...要瞻仰遺容嗎XD 06/11 10:31, 推 yad...</td>\n",
       "      <td>[新聞] 韓國瑜臉書號召：歡迎市民到鳳山跟他告別</td>\n",
       "      <td>0</td>\n",
       "      <td>0</td>\n",
       "    </tr>\n",
       "    <tr>\n",
       "      <th>M2</th>\n",
       "      <td>intotherain (&gt;\"&lt;)</td>\n",
       "      <td>Gossiping</td>\n",
       "      <td>NaN</td>\n",
       "      <td>\\n大家好\\n小弟外科醫師\\n每天都在摸醫材\\n\\n衛福部立意可能良好，但制度上一如往常違反...</td>\n",
       "      <td>Thu Jun 11 10:31:17 2020</td>\n",
       "      <td>42.73.192.226 (臺灣)</td>\n",
       "      <td>42.73.192.226</td>\n",
       "      <td>NaN</td>\n",
       "      <td>NaN</td>\n",
       "      <td>NaN</td>\n",
       "      <td>[, , 本網站已依台灣網站內容分級規定處理。此區域為限制級，未滿十八歲者不得瀏覽。, ]</td>\n",
       "      <td>Re: [問卦] 醫材自付上限醫師抗議什麼？</td>\n",
       "      <td>0</td>\n",
       "      <td>0</td>\n",
       "    </tr>\n",
       "    <tr>\n",
       "      <th>M3</th>\n",
       "      <td>freeunixer (離自相空她相)</td>\n",
       "      <td>Gossiping</td>\n",
       "      <td>Taipei</td>\n",
       "      <td>在 e shopping 板看到挺多人說用台哥大網路上淘寶,圖片都 load 不出來,\\n還...</td>\n",
       "      <td>Thu Jun 11 10:31:50 2020</td>\n",
       "      <td>60.250.90.238 (臺灣)</td>\n",
       "      <td>60.250.90.238</td>\n",
       "      <td>經度：121.532　緯度：25.048</td>\n",
       "      <td>Taiwan Academic Network</td>\n",
       "      <td>AS - Asia ( 亞洲 ) TW - Taiwan ( 台灣 )</td>\n",
       "      <td>[, , 本網站已依台灣網站內容分級規定處理。此區域為限制級，未滿十八歲者不得瀏覽。, ]</td>\n",
       "      <td>[問卦] 台哥大的網路怎麼了?</td>\n",
       "      <td>0</td>\n",
       "      <td>0</td>\n",
       "    </tr>\n",
       "    <tr>\n",
       "      <th>M4</th>\n",
       "      <td>kaky (菩提本無樹明鏡亦非台)</td>\n",
       "      <td>Gossiping</td>\n",
       "      <td>Taipei</td>\n",
       "      <td>\\n  馬政府兩岸貿易增加 親中賣台 雞蛋都放在一個籃子被中國大陸控制! !\\n\\n  蔡政...</td>\n",
       "      <td>Thu Jun 11 10:32:41 2020</td>\n",
       "      <td>36.238.20.218 (臺灣)</td>\n",
       "      <td>36.238.20.218</td>\n",
       "      <td>經度：121.532　緯度：25.048</td>\n",
       "      <td>Taiwan Academic Network</td>\n",
       "      <td>AS - Asia ( 亞洲 ) TW - Taiwan ( 台灣 )</td>\n",
       "      <td>[, , 本網站已依台灣網站內容分級規定處理。此區域為限制級，未滿十八歲者不得瀏覽。, ]</td>\n",
       "      <td>Re: [新聞] 新南向潰敗 我對陸出口飆升 東協占比創10</td>\n",
       "      <td>0</td>\n",
       "      <td>0</td>\n",
       "    </tr>\n",
       "    <tr>\n",
       "      <th>M5</th>\n",
       "      <td>layu19920414 (Guan-Jie Huang)</td>\n",
       "      <td>Gossiping</td>\n",
       "      <td>Taipei</td>\n",
       "      <td>https://woundero.wordpress.com/2013/07/04/illu...</td>\n",
       "      <td>Thu Jun 11 10:32:41 2020</td>\n",
       "      <td>101.14.140.183 (臺灣)</td>\n",
       "      <td>101.14.140.183</td>\n",
       "      <td>經度：121.532　緯度：25.048</td>\n",
       "      <td>Taiwan Mobile</td>\n",
       "      <td>AS - Asia ( 亞洲 ) TW - Taiwan ( 台灣 )</td>\n",
       "      <td>[, , 本網站已依台灣網站內容分級規定處理。此區域為限制級，未滿十八歲者不得瀏覽。, ]</td>\n",
       "      <td>Re: [問卦] 兩家公司其實同一個老闆？？</td>\n",
       "      <td>0</td>\n",
       "      <td>0</td>\n",
       "    </tr>\n",
       "  </tbody>\n",
       "</table>\n",
       "</div>"
      ],
      "text/plain": [
       "                           Author      Board    City  \\\n",
       "M1         AllenHuang (∴'☆:∵★.＼:)  Gossiping  Taipei   \n",
       "M2              intotherain (>\"<)  Gossiping     NaN   \n",
       "M3            freeunixer (離自相空她相)  Gossiping  Taipei   \n",
       "M4              kaky (菩提本無樹明鏡亦非台)  Gossiping  Taipei   \n",
       "M5  layu19920414 (Guan-Jie Huang)  Gossiping  Taipei   \n",
       "\n",
       "                                              Content  \\\n",
       "M1  「明天上班最後一天」　韓國瑜臉書號召：歡迎市民到鳳山跟他告別\\nhttps://www.et...   \n",
       "M2  \\n大家好\\n小弟外科醫師\\n每天都在摸醫材\\n\\n衛福部立意可能良好，但制度上一如往常違反...   \n",
       "M3  在 e shopping 板看到挺多人說用台哥大網路上淘寶,圖片都 load 不出來,\\n還...   \n",
       "M4  \\n  馬政府兩岸貿易增加 親中賣台 雞蛋都放在一個籃子被中國大陸控制! !\\n\\n  蔡政...   \n",
       "M5  https://woundero.wordpress.com/2013/07/04/illu...   \n",
       "\n",
       "                        Date               Full IP              IP  \\\n",
       "M1  Thu Jun 11 10:30:34 2020   140.109.104.46 (臺灣)  140.109.104.46   \n",
       "M2  Thu Jun 11 10:31:17 2020    42.73.192.226 (臺灣)   42.73.192.226   \n",
       "M3  Thu Jun 11 10:31:50 2020    60.250.90.238 (臺灣)   60.250.90.238   \n",
       "M4  Thu Jun 11 10:32:41 2020    36.238.20.218 (臺灣)   36.238.20.218   \n",
       "M5  Thu Jun 11 10:32:41 2020   101.14.140.183 (臺灣)  101.14.140.183   \n",
       "\n",
       "   Longitude and Latitude                   Mobile  \\\n",
       "M1   經度：121.532　緯度：25.048  Academic Sinica Network   \n",
       "M2                    NaN                      NaN   \n",
       "M3   經度：121.532　緯度：25.048  Taiwan Academic Network   \n",
       "M4   經度：121.532　緯度：25.048  Taiwan Academic Network   \n",
       "M5   經度：121.532　緯度：25.048            Taiwan Mobile   \n",
       "\n",
       "                                 Nation  \\\n",
       "M1  AS - Asia ( 亞洲 ) TW - Taiwan ( 台灣 )   \n",
       "M2                                  NaN   \n",
       "M3  AS - Asia ( 亞洲 ) TW - Taiwan ( 台灣 )   \n",
       "M4  AS - Asia ( 亞洲 ) TW - Taiwan ( 台灣 )   \n",
       "M5  AS - Asia ( 亞洲 ) TW - Taiwan ( 台灣 )   \n",
       "\n",
       "                                                 Push  \\\n",
       "M1  [→ gp500adsl: 告別...要瞻仰遺容嗎XD 06/11 10:31, 推 yad...   \n",
       "M2      [, , 本網站已依台灣網站內容分級規定處理。此區域為限制級，未滿十八歲者不得瀏覽。, ]   \n",
       "M3      [, , 本網站已依台灣網站內容分級規定處理。此區域為限制級，未滿十八歲者不得瀏覽。, ]   \n",
       "M4      [, , 本網站已依台灣網站內容分級規定處理。此區域為限制級，未滿十八歲者不得瀏覽。, ]   \n",
       "M5      [, , 本網站已依台灣網站內容分級規定處理。此區域為限制級，未滿十八歲者不得瀏覽。, ]   \n",
       "\n",
       "                             Title  BaoGua  YouWin  \n",
       "M1        [新聞] 韓國瑜臉書號召：歡迎市民到鳳山跟他告別       0       0  \n",
       "M2          Re: [問卦] 醫材自付上限醫師抗議什麼？       0       0  \n",
       "M3                 [問卦] 台哥大的網路怎麼了?       0       0  \n",
       "M4  Re: [新聞] 新南向潰敗 我對陸出口飆升 東協占比創10       0       0  \n",
       "M5          Re: [問卦] 兩家公司其實同一個老闆？？       0       0  "
      ]
     },
     "execution_count": 22,
     "metadata": {},
     "output_type": "execute_result"
    }
   ],
   "source": [
    "df_earthquake.head()"
   ]
  },
  {
   "cell_type": "markdown",
   "metadata": {},
   "source": [
    "## 看「地震文」\n",
    "\n",
    "假定是同時符合「推文有『你贏了』」及「標題有『爆卦』」才算是地震文"
   ]
  },
  {
   "cell_type": "code",
   "execution_count": 23,
   "metadata": {},
   "outputs": [
    {
     "data": {
      "text/html": [
       "<div>\n",
       "<style scoped>\n",
       "    .dataframe tbody tr th:only-of-type {\n",
       "        vertical-align: middle;\n",
       "    }\n",
       "\n",
       "    .dataframe tbody tr th {\n",
       "        vertical-align: top;\n",
       "    }\n",
       "\n",
       "    .dataframe thead th {\n",
       "        text-align: right;\n",
       "    }\n",
       "</style>\n",
       "<table border=\"1\" class=\"dataframe\">\n",
       "  <thead>\n",
       "    <tr style=\"text-align: right;\">\n",
       "      <th></th>\n",
       "      <th>Author</th>\n",
       "      <th>Board</th>\n",
       "      <th>City</th>\n",
       "      <th>Content</th>\n",
       "      <th>Date</th>\n",
       "      <th>Full IP</th>\n",
       "      <th>IP</th>\n",
       "      <th>Longitude and Latitude</th>\n",
       "      <th>Mobile</th>\n",
       "      <th>Nation</th>\n",
       "      <th>Push</th>\n",
       "      <th>Title</th>\n",
       "      <th>BaoGua</th>\n",
       "      <th>YouWin</th>\n",
       "    </tr>\n",
       "  </thead>\n",
       "  <tbody>\n",
       "    <tr>\n",
       "      <th>M59</th>\n",
       "      <td>bewell (一切都好)</td>\n",
       "      <td>Gossiping</td>\n",
       "      <td>Taipei</td>\n",
       "      <td>\\n\\n其實台灣聰明的做法\\n應該是讓日本跟中國去爭\\n看雙方因為釣魚台交惡\\n\\n這樣台灣...</td>\n",
       "      <td>Thu Jun 11 10:18:35 2020</td>\n",
       "      <td>223.136.237.151 (臺灣)</td>\n",
       "      <td>223.136.237.151</td>\n",
       "      <td>經度：121.532　緯度：25.048</td>\n",
       "      <td>Chunghwa Telecom</td>\n",
       "      <td>AS - Asia ( 亞洲 ) TW - Taiwan ( 台灣 )</td>\n",
       "      <td>[推 DIDIMIN: 又不是要開發島，是為了海域 06/11 10:19, → EXION...</td>\n",
       "      <td>Re: [問卦] 所以釣魚台到底是誰的？</td>\n",
       "      <td>0</td>\n",
       "      <td>1</td>\n",
       "    </tr>\n",
       "    <tr>\n",
       "      <th>M119</th>\n",
       "      <td>VB6 (VB)</td>\n",
       "      <td>Gossiping</td>\n",
       "      <td>Taipei</td>\n",
       "      <td>1.媒體來源:\\n三立新聞網\\n\\n2.記者署名:\\n張之謙\\n\\n3.完整新聞標題:\\n搶...</td>\n",
       "      <td>Thu Jun 11 09:45:29 2020</td>\n",
       "      <td>114.44.171.133 (臺灣)</td>\n",
       "      <td>114.44.171.133</td>\n",
       "      <td>經度：121.532　緯度：25.048</td>\n",
       "      <td>HiNet</td>\n",
       "      <td>AS - Asia ( 亞洲 ) TW - Taiwan ( 台灣 )</td>\n",
       "      <td>[→ frommr: 再輸一次 06/11 09:45, → kairi5217: 滾 06...</td>\n",
       "      <td>[新聞] 搶攻高雄！複製柯文哲模式　蔡壁如：與</td>\n",
       "      <td>0</td>\n",
       "      <td>1</td>\n",
       "    </tr>\n",
       "    <tr>\n",
       "      <th>M163</th>\n",
       "      <td>B0Y0 (假柏濕)</td>\n",
       "      <td>Gossiping</td>\n",
       "      <td>Yilan</td>\n",
       "      <td>到底ˋ有沒有\\n\\n\\n第 030 號顯著有感地震報告\\n發震時間：2020/06/11 0...</td>\n",
       "      <td>Thu Jun 11 09:39:09 2020</td>\n",
       "      <td>114.45.248.37 (臺灣)</td>\n",
       "      <td>114.45.248.37</td>\n",
       "      <td>經度：121.753　緯度：24.757</td>\n",
       "      <td>HiNet</td>\n",
       "      <td>AS - Asia ( 亞洲 ) TW - Taiwan ( 台灣 )</td>\n",
       "      <td>[推 sivhd: 有 06/11 09:39, → sincere77: 贏了 06/11...</td>\n",
       "      <td>[爆卦] 地震</td>\n",
       "      <td>1</td>\n",
       "      <td>1</td>\n",
       "    </tr>\n",
       "    <tr>\n",
       "      <th>M220</th>\n",
       "      <td>Salcea (5457)</td>\n",
       "      <td>Gossiping</td>\n",
       "      <td>Taipei</td>\n",
       "      <td>韓國瑜提鄭南榕比許崑源 黃捷轟：泯滅人性、民主毒瘤\\n\\n 聯合報 / 記者袁志豪／即時報導...</td>\n",
       "      <td>Thu Jun 11 09:02:04 2020</td>\n",
       "      <td>61.222.245.227 (臺灣)</td>\n",
       "      <td>61.222.245.227</td>\n",
       "      <td>經度：121.532　緯度：25.048</td>\n",
       "      <td>HiNet</td>\n",
       "      <td>AS - Asia ( 亞洲 ) TW - Taiwan ( 台灣 )</td>\n",
       "      <td>[推 tml7415: 其實韓國瑜也沒說錯阿 06/11 09:02, → kawazaki...</td>\n",
       "      <td>[新聞] 韓國瑜提鄭南榕比許崑源 黃捷轟：泯滅人</td>\n",
       "      <td>0</td>\n",
       "      <td>1</td>\n",
       "    </tr>\n",
       "    <tr>\n",
       "      <th>M283</th>\n",
       "      <td>rathunter (老鼠殺手)</td>\n",
       "      <td>Gossiping</td>\n",
       "      <td>Keelung</td>\n",
       "      <td>\\n小弟我覺得很奇怪啦。\\n\\n到現在還在打侯，鄭南榕這件事。\\n\\n鄭當時是抗議的主政者是...</td>\n",
       "      <td>Thu Jun 11 08:17:24 2020</td>\n",
       "      <td>210.240.25.74 (臺灣)</td>\n",
       "      <td>210.240.25.74</td>\n",
       "      <td>經度：121.742　緯度：25.128</td>\n",
       "      <td>Taiwan Academic Network</td>\n",
       "      <td>AS - Asia ( 亞洲 ) TW - Taiwan ( 台灣 )</td>\n",
       "      <td>[推 q347: 那時候台北市長是柯文哲嗎?? 06/11 08:18, 噓 ivoryso...</td>\n",
       "      <td>Re: [問卦] 鄭南榕事件時攻堅的侯友宜在想什麼?</td>\n",
       "      <td>0</td>\n",
       "      <td>1</td>\n",
       "    </tr>\n",
       "  </tbody>\n",
       "</table>\n",
       "</div>"
      ],
      "text/plain": [
       "                Author      Board     City  \\\n",
       "M59      bewell (一切都好)  Gossiping   Taipei   \n",
       "M119          VB6 (VB)  Gossiping   Taipei   \n",
       "M163        B0Y0 (假柏濕)  Gossiping    Yilan   \n",
       "M220     Salcea (5457)  Gossiping   Taipei   \n",
       "M283  rathunter (老鼠殺手)  Gossiping  Keelung   \n",
       "\n",
       "                                                Content  \\\n",
       "M59   \\n\\n其實台灣聰明的做法\\n應該是讓日本跟中國去爭\\n看雙方因為釣魚台交惡\\n\\n這樣台灣...   \n",
       "M119  1.媒體來源:\\n三立新聞網\\n\\n2.記者署名:\\n張之謙\\n\\n3.完整新聞標題:\\n搶...   \n",
       "M163  到底ˋ有沒有\\n\\n\\n第 030 號顯著有感地震報告\\n發震時間：2020/06/11 0...   \n",
       "M220  韓國瑜提鄭南榕比許崑源 黃捷轟：泯滅人性、民主毒瘤\\n\\n 聯合報 / 記者袁志豪／即時報導...   \n",
       "M283  \\n小弟我覺得很奇怪啦。\\n\\n到現在還在打侯，鄭南榕這件事。\\n\\n鄭當時是抗議的主政者是...   \n",
       "\n",
       "                          Date                Full IP               IP  \\\n",
       "M59   Thu Jun 11 10:18:35 2020   223.136.237.151 (臺灣)  223.136.237.151   \n",
       "M119  Thu Jun 11 09:45:29 2020    114.44.171.133 (臺灣)   114.44.171.133   \n",
       "M163  Thu Jun 11 09:39:09 2020     114.45.248.37 (臺灣)    114.45.248.37   \n",
       "M220  Thu Jun 11 09:02:04 2020    61.222.245.227 (臺灣)   61.222.245.227   \n",
       "M283  Thu Jun 11 08:17:24 2020     210.240.25.74 (臺灣)    210.240.25.74   \n",
       "\n",
       "     Longitude and Latitude                   Mobile  \\\n",
       "M59    經度：121.532　緯度：25.048         Chunghwa Telecom   \n",
       "M119   經度：121.532　緯度：25.048                    HiNet   \n",
       "M163   經度：121.753　緯度：24.757                    HiNet   \n",
       "M220   經度：121.532　緯度：25.048                    HiNet   \n",
       "M283   經度：121.742　緯度：25.128  Taiwan Academic Network   \n",
       "\n",
       "                                   Nation  \\\n",
       "M59   AS - Asia ( 亞洲 ) TW - Taiwan ( 台灣 )   \n",
       "M119  AS - Asia ( 亞洲 ) TW - Taiwan ( 台灣 )   \n",
       "M163  AS - Asia ( 亞洲 ) TW - Taiwan ( 台灣 )   \n",
       "M220  AS - Asia ( 亞洲 ) TW - Taiwan ( 台灣 )   \n",
       "M283  AS - Asia ( 亞洲 ) TW - Taiwan ( 台灣 )   \n",
       "\n",
       "                                                   Push  \\\n",
       "M59   [推 DIDIMIN: 又不是要開發島，是為了海域 06/11 10:19, → EXION...   \n",
       "M119  [→ frommr: 再輸一次 06/11 09:45, → kairi5217: 滾 06...   \n",
       "M163  [推 sivhd: 有 06/11 09:39, → sincere77: 贏了 06/11...   \n",
       "M220  [推 tml7415: 其實韓國瑜也沒說錯阿 06/11 09:02, → kawazaki...   \n",
       "M283  [推 q347: 那時候台北市長是柯文哲嗎?? 06/11 08:18, 噓 ivoryso...   \n",
       "\n",
       "                           Title  BaoGua  YouWin  \n",
       "M59         Re: [問卦] 所以釣魚台到底是誰的？       0       1  \n",
       "M119     [新聞] 搶攻高雄！複製柯文哲模式　蔡壁如：與       0       1  \n",
       "M163                     [爆卦] 地震       1       1  \n",
       "M220    [新聞] 韓國瑜提鄭南榕比許崑源 黃捷轟：泯滅人       0       1  \n",
       "M283  Re: [問卦] 鄭南榕事件時攻堅的侯友宜在想什麼?       0       1  "
      ]
     },
     "execution_count": 23,
     "metadata": {},
     "output_type": "execute_result"
    }
   ],
   "source": [
    "# 只有「你贏了」\n",
    "df_earthquake[df_earthquake[\"YouWin\"]==1].head()"
   ]
  },
  {
   "cell_type": "code",
   "execution_count": 24,
   "metadata": {},
   "outputs": [
    {
     "name": "stdout",
     "output_type": "stream",
     "text": [
      "2003 2003\n"
     ]
    }
   ],
   "source": [
    "# 拆開經緯度資訊\n",
    "Longitude = [] #經度\n",
    "Latitude = [] #緯度\n",
    "for row in range(0, len(df_earthquake)):\n",
    "    try:\n",
    "        Long = df_earthquake.iloc[row][7].split(sep = \"：\")[1].split()[0]\n",
    "        Lati = df_earthquake.iloc[row][7].split(sep = \"：\")[2]\n",
    "\n",
    "        Longitude.append(Long)\n",
    "        Latitude.append(Lati)\n",
    "    except:\n",
    "        Longitude.append(\"NaN\")\n",
    "        Latitude.append(\"NaN\")\n",
    "print(len(Longitude), len(Latitude))"
   ]
  },
  {
   "cell_type": "code",
   "execution_count": 25,
   "metadata": {},
   "outputs": [
    {
     "name": "stdout",
     "output_type": "stream",
     "text": [
      "經度：121.532　緯度：25.048\n"
     ]
    },
    {
     "data": {
      "text/plain": [
       "'121.532'"
      ]
     },
     "execution_count": 25,
     "metadata": {},
     "output_type": "execute_result"
    }
   ],
   "source": [
    "print(df_earthquake.iloc[row][7])\n",
    "df_earthquake.iloc[row][7].split(sep = \"：\")[1].split()[0]"
   ]
  },
  {
   "cell_type": "code",
   "execution_count": 26,
   "metadata": {},
   "outputs": [
    {
     "data": {
      "text/plain": [
       "'25.048'"
      ]
     },
     "execution_count": 26,
     "metadata": {},
     "output_type": "execute_result"
    }
   ],
   "source": [
    "df_earthquake.iloc[row][7].split(sep = \"：\")[2]"
   ]
  },
  {
   "cell_type": "code",
   "execution_count": 27,
   "metadata": {},
   "outputs": [
    {
     "data": {
      "text/plain": [
       "'經度：121.532\\u3000緯度：25.048'"
      ]
     },
     "execution_count": 27,
     "metadata": {},
     "output_type": "execute_result"
    }
   ],
   "source": [
    "df_earthquake.iloc[row][7]"
   ]
  },
  {
   "cell_type": "code",
   "execution_count": 28,
   "metadata": {},
   "outputs": [],
   "source": [
    "df_earthquake[\"Longitude\"] = Longitude\n",
    "df_earthquake[\"Latitude\"] = Latitude"
   ]
  },
  {
   "cell_type": "code",
   "execution_count": 29,
   "metadata": {},
   "outputs": [
    {
     "data": {
      "text/html": [
       "<div>\n",
       "<style scoped>\n",
       "    .dataframe tbody tr th:only-of-type {\n",
       "        vertical-align: middle;\n",
       "    }\n",
       "\n",
       "    .dataframe tbody tr th {\n",
       "        vertical-align: top;\n",
       "    }\n",
       "\n",
       "    .dataframe thead th {\n",
       "        text-align: right;\n",
       "    }\n",
       "</style>\n",
       "<table border=\"1\" class=\"dataframe\">\n",
       "  <thead>\n",
       "    <tr style=\"text-align: right;\">\n",
       "      <th></th>\n",
       "      <th>Author</th>\n",
       "      <th>Board</th>\n",
       "      <th>City</th>\n",
       "      <th>Content</th>\n",
       "      <th>Date</th>\n",
       "      <th>Full IP</th>\n",
       "      <th>IP</th>\n",
       "      <th>Longitude and Latitude</th>\n",
       "      <th>Mobile</th>\n",
       "      <th>Nation</th>\n",
       "      <th>Push</th>\n",
       "      <th>Title</th>\n",
       "      <th>BaoGua</th>\n",
       "      <th>YouWin</th>\n",
       "      <th>Longitude</th>\n",
       "      <th>Latitude</th>\n",
       "    </tr>\n",
       "  </thead>\n",
       "  <tbody>\n",
       "    <tr>\n",
       "      <th>M1</th>\n",
       "      <td>AllenHuang (∴'☆:∵★.＼:)</td>\n",
       "      <td>Gossiping</td>\n",
       "      <td>Taipei</td>\n",
       "      <td>「明天上班最後一天」　韓國瑜臉書號召：歡迎市民到鳳山跟他告別\\nhttps://www.et...</td>\n",
       "      <td>Thu Jun 11 10:30:34 2020</td>\n",
       "      <td>140.109.104.46 (臺灣)</td>\n",
       "      <td>140.109.104.46</td>\n",
       "      <td>經度：121.532　緯度：25.048</td>\n",
       "      <td>Academic Sinica Network</td>\n",
       "      <td>AS - Asia ( 亞洲 ) TW - Taiwan ( 台灣 )</td>\n",
       "      <td>[→ gp500adsl: 告別...要瞻仰遺容嗎XD 06/11 10:31, 推 yad...</td>\n",
       "      <td>[新聞] 韓國瑜臉書號召：歡迎市民到鳳山跟他告別</td>\n",
       "      <td>0</td>\n",
       "      <td>0</td>\n",
       "      <td>121.532</td>\n",
       "      <td>25.048</td>\n",
       "    </tr>\n",
       "    <tr>\n",
       "      <th>M2</th>\n",
       "      <td>intotherain (&gt;\"&lt;)</td>\n",
       "      <td>Gossiping</td>\n",
       "      <td>NaN</td>\n",
       "      <td>\\n大家好\\n小弟外科醫師\\n每天都在摸醫材\\n\\n衛福部立意可能良好，但制度上一如往常違反...</td>\n",
       "      <td>Thu Jun 11 10:31:17 2020</td>\n",
       "      <td>42.73.192.226 (臺灣)</td>\n",
       "      <td>42.73.192.226</td>\n",
       "      <td>NaN</td>\n",
       "      <td>NaN</td>\n",
       "      <td>NaN</td>\n",
       "      <td>[, , 本網站已依台灣網站內容分級規定處理。此區域為限制級，未滿十八歲者不得瀏覽。, ]</td>\n",
       "      <td>Re: [問卦] 醫材自付上限醫師抗議什麼？</td>\n",
       "      <td>0</td>\n",
       "      <td>0</td>\n",
       "      <td>NaN</td>\n",
       "      <td>NaN</td>\n",
       "    </tr>\n",
       "    <tr>\n",
       "      <th>M3</th>\n",
       "      <td>freeunixer (離自相空她相)</td>\n",
       "      <td>Gossiping</td>\n",
       "      <td>Taipei</td>\n",
       "      <td>在 e shopping 板看到挺多人說用台哥大網路上淘寶,圖片都 load 不出來,\\n還...</td>\n",
       "      <td>Thu Jun 11 10:31:50 2020</td>\n",
       "      <td>60.250.90.238 (臺灣)</td>\n",
       "      <td>60.250.90.238</td>\n",
       "      <td>經度：121.532　緯度：25.048</td>\n",
       "      <td>Taiwan Academic Network</td>\n",
       "      <td>AS - Asia ( 亞洲 ) TW - Taiwan ( 台灣 )</td>\n",
       "      <td>[, , 本網站已依台灣網站內容分級規定處理。此區域為限制級，未滿十八歲者不得瀏覽。, ]</td>\n",
       "      <td>[問卦] 台哥大的網路怎麼了?</td>\n",
       "      <td>0</td>\n",
       "      <td>0</td>\n",
       "      <td>121.532</td>\n",
       "      <td>25.048</td>\n",
       "    </tr>\n",
       "    <tr>\n",
       "      <th>M4</th>\n",
       "      <td>kaky (菩提本無樹明鏡亦非台)</td>\n",
       "      <td>Gossiping</td>\n",
       "      <td>Taipei</td>\n",
       "      <td>\\n  馬政府兩岸貿易增加 親中賣台 雞蛋都放在一個籃子被中國大陸控制! !\\n\\n  蔡政...</td>\n",
       "      <td>Thu Jun 11 10:32:41 2020</td>\n",
       "      <td>36.238.20.218 (臺灣)</td>\n",
       "      <td>36.238.20.218</td>\n",
       "      <td>經度：121.532　緯度：25.048</td>\n",
       "      <td>Taiwan Academic Network</td>\n",
       "      <td>AS - Asia ( 亞洲 ) TW - Taiwan ( 台灣 )</td>\n",
       "      <td>[, , 本網站已依台灣網站內容分級規定處理。此區域為限制級，未滿十八歲者不得瀏覽。, ]</td>\n",
       "      <td>Re: [新聞] 新南向潰敗 我對陸出口飆升 東協占比創10</td>\n",
       "      <td>0</td>\n",
       "      <td>0</td>\n",
       "      <td>121.532</td>\n",
       "      <td>25.048</td>\n",
       "    </tr>\n",
       "    <tr>\n",
       "      <th>M5</th>\n",
       "      <td>layu19920414 (Guan-Jie Huang)</td>\n",
       "      <td>Gossiping</td>\n",
       "      <td>Taipei</td>\n",
       "      <td>https://woundero.wordpress.com/2013/07/04/illu...</td>\n",
       "      <td>Thu Jun 11 10:32:41 2020</td>\n",
       "      <td>101.14.140.183 (臺灣)</td>\n",
       "      <td>101.14.140.183</td>\n",
       "      <td>經度：121.532　緯度：25.048</td>\n",
       "      <td>Taiwan Mobile</td>\n",
       "      <td>AS - Asia ( 亞洲 ) TW - Taiwan ( 台灣 )</td>\n",
       "      <td>[, , 本網站已依台灣網站內容分級規定處理。此區域為限制級，未滿十八歲者不得瀏覽。, ]</td>\n",
       "      <td>Re: [問卦] 兩家公司其實同一個老闆？？</td>\n",
       "      <td>0</td>\n",
       "      <td>0</td>\n",
       "      <td>121.532</td>\n",
       "      <td>25.048</td>\n",
       "    </tr>\n",
       "  </tbody>\n",
       "</table>\n",
       "</div>"
      ],
      "text/plain": [
       "                           Author      Board    City  \\\n",
       "M1         AllenHuang (∴'☆:∵★.＼:)  Gossiping  Taipei   \n",
       "M2              intotherain (>\"<)  Gossiping     NaN   \n",
       "M3            freeunixer (離自相空她相)  Gossiping  Taipei   \n",
       "M4              kaky (菩提本無樹明鏡亦非台)  Gossiping  Taipei   \n",
       "M5  layu19920414 (Guan-Jie Huang)  Gossiping  Taipei   \n",
       "\n",
       "                                              Content  \\\n",
       "M1  「明天上班最後一天」　韓國瑜臉書號召：歡迎市民到鳳山跟他告別\\nhttps://www.et...   \n",
       "M2  \\n大家好\\n小弟外科醫師\\n每天都在摸醫材\\n\\n衛福部立意可能良好，但制度上一如往常違反...   \n",
       "M3  在 e shopping 板看到挺多人說用台哥大網路上淘寶,圖片都 load 不出來,\\n還...   \n",
       "M4  \\n  馬政府兩岸貿易增加 親中賣台 雞蛋都放在一個籃子被中國大陸控制! !\\n\\n  蔡政...   \n",
       "M5  https://woundero.wordpress.com/2013/07/04/illu...   \n",
       "\n",
       "                        Date               Full IP              IP  \\\n",
       "M1  Thu Jun 11 10:30:34 2020   140.109.104.46 (臺灣)  140.109.104.46   \n",
       "M2  Thu Jun 11 10:31:17 2020    42.73.192.226 (臺灣)   42.73.192.226   \n",
       "M3  Thu Jun 11 10:31:50 2020    60.250.90.238 (臺灣)   60.250.90.238   \n",
       "M4  Thu Jun 11 10:32:41 2020    36.238.20.218 (臺灣)   36.238.20.218   \n",
       "M5  Thu Jun 11 10:32:41 2020   101.14.140.183 (臺灣)  101.14.140.183   \n",
       "\n",
       "   Longitude and Latitude                   Mobile  \\\n",
       "M1   經度：121.532　緯度：25.048  Academic Sinica Network   \n",
       "M2                    NaN                      NaN   \n",
       "M3   經度：121.532　緯度：25.048  Taiwan Academic Network   \n",
       "M4   經度：121.532　緯度：25.048  Taiwan Academic Network   \n",
       "M5   經度：121.532　緯度：25.048            Taiwan Mobile   \n",
       "\n",
       "                                 Nation  \\\n",
       "M1  AS - Asia ( 亞洲 ) TW - Taiwan ( 台灣 )   \n",
       "M2                                  NaN   \n",
       "M3  AS - Asia ( 亞洲 ) TW - Taiwan ( 台灣 )   \n",
       "M4  AS - Asia ( 亞洲 ) TW - Taiwan ( 台灣 )   \n",
       "M5  AS - Asia ( 亞洲 ) TW - Taiwan ( 台灣 )   \n",
       "\n",
       "                                                 Push  \\\n",
       "M1  [→ gp500adsl: 告別...要瞻仰遺容嗎XD 06/11 10:31, 推 yad...   \n",
       "M2      [, , 本網站已依台灣網站內容分級規定處理。此區域為限制級，未滿十八歲者不得瀏覽。, ]   \n",
       "M3      [, , 本網站已依台灣網站內容分級規定處理。此區域為限制級，未滿十八歲者不得瀏覽。, ]   \n",
       "M4      [, , 本網站已依台灣網站內容分級規定處理。此區域為限制級，未滿十八歲者不得瀏覽。, ]   \n",
       "M5      [, , 本網站已依台灣網站內容分級規定處理。此區域為限制級，未滿十八歲者不得瀏覽。, ]   \n",
       "\n",
       "                             Title  BaoGua  YouWin Longitude Latitude  \n",
       "M1        [新聞] 韓國瑜臉書號召：歡迎市民到鳳山跟他告別       0       0   121.532   25.048  \n",
       "M2          Re: [問卦] 醫材自付上限醫師抗議什麼？       0       0       NaN      NaN  \n",
       "M3                 [問卦] 台哥大的網路怎麼了?       0       0   121.532   25.048  \n",
       "M4  Re: [新聞] 新南向潰敗 我對陸出口飆升 東協占比創10       0       0   121.532   25.048  \n",
       "M5          Re: [問卦] 兩家公司其實同一個老闆？？       0       0   121.532   25.048  "
      ]
     },
     "execution_count": 29,
     "metadata": {},
     "output_type": "execute_result"
    }
   ],
   "source": [
    "df_earthquake.head()"
   ]
  },
  {
   "cell_type": "markdown",
   "metadata": {},
   "source": [
    "df_earthquake.to_csv(\"PTT_earthquake_0611_2.csv\", encoding=\"utf-8\")"
   ]
  },
  {
   "cell_type": "markdown",
   "metadata": {},
   "source": [
    "# 處理時間格式"
   ]
  },
  {
   "cell_type": "markdown",
   "metadata": {},
   "source": [
    "eg. \"Sat May 30 22:18:19 2020\"\n",
    "\n",
    "ref: https://docs.python.org/zh-cn/3/library/datetime.html"
   ]
  },
  {
   "cell_type": "code",
   "execution_count": 30,
   "metadata": {},
   "outputs": [],
   "source": [
    "import datetime"
   ]
  },
  {
   "cell_type": "code",
   "execution_count": 31,
   "metadata": {},
   "outputs": [
    {
     "data": {
      "text/plain": [
       "datetime.datetime(1900, 5, 30, 0, 0)"
      ]
     },
     "execution_count": 31,
     "metadata": {},
     "output_type": "execute_result"
    }
   ],
   "source": [
    "dstr = \"Saturday May 30\"\n",
    "#datetime.datetime.strptime(dstr, \"%A %B %d\")\n",
    "datetime.datetime.strptime(dstr, \"%A %B %d\")"
   ]
  },
  {
   "cell_type": "code",
   "execution_count": 32,
   "metadata": {},
   "outputs": [],
   "source": [
    "d = datetime.date.fromordinal(730920)"
   ]
  },
  {
   "cell_type": "code",
   "execution_count": 33,
   "metadata": {},
   "outputs": [
    {
     "data": {
      "text/plain": [
       "datetime.date(2002, 3, 11)"
      ]
     },
     "execution_count": 33,
     "metadata": {},
     "output_type": "execute_result"
    }
   ],
   "source": [
    "d"
   ]
  },
  {
   "cell_type": "code",
   "execution_count": 34,
   "metadata": {},
   "outputs": [
    {
     "data": {
      "text/plain": [
       "'Monday 11. March 2002'"
      ]
     },
     "execution_count": 34,
     "metadata": {},
     "output_type": "execute_result"
    }
   ],
   "source": [
    "d.strftime(\"%A %d. %B %Y\")"
   ]
  },
  {
   "cell_type": "code",
   "execution_count": 35,
   "metadata": {},
   "outputs": [
    {
     "data": {
      "text/plain": [
       "datetime.datetime(1900, 2, 28, 0, 0)"
      ]
     },
     "execution_count": 35,
     "metadata": {},
     "output_type": "execute_result"
    }
   ],
   "source": [
    "dstr = \"Sat Feb 28\"\n",
    "datetime.datetime.strptime(dstr, \"%a %b %d\")"
   ]
  },
  {
   "cell_type": "code",
   "execution_count": 36,
   "metadata": {},
   "outputs": [],
   "source": [
    "# 正確的時間格式\n",
    "dstr = \"Sat May 30 22:18:19 2020\"\n",
    "d = datetime.datetime.strptime(dstr, \"%a %b %d %H:%M:%S %Y\")"
   ]
  },
  {
   "cell_type": "code",
   "execution_count": 37,
   "metadata": {},
   "outputs": [
    {
     "data": {
      "text/plain": [
       "'2020-05-30 22:18:19'"
      ]
     },
     "execution_count": 37,
     "metadata": {},
     "output_type": "execute_result"
    }
   ],
   "source": [
    "d.strftime(\"%Y-%m-%d %H:%M:%S\")"
   ]
  },
  {
   "cell_type": "code",
   "execution_count": 38,
   "metadata": {},
   "outputs": [
    {
     "data": {
      "text/plain": [
       "'Wed Jun 10 13:19:38 2020'"
      ]
     },
     "execution_count": 38,
     "metadata": {},
     "output_type": "execute_result"
    }
   ],
   "source": [
    "df_earthquake.iloc[row][4]"
   ]
  },
  {
   "cell_type": "code",
   "execution_count": 39,
   "metadata": {},
   "outputs": [
    {
     "name": "stdout",
     "output_type": "stream",
     "text": [
      "2003 1\n"
     ]
    }
   ],
   "source": [
    "# 修改時間格式\n",
    "Date_format = [] #經度\n",
    "count = 0\n",
    "for row in range(0, len(df_earthquake)):\n",
    "    try:\n",
    "        dstr = df_earthquake.iloc[row][4]\n",
    "        d = datetime.datetime.strptime(dstr, \"%a %b %d %H:%M:%S %Y\")\n",
    "        Date_format.append(d.strftime(\"%Y-%m-%d %H:%M:%S\"))\n",
    "    except:\n",
    "        Date_format.append(\"NaN\")\n",
    "        count+=1\n",
    "print(len(Date_format), count)"
   ]
  },
  {
   "cell_type": "code",
   "execution_count": 40,
   "metadata": {},
   "outputs": [],
   "source": [
    "df_earthquake[\"Date_format\"] = Date_format"
   ]
  },
  {
   "cell_type": "code",
   "execution_count": 41,
   "metadata": {},
   "outputs": [
    {
     "data": {
      "text/html": [
       "<div>\n",
       "<style scoped>\n",
       "    .dataframe tbody tr th:only-of-type {\n",
       "        vertical-align: middle;\n",
       "    }\n",
       "\n",
       "    .dataframe tbody tr th {\n",
       "        vertical-align: top;\n",
       "    }\n",
       "\n",
       "    .dataframe thead th {\n",
       "        text-align: right;\n",
       "    }\n",
       "</style>\n",
       "<table border=\"1\" class=\"dataframe\">\n",
       "  <thead>\n",
       "    <tr style=\"text-align: right;\">\n",
       "      <th></th>\n",
       "      <th>Author</th>\n",
       "      <th>Board</th>\n",
       "      <th>City</th>\n",
       "      <th>Content</th>\n",
       "      <th>Date</th>\n",
       "      <th>Full IP</th>\n",
       "      <th>IP</th>\n",
       "      <th>Longitude and Latitude</th>\n",
       "      <th>Mobile</th>\n",
       "      <th>Nation</th>\n",
       "      <th>Push</th>\n",
       "      <th>Title</th>\n",
       "      <th>BaoGua</th>\n",
       "      <th>YouWin</th>\n",
       "      <th>Longitude</th>\n",
       "      <th>Latitude</th>\n",
       "      <th>Date_format</th>\n",
       "    </tr>\n",
       "  </thead>\n",
       "  <tbody>\n",
       "    <tr>\n",
       "      <th>M1</th>\n",
       "      <td>AllenHuang (∴'☆:∵★.＼:)</td>\n",
       "      <td>Gossiping</td>\n",
       "      <td>Taipei</td>\n",
       "      <td>「明天上班最後一天」　韓國瑜臉書號召：歡迎市民到鳳山跟他告別\\nhttps://www.et...</td>\n",
       "      <td>Thu Jun 11 10:30:34 2020</td>\n",
       "      <td>140.109.104.46 (臺灣)</td>\n",
       "      <td>140.109.104.46</td>\n",
       "      <td>經度：121.532　緯度：25.048</td>\n",
       "      <td>Academic Sinica Network</td>\n",
       "      <td>AS - Asia ( 亞洲 ) TW - Taiwan ( 台灣 )</td>\n",
       "      <td>[→ gp500adsl: 告別...要瞻仰遺容嗎XD 06/11 10:31, 推 yad...</td>\n",
       "      <td>[新聞] 韓國瑜臉書號召：歡迎市民到鳳山跟他告別</td>\n",
       "      <td>0</td>\n",
       "      <td>0</td>\n",
       "      <td>121.532</td>\n",
       "      <td>25.048</td>\n",
       "      <td>2020-06-11 10:30:34</td>\n",
       "    </tr>\n",
       "    <tr>\n",
       "      <th>M2</th>\n",
       "      <td>intotherain (&gt;\"&lt;)</td>\n",
       "      <td>Gossiping</td>\n",
       "      <td>NaN</td>\n",
       "      <td>\\n大家好\\n小弟外科醫師\\n每天都在摸醫材\\n\\n衛福部立意可能良好，但制度上一如往常違反...</td>\n",
       "      <td>Thu Jun 11 10:31:17 2020</td>\n",
       "      <td>42.73.192.226 (臺灣)</td>\n",
       "      <td>42.73.192.226</td>\n",
       "      <td>NaN</td>\n",
       "      <td>NaN</td>\n",
       "      <td>NaN</td>\n",
       "      <td>[, , 本網站已依台灣網站內容分級規定處理。此區域為限制級，未滿十八歲者不得瀏覽。, ]</td>\n",
       "      <td>Re: [問卦] 醫材自付上限醫師抗議什麼？</td>\n",
       "      <td>0</td>\n",
       "      <td>0</td>\n",
       "      <td>NaN</td>\n",
       "      <td>NaN</td>\n",
       "      <td>2020-06-11 10:31:17</td>\n",
       "    </tr>\n",
       "    <tr>\n",
       "      <th>M3</th>\n",
       "      <td>freeunixer (離自相空她相)</td>\n",
       "      <td>Gossiping</td>\n",
       "      <td>Taipei</td>\n",
       "      <td>在 e shopping 板看到挺多人說用台哥大網路上淘寶,圖片都 load 不出來,\\n還...</td>\n",
       "      <td>Thu Jun 11 10:31:50 2020</td>\n",
       "      <td>60.250.90.238 (臺灣)</td>\n",
       "      <td>60.250.90.238</td>\n",
       "      <td>經度：121.532　緯度：25.048</td>\n",
       "      <td>Taiwan Academic Network</td>\n",
       "      <td>AS - Asia ( 亞洲 ) TW - Taiwan ( 台灣 )</td>\n",
       "      <td>[, , 本網站已依台灣網站內容分級規定處理。此區域為限制級，未滿十八歲者不得瀏覽。, ]</td>\n",
       "      <td>[問卦] 台哥大的網路怎麼了?</td>\n",
       "      <td>0</td>\n",
       "      <td>0</td>\n",
       "      <td>121.532</td>\n",
       "      <td>25.048</td>\n",
       "      <td>2020-06-11 10:31:50</td>\n",
       "    </tr>\n",
       "    <tr>\n",
       "      <th>M4</th>\n",
       "      <td>kaky (菩提本無樹明鏡亦非台)</td>\n",
       "      <td>Gossiping</td>\n",
       "      <td>Taipei</td>\n",
       "      <td>\\n  馬政府兩岸貿易增加 親中賣台 雞蛋都放在一個籃子被中國大陸控制! !\\n\\n  蔡政...</td>\n",
       "      <td>Thu Jun 11 10:32:41 2020</td>\n",
       "      <td>36.238.20.218 (臺灣)</td>\n",
       "      <td>36.238.20.218</td>\n",
       "      <td>經度：121.532　緯度：25.048</td>\n",
       "      <td>Taiwan Academic Network</td>\n",
       "      <td>AS - Asia ( 亞洲 ) TW - Taiwan ( 台灣 )</td>\n",
       "      <td>[, , 本網站已依台灣網站內容分級規定處理。此區域為限制級，未滿十八歲者不得瀏覽。, ]</td>\n",
       "      <td>Re: [新聞] 新南向潰敗 我對陸出口飆升 東協占比創10</td>\n",
       "      <td>0</td>\n",
       "      <td>0</td>\n",
       "      <td>121.532</td>\n",
       "      <td>25.048</td>\n",
       "      <td>2020-06-11 10:32:41</td>\n",
       "    </tr>\n",
       "    <tr>\n",
       "      <th>M5</th>\n",
       "      <td>layu19920414 (Guan-Jie Huang)</td>\n",
       "      <td>Gossiping</td>\n",
       "      <td>Taipei</td>\n",
       "      <td>https://woundero.wordpress.com/2013/07/04/illu...</td>\n",
       "      <td>Thu Jun 11 10:32:41 2020</td>\n",
       "      <td>101.14.140.183 (臺灣)</td>\n",
       "      <td>101.14.140.183</td>\n",
       "      <td>經度：121.532　緯度：25.048</td>\n",
       "      <td>Taiwan Mobile</td>\n",
       "      <td>AS - Asia ( 亞洲 ) TW - Taiwan ( 台灣 )</td>\n",
       "      <td>[, , 本網站已依台灣網站內容分級規定處理。此區域為限制級，未滿十八歲者不得瀏覽。, ]</td>\n",
       "      <td>Re: [問卦] 兩家公司其實同一個老闆？？</td>\n",
       "      <td>0</td>\n",
       "      <td>0</td>\n",
       "      <td>121.532</td>\n",
       "      <td>25.048</td>\n",
       "      <td>2020-06-11 10:32:41</td>\n",
       "    </tr>\n",
       "  </tbody>\n",
       "</table>\n",
       "</div>"
      ],
      "text/plain": [
       "                           Author      Board    City  \\\n",
       "M1         AllenHuang (∴'☆:∵★.＼:)  Gossiping  Taipei   \n",
       "M2              intotherain (>\"<)  Gossiping     NaN   \n",
       "M3            freeunixer (離自相空她相)  Gossiping  Taipei   \n",
       "M4              kaky (菩提本無樹明鏡亦非台)  Gossiping  Taipei   \n",
       "M5  layu19920414 (Guan-Jie Huang)  Gossiping  Taipei   \n",
       "\n",
       "                                              Content  \\\n",
       "M1  「明天上班最後一天」　韓國瑜臉書號召：歡迎市民到鳳山跟他告別\\nhttps://www.et...   \n",
       "M2  \\n大家好\\n小弟外科醫師\\n每天都在摸醫材\\n\\n衛福部立意可能良好，但制度上一如往常違反...   \n",
       "M3  在 e shopping 板看到挺多人說用台哥大網路上淘寶,圖片都 load 不出來,\\n還...   \n",
       "M4  \\n  馬政府兩岸貿易增加 親中賣台 雞蛋都放在一個籃子被中國大陸控制! !\\n\\n  蔡政...   \n",
       "M5  https://woundero.wordpress.com/2013/07/04/illu...   \n",
       "\n",
       "                        Date               Full IP              IP  \\\n",
       "M1  Thu Jun 11 10:30:34 2020   140.109.104.46 (臺灣)  140.109.104.46   \n",
       "M2  Thu Jun 11 10:31:17 2020    42.73.192.226 (臺灣)   42.73.192.226   \n",
       "M3  Thu Jun 11 10:31:50 2020    60.250.90.238 (臺灣)   60.250.90.238   \n",
       "M4  Thu Jun 11 10:32:41 2020    36.238.20.218 (臺灣)   36.238.20.218   \n",
       "M5  Thu Jun 11 10:32:41 2020   101.14.140.183 (臺灣)  101.14.140.183   \n",
       "\n",
       "   Longitude and Latitude                   Mobile  \\\n",
       "M1   經度：121.532　緯度：25.048  Academic Sinica Network   \n",
       "M2                    NaN                      NaN   \n",
       "M3   經度：121.532　緯度：25.048  Taiwan Academic Network   \n",
       "M4   經度：121.532　緯度：25.048  Taiwan Academic Network   \n",
       "M5   經度：121.532　緯度：25.048            Taiwan Mobile   \n",
       "\n",
       "                                 Nation  \\\n",
       "M1  AS - Asia ( 亞洲 ) TW - Taiwan ( 台灣 )   \n",
       "M2                                  NaN   \n",
       "M3  AS - Asia ( 亞洲 ) TW - Taiwan ( 台灣 )   \n",
       "M4  AS - Asia ( 亞洲 ) TW - Taiwan ( 台灣 )   \n",
       "M5  AS - Asia ( 亞洲 ) TW - Taiwan ( 台灣 )   \n",
       "\n",
       "                                                 Push  \\\n",
       "M1  [→ gp500adsl: 告別...要瞻仰遺容嗎XD 06/11 10:31, 推 yad...   \n",
       "M2      [, , 本網站已依台灣網站內容分級規定處理。此區域為限制級，未滿十八歲者不得瀏覽。, ]   \n",
       "M3      [, , 本網站已依台灣網站內容分級規定處理。此區域為限制級，未滿十八歲者不得瀏覽。, ]   \n",
       "M4      [, , 本網站已依台灣網站內容分級規定處理。此區域為限制級，未滿十八歲者不得瀏覽。, ]   \n",
       "M5      [, , 本網站已依台灣網站內容分級規定處理。此區域為限制級，未滿十八歲者不得瀏覽。, ]   \n",
       "\n",
       "                             Title  BaoGua  YouWin Longitude Latitude  \\\n",
       "M1        [新聞] 韓國瑜臉書號召：歡迎市民到鳳山跟他告別       0       0   121.532   25.048   \n",
       "M2          Re: [問卦] 醫材自付上限醫師抗議什麼？       0       0       NaN      NaN   \n",
       "M3                 [問卦] 台哥大的網路怎麼了?       0       0   121.532   25.048   \n",
       "M4  Re: [新聞] 新南向潰敗 我對陸出口飆升 東協占比創10       0       0   121.532   25.048   \n",
       "M5          Re: [問卦] 兩家公司其實同一個老闆？？       0       0   121.532   25.048   \n",
       "\n",
       "            Date_format  \n",
       "M1  2020-06-11 10:30:34  \n",
       "M2  2020-06-11 10:31:17  \n",
       "M3  2020-06-11 10:31:50  \n",
       "M4  2020-06-11 10:32:41  \n",
       "M5  2020-06-11 10:32:41  "
      ]
     },
     "execution_count": 41,
     "metadata": {},
     "output_type": "execute_result"
    }
   ],
   "source": [
    "df_earthquake.head()"
   ]
  },
  {
   "cell_type": "code",
   "execution_count": 42,
   "metadata": {},
   "outputs": [],
   "source": [
    "df_earthquake.to_csv(\"PTT_earthquake_IPQuery_0611_八卦前一百頁.csv\", encoding=\"utf-8\")"
   ]
  },
  {
   "cell_type": "code",
   "execution_count": null,
   "metadata": {},
   "outputs": [],
   "source": []
  }
 ],
 "metadata": {
  "kernelspec": {
   "display_name": "Python 3",
   "language": "python",
   "name": "python3"
  },
  "language_info": {
   "codemirror_mode": {
    "name": "ipython",
    "version": 3
   },
   "file_extension": ".py",
   "mimetype": "text/x-python",
   "name": "python",
   "nbconvert_exporter": "python",
   "pygments_lexer": "ipython3",
   "version": "3.6.5"
  }
 },
 "nbformat": 4,
 "nbformat_minor": 4
}
