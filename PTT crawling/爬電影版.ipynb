{
 "cells": [
  {
   "cell_type": "markdown",
   "metadata": {},
   "source": [
    "# 用不同的套件爬PTT\n",
    "\n",
    "* Ref: https://github.com/leVirve/CrawlerTutorial"
   ]
  },
  {
   "cell_type": "code",
   "execution_count": 1,
   "metadata": {},
   "outputs": [
    {
     "name": "stderr",
     "output_type": "stream",
     "text": [
      "/Applications/anaconda3/lib/python3.6/site-packages/requests/__init__.py:80: RequestsDependencyWarning: urllib3 (1.25.9) or chardet (3.0.4) doesn't match a supported version!\n",
      "  RequestsDependencyWarning)\n"
     ]
    }
   ],
   "source": [
    "import requests\n",
    "import lxml\n",
    "#from PyQuery import *\n",
    "from requests_html import HTML"
   ]
  },
  {
   "cell_type": "code",
   "execution_count": 11,
   "metadata": {},
   "outputs": [
    {
     "name": "stdout",
     "output_type": "stream",
     "text": [
      "Collecting requests_html\n",
      "  Downloading requests_html-0.10.0-py3-none-any.whl (13 kB)\n",
      "Collecting bs4\n",
      "  Using cached bs4-0.0.1.tar.gz (1.1 kB)\n",
      "Requirement already satisfied: fake-useragent in /Applications/anaconda3/lib/python3.6/site-packages (from requests_html) (0.1.11)\n",
      "Collecting pyppeteer>=0.0.14\n",
      "  Downloading pyppeteer-0.2.2-py3-none-any.whl (145 kB)\n",
      "\u001b[K     |████████████████████████████████| 145 kB 1.2 MB/s \n",
      "\u001b[?25hCollecting parse\n",
      "  Downloading parse-1.15.0.tar.gz (29 kB)\n",
      "Requirement already satisfied: pyquery in /Applications/anaconda3/lib/python3.6/site-packages (from requests_html) (1.4.1)\n",
      "Collecting w3lib\n",
      "  Downloading w3lib-1.22.0-py2.py3-none-any.whl (20 kB)\n",
      "Requirement already satisfied: requests in /Applications/anaconda3/lib/python3.6/site-packages (from requests_html) (2.18.4)\n",
      "Requirement already satisfied: beautifulsoup4 in /Applications/anaconda3/lib/python3.6/site-packages (from bs4->requests_html) (4.6.0)\n",
      "Collecting appdirs<2.0.0,>=1.4.3\n",
      "  Downloading appdirs-1.4.4-py2.py3-none-any.whl (9.6 kB)\n",
      "Collecting urllib3<2.0.0,>=1.25.8\n",
      "  Downloading urllib3-1.25.9-py2.py3-none-any.whl (126 kB)\n",
      "\u001b[K     |████████████████████████████████| 126 kB 3.1 MB/s \n",
      "\u001b[?25hCollecting websockets<9.0,>=8.1\n",
      "  Downloading websockets-8.1-cp36-cp36m-macosx_10_6_intel.whl (66 kB)\n",
      "\u001b[K     |████████████████████████████████| 66 kB 4.3 MB/s \n",
      "\u001b[?25hCollecting pyee<8.0.0,>=7.0.1\n",
      "  Downloading pyee-7.0.2-py2.py3-none-any.whl (12 kB)\n",
      "Collecting tqdm<5.0.0,>=4.42.1\n",
      "  Using cached tqdm-4.46.0-py2.py3-none-any.whl (63 kB)\n",
      "Requirement already satisfied: cssselect>0.7.9 in /Applications/anaconda3/lib/python3.6/site-packages (from pyquery->requests_html) (1.1.0)\n",
      "Requirement already satisfied: lxml>=2.1 in /Applications/anaconda3/lib/python3.6/site-packages (from pyquery->requests_html) (4.2.1)\n",
      "Requirement already satisfied: six>=1.4.1 in /Applications/anaconda3/lib/python3.6/site-packages (from w3lib->requests_html) (1.11.0)\n",
      "Requirement already satisfied: chardet<3.1.0,>=3.0.2 in /Applications/anaconda3/lib/python3.6/site-packages (from requests->requests_html) (3.0.4)\n",
      "Requirement already satisfied: idna<2.7,>=2.5 in /Applications/anaconda3/lib/python3.6/site-packages (from requests->requests_html) (2.6)\n",
      "Requirement already satisfied: certifi>=2017.4.17 in /Applications/anaconda3/lib/python3.6/site-packages (from requests->requests_html) (2018.4.16)\n",
      "Building wheels for collected packages: bs4, parse\n",
      "  Building wheel for bs4 (setup.py) ... \u001b[?25ldone\n",
      "\u001b[?25h  Created wheel for bs4: filename=bs4-0.0.1-py3-none-any.whl size=1278 sha256=258711f41a9ddb5f49fddc96835befbeef2923a09bd3b63a452144f2f8a6de7d\n",
      "  Stored in directory: /Users/Andy 1/Library/Caches/pip/wheels/19/f5/6d/a97dd4f22376d4472d5f4c76c7646876052ff3166b3cf71050\n",
      "  Building wheel for parse (setup.py) ... \u001b[?25ldone\n",
      "\u001b[?25h  Created wheel for parse: filename=parse-1.15.0-py3-none-any.whl size=22894 sha256=bb503b7c65067d00eb9fa7a05a86def4ca0a60299b96cd9a0b1005da1d4f242d\n",
      "  Stored in directory: /Users/Andy 1/Library/Caches/pip/wheels/36/9d/03/65b7d0b19b0f1946a3c75c4a467dd2f8069a3a6a80c9101946\n",
      "Successfully built bs4 parse\n",
      "\u001b[31mERROR: requests 2.18.4 has requirement urllib3<1.23,>=1.21.1, but you'll have urllib3 1.25.9 which is incompatible.\u001b[0m\n",
      "\u001b[31mERROR: botocore 1.12.86 has requirement urllib3<1.25,>=1.20; python_version >= \"3.4\", but you'll have urllib3 1.25.9 which is incompatible.\u001b[0m\n",
      "Installing collected packages: bs4, appdirs, urllib3, websockets, pyee, tqdm, pyppeteer, parse, w3lib, requests-html\n",
      "  Attempting uninstall: urllib3\n",
      "    Found existing installation: urllib3 1.22\n",
      "    Uninstalling urllib3-1.22:\n",
      "      Successfully uninstalled urllib3-1.22\n",
      "  Attempting uninstall: tqdm\n",
      "    Found existing installation: tqdm 4.42.0\n",
      "    Uninstalling tqdm-4.42.0:\n",
      "      Successfully uninstalled tqdm-4.42.0\n",
      "Successfully installed appdirs-1.4.4 bs4-0.0.1 parse-1.15.0 pyee-7.0.2 pyppeteer-0.2.2 requests-html-0.10.0 tqdm-4.46.0 urllib3-1.25.9 w3lib-1.22.0 websockets-8.1\n"
     ]
    }
   ],
   "source": [
    "!pip install requests_html"
   ]
  },
  {
   "cell_type": "code",
   "execution_count": 2,
   "metadata": {},
   "outputs": [
    {
     "name": "stdout",
     "output_type": "stream",
     "text": [
      "<!DOCTYPE html>\n",
      "<html>\n",
      "\t<head>\n",
      "\t\t<meta charset=\"utf-8\">\n",
      "\t\t\n",
      "\n",
      "<meta name=\"viewport\" content=\"width=device-width, initial-scale=1\">\n",
      "\n",
      "<title>看板 movie 文章列表 - 批踢踢實業坊</title>\n",
      "\n",
      "<link rel=\"stylesheet\" type=\"text/css\" href=\"//images.ptt.cc/bbs/v2.27/bbs-common.css\">\n",
      "<link rel=\"stylesheet\" type=\"text/css\" href=\"//images.ptt.cc/bbs/v2.27/bbs-base.css\" media=\"screen\">\n",
      "<link rel=\"stylesheet\" type=\"text/css\" href=\"//images.ptt.cc/bbs/v2.27/bbs-custom.css\">\n",
      "<link rel=\"stylesheet\" type=\"text/css\" href=\"//images.ptt.cc/bbs/v2.27/pushstream.css\" media=\"screen\">\n",
      "<link rel=\"stylesheet\" type=\"text/css\" href=\"//images.ptt.cc/bbs/v2.27/bbs-print.css\" media=\"print\">\n",
      "\n",
      "\n",
      "\n",
      "\n",
      "\t<script async src='/cdn-cgi/bm/cv/1284585713/api.js'></script></head>\n",
      "    <body>\n",
      "\t\t\n",
      "<div id=\"topbar-container\">\n",
      "\t<div id=\"topbar\" class=\"bbs-content\">\n",
      "\t\t<a id=\"logo\" href=\"/bbs/\">批踢踢實業坊</a>\n",
      "\t\t<span>&rsaquo;</span>\n",
      "\t\t<a class=\"board\" href=\"/bbs/movie/index.html\"><span class=\"board-label\">看板 </span>movie</a>\n",
      "\t\t<a class=\"right small\" href=\"/about.html\">關於我們</a>\n",
      "\t\t<a class=\"right small\" href=\"/contact.html\">聯絡資訊</a>\n",
      "\t</div>\n",
      "</div>\n",
      "\n",
      "<div id=\"main-container\">\n",
      "\t<div id=\"action-bar-container\">\n",
      "\t\t<div class=\"action-bar\">\n",
      "\t\t\t<div class=\"btn-group btn-group-dir\">\n",
      "\t\t\t\t<a class=\"btn selected\" href=\"/bbs/movie/index.html\">看板</a>\n",
      "\t\t\t\t<a class=\"btn\" href=\"/man/movie/index.html\">精華區</a>\n",
      "\t\t\t</div>\n",
      "\t\t\t<div class=\"btn-group btn-group-paging\">\n",
      "\t\t\t\t<a class=\"btn wide\" href=\"/bbs/movie/index1.html\">最舊</a>\n",
      "\t\t\t\t<a class=\"btn wide\" href=\"/bbs/movie/index9005.html\">&lsaquo; 上頁</a>\n",
      "\t\t\t\t<a class=\"btn wide disabled\">下頁 &rsaquo;</a>\n",
      "\t\t\t\t<a class=\"btn wide\" href=\"/bbs/movie/index.html\">最新</a>\n",
      "\t\t\t</div>\n",
      "\t\t</div>\n",
      "\t</div>\n",
      "\n",
      "\t<div class=\"r-list-container action-bar-margin bbs-screen\">\n",
      "\t\t<div class=\"search-bar\">\n",
      "\t\t\t<form type=\"get\" action=\"search\" id=\"search-bar\">\n",
      "\t\t\t\t<input class=\"query\" type=\"text\" name=\"q\" value=\"\" placeholder=\"搜尋文章&#x22ef;\">\n",
      "\t\t\t</form>\n",
      "\t\t</div>\n",
      "\n",
      "\t\t\n",
      "\t\t\n",
      "            \n",
      "        \n",
      "        \n",
      "\t\t<div class=\"r-ent\">\n",
      "\t\t\t<div class=\"nrec\"></div>\n",
      "\t\t\t<div class=\"title\">\n",
      "\t\t\t\n",
      "\t\t\t\t<a href=\"/bbs/movie/M.1591836448.A.7D7.html\">Re: [好雷] 寂寞拍賣師</a>\n",
      "\t\t\t\n",
      "\t\t\t</div>\n",
      "\t\t\t<div class=\"meta\">\n",
      "\t\t\t\t<div class=\"author\">zenke</div>\n",
      "\t\t\t\t<div class=\"article-menu\">\n",
      "\t\t\t\t\t\n",
      "\t\t\t\t\t<div class=\"trigger\">&#x22ef;</div>\n",
      "\t\t\t\t\t<div class=\"dropdown\">\n",
      "\t\t\t\t\t\t<div class=\"item\"><a href=\"/bbs/movie/search?q=thread%3A%5B%E5%A5%BD%E9%9B%B7%5D&#43;%E5%AF%82%E5%AF%9E%E6%8B%8D%E8%B3%A3%E5%B8%AB\">搜尋同標題文章</a></div>\n",
      "\t\t\t\t\t\t\n",
      "\t\t\t\t\t\t<div class=\"item\"><a href=\"/bbs/movie/search?q=author%3Azenke\">搜尋看板內 zenke 的文章</a></div>\n",
      "\t\t\t\t\t\t\n",
      "\t\t\t\t\t</div>\n",
      "\t\t\t\t\t\n",
      "\t\t\t\t</div>\n",
      "\t\t\t\t<div class=\"date\"> 6/11</div>\n",
      "\t\t\t\t<div class=\"mark\"></div>\n",
      "\t\t\t</div>\n",
      "\t\t</div>\n",
      "\n",
      "\t\t\n",
      "        \n",
      "        <div class=\"r-list-sep\"></div>\n",
      "            \n",
      "                \n",
      "        \n",
      "        \n",
      "\t\t<div class=\"r-ent\">\n",
      "\t\t\t<div class=\"nrec\"><span class=\"hl f3\">27</span></div>\n",
      "\t\t\t<div class=\"title\">\n",
      "\t\t\t\n",
      "\t\t\t\t<a href=\"/bbs/movie/M.1559611458.A.DCA.html\">[公告] 板規 2020/03/01 (增加14.1)</a>\n",
      "\t\t\t\n",
      "\t\t\t</div>\n",
      "\t\t\t<div class=\"meta\">\n",
      "\t\t\t\t<div class=\"author\">ckshchen</div>\n",
      "\t\t\t\t<div class=\"article-menu\">\n",
      "\t\t\t\t\t\n",
      "\t\t\t\t\t<div class=\"trigger\">&#x22ef;</div>\n",
      "\t\t\t\t\t<div class=\"dropdown\">\n",
      "\t\t\t\t\t\t<div class=\"item\"><a href=\"/bbs/movie/search?q=thread%3A%5B%E5%85%AC%E5%91%8A%5D&#43;%E6%9D%BF%E8%A6%8F&#43;2020%2F03%2F01&#43;%28%E5%A2%9E%E5%8A%A014.1%29\">搜尋同標題文章</a></div>\n",
      "\t\t\t\t\t\t\n",
      "\t\t\t\t\t\t<div class=\"item\"><a href=\"/bbs/movie/search?q=author%3Ackshchen\">搜尋看板內 ckshchen 的文章</a></div>\n",
      "\t\t\t\t\t\t\n",
      "\t\t\t\t\t</div>\n",
      "\t\t\t\t\t\n",
      "\t\t\t\t</div>\n",
      "\t\t\t\t<div class=\"date\"> 6/04</div>\n",
      "\t\t\t\t<div class=\"mark\"></div>\n",
      "\t\t\t</div>\n",
      "\t\t</div>\n",
      "\n",
      "            \n",
      "                \n",
      "        \n",
      "        \n",
      "\t\t<div class=\"r-ent\">\n",
      "\t\t\t<div class=\"nrec\"><span class=\"hl f2\">5</span></div>\n",
      "\t\t\t<div class=\"title\">\n",
      "\t\t\t\n",
      "\t\t\t\t<a href=\"/bbs/movie/M.1565855832.A.0A7.html\">[公告] 板規新增每日發文上限規定</a>\n",
      "\t\t\t\n",
      "\t\t\t</div>\n",
      "\t\t\t<div class=\"meta\">\n",
      "\t\t\t\t<div class=\"author\">hhwang</div>\n",
      "\t\t\t\t<div class=\"article-menu\">\n",
      "\t\t\t\t\t\n",
      "\t\t\t\t\t<div class=\"trigger\">&#x22ef;</div>\n",
      "\t\t\t\t\t<div class=\"dropdown\">\n",
      "\t\t\t\t\t\t<div class=\"item\"><a href=\"/bbs/movie/search?q=thread%3A%5B%E5%85%AC%E5%91%8A%5D&#43;%E6%9D%BF%E8%A6%8F%E6%96%B0%E5%A2%9E%E6%AF%8F%E6%97%A5%E7%99%BC%E6%96%87%E4%B8%8A%E9%99%90%E8%A6%8F%E5%AE%9A\">搜尋同標題文章</a></div>\n",
      "\t\t\t\t\t\t\n",
      "\t\t\t\t\t\t<div class=\"item\"><a href=\"/bbs/movie/search?q=author%3Ahhwang\">搜尋看板內 hhwang 的文章</a></div>\n",
      "\t\t\t\t\t\t\n",
      "\t\t\t\t\t</div>\n",
      "\t\t\t\t\t\n",
      "\t\t\t\t</div>\n",
      "\t\t\t\t<div class=\"date\"> 8/15</div>\n",
      "\t\t\t\t<div class=\"mark\">M</div>\n",
      "\t\t\t</div>\n",
      "\t\t</div>\n",
      "\n",
      "            \n",
      "                \n",
      "        \n",
      "        \n",
      "\t\t<div class=\"r-ent\">\n",
      "\t\t\t<div class=\"nrec\"><span class=\"hl f3\">17</span></div>\n",
      "\t\t\t<div class=\"title\">\n",
      "\t\t\t\n",
      "\t\t\t\t<a href=\"/bbs/movie/M.1578684521.A.1B8.html\">[公告] 關於跑步哥</a>\n",
      "\t\t\t\n",
      "\t\t\t</div>\n",
      "\t\t\t<div class=\"meta\">\n",
      "\t\t\t\t<div class=\"author\">ckshchen</div>\n",
      "\t\t\t\t<div class=\"article-menu\">\n",
      "\t\t\t\t\t\n",
      "\t\t\t\t\t<div class=\"trigger\">&#x22ef;</div>\n",
      "\t\t\t\t\t<div class=\"dropdown\">\n",
      "\t\t\t\t\t\t<div class=\"item\"><a href=\"/bbs/movie/search?q=thread%3A%5B%E5%85%AC%E5%91%8A%5D&#43;%E9%97%9C%E6%96%BC%E8%B7%91%E6%AD%A5%E5%93%A5\">搜尋同標題文章</a></div>\n",
      "\t\t\t\t\t\t\n",
      "\t\t\t\t\t\t<div class=\"item\"><a href=\"/bbs/movie/search?q=author%3Ackshchen\">搜尋看板內 ckshchen 的文章</a></div>\n",
      "\t\t\t\t\t\t\n",
      "\t\t\t\t\t</div>\n",
      "\t\t\t\t\t\n",
      "\t\t\t\t</div>\n",
      "\t\t\t\t<div class=\"date\"> 1/11</div>\n",
      "\t\t\t\t<div class=\"mark\">M</div>\n",
      "\t\t\t</div>\n",
      "\t\t</div>\n",
      "\n",
      "            \n",
      "                \n",
      "        \n",
      "        \n",
      "\t\t<div class=\"r-ent\">\n",
      "\t\t\t<div class=\"nrec\"><span class=\"hl f3\">70</span></div>\n",
      "\t\t\t<div class=\"title\">\n",
      "\t\t\t\n",
      "\t\t\t\t<a href=\"/bbs/movie/M.1589355894.A.CDD.html\">[情報] 近期院線預計重映片單</a>\n",
      "\t\t\t\n",
      "\t\t\t</div>\n",
      "\t\t\t<div class=\"meta\">\n",
      "\t\t\t\t<div class=\"author\">lgng66133</div>\n",
      "\t\t\t\t<div class=\"article-menu\">\n",
      "\t\t\t\t\t\n",
      "\t\t\t\t\t<div class=\"trigger\">&#x22ef;</div>\n",
      "\t\t\t\t\t<div class=\"dropdown\">\n",
      "\t\t\t\t\t\t<div class=\"item\"><a href=\"/bbs/movie/search?q=thread%3A%5B%E6%83%85%E5%A0%B1%5D&#43;%E8%BF%91%E6%9C%9F%E9%99%A2%E7%B7%9A%E9%A0%90%E8%A8%88%E9%87%8D%E6%98%A0%E7%89%87%E5%96%AE\">搜尋同標題文章</a></div>\n",
      "\t\t\t\t\t\t\n",
      "\t\t\t\t\t\t<div class=\"item\"><a href=\"/bbs/movie/search?q=author%3Algng66133\">搜尋看板內 lgng66133 的文章</a></div>\n",
      "\t\t\t\t\t\t\n",
      "\t\t\t\t\t</div>\n",
      "\t\t\t\t\t\n",
      "\t\t\t\t</div>\n",
      "\t\t\t\t<div class=\"date\"> 5/13</div>\n",
      "\t\t\t\t<div class=\"mark\">M</div>\n",
      "\t\t\t</div>\n",
      "\t\t</div>\n",
      "\n",
      "            \n",
      "                \n",
      "        \n",
      "        \n",
      "\t\t<div class=\"r-ent\">\n",
      "\t\t\t<div class=\"nrec\"><span class=\"hl f2\">3</span></div>\n",
      "\t\t\t<div class=\"title\">\n",
      "\t\t\t\n",
      "\t\t\t\t<a href=\"/bbs/movie/M.1590296462.A.895.html\">[公告] 板主選舉</a>\n",
      "\t\t\t\n",
      "\t\t\t</div>\n",
      "\t\t\t<div class=\"meta\">\n",
      "\t\t\t\t<div class=\"author\">hhwang</div>\n",
      "\t\t\t\t<div class=\"article-menu\">\n",
      "\t\t\t\t\t\n",
      "\t\t\t\t\t<div class=\"trigger\">&#x22ef;</div>\n",
      "\t\t\t\t\t<div class=\"dropdown\">\n",
      "\t\t\t\t\t\t<div class=\"item\"><a href=\"/bbs/movie/search?q=thread%3A%5B%E5%85%AC%E5%91%8A%5D&#43;%E6%9D%BF%E4%B8%BB%E9%81%B8%E8%88%89\">搜尋同標題文章</a></div>\n",
      "\t\t\t\t\t\t\n",
      "\t\t\t\t\t\t<div class=\"item\"><a href=\"/bbs/movie/search?q=author%3Ahhwang\">搜尋看板內 hhwang 的文章</a></div>\n",
      "\t\t\t\t\t\t\n",
      "\t\t\t\t\t</div>\n",
      "\t\t\t\t\t\n",
      "\t\t\t\t</div>\n",
      "\t\t\t\t<div class=\"date\"> 5/24</div>\n",
      "\t\t\t\t<div class=\"mark\">M</div>\n",
      "\t\t\t</div>\n",
      "\t\t</div>\n",
      "\n",
      "            \n",
      "        \n",
      "\t</div>\n",
      "\n",
      "    \n",
      "</div>\n",
      "\n",
      "\t\t\n",
      "\n",
      "<script>\n",
      "  (function(i,s,o,g,r,a,m){i['GoogleAnalyticsObject']=r;i[r]=i[r]||function(){\n",
      "  (i[r].q=i[r].q||[]).push(arguments)},i[r].l=1*new Date();a=s.createElement(o),\n",
      "  m=s.getElementsByTagName(o)[0];a.async=1;a.src=g;m.parentNode.insertBefore(a,m)\n",
      "  })(window,document,'script','https://www.google-analytics.com/analytics.js','ga');\n",
      "\n",
      "  ga('create', 'UA-32365737-1', {\n",
      "    cookieDomain: 'ptt.cc',\n",
      "    legacyCookieDomain: 'ptt.cc'\n",
      "  });\n",
      "  ga('send', 'pageview');\n",
      "</script>\n",
      "\n",
      "\n",
      "\t\t\n",
      "<script src=\"//ajax.googleapis.com/ajax/libs/jquery/2.1.1/jquery.min.js\"></script>\n",
      "<script src=\"//images.ptt.cc/bbs/v2.27/bbs.js\"></script>\n",
      "\n",
      "    <script type=\"text/javascript\">(function(){window['__CF$cv$params']={r:'5a17a3e3899df09d',m:'633494d9b3f02ab88d8ca4e1477dc2f6b4c29475-1591839795-1800-Adt/O5W4mQinNHuwI62g1DS90Lv23tB6OuDtsk4bajviYoWKIF2XZ55AbtlG01xgH113l5QFF7YFHN/ARIjvvIw0hsJBcuwjf2SSiWWaqznTC746AiaA0CRuik0GFnimcuUKHfF3S5RtH3lD1PS8pS4=',s:[0x0e89833239,0x8cef9fe175],}})();</script></body>\n",
      "</html>\n",
      "\n"
     ]
    }
   ],
   "source": [
    "import requests\n",
    "\n",
    "def fetch(url):\n",
    "    response = requests.get(url)\n",
    "    response = requests.get(url, cookies={'over18': '1'})  # 一直向 server 回答滿 18 歲了 !\n",
    "    return response\n",
    "\n",
    "url = 'https://www.ptt.cc/bbs/movie/index.html'\n",
    "resp = fetch(url)  # step-1\n",
    "\n",
    "print(resp.text) # result of setp-1"
   ]
  },
  {
   "cell_type": "code",
   "execution_count": 3,
   "metadata": {},
   "outputs": [
    {
     "name": "stdout",
     "output_type": "stream",
     "text": [
      "[<Element 'div' class=('r-ent',)>, <Element 'div' class=('r-ent',)>, <Element 'div' class=('r-ent',)>, <Element 'div' class=('r-ent',)>, <Element 'div' class=('r-ent',)>, <Element 'div' class=('r-ent',)>, <Element 'div' class=('r-ent',)>, <Element 'div' class=('r-ent',)>, <Element 'div' class=('r-ent',)>, <Element 'div' class=('r-ent',)>, <Element 'div' class=('r-ent',)>, <Element 'div' class=('r-ent',)>, <Element 'div' class=('r-ent',)>, <Element 'div' class=('r-ent',)>]\n"
     ]
    }
   ],
   "source": [
    "from requests_html import HTML\n",
    "\n",
    "def parse_article_entries(doc):\n",
    "    html = HTML(html=doc)\n",
    "    post_entries = html.find('div.r-ent')\n",
    "    return post_entries\n",
    "\n",
    "url = 'https://www.ptt.cc/bbs/gossiping/index.html'\n",
    "resp = fetch(url)  # step-1\n",
    "post_entries = parse_article_entries(resp.text)  # step-2\n",
    "\n",
    "print(post_entries)  # result of setp-2"
   ]
  },
  {
   "cell_type": "code",
   "execution_count": 5,
   "metadata": {},
   "outputs": [
    {
     "name": "stdout",
     "output_type": "stream",
     "text": [
      "{'title': '地震啦', 'push': '', 'date': '6/11', 'author': 'juicedrink', 'link': '/bbs/Gossiping/M.1591839649.A.1BB.html'}\n",
      "{'title': '[問卦] 超自然跳動', 'push': '', 'date': '6/11', 'author': 'Puribaw', 'link': '/bbs/Gossiping/M.1591839654.A.694.html'}\n",
      "{'title': '[新聞] 日本Honda系統疑遭網路攻擊！多國工廠生', 'push': '', 'date': '6/11', 'author': 'stan1231', 'link': '/bbs/Gossiping/M.1591839677.A.21A.html'}\n",
      "{'title': '[爆卦] 我愛你地震', 'push': '', 'date': '6/11', 'author': 'RockCat0218', 'link': '/bbs/Gossiping/M.1591839684.A.18F.html'}\n",
      "{'title': '[問卦] 邱庭萱你長的好可愛唷', 'push': '', 'date': '6/11', 'author': 'smreignqrop', 'link': '/bbs/Gossiping/M.1591839690.A.05B.html'}\n",
      "{'title': '[爆卦] 地震！', 'push': '', 'date': '6/11', 'author': 'WeiU', 'link': '/bbs/Gossiping/M.1591839708.A.74D.html'}\n",
      "{'title': '[問卦] 討厭iPhone的台女是稀有種吧？', 'push': '', 'date': '6/11', 'author': 'homerun2005', 'link': '/bbs/Gossiping/M.1591839748.A.FE2.html'}\n",
      "{'title': '[爆卦] 幹!地震 為什麼我又邊緣人了', 'push': '', 'date': '6/11', 'author': 'somehog', 'link': '/bbs/Gossiping/M.1591839768.A.3FB.html'}\n",
      "{'title': '[問卦] 十二樓好晃', 'push': '', 'date': '6/11', 'author': 'pingen227', 'link': '/bbs/Gossiping/M.1591839770.A.DBE.html'}\n",
      "{'title': '[問卦] 地震時沒穿衣服怎麼辦？', 'push': '', 'date': '6/11', 'author': 'MiLuDaiBoom', 'link': '/bbs/Gossiping/M.1591839805.A.DF0.html'}\n",
      "{'title': 'Re: [新聞] 快訊／淡水男高中生持刀刺傷國小女童', 'push': '', 'date': '6/11', 'author': 'rockon15', 'link': '/bbs/Gossiping/M.1591839815.A.047.html'}\n",
      "{'title': '[公告] 八卦板板規(2020.06.11)', 'push': '', 'date': '6/11', 'author': 'seabox', 'link': '/bbs/Gossiping/M.1591804819.A.974.html'}\n",
      "{'title': '[協尋] 6/3下午3:00~3:20桃園龜山文昌一街文', 'push': '5', 'date': '6/04', 'author': 'lineage03005', 'link': '/bbs/Gossiping/M.1591272529.A.C2B.html'}\n",
      "{'title': '[協尋] 6/5彰化永靖死亡車禍【徵求行車紀錄器】', 'push': '25', 'date': '6/06', 'author': 'leelulu', 'link': '/bbs/Gossiping/M.1591397334.A.CE5.html'}\n",
      "{'title': '[公告] 八卦版主投票開始', 'push': '', 'date': '6/09', 'author': 'XXXXGAY', 'link': '/bbs/Gossiping/M.1591654630.A.61D.html'}\n",
      "{'title': '[公告] 六月置底閒聊區', 'push': '', 'date': '6/01', 'author': 'XXXXGAY', 'link': '/bbs/Gossiping/M.1591024469.A.D91.html'}\n"
     ]
    }
   ],
   "source": [
    "def parse_article_meta(entry):\n",
    "    '''\n",
    "    每筆資料都存在 dict() 類型中：key-value paird data\n",
    "    '''\n",
    "    return {\n",
    "        'title': entry.find('div.title', first=True).text,\n",
    "        'push': entry.find('div.nrec', first=True).text,\n",
    "        'date': entry.find('div.date', first=True).text,\n",
    "        'author': entry.find('div.author', first=True).text,\n",
    "        'link': entry.find('div.title > a', first=True).attrs['href'],\n",
    "    }\n",
    "\n",
    "url = 'https://www.ptt.cc/bbs/gossiping/index.html'\n",
    "resp = fetch(url)  # step-1\n",
    "post_entries = parse_article_entries(resp.text)  # step-2\n",
    "\n",
    "for entry in post_entries:\n",
    "    meta = parse_article_meta(entry)\n",
    "    print(meta)  # result of setp-3\n",
    "\n",
    "    # pretty_print(meta['push'], meta['title'], meta['date'], meta['author'])  # for below results"
   ]
  },
  {
   "cell_type": "code",
   "execution_count": 6,
   "metadata": {},
   "outputs": [],
   "source": [
    "def calc_len(string):\n",
    "    def chr_width(o):\n",
    "        global widths\n",
    "        if o == 0xe or o == 0xf:\n",
    "            return 0\n",
    "        for num, wid in widths:\n",
    "            if o <= num:\n",
    "                return wid\n",
    "        return 1\n",
    "    return sum(chr_width(ord(c)) for c in string)\n",
    "\n",
    "\n",
    "def pretty_print(push, title, date, author):\n",
    "    pattern = '%3s\\t%s%s%s\\t%s'\n",
    "    padding = ' ' * (50 - calc_len(title))\n",
    "    print(pattern % (push, title, padding, date, author))"
   ]
  },
  {
   "cell_type": "code",
   "execution_count": 7,
   "metadata": {},
   "outputs": [
    {
     "ename": "NameError",
     "evalue": "name 'html' is not defined",
     "output_type": "error",
     "traceback": [
      "\u001b[0;31m---------------------------------------------------------------------------\u001b[0m",
      "\u001b[0;31mNameError\u001b[0m                                 Traceback (most recent call last)",
      "\u001b[0;32m<ipython-input-7-f881f8e7b467>\u001b[0m in \u001b[0;36m<module>\u001b[0;34m()\u001b[0m\n\u001b[1;32m      1\u001b[0m \u001b[0;31m# 控制頁面選項: 最舊/上頁/下頁/最新\u001b[0m\u001b[0;34m\u001b[0m\u001b[0;34m\u001b[0m\u001b[0m\n\u001b[0;32m----> 2\u001b[0;31m \u001b[0mcontrols\u001b[0m \u001b[0;34m=\u001b[0m \u001b[0mhtml\u001b[0m\u001b[0;34m.\u001b[0m\u001b[0mfind\u001b[0m\u001b[0;34m(\u001b[0m\u001b[0;34m'.action-bar a.btn.wide'\u001b[0m\u001b[0;34m)\u001b[0m\u001b[0;34m\u001b[0m\u001b[0m\n\u001b[0m\u001b[1;32m      3\u001b[0m \u001b[0;34m\u001b[0m\u001b[0m\n\u001b[1;32m      4\u001b[0m \u001b[0;31m# note: 當然也有其他更簡單或更複雜(?)的寫法\u001b[0m\u001b[0;34m\u001b[0m\u001b[0;34m\u001b[0m\u001b[0m\n\u001b[1;32m      5\u001b[0m \u001b[0;31m# 如：controls = html.find('a.btn')\u001b[0m\u001b[0;34m\u001b[0m\u001b[0;34m\u001b[0m\u001b[0m\n",
      "\u001b[0;31mNameError\u001b[0m: name 'html' is not defined"
     ]
    }
   ],
   "source": [
    "# 控制頁面選項: 最舊/上頁/下頁/最新\n",
    "controls = html.find('.action-bar a.btn.wide')\n",
    "\n",
    "# note: 當然也有其他更簡單或更複雜(?)的寫法\n",
    "# 如：controls = html.find('a.btn')\n",
    "# 不過這邊我們為了保證精準抓到元素，採用相對穩定存在的元素層層遞進定位"
   ]
  },
  {
   "cell_type": "code",
   "execution_count": 21,
   "metadata": {},
   "outputs": [
    {
     "ename": "NameError",
     "evalue": "name 'controls' is not defined",
     "output_type": "error",
     "traceback": [
      "\u001b[0;31m---------------------------------------------------------------------------\u001b[0m",
      "\u001b[0;31mNameError\u001b[0m                                 Traceback (most recent call last)",
      "\u001b[0;32m<ipython-input-21-4a52ea212a4c>\u001b[0m in \u001b[0;36m<module>\u001b[0;34m()\u001b[0m\n\u001b[0;32m----> 1\u001b[0;31m \u001b[0mlink\u001b[0m \u001b[0;34m=\u001b[0m \u001b[0mcontrols\u001b[0m\u001b[0;34m[\u001b[0m\u001b[0;36m1\u001b[0m\u001b[0;34m]\u001b[0m\u001b[0;34m.\u001b[0m\u001b[0mget\u001b[0m\u001b[0;34m(\u001b[0m\u001b[0;34m'href'\u001b[0m\u001b[0;34m)\u001b[0m\u001b[0;34m\u001b[0m\u001b[0m\n\u001b[0m\u001b[1;32m      2\u001b[0m \u001b[0mpage_url\u001b[0m \u001b[0;34m=\u001b[0m \u001b[0murllib\u001b[0m\u001b[0;34m.\u001b[0m\u001b[0mparse\u001b[0m\u001b[0;34m.\u001b[0m\u001b[0murljoin\u001b[0m\u001b[0;34m(\u001b[0m\u001b[0;34m'https://www.ptt.cc/'\u001b[0m\u001b[0;34m,\u001b[0m \u001b[0mlink\u001b[0m\u001b[0;34m)\u001b[0m\u001b[0;34m\u001b[0m\u001b[0m\n",
      "\u001b[0;31mNameError\u001b[0m: name 'controls' is not defined"
     ]
    }
   ],
   "source": [
    "link = controls[1].get('href')\n",
    "page_url = urllib.parse.urljoin('https://www.ptt.cc/', link)"
   ]
  },
  {
   "cell_type": "code",
   "execution_count": 22,
   "metadata": {},
   "outputs": [],
   "source": [
    "def parse_article_meta(ent):\n",
    "    ''' Step-3 (revised): parse the metadata in article entry '''\n",
    "    # 基本要素都還在\n",
    "    meta = {\n",
    "        'title': ent.find('div.title', first=True).text,\n",
    "        'push': ent.find('div.nrec', first=True).text,\n",
    "        'date': ent.find('div.date', first=True).text,\n",
    "    }\n",
    "\n",
    "    try:\n",
    "        # 正常狀況取得資料\n",
    "        meta['author'] = ent.find('div.author', first=True).text\n",
    "        meta['link'] = ent.find('div.title > a', first=True).attrs['href']\n",
    "    except AttributeError:\n",
    "        # 但碰上文章被刪除時，就沒有辦法像原本的方法取得 作者 跟 連結\n",
    "        if '(本文已被刪除)' in meta['title']:\n",
    "            # e.g., \"(本文已被刪除) [haudai]\"\n",
    "            match_author = re.search('\\[(\\w*)\\]', meta['title'])\n",
    "            if match_author:\n",
    "                meta['author'] = match_author.group(1)\n",
    "        elif re.search('已被\\w*刪除', meta['title']):\n",
    "            # e.g., \"(已被cappa刪除) <edisonchu> op\"\n",
    "            match_author = re.search('\\<(\\w*)\\>', meta['title'])\n",
    "            if match_author:\n",
    "                meta['author'] = match_author.group(1)\n",
    "    return meta\n",
    "\n",
    "    # 最終仍回傳統一的 dict() 形式 paired data\n",
    "    return meta"
   ]
  },
  {
   "cell_type": "code",
   "execution_count": 25,
   "metadata": {},
   "outputs": [
    {
     "ename": "ImportError",
     "evalue": "cannot import name 'pretty_print'",
     "output_type": "error",
     "traceback": [
      "\u001b[0;31m---------------------------------------------------------------------------\u001b[0m",
      "\u001b[0;31mImportError\u001b[0m                               Traceback (most recent call last)",
      "\u001b[0;32m<ipython-input-25-bb9fd8e3d1d9>\u001b[0m in \u001b[0;36m<module>\u001b[0;34m()\u001b[0m\n\u001b[1;32m      1\u001b[0m \u001b[0;32mimport\u001b[0m \u001b[0murllib\u001b[0m\u001b[0;34m.\u001b[0m\u001b[0mparse\u001b[0m\u001b[0;34m\u001b[0m\u001b[0m\n\u001b[0;32m----> 2\u001b[0;31m \u001b[0;32mfrom\u001b[0m \u001b[0mutils\u001b[0m \u001b[0;32mimport\u001b[0m \u001b[0mpretty_print\u001b[0m\u001b[0;34m\u001b[0m\u001b[0m\n\u001b[0m\u001b[1;32m      3\u001b[0m \u001b[0;34m\u001b[0m\u001b[0m\n\u001b[1;32m      4\u001b[0m \u001b[0;32mdef\u001b[0m \u001b[0mget_metadata_from\u001b[0m\u001b[0;34m(\u001b[0m\u001b[0murl\u001b[0m\u001b[0;34m)\u001b[0m\u001b[0;34m:\u001b[0m\u001b[0;34m\u001b[0m\u001b[0m\n\u001b[1;32m      5\u001b[0m \u001b[0;34m\u001b[0m\u001b[0m\n",
      "\u001b[0;31mImportError\u001b[0m: cannot import name 'pretty_print'"
     ]
    }
   ],
   "source": [
    "import urllib.parse\n",
    "from utils import pretty_print\n",
    "\n",
    "def get_metadata_from(url):\n",
    "\n",
    "    def parse_next_link(doc):\n",
    "        html = HTML(html=doc)\n",
    "        controls = html.find('.action-bar a.btn.wide')\n",
    "        link = controls[1].attrs.get('href')\n",
    "        return urllib.parse.urljoin(domain, link)\n",
    "\n",
    "    resp = fetch(url)\n",
    "    post_entries = parse_article_entries(resp.text)\n",
    "    next_link = parse_next_link(resp.text)\n",
    "\n",
    "    metadata = [parse_article_meta(entry) for entry in post_entries]\n",
    "    return metadata, next_link\n",
    "\n",
    "def get_paged_meta(url, num_pages):\n",
    "    collected_meta = []\n",
    "\n",
    "    for _ in range(num_pages):\n",
    "        posts, link = get_metadata_from(url)\n",
    "        collected_meta += posts\n",
    "        url = urllib.parse.urljoin(domain, link)\n",
    "\n",
    "    return collected_meta\n",
    "\n",
    "start_url = 'https://www.ptt.cc/bbs/movie/index.html'\n",
    "metadata = get_paged_meta(start_url, num_pages=5)\n",
    "for meta in metadata:\n",
    "    pretty_print(meta['push'], meta['title'], meta['date'], meta['author'])"
   ]
  },
  {
   "cell_type": "code",
   "execution_count": 27,
   "metadata": {},
   "outputs": [
    {
     "name": "stdout",
     "output_type": "stream",
     "text": [
      "\u001b[31mERROR: Could not find a version that satisfies the requirement pretty_print (from versions: none)\u001b[0m\n",
      "\u001b[31mERROR: No matching distribution found for pretty_print\u001b[0m\n"
     ]
    }
   ],
   "source": [
    "!pip install pretty_print"
   ]
  },
  {
   "cell_type": "code",
   "execution_count": 28,
   "metadata": {},
   "outputs": [],
   "source": [
    "from multiprocessing import Pool"
   ]
  },
  {
   "cell_type": "code",
   "execution_count": 32,
   "metadata": {},
   "outputs": [],
   "source": [
    "aa_dict = {}\n",
    "bb_dict = {}\n",
    "aa_dict[1] = bb_dict\n",
    "aa_dict[2] = bb_dict\n",
    "aa_dict[3] = bb_dict"
   ]
  },
  {
   "cell_type": "code",
   "execution_count": 36,
   "metadata": {},
   "outputs": [
    {
     "data": {
      "text/plain": [
       "{1: {1: '01', 2: '02', 3: '03'},\n",
       " 2: {1: '01', 2: '02', 3: '03'},\n",
       " 3: {1: '01', 2: '02', 3: '03'}}"
      ]
     },
     "execution_count": 36,
     "metadata": {},
     "output_type": "execute_result"
    }
   ],
   "source": [
    "aa_dict"
   ]
  },
  {
   "cell_type": "code",
   "execution_count": 37,
   "metadata": {},
   "outputs": [
    {
     "data": {
      "text/plain": [
       "{1: '01', 2: '02', 3: '03'}"
      ]
     },
     "execution_count": 37,
     "metadata": {},
     "output_type": "execute_result"
    }
   ],
   "source": [
    "aa_dict[1]"
   ]
  },
  {
   "cell_type": "code",
   "execution_count": 35,
   "metadata": {},
   "outputs": [],
   "source": [
    "bb_dict[1] = \"01\"\n",
    "bb_dict[2] = \"02\"\n",
    "bb_dict[3] = \"03\""
   ]
  },
  {
   "cell_type": "code",
   "execution_count": null,
   "metadata": {},
   "outputs": [],
   "source": []
  }
 ],
 "metadata": {
  "kernelspec": {
   "display_name": "Python 3",
   "language": "python",
   "name": "python3"
  },
  "language_info": {
   "codemirror_mode": {
    "name": "ipython",
    "version": 3
   },
   "file_extension": ".py",
   "mimetype": "text/x-python",
   "name": "python",
   "nbconvert_exporter": "python",
   "pygments_lexer": "ipython3",
   "version": "3.6.5"
  }
 },
 "nbformat": 4,
 "nbformat_minor": 2
}
