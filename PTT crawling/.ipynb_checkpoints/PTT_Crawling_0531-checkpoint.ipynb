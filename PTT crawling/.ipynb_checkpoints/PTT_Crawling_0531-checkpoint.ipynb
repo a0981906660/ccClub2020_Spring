{
 "cells": [
  {
   "cell_type": "markdown",
   "metadata": {},
   "source": [
    "# 爬PTT地震文\n",
    "\n",
    "* 需要的資訊：\n",
    "    \n",
    "    1. 發文時間\n",
    "    2. 文章標題\n",
    "    3. 文章內容\n",
    "    4. 前100推推文內容\n",
    "    5. 發文者ID\n",
    "    6. 發文者IP位址\n",
    "    7. 該文是否屬於地震文（dummy）\n",
    "    8. 該文是否搶到地震爆文（dummy）\n",
    "   \n",
    "* 另外要寫的功能：\n",
    "\n",
    "    1. 用IP位址反查地址資訊，回傳「縣市」（str）及經緯度（某種可以被餵進google map API的格式）\n",
    "    2. 一天／一週當中PTT上站人數的pattern，輔以「當時發文者發文所處的時間」來控制error term"
   ]
  },
  {
   "cell_type": "code",
   "execution_count": 8,
   "metadata": {},
   "outputs": [],
   "source": [
    "# -*- coding: utf-8 -*-\n",
    "\n",
    "# 導入 模組(module) \n",
    "import requests \n",
    "# 導入 BeautifulSoup 模組(module)：解析HTML 語法工具\n",
    "from bs4 import BeautifulSoup\n",
    "import pandas as pd\n",
    "import numpy as np\n",
    "import time\n",
    "\n",
    "from multiprocessing import Pool #https://github.com/leVirve/CrawlerTutorial"
   ]
  },
  {
   "cell_type": "code",
   "execution_count": 21,
   "metadata": {},
   "outputs": [
    {
     "data": {
      "text/plain": [
       "<Response [200]>"
      ]
     },
     "execution_count": 21,
     "metadata": {},
     "output_type": "execute_result"
    }
   ],
   "source": [
    "#八卦版文章連結\n",
    "url = \"https://www.ptt.cc/bbs/Gossiping/index.html\"\n",
    "header_over18 = {\"cookie\":\"over18=1\"}\n",
    "res = requests.get(url, headers = header_over18)\n",
    "res"
   ]
  },
  {
   "cell_type": "code",
   "execution_count": 22,
   "metadata": {},
   "outputs": [],
   "source": [
    "soup = BeautifulSoup(res.text, \"html.parser\")"
   ]
  },
  {
   "cell_type": "markdown",
   "metadata": {},
   "source": [
    "# try to search keyword \"地震\""
   ]
  },
  {
   "cell_type": "code",
   "execution_count": 23,
   "metadata": {},
   "outputs": [],
   "source": [
    "# https://www.ptt.cc/bbs/Gossiping/search?q=%E5%9C%B0%E9%9C%87 //查詢地震時的endpoint\n",
    "search_endpoint_url = 'https://www.ptt.cc/bbs/Gossiping/search'\n",
    "# 把要查詢的關鍵字參數化\n",
    "resp = requests.get(search_endpoint_url, params={'q': '地震'}, headers = header_over18)"
   ]
  },
  {
   "cell_type": "code",
   "execution_count": 24,
   "metadata": {},
   "outputs": [],
   "source": [
    "soup = BeautifulSoup(resp.text, \"html.parser\")"
   ]
  },
  {
   "cell_type": "code",
   "execution_count": 31,
   "metadata": {},
   "outputs": [],
   "source": [
    "# 找到全部地震文章的連結\n",
    "links = soup.find_all(\"a href\")"
   ]
  },
  {
   "cell_type": "code",
   "execution_count": 33,
   "metadata": {},
   "outputs": [],
   "source": [
    "titles = soup.find_all(\"div\", \"title\")"
   ]
  },
  {
   "cell_type": "code",
   "execution_count": 45,
   "metadata": {},
   "outputs": [
    {
     "name": "stdout",
     "output_type": "stream",
     "text": [
      "\n",
      "[問卦] 地震時剛好在尻尻該怎麼辦?\n",
      " /bbs/Gossiping/M.1590848302.A.266.html\n",
      "\n",
      "Re: [問卦] 地震時在大便該怎麼辦？\n",
      " /bbs/Gossiping/M.1590845039.A.0C8.html\n",
      "\n",
      "[問卦] 地震時在大便該怎麼辦？\n",
      " /bbs/Gossiping/M.1590843927.A.AC3.html\n",
      "\n",
      "地震\n",
      " /bbs/Gossiping/M.1590843815.A.483.html\n",
      "\n",
      "[爆卦] 地震\n",
      " /bbs/Gossiping/M.1590843771.A.56E.html\n",
      "\n",
      "Re: [問卦] 921地震的時候大家是什麼感覺？\n",
      " /bbs/Gossiping/M.1590719635.A.347.html\n",
      "\n",
      "Re: [問卦] 921地震的時候大家是什麼感覺？\n",
      " /bbs/Gossiping/M.1590717943.A.C26.html\n",
      "\n",
      "Re: [問卦] 921地震的時候大家是什麼感覺？\n",
      " /bbs/Gossiping/M.1590717313.A.5A1.html\n",
      "\n",
      "[問卦] 下大雨地震到底是不是真的？\n",
      " /bbs/Gossiping/M.1590707699.A.5AF.html\n",
      "\n",
      "Re: [問卦] 921地震的時候大家是什麼感覺？\n",
      " /bbs/Gossiping/M.1590697396.A.ED3.html\n",
      "\n",
      "[問卦] 921地震的時候大家是什麼感覺？\n",
      " /bbs/Gossiping/M.1590695886.A.B2B.html\n",
      "\n",
      "[問卦] 慟！地震！偷發廢文會不會被噓？\n",
      " /bbs/Gossiping/M.1590695147.A.820.html\n",
      "\n",
      "[爆卦] 竹山地震 4.6\n",
      " /bbs/Gossiping/M.1590695113.A.910.html\n",
      "\n",
      "[爆卦] 地震\n",
      " /bbs/Gossiping/M.1590694492.A.589.html\n",
      "\n",
      "[問卦] 地震嗎\n",
      " /bbs/Gossiping/M.1590590454.A.1CE.html\n",
      "\n",
      "[爆卦] 地震\n",
      " /bbs/Gossiping/M.1590590426.A.688.html\n",
      "\n",
      "[問卦] 北京發生9.0大地震會怎麼樣?\n",
      " /bbs/Gossiping/M.1590502663.A.676.html\n",
      "\n",
      "[新聞] 新西蘭總理電視直播時遇地震，淡定調侃\n",
      " /bbs/Gossiping/M.1590502356.A.E86.html\n",
      "\n",
      "[新聞] 北京兩會遇地震 市內震感強烈\n",
      " /bbs/Gossiping/M.1590493089.A.D8C.html\n",
      "\n",
      "[問卦] 地震時正在大便怎麼辦？\n",
      " /bbs/Gossiping/M.1590366890.A.C5B.html\n"
     ]
    }
   ],
   "source": [
    "for title in titles:\n",
    "    print(title.text, title.a[\"href\"])\n",
    "    link = \"https://www.ptt.cc/\" + title.a[\"href\"]"
   ]
  },
  {
   "cell_type": "code",
   "execution_count": 105,
   "metadata": {},
   "outputs": [
    {
     "data": {
      "text/plain": [
       "'1590366890'"
      ]
     },
     "execution_count": 105,
     "metadata": {},
     "output_type": "execute_result"
    }
   ],
   "source": [
    "article_id = title.a[\"href\"].split(sep = \"/\")[-1].split(sep = \".\")[1]\n",
    "article_id"
   ]
  },
  {
   "cell_type": "code",
   "execution_count": 56,
   "metadata": {},
   "outputs": [
    {
     "name": "stderr",
     "output_type": "stream",
     "text": [
      "/Applications/anaconda3/lib/python3.6/site-packages/urllib3/connectionpool.py:858: InsecureRequestWarning: Unverified HTTPS request is being made. Adding certificate verification is strongly advised. See: https://urllib3.readthedocs.io/en/latest/advanced-usage.html#ssl-warnings\n",
      "  port=None,\n",
      "/Applications/anaconda3/lib/python3.6/site-packages/urllib3/connectionpool.py:858: InsecureRequestWarning: Unverified HTTPS request is being made. Adding certificate verification is strongly advised. See: https://urllib3.readthedocs.io/en/latest/advanced-usage.html#ssl-warnings\n",
      "  port=None,\n",
      "/Applications/anaconda3/lib/python3.6/site-packages/urllib3/connectionpool.py:858: InsecureRequestWarning: Unverified HTTPS request is being made. Adding certificate verification is strongly advised. See: https://urllib3.readthedocs.io/en/latest/advanced-usage.html#ssl-warnings\n",
      "  port=None,\n",
      "/Applications/anaconda3/lib/python3.6/site-packages/urllib3/connectionpool.py:858: InsecureRequestWarning: Unverified HTTPS request is being made. Adding certificate verification is strongly advised. See: https://urllib3.readthedocs.io/en/latest/advanced-usage.html#ssl-warnings\n",
      "  port=None,\n"
     ]
    }
   ],
   "source": [
    "# 進入搜尋頁面的第一篇文章\n",
    "link = \"https://www.ptt.cc/\" + title.a[\"href\"]\n",
    "\n",
    "# 18禁\n",
    "payload = {\n",
    "    \"from\" : \"/bbs/Gossiping/index.html\",\n",
    "    \"yes\"  : \"yes\"\n",
    "}\n",
    "rs = requests.session()\n",
    "res_subpage = rs.post(\"https://www.ptt.cc/ask/over18\", verify = False, data = payload)\n",
    "\n",
    "res_subpage = rs.get(link, verify = False)\n",
    "soup_subpage = BeautifulSoup(res_subpage.text, \"html.parser\")"
   ]
  },
  {
   "cell_type": "code",
   "execution_count": 60,
   "metadata": {},
   "outputs": [
    {
     "name": "stdout",
     "output_type": "stream",
     "text": [
      "\n",
      "\n",
      "\n",
      "\n",
      "\n",
      "[問卦] 地震時正在大便怎麼辦？ - 看板 Gossiping - 批踢踢實業坊\n",
      "\n",
      "\n",
      "\n",
      "\n",
      "\n",
      "\n",
      "\n",
      "\n",
      "\n",
      "\n",
      "\n",
      "\n",
      "\n",
      "\n",
      "\n",
      "\n",
      "批踢踢實業坊\n",
      "›\n",
      "看板 Gossiping\n",
      "關於我們\n",
      "聯絡資訊\n",
      "\n",
      "\n",
      "\n",
      "\n",
      "返回看板\n",
      "\n",
      "\n",
      "\n",
      "\n",
      "作者macbook12 (12吋蘋果)看板Gossiping標題[問卦] 地震時正在大便怎麼辦？時間Mon May 25 08:34:48 2020\n",
      "\n",
      "各位早安，\n",
      "剛剛早上發生了一個不小的地震，\n",
      "剛好我正在大號中，\n",
      "心裡想著是，\n",
      "我應該要立刻不擦屁股穿上褲子逃命，\n",
      "還是把屁股擦完，穿上褲子乾淨的逃出來？\n",
      "各位如果正在大便時地震你們會怎麼辦？\n",
      "-----\n",
      "Sent from JPTT on my iPhone\n",
      "\n",
      "--\n",
      "※ 發信站: 批踢踢實業坊(ptt.cc), 來自: 39.8.126.126 (臺灣)\n",
      "※ 文章網址: https://www.ptt.cc/bbs/Gossiping/M.1590366890.A.C5B.html\n",
      "→ poqwiuer: 邊拉邊逃跑 05/25 08:35\n",
      "噓 XXXXLINDA: 問過了 05/25 08:35\n",
      "噓 z842657913: 夾斷 05/25 08:35\n",
      "噓 redDest: 給五樓吃 05/25 08:36\n",
      "噓 yulin0619: 直接吃了吧 05/25 08:37\n",
      "推 gracew0709: 六樓打算抓屎抹五樓 05/25 08:37\n",
      "→ elec1141: 斷尾求生 05/25 08:40\n",
      "推 ComeThrough: 一邊跑一邊用手接住 05/25 08:41\n",
      "推 seminal: 大好大滿 05/25 08:47\n",
      "\n",
      "\n",
      "本網站已依台灣網站內容分級規定處理。此區域為限制級，未滿十八歲者不得瀏覽。\n",
      "\n",
      "\n",
      "  (function(i,s,o,g,r,a,m){i['GoogleAnalyticsObject']=r;i[r]=i[r]||function(){\n",
      "  (i[r].q=i[r].q||[]).push(arguments)},i[r].l=1*new Date();a=s.createElement(o),\n",
      "  m=s.getElementsByTagName(o)[0];a.async=1;a.src=g;m.parentNode.insertBefore(a,m)\n",
      "  })(window,document,'script','https://www.google-analytics.com/analytics.js','ga');\n",
      "\n",
      "  ga('create', 'UA-32365737-1', {\n",
      "    cookieDomain: 'ptt.cc',\n",
      "    legacyCookieDomain: 'ptt.cc'\n",
      "  });\n",
      "  ga('send', 'pageview');\n",
      "\n",
      "\n",
      "\n",
      "(function(){window['__CF$cv$params']={r:'59bdd587989cdad0',m:'8a7f2245acbd481a48071c9e89456406c657a1ef-1590898110-1800-AWL+19bQ4ZKY3cf+6liJ9eFy+frssdcEsVMP2vJpK67N4vlwobTSBAl29PI2j64c01DrXug9lBC3hVxyN+OCF0O3UK4Z1xOst4qZwzWFIOguHh5ROeHiRJ/qUmjRG5Rbt0mUcFtX4eiu5nfJZe8nVwoYUew+4BOhP5l86+8Vwmex',s:[0x2525da087b,0x495e04b852],}})();\n",
      "\n",
      "\n"
     ]
    }
   ],
   "source": [
    "print(soup_subpage.text)"
   ]
  },
  {
   "cell_type": "code",
   "execution_count": 63,
   "metadata": {},
   "outputs": [
    {
     "name": "stdout",
     "output_type": "stream",
     "text": [
      "[<span class=\"article-meta-value\">macbook12 (12吋蘋果)</span>, <span class=\"article-meta-value\">Gossiping</span>, <span class=\"article-meta-value\">[問卦] 地震時正在大便怎麼辦？</span>, <span class=\"article-meta-value\">Mon May 25 08:34:48 2020</span>]\n"
     ]
    }
   ],
   "source": [
    "#一篇文章的 作者、標題、時間、看板\n",
    "header = soup_subpage.find_all(\"span\", \"article-meta-value\")\n",
    "print(header)"
   ]
  },
  {
   "cell_type": "code",
   "execution_count": 69,
   "metadata": {},
   "outputs": [
    {
     "name": "stdout",
     "output_type": "stream",
     "text": [
      "macbook12 (12吋蘋果)\n",
      "Gossiping\n",
      "[問卦] 地震時正在大便怎麼辦？\n",
      "Mon May 25 08:34:48 2020\n"
     ]
    }
   ],
   "source": [
    "print(header[0].text) #author\n",
    "print(header[1].text) #board\n",
    "print(header[2].text) #title\n",
    "print(header[3].text) #date"
   ]
  },
  {
   "cell_type": "code",
   "execution_count": 70,
   "metadata": {},
   "outputs": [
    {
     "name": "stdout",
     "output_type": "stream",
     "text": [
      "\n",
      "作者macbook12 (12吋蘋果)看板Gossiping標題[問卦] 地震時正在大便怎麼辦？時間Mon May 25 08:34:48 2020\n",
      "\n",
      "各位早安，\n",
      "剛剛早上發生了一個不小的地震，\n",
      "剛好我正在大號中，\n",
      "心裡想著是，\n",
      "我應該要立刻不擦屁股穿上褲子逃命，\n",
      "還是把屁股擦完，穿上褲子乾淨的逃出來？\n",
      "各位如果正在大便時地震你們會怎麼辦？\n",
      "-----\n",
      "Sent from JPTT on my iPhone\n",
      "\n",
      "--\n",
      "※ 發信站: 批踢踢實業坊(ptt.cc), 來自: 39.8.126.126 (臺灣)\n",
      "※ 文章網址: https://www.ptt.cc/bbs/Gossiping/M.1590366890.A.C5B.html\n",
      "→ poqwiuer: 邊拉邊逃跑 05/25 08:35\n",
      "噓 XXXXLINDA: 問過了 05/25 08:35\n",
      "噓 z842657913: 夾斷 05/25 08:35\n",
      "噓 redDest: 給五樓吃 05/25 08:36\n",
      "噓 yulin0619: 直接吃了吧 05/25 08:37\n",
      "推 gracew0709: 六樓打算抓屎抹五樓 05/25 08:37\n",
      "→ elec1141: 斷尾求生 05/25 08:40\n",
      "推 ComeThrough: 一邊跑一邊用手接住 05/25 08:41\n",
      "推 seminal: 大好大滿 05/25 08:47\n",
      "\n",
      "\n",
      "本網站已依台灣網站內容分級規定處理。此區域為限制級，未滿十八歲者不得瀏覽。\n",
      "\n"
     ]
    }
   ],
   "source": [
    "main_text = soup_subpage.find(id = \"main-container\").text\n",
    "print(main_text)"
   ]
  },
  {
   "cell_type": "code",
   "execution_count": 140,
   "metadata": {},
   "outputs": [
    {
     "data": {
      "text/plain": [
       "['噓 braja5566: 大跌1% 05/23 15:42',\n",
       " '推 kairi5217: ...林口台地可能會再漲一波 05/23 15:43',\n",
       " '推 akway: 全部都市更新 漲 05/23 15:43',\n",
       " '→ qilar: 先蹲後跳阿 但蹲的時候你還是不會買 05/23 15:44',\n",
       " '→ horseorange: 倒掉的房子不算兇宅了好嗎 05/23 15:46',\n",
       " '→ ARCHER2234: 更貴 05/23 15:46',\n",
       " '→ winglight: 要看低樓層有無破壞樑柱，不然最近倒的反而多是大樓 05/23 15:47',\n",
       " '→ mylove0617: GOOGLE  台北已經超過300年沒大地震了 05/23 15:50',\n",
       " '→ insurreal: 超大型都更,大地震來,軟腳大樓很難全身而退 05/23 15:56',\n",
       " '推 vanadiu: 會大漲加倍賣...傻子會搶著買 05/23 15:57',\n",
       " '推 JOHNJJ: 暴漲吧，都變新房子，一坪一百萬。 05/23 16:05',\n",
       " '推 leoloveivy: 你先當心會不會吃到投誠方便麵吧 05/23 16:12',\n",
       " '推 leeccc: 最新制震 每坪加10萬 05/23 16:24',\n",
       " '→ jones2011: 大樓安全？那是指有按圖施工而且沒被改過的 05/23 16:26',\n",
       " '→ innuendo3324: 加價蓋，加價賣啊！ 05/23 17:20',\n",
       " '',\n",
       " '',\n",
       " '本網站已依台灣網站內容分級規定處理。此區域為限制級，未滿十八歲者不得瀏覽。',\n",
       " '']"
      ]
     },
     "execution_count": 140,
     "metadata": {},
     "output_type": "execute_result"
    }
   ],
   "source": [
    "#推文\n",
    "main_text.split(sep = \"html\")[1].split(sep = \"\\n\")[1:]"
   ]
  },
  {
   "cell_type": "code",
   "execution_count": 71,
   "metadata": {},
   "outputs": [
    {
     "name": "stdout",
     "output_type": "stream",
     "text": [
      "內容：\n",
      "各位早安，\n",
      "剛剛早上發生了一個不小的地震，\n",
      "剛好我正在大號中，\n",
      "心裡想著是，\n",
      "我應該要立刻不擦屁股穿上褲子逃命，\n",
      "還是把屁股擦完，穿上褲子乾淨的逃出來？\n",
      "各位如果正在大便時地震你們會怎麼辦？\n",
      "\n"
     ]
    }
   ],
   "source": [
    "# 把整個內容切割透過 \"-- \" 切割成2個陣列\n",
    "pre_text = main_text.split('--')[0]\n",
    "    \n",
    "# 把每段文字 根據 '\\n' 切開\n",
    "texts = pre_text.split('\\n')\n",
    "# 如果你爬多篇你會發現 \n",
    "contents = texts[2:]\n",
    "# 內容\n",
    "content = '\\n'.join(contents)\n",
    "\n",
    "print('內容：'+content)"
   ]
  },
  {
   "cell_type": "code",
   "execution_count": 85,
   "metadata": {},
   "outputs": [
    {
     "data": {
      "text/plain": [
       "' 39.8.126.126 (臺灣)'"
      ]
     },
     "execution_count": 85,
     "metadata": {},
     "output_type": "execute_result"
    }
   ],
   "source": [
    "IP_address = main_text.split('來自:')[1].split(\"\\n\")[0]\n",
    "IP_address"
   ]
  },
  {
   "cell_type": "markdown",
   "metadata": {},
   "source": [
    "```\n",
    "f\"{article_id}\" = {\n",
    "    \"Date\" : \"\"\n",
    "    \"Title\" : \"\"\n",
    "    \"Author\" : \"\"\n",
    "    \"IP\" : \"\"\n",
    "    \"Content\" : \n",
    "}\n",
    "```"
   ]
  },
  {
   "cell_type": "code",
   "execution_count": 106,
   "metadata": {},
   "outputs": [
    {
     "data": {
      "text/plain": [
       "'1590366890'"
      ]
     },
     "execution_count": 106,
     "metadata": {},
     "output_type": "execute_result"
    }
   ],
   "source": [
    "f\"{article_id}\""
   ]
  },
  {
   "cell_type": "code",
   "execution_count": 111,
   "metadata": {},
   "outputs": [
    {
     "data": {
      "text/plain": [
       "'M1590366890'"
      ]
     },
     "execution_count": 111,
     "metadata": {},
     "output_type": "execute_result"
    }
   ],
   "source": [
    "exec_str = \"M\" + f\"{article_id}\"\n",
    "exec_str"
   ]
  },
  {
   "cell_type": "code",
   "execution_count": 112,
   "metadata": {},
   "outputs": [],
   "source": [
    "exec(exec_str+\" = {}\", globals())"
   ]
  },
  {
   "cell_type": "code",
   "execution_count": 113,
   "metadata": {},
   "outputs": [
    {
     "data": {
      "text/plain": [
       "dict"
      ]
     },
     "execution_count": 113,
     "metadata": {},
     "output_type": "execute_result"
    }
   ],
   "source": [
    "type(M1590366890)"
   ]
  },
  {
   "cell_type": "code",
   "execution_count": 118,
   "metadata": {},
   "outputs": [],
   "source": [
    "M1590366890[1] = \"01\"\n",
    "M1590366890[2] = \"02\""
   ]
  },
  {
   "cell_type": "code",
   "execution_count": 127,
   "metadata": {},
   "outputs": [],
   "source": [
    "exec(f\"{exec_str}\", globals())"
   ]
  },
  {
   "cell_type": "markdown",
   "metadata": {},
   "source": [
    "## 實作：把搜尋頁第一頁的文章都爬下來，存在一個dict內"
   ]
  },
  {
   "cell_type": "code",
   "execution_count": 188,
   "metadata": {},
   "outputs": [],
   "source": [
    "# https://www.ptt.cc/bbs/Gossiping/search?q=%E5%9C%B0%E9%9C%87 //查詢地震時的endpoint\n",
    "#search_endpoint_url = 'https://www.ptt.cc/bbs/Gossiping/search'\n",
    "# 把要查詢的關鍵字參數化\n",
    "#resp = requests.get(search_endpoint_url, params={'q': '地震'}, headers = header_over18)\n",
    "\n",
    "#soup = BeautifulSoup(resp.text, \"html.parser\")\n",
    "\n",
    "#忽略warning\n",
    "import warnings\n",
    "warnings.filterwarnings('ignore')\n",
    "\n",
    "# 建立字典\n",
    "earthquake_dict = {} # key是文章的link，value是另一本以文章的unique link為名的dict\n",
    "# list內則有：發文時間、文章標題、作者ID、作者IP、文章內容\n",
    "names = globals()\n",
    "\n",
    "# 搜尋頁面換頁\n",
    "# https://www.ptt.cc/bbs/Gossiping/search?page= 3 &q=%E5%9C%B0%E9%9C%87\n",
    "\n",
    "for page_count in range(1, 52+1):\n",
    "    search_page_url = \"https://www.ptt.cc/bbs/Gossiping/search?page=\" + str(page_count) + \"&q=%E5%9C%B0%E9%9C%87\"\n",
    "    resp = requests.get(search_page_url, headers = header_over18)\n",
    "    soup = BeautifulSoup(resp.text, \"html.parser\")\n",
    "    \n",
    "    # 找到該搜尋頁面下 全部地震文章的連結\n",
    "    titles = soup.find_all(\"div\", \"title\") #找到每篇文章的標題及連結\n",
    "    for title in titles:\n",
    "        #print(title.text, title.a[\"href\"])\n",
    "        \n",
    "        link = \"https://www.ptt.cc/\" + title.a[\"href\"]\n",
    "        article_id = title.a[\"href\"].split(sep = \"/\")[-1].split(sep = \".\")[1]\n",
    "        \n",
    "        #為這篇文章建一個dictionary\n",
    "        name_str = \"M\" + f\"{article_id}\"\n",
    "        names[\"M_%s\" %article_id] = {}\n",
    "        earthquake_dict[name_str] = names[\"M_%s\" %article_id]\n",
    "\n",
    "        \n",
    "        # 進入搜尋頁面的第一篇文章\n",
    "        payload = {\n",
    "            \"from\" : \"/bbs/Gossiping/index.html\",\n",
    "            \"yes\"  : \"yes\"\n",
    "        }\n",
    "        rs = requests.session()\n",
    "        res_subpage = rs.post(\"https://www.ptt.cc/ask/over18\", verify = False, data = payload)\n",
    "        res_subpage = rs.get(link, verify = False)\n",
    "        soup_subpage = BeautifulSoup(res_subpage.text, \"html.parser\")\n",
    "\n",
    "        #一篇文章的 作者、標題、時間、看板\n",
    "        header = soup_subpage.find_all(\"span\", \"article-meta-value\")\n",
    "        #print(header)\n",
    "        #print(header[0].text) #author\n",
    "        #print(header[1].text) #board\n",
    "        #print(header[2].text) #title\n",
    "        #print(header[3].text) #date\n",
    "        \n",
    "        try: #如果有「看板」的話\n",
    "            names[\"M_%s\" %article_id][\"Author\"] = header[0].text\n",
    "            names[\"M_%s\" %article_id][\"Board\"] = header[1].text\n",
    "            names[\"M_%s\" %article_id][\"Title\"] = header[2].text\n",
    "            names[\"M_%s\" %article_id][\"Date\"] = header[3].text\n",
    "        except:\n",
    "            try: #如果是回覆文章，沒有「看板」的話\n",
    "                names[\"M_%s\" %article_id][\"Author\"] = header[0].text\n",
    "                names[\"M_%s\" %article_id][\"Title\"] = header[1].text\n",
    "                names[\"M_%s\" %article_id][\"Date\"] = header[2].text\n",
    "            except:\n",
    "                pass\n",
    "\n",
    "        # 內文\n",
    "        main_text = soup_subpage.find(id = \"main-container\").text\n",
    "        #print(main_text)\n",
    "        # 把整個內容切割透過 \"-- \" 切割成2個陣列\n",
    "        pre_text = main_text.split('--')[0]\n",
    "        # 把每段文字 根據 '\\n' 切開\n",
    "        texts = pre_text.split('\\n')\n",
    "        # 如果你爬多篇你會發現 \n",
    "        contents = texts[2:]\n",
    "        # 內容\n",
    "        content = '\\n'.join(contents)\n",
    "        #print('內容：'+content)\n",
    "        names[\"M_%s\" %article_id][\"Content\"] = content\n",
    "\n",
    "        \n",
    "        #IP位址\n",
    "        try:\n",
    "            try:\n",
    "                IP_address = main_text.split('來自:')[1].split(\"\\n\")[0]\n",
    "                #print(IP_address)\n",
    "                names[\"M_%s\" %article_id][\"Full IP\"] = IP_address\n",
    "            except:\n",
    "                try:\n",
    "                    author = header[0].text\n",
    "                    authorID = author.split(sep = \" (\")[0]\n",
    "                    #print(main_text.split(sep = authorID)[2].split(sep = \"),\")[0].split()[0][1:])\n",
    "                    IP_address = main_text.split(sep = authorID)[2].split(sep = \"),\")[0].split()[0][1:]\n",
    "                    names[\"M_%s\" %article_id][\"Full IP\"] = IP_address\n",
    "                except:\n",
    "                    pass\n",
    "        except:\n",
    "            names[\"M_%s\" %article_id][\"Full IP\"] = \"Not Found\"\n",
    "        \n",
    "        #只有數字的IP\n",
    "        try:\n",
    "            IP_shorten = IP_address.split(sep = \" \")[1]\n",
    "            names[\"M_%s\" %article_id][\"IP\"] = IP_shorten\n",
    "        except:\n",
    "            pass\n",
    "        \n",
    "        # 推文\n",
    "        try:            \n",
    "            push = main_text.split(sep = \"html\")[1].split(sep = \"\\n\")[1:]\n",
    "            names[\"M_%s\" %article_id][\"Push\"] = push\n",
    "        except:\n",
    "            names[\"M_%s\" %article_id][\"Push\"] = \"No Push\"\n",
    "        \n",
    "        time.sleep(0.1)"
   ]
  },
  {
   "cell_type": "code",
   "execution_count": 185,
   "metadata": {},
   "outputs": [
    {
     "data": {
      "text/plain": [
       "<span class=\"article-meta-value\">clark0816 (阿杯)</span>"
      ]
     },
     "execution_count": 185,
     "metadata": {},
     "output_type": "execute_result"
    }
   ],
   "source": [
    "header[0]"
   ]
  },
  {
   "cell_type": "code",
   "execution_count": 171,
   "metadata": {},
   "outputs": [
    {
     "name": "stdout",
     "output_type": "stream",
     "text": [
      "134.208.32.4\n"
     ]
    }
   ],
   "source": [
    "author = header[0].text\n",
    "authorID = author.split(sep = \" (\")[0]\n",
    "print(main_text.split(sep = authorID)[2].split(sep = \"),\")[0].split()[0][1:])"
   ]
  },
  {
   "cell_type": "code",
   "execution_count": 162,
   "metadata": {},
   "outputs": [
    {
     "data": {
      "text/plain": [
       "'jt910203'"
      ]
     },
     "execution_count": 162,
     "metadata": {},
     "output_type": "execute_result"
    }
   ],
   "source": [
    "authorID"
   ]
  },
  {
   "cell_type": "code",
   "execution_count": 189,
   "metadata": {},
   "outputs": [
    {
     "data": {
      "text/plain": [
       "52"
      ]
     },
     "execution_count": 189,
     "metadata": {},
     "output_type": "execute_result"
    }
   ],
   "source": [
    "page_count"
   ]
  },
  {
   "cell_type": "code",
   "execution_count": 190,
   "metadata": {},
   "outputs": [
    {
     "data": {
      "text/plain": [
       "1027"
      ]
     },
     "execution_count": 190,
     "metadata": {},
     "output_type": "execute_result"
    }
   ],
   "source": [
    "len(earthquake_dict)"
   ]
  },
  {
   "cell_type": "code",
   "execution_count": 191,
   "metadata": {},
   "outputs": [
    {
     "data": {
      "text/plain": [
       "dict_keys(['M1590848302', 'M1590845039', 'M1590843927', 'M1590843815', 'M1590843771', 'M1590719635', 'M1590717943', 'M1590717313', 'M1590707699', 'M1590697396', 'M1590695886', 'M1590695147', 'M1590695113', 'M1590694492', 'M1590590454', 'M1590590426', 'M1590502663', 'M1590502356', 'M1590493089', 'M1590366890', 'M1590364751', 'M1590364578', 'M1590363481', 'M1590362690', 'M1590362420', 'M1590360275', 'M1590360147', 'M1590360061', 'M1590359730', 'M1590359696', 'M1590359677', 'M1590359627', 'M1590359620', 'M1590359590', 'M1590359577', 'M1590359565', 'M1590359561', 'M1590359551', 'M1590359524', 'M1590219739', 'M1590182680', 'M1589907072', 'M1589858033', 'M1589518248', 'M1589468317', 'M1589334685', 'M1589200410', 'M1589003170', 'M1588864675', 'M1588864305', 'M1588775702', 'M1588679619', 'M1588598037', 'M1588521078', 'M1588518770', 'M1588508537', 'M1588500662', 'M1588488767', 'M1588482382', 'M1588478059', 'M1588478008', 'M1588477653', 'M1588477327', 'M1588477228', 'M1588477155', 'M1588477145', 'M1588477119', 'M1588477075', 'M1588477035', 'M1588477033', 'M1588476970', 'M1588476941', 'M1588476932', 'M1588476915', 'M1588476872', 'M1588476868', 'M1588476836', 'M1588476740', 'M1588476721', 'M1588476583', 'M1588476383', 'M1588476322', 'M1588302320', 'M1587962987', 'M1587839612', 'M1587826333', 'M1587822729', 'M1587481386', 'M1587408394', 'M1587333592', 'M1587329047', 'M1587321724', 'M1587321705', 'M1587017298', 'M1586862863', 'M1586692023', 'M1586691959', 'M1586691588', 'M1586691447', 'M1586635821', 'M1586635550', 'M1586620125', 'M1586620037', 'M1586619896', 'M1586607128', 'M1586598929', 'M1586540074', 'M1586539507', 'M1586539444', 'M1586538849', 'M1586538659', 'M1586538381', 'M1586538297', 'M1586538191', 'M1586538129', 'M1586538077', 'M1586537968', 'M1586537825', 'M1586537777', 'M1586537700', 'M1586537571', 'M1586537453', 'M1586537441', 'M1586537321', 'M1586537312', 'M1586537280', 'M1586537273', 'M1586537265', 'M1586537256', 'M1586537254', 'M1586537249', 'M1586537229', 'M1586537228', 'M1586537225', 'M1586537218', 'M1586537216', 'M1586537215', 'M1586537204', 'M1586537202', 'M1586537198', 'M1586537193', 'M1586492741', 'M1586389968', 'M1586389846', 'M1586389792', 'M1586314977', 'M1586236461', 'M1585965340', 'M1585944964', 'M1585925465', 'M1585796445', 'M1585795990', 'M1585795987', 'M1585795980', 'M1585795979', 'M1585757977', 'M1585307011', 'M1585242185', 'M1585236254', 'M1585221290', 'M1585218823', 'M1585216705', 'M1585210395', 'M1585204905', 'M1585199890', 'M1585199842', 'M1585198739', 'M1585198125', 'M1585106907', 'M1585106093', 'M1585100535', 'M1584873309', 'M1584812379', 'M1584812205', 'M1584677543', 'M1584677523', 'M1584666665', 'M1584665431', 'M1584586877', 'M1584545491', 'M1584542561', 'M1584535777', 'M1584433783', 'M1584337291', 'M1584237219', 'M1584059368', 'M1583994150', 'M1583993262', 'M1583993256', 'M1583911455', 'M1583787117', 'M1583780842', 'M1583779943', 'M1582979901', 'M1582818891', 'M1582781144', 'M1582695428', 'M1582695341', 'M1582695274', 'M1582647573', 'M1582645220', 'M1582633674', 'M1582633637', 'M1582631631', 'M1582631248', 'M1582630782', 'M1582630506', 'M1582630393', 'M1582629551', 'M1582629542', 'M1582629415', 'M1582629393', 'M1582629378', 'M1582629326', 'M1582629323', 'M1582629295', 'M1582629288', 'M1582629284', 'M1582629280', 'M1582629261', 'M1582612450', 'M1582592699', 'M1582592463', 'M1582546260', 'M1582515194', 'M1582469446', 'M1582358126', 'M1582113461', 'M1582113329', 'M1582111944', 'M1582090098', 'M1582044829', 'M1582044062', 'M1581925633', 'M1581923871', 'M1581804388', 'M1581803044', 'M1581802515', 'M1581797684', 'M1581795517', 'M1581795161', 'M1581795141', 'M1581794616', 'M1581794553', 'M1581794478', 'M1581794232', 'M1581793453', 'M1581790842', 'M1581769194', 'M1581767257', 'M1581766326', 'M1581766296', 'M1581765152', 'M1581765105', 'M1581765033', 'M1581764979', 'M1581764956', 'M1581764941', 'M1581764914', 'M1581764871', 'M1581764753', 'M1581764634', 'M1581764620', 'M1581764584', 'M1581764577', 'M1581764570', 'M1581764564', 'M1581764550', 'M1581764541', 'M1581764517', 'M1581764515', 'M1581764496', 'M1581764494', 'M1581764493', 'M1581764492', 'M1581764490', 'M1581764489', 'M1581764486', 'M1581764484', 'M1581764481', 'M1581764465', 'M1581764461', 'M1581764442', 'M1581764439', 'M1581652237', 'M1581642814', 'M1581621144', 'M1581617560', 'M1581616868', 'M1581616588', 'M1581616552', 'M1581616496', 'M1581616451', 'M1581616446', 'M1581616302', 'M1581616283', 'M1581616280', 'M1581616277', 'M1581616248', 'M1581616244', 'M1581616242', 'M1581616236', 'M1581616224', 'M1581616223', 'M1581616222', 'M1581616213', 'M1581616208', 'M1581616194', 'M1581594216', 'M1581579899', 'M1581187233', 'M1581091331', 'M1581076727', 'M1581076703', 'M1581073988', 'M1581017607', 'M1581017568', 'M1580968689', 'M1580959780', 'M1580936920', 'M1580936124', 'M1580817110', 'M1580752092', 'M1580750391', 'M1580749932', 'M1580749411', 'M1580730955', 'M1580702886', 'M1580690116', 'M1580689224', 'M1580665992', 'M1580660796', 'M1580649487', 'M1580639708', 'M1580605379', 'M1580557922', 'M1580490682', 'M1580490528', 'M1580484263', 'M1580459149', 'M1580451013', 'M1580285676', 'M1580275208', 'M1580252018', 'M1580224712', 'M1580221195', 'M1580206044', 'M1580206030', 'M1580205982', 'M1580141662', 'M1580141620', 'M1580131019', 'M1580010287', 'M1579938101', 'M1579938022', 'M1579932639', 'M1579918989', 'M1579903443', 'M1579433038', 'M1579327183', 'M1579212944', 'M1579100403', 'M1579095655', 'M1579095125', 'M1579094206', 'M1579092172', 'M1579092147', 'M1579092138', 'M1578994415', 'M1578820210', 'M1578755996', 'M1578657187', 'M1578511380', 'M1578510524', 'M1578459509', 'M1578457838', 'M1578455257', 'M1578294369', 'M1578294100', 'M1578293725', 'M1578293673', 'M1578293665', 'M1577871768', 'M1577820381', 'M1577819478', 'M1577819453', 'M1577256737', 'M1577042067', 'M1576947123', 'M1576847121', 'M1576637266', 'M1576539777', 'M1576498671', 'M1576496494', 'M1576496343', 'M1576496316', 'M1576496063', 'M1576495974', 'M1576495947', 'M1576495774', 'M1576495765', 'M1576495761', 'M1576495748', 'M1576495743', 'M1576495704', 'M1576495688', 'M1576495672', 'M1576495664', 'M1576495657', 'M1576495644', 'M1576495638', 'M1576495635', 'M1576495632', 'M1576495630', 'M1576495618', 'M1576495616', 'M1576495615', 'M1576495605', 'M1576495588', 'M1576495585', 'M1576261913', 'M1576154978', 'M1576151014', 'M1576073153', 'M1576072989', 'M1576072974', 'M1576070659', 'M1575660835', 'M1575575447', 'M1575529540', 'M1575528461', 'M1575528453', 'M1575528445', 'M1575221751', 'M1575054451', 'M1575036820', 'M1575033320', 'M1575032634', 'M1575032189', 'M1575007595', 'M1575001463', 'M1574999712', 'M1574998896', 'M1574954965', 'M1574791786', 'M1574791712', 'M1574652096', 'M1574645621', 'M1574618083', 'M1574613773', 'M1574612620', 'M1574506646', 'M1574017158', 'M1574017075', 'M1574017072', 'M1574017068', 'M1573996969', 'M1573995866', 'M1573663324', 'M1573495953', 'M1573363856', 'M1573185891', 'M1573142244', 'M1572908924', 'M1572864163', 'M1572838379', 'M1572725848', 'M1572724416', 'M1572722891', 'M1572722864', 'M1572722854', 'M1572722834', 'M1572453767', 'M1572332693', 'M1572325507', 'M1572218928', 'M1572218923', 'M1572066051', 'M1571804505', 'M1571661112', 'M1571448607', 'M1571417633', 'M1571327369', 'M1571315469', 'M1571313268', 'M1571313259', 'M1571313144', 'M1571312943', 'M1571312888', 'M1571312883', 'M1571312835', 'M1571312820', 'M1571312814', 'M1571312805', 'M1571312803', 'M1571312793', 'M1571312787', 'M1571312764', 'M1571312746', 'M1571312745', 'M1571312741', 'M1571312731', 'M1571302101', 'M1571117766', 'M1571026721', 'M1570988675', 'M1570970236', 'M1570955073', 'M1570929934', 'M1570872222', 'M1570863049', 'M1570574582', 'M1570564824', 'M1570542195', 'M1570535451', 'M1570472484', 'M1570471543', 'M1570469933', 'M1570469341', 'M1570469020', 'M1570468672', 'M1570450015', 'M1570286127', 'M1570033654', 'M1569942390', 'M1569907326', 'M1569907044', 'M1569896379', 'M1569869051', 'M1569869048', 'M1569864562', 'M1569863920', 'M1569863614', 'M1569860319', 'M1569839974', 'M1569802966', 'M1569778129', 'M1569766238', 'M1569168101', 'M1569110973', 'M1569078276', 'M1569077119', 'M1569076716', 'M1569071322', 'M1569063037', 'M1569059172', 'M1569058702', 'M1569044960', 'M1569041260', 'M1569039686', 'M1569039062', 'M1569038762', 'M1569029098', 'M1569022236', 'M1569011567', 'M1569002590', 'M1569001662', 'M1569001639', 'M1569001638', 'M1569001636', 'M1568997356', 'M1568985907', 'M1568985745', 'M1568953757', 'M1568944447', 'M1568943052', 'M1568942647', 'M1568942603', 'M1568942532', 'M1568905107', 'M1568905077', 'M1568904735', 'M1568904629', 'M1568901146', 'M1568896174', 'M1568894532', 'M1568689774', 'M1568516910', 'M1568470828', 'M1568469752', 'M1568388990', 'M1568380688', 'M1567917420', 'M1567856493', 'M1567856244', 'M1567431557', 'M1567295236', 'M1567288224', 'M1567173190', 'M1567147636', 'M1567089670', 'M1567049556', 'M1566885105', 'M1566765728', 'M1566590224', 'M1566454952', 'M1566442929', 'M1566373235', 'M1566312910', 'M1566220642', 'M1566138405', 'M1566137870', 'M1566103773', 'M1566101136', 'M1566053566', 'M1565920496', 'M1565907122', 'M1565906012', 'M1565905462', 'M1565905400', 'M1565905389', 'M1565905383', 'M1565905377', 'M1565905365', 'M1565905364', 'M1565905349', 'M1565905322', 'M1565876576', 'M1565875760', 'M1565873952', 'M1565842472', 'M1565629864', 'M1565481306', 'M1565445472', 'M1565365838', 'M1565348088', 'M1565283868', 'M1565282364', 'M1565281457', 'M1565276124', 'M1565273915', 'M1565272577', 'M1565271176', 'M1565270932', 'M1565270851', 'M1565270608', 'M1565270423', 'M1565269796', 'M1565267739', 'M1565267659', 'M1565265505', 'M1565259643', 'M1565258671', 'M1565256050', 'M1565254143', 'M1565253960', 'M1565253446', 'M1565253425', 'M1565252515', 'M1565250786', 'M1565249673', 'M1565246981', 'M1565246703', 'M1565246416', 'M1565245843', 'M1565245663', 'M1565245556', 'M1565244838', 'M1565244097', 'M1565242590', 'M1565241512', 'M1565240792', 'M1565240358', 'M1565240085', 'M1565239584', 'M1565239340', 'M1565239204', 'M1565239158', 'M1565238346', 'M1565237656', 'M1565237031', 'M1565236625', 'M1565236294', 'M1565236141', 'M1565236094', 'M1565235833', 'M1565235686', 'M1565234832', 'M1565234731', 'M1565234577', 'M1565234078', 'M1565233429', 'M1565233127', 'M1565231891', 'M1565231575', 'M1565231523', 'M1565231235', 'M1565230833', 'M1565230659', 'M1565230392', 'M1565230143', 'M1565229959', 'M1565229930', 'M1565229685', 'M1565229638', 'M1565229149', 'M1565226834', 'M1565226681', 'M1565225697', 'M1565224980', 'M1565222061', 'M1565221013', 'M1565220485', 'M1565220073', 'M1565218086', 'M1565217798', 'M1565217436', 'M1565217286', 'M1565216975', 'M1565216824', 'M1565215600', 'M1565215342', 'M1565215201', 'M1565214989', 'M1565214714', 'M1565214632', 'M1565214434', 'M1565214338', 'M1565214227', 'M1565214144', 'M1565213898', 'M1565213889', 'M1565213819', 'M1565213311', 'M1565213308', 'M1565172472', 'M1565156006', 'M1565150227', 'M1565113347', 'M1565111943', 'M1565111693', 'M1565111664', 'M1565111652', 'M1565111490', 'M1565111459', 'M1565111422', 'M1565111409', 'M1565111369', 'M1565111330', 'M1565111057', 'M1565111030', 'M1565111014', 'M1565110988', 'M1565110981', 'M1565110943', 'M1565110920', 'M1565110909', 'M1565110903', 'M1565110900', 'M1565110889', 'M1565110881', 'M1565110880', 'M1565110874', 'M1565110873', 'M1565110863', 'M1565055140', 'M1565055125', 'M1565054439', 'M1564976409', 'M1564976399', 'M1564920134', 'M1564915041', 'M1564914413', 'M1564847934', 'M1564784753', 'M1564766177', 'M1564754071', 'M1564748022', 'M1564725747', 'M1564414676', 'M1564414120', 'M1564282977', 'M1564231011', 'M1564230274', 'M1564194680', 'M1564123871', 'M1564123612', 'M1564123231', 'M1563807367', 'M1563807142', 'M1563804225', 'M1563467831', 'M1563467462', 'M1563292640', 'M1563292586', 'M1563286791', 'M1563046793', 'M1563046755', 'M1562937755', 'M1562880301', 'M1562879442', 'M1562859188', 'M1562687907', 'M1562673507', 'M1562647093', 'M1562614354', 'M1562554738', 'M1562484839', 'M1562471544', 'M1562471520', 'M1562471511', 'M1562417140', 'M1562411667', 'M1562404685', 'M1562401939', 'M1562400243', 'M1562395058', 'M1562390372', 'M1562390215', 'M1562389231', 'M1562386559', 'M1562383457', 'M1562383432', 'M1562341887', 'M1562301822', 'M1562262004', 'M1562164229', 'M1562160231', 'M1562114752', 'M1562066517', 'M1562051010', 'M1562036971', 'M1561838368', 'M1561838011', 'M1561837534', 'M1561825275', 'M1561813114', 'M1561811306', 'M1561554458', 'M1561496975', 'M1561496956', 'M1561496950', 'M1561461244', 'M1561459029', 'M1561336518', 'M1561336057', 'M1561335390', 'M1561335232', 'M1561335171', 'M1561334201', 'M1561307119', 'M1561288126', 'M1561250227', 'M1561218039', 'M1561217407', 'M1561216685', 'M1561216397', 'M1561215056', 'M1561027050', 'M1560949217', 'M1560940426', 'M1560935107', 'M1560933323', 'M1560933193', 'M1560933149', 'M1560930600', 'M1560927182', 'M1560926126', 'M1560925574', 'M1560921851', 'M1560920014', 'M1560917156', 'M1560915023', 'M1560912988', 'M1560912145', 'M1560902199', 'M1560898254', 'M1560874335', 'M1560872811', 'M1560872634', 'M1560872576', 'M1560872037', 'M1560871097', 'M1560868471', 'M1560868072', 'M1560867712', 'M1560867587', 'M1560867478', 'M1560866048', 'M1560865633', 'M1560864865', 'M1560864714', 'M1560864450', 'M1560864351', 'M1560864236', 'M1560856838', 'M1560855868', 'M1560833801', 'M1560833126', 'M1560832890', 'M1560832520', 'M1560831961', 'M1560831525', 'M1560828185', 'M1560825612', 'M1560821192', 'M1560821086', 'M1560820784', 'M1560820169', 'M1560819481', 'M1560818338', 'M1560817383', 'M1560814867', 'M1560812586', 'M1560811515', 'M1560809785', 'M1560799869', 'M1560795220', 'M1560794509', 'M1560787996', 'M1560786359', 'M1560786041', 'M1560785632', 'M1560784890', 'M1560781814', 'M1560764808', 'M1560530030', 'M1559930144', 'M1559923328', 'M1559762870', 'M1559651073', 'M1559643164', 'M1559642341', 'M1559642047', 'M1559641902', 'M1559641812', 'M1559641779', 'M1559641608', 'M1559641201', 'M1559530856', 'M1559374812', 'M1559350672', 'M1559318767', 'M1559318632', 'M1559318370', 'M1559318019', 'M1559045732', 'M1558966031', 'M1558940925', 'M1558936131', 'M1558894895', 'M1558859393', 'M1558770304', 'M1558765792', 'M1558641464', 'M1558592386', 'M1558592184', 'M1558592080', 'M1558591992', 'M1558573574', 'M1558489067', 'M1558366082', 'M1558328900', 'M1558260132', 'M1558198474', 'M1558198131', 'M1558197642', 'M1558197614', 'M1558197587', 'M1558111174', 'M1558060734', 'M1558057093', 'M1558004345', 'M1557989292', 'M1557840809', 'M1557763001', 'M1557752672', 'M1557744161', 'M1557738278', 'M1557738222', 'M1557738192', 'M1557738093', 'M1557738052', 'M1557737951', 'M1557737927', 'M1557737867', 'M1557737866', 'M1557737845', 'M1557737831', 'M1557737822', 'M1557737816', 'M1557737809', 'M1557737808', 'M1557737806', 'M1557737790', 'M1557737785', 'M1557737783', 'M1557737772', 'M1557737766', 'M1557737764', 'M1557737762', 'M1557737756', 'M1557737753', 'M1557737751', 'M1557535820', 'M1557496210', 'M1557333817', 'M1557331020', 'M1557330570', 'M1555568610', 'M1521729816', 'M1517934055', 'M1511361672', 'M1488682827', 'M1486752579', 'M1475770952', 'M1461894568', 'M1461770934', 'M1457202123', 'M1455292010', 'M1454829263', 'M1454774616', 'M1454768923', 'M1454730759', 'M1454710679', 'M1454703439', 'M1454702842', 'M1454702786', 'M1372120460', 'M1366526399', 'M1366519750', 'M1299931865', 'M1299867775', 'M1268924096', 'M1250172300', 'M1247570316', 'M1210908701'])"
      ]
     },
     "execution_count": 191,
     "metadata": {},
     "output_type": "execute_result"
    }
   ],
   "source": [
    "earthquake_dict.keys()"
   ]
  },
  {
   "cell_type": "code",
   "execution_count": 196,
   "metadata": {},
   "outputs": [
    {
     "data": {
      "text/plain": [
       "'110.26.35.209'"
      ]
     },
     "execution_count": 196,
     "metadata": {},
     "output_type": "execute_result"
    }
   ],
   "source": [
    "earthquake_dict[\"M1582629542\"][\"IP\"]"
   ]
  },
  {
   "cell_type": "code",
   "execution_count": 148,
   "metadata": {},
   "outputs": [
    {
     "data": {
      "text/plain": [
       "'220.129.184.60'"
      ]
     },
     "execution_count": 148,
     "metadata": {},
     "output_type": "execute_result"
    }
   ],
   "source": [
    "IP_shorten = IP_address.split(sep = \" \")[1]\n",
    "IP_shorten"
   ]
  },
  {
   "cell_type": "markdown",
   "metadata": {},
   "source": [
    "# Save Dictionary"
   ]
  },
  {
   "cell_type": "code",
   "execution_count": 194,
   "metadata": {},
   "outputs": [],
   "source": [
    "# Save\n",
    "np.save(\"earthquake_dict_np\", earthquake_dict)\n",
    "\n",
    "# Load\n",
    "#read_dictionary = np.load('my_file.npy',allow_pickle='TRUE').item()"
   ]
  }
 ],
 "metadata": {
  "kernelspec": {
   "display_name": "Python 3",
   "language": "python",
   "name": "python3"
  },
  "language_info": {
   "codemirror_mode": {
    "name": "ipython",
    "version": 3
   },
   "file_extension": ".py",
   "mimetype": "text/x-python",
   "name": "python",
   "nbconvert_exporter": "python",
   "pygments_lexer": "ipython3",
   "version": "3.6.5"
  }
 },
 "nbformat": 4,
 "nbformat_minor": 2
}
