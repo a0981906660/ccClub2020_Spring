{
 "cells": [
  {
   "cell_type": "markdown",
   "metadata": {},
   "source": [
    "# Obtaining Geographical Location through IP Address"
   ]
  },
  {
   "cell_type": "markdown",
   "metadata": {},
   "source": []
  },
  {
   "cell_type": "markdown",
   "metadata": {},
   "source": [
    "### Selenium"
   ]
  },
  {
   "cell_type": "code",
   "execution_count": 1,
   "metadata": {},
   "outputs": [],
   "source": [
    "import requests\n",
    "from bs4 import BeautifulSoup\n",
    "import sys\n",
    "import codecs\n",
    "from selenium import webdriver\n",
    "from selenium.webdriver.support.ui import WebDriverWait\n",
    "from selenium.webdriver.common.keys import Keys\n",
    "import requests\n",
    "import time\n",
    "from fake_useragent import UserAgent\n",
    "import csv\n",
    "import pandas as pd\n",
    "import numpy as np"
   ]
  },
  {
   "cell_type": "markdown",
   "metadata": {},
   "source": [
    "# 找table\n",
    "\n",
    "<div id=\"ipinfo_show\">\n",
    "  <table width=\"250\" cellspacing=\"0\" cellpadding=\"1\" border=\"0\">\n",
    "  <tbody><tr><td></td><td></td>\n",
    "  </tr><tr><td class=\"show1\" width=\"20%\" nowrap=\"\">主機名稱:&nbsp;</td><td width=\"80%\" nowrap=\"\"><div class=\"host\"></div></td>\n",
    "  </tr><tr><td class=\"show1\" nowrap=\"\">IP 位址:&nbsp;</td><td class=\"ip\"><span class=\"show2\">140.112.177.146</span> [<a href=\"http://whois.chromefans.org/140.112.177.146\" target=\"_blank\">whois</a>]</td>\n",
    "  </tr><tr><td class=\"show1\" nowrap=\"\">國家/地區代碼:&nbsp;</td><td>TWN / TW &nbsp;  &nbsp; <img src=\"https://image.geoipview.com/flags/tw.png\" width=\"16\" height=\"11\" border=\"0\" align=\"absmiddle\" alt=\"Taiwan\"></td>\n",
    "  </tr><tr><td class=\"show1\" nowrap=\"\">國家:&nbsp;</td><td class=\"show2\">Taiwan</td>\n",
    "  </tr><tr><td class=\"show1\" nowrap=\"\">地區:&nbsp;</td><td>25</td>\n",
    "  </tr><tr><td class=\"show1\" nowrap=\"\">城市:&nbsp;</td><td class=\"show2\">Fuan</td>\n",
    "  </tr><tr><td class=\"show1\" nowrap=\"\">郵政編碼:&nbsp;</td><td></td>\n",
    "  </tr><tr><td class=\"show1\" nowrap=\"\">緯度:&nbsp;</td><td>24.86009979248</td>\n",
    "  </tr><tr><td class=\"show1\" nowrap=\"\">經度:&nbsp;</td><td>121.29570007324</td>\n",
    "  </tr></tbody></table>\n",
    "  </div>"
   ]
  },
  {
   "cell_type": "markdown",
   "metadata": {},
   "source": [
    "<table class=\"table table-striped table-hover\"><tbody><tr class=\"active\"><td class=\"text-right\"><strong>主機名稱：</strong></td><td>110-26-35-209.adsl.fetnet.net</td></tr><tr class=\"active\"><td class=\"text-right\"><strong>國家名稱：</strong></td><td>AS - Asia ( 亞洲 ) <br> <span>TW - Taiwan ( 台灣 )</span> <br> <img src=\"/Images/COUNTRY/TW.png\" width=\"120\" alt=\"TW - Taiwan ( 台灣 )\" title=\"TW - Taiwan ( 台灣 )\" class=\"img-thumbnail\"></td></tr><tr class=\"active\"><td class=\"text-right\"><strong>城市名稱：</strong></td><td>Taipei</td></tr><tr class=\"active\"><td class=\"text-right\"><strong>經度緯度：</strong></td><td>經度：121.532　緯度：25.048</td></tr><tr class=\"active\"><td class=\"text-right\"><strong>電訊名稱：</strong></td><td>FarEasTone</td></tr><tr class=\"active\"><td class=\"text-right\"><strong>單位名稱：</strong></td><td>Far EastTone Telecommunication Co., Ltd.</td></tr><tr class=\"active\"><td class=\"text-right\"><strong>網域名稱：</strong></td><td>fetnet.net</td></tr><tr class=\"active\"><td class=\"text-right\"><strong>時區單位：</strong></td><td>Asia/Taipei (UTC +08:00)</td></tr></tbody></table>"
   ]
  },
  {
   "cell_type": "markdown",
   "metadata": {},
   "source": [
    "# 讀所有的IP，先讀爬下來的PTT文章"
   ]
  },
  {
   "cell_type": "code",
   "execution_count": 2,
   "metadata": {},
   "outputs": [],
   "source": [
    "# Save\n",
    "#np.save(\"earthquake_dict_np\", earthquake_dict)\n",
    "\n",
    "# Load\n",
    "earthquake_dict = np.load('earthquake_dict_0617地震.npy',allow_pickle='TRUE').item()"
   ]
  },
  {
   "cell_type": "code",
   "execution_count": 3,
   "metadata": {},
   "outputs": [],
   "source": [
    "articles = list(earthquake_dict.keys())"
   ]
  },
  {
   "cell_type": "code",
   "execution_count": 4,
   "metadata": {},
   "outputs": [
    {
     "data": {
      "text/plain": [
       "1040"
      ]
     },
     "execution_count": 4,
     "metadata": {},
     "output_type": "execute_result"
    }
   ],
   "source": [
    "len(articles)"
   ]
  },
  {
   "cell_type": "code",
   "execution_count": 5,
   "metadata": {},
   "outputs": [
    {
     "data": {
      "text/plain": [
       "['M2', 'M3', 'M4', 'M5', 'M6', 'M7', 'M8', 'M9', 'M10']"
      ]
     },
     "execution_count": 5,
     "metadata": {},
     "output_type": "execute_result"
    }
   ],
   "source": [
    "articles[1:10]"
   ]
  },
  {
   "cell_type": "code",
   "execution_count": 16,
   "metadata": {},
   "outputs": [
    {
     "data": {
      "text/plain": [
       "{'Author': 'spirit119 (一二三木頭人)',\n",
       " 'Board': 'Gossiping',\n",
       " 'Title': '[爆卦] 地震',\n",
       " 'Date': 'Wed Jun 17 07:17:37 2020',\n",
       " 'Content': '居然搶到地震文頭香了\\n\\n塊陶!!!\\n\\nhttps://reurl.cc/4RM3RX\\n\\n',\n",
       " 'Full IP': ' 27.246.72.199 (臺灣)',\n",
       " 'IP': '27.246.72.199',\n",
       " 'Push': ['推 justlovedada: 幹 06/17 07:17',\n",
       "  '推 KLGlikeshit: 怕 06/17 07:17',\n",
       "  '推 zag46900: 快 06/17 07:17',\n",
       "  '推 bruce8104: 推 06/17 07:17',\n",
       "  '推 Minegun: 啊啊啊 06/17 07:17',\n",
       "  '推 e9690: + 白也可快 06/17 07:17',\n",
       "  '推 a0913: 我還以為假的= = 06/17 07:17',\n",
       "  '推 bobo1028: 好快 06/17 07:17',\n",
       "  '推 su3y94a87: 好快 06/17 07:17',\n",
       "  '推 libu: 你贏 06/17 07:17',\n",
       "  '推 ecoginobili: 你贏了 06/17 07:17',\n",
       "  '推 tom282f3: 贏了 06/17 07:17',\n",
       "  '噓 ericinttu:   慢了 06/17 07:17',\n",
       "  '推 geniusturtle: 推 06/17 07:17',\n",
       "  '推 iliyasalice: 你贏 06/17 07:17',\n",
       "  '推 mao3482160: 陽明山有感 06/17 07:17',\n",
       "  '推 bocaca99: 有 06/17 07:17',\n",
       "  '→ kress: 很小 06/17 07:17',\n",
       "  '推 brian80547: 你贏了 06/17 07:17',\n",
       "  '推 stu25936: 晃 06/17 07:17',\n",
       "  '推 alwayslate: 台北有感 06/17 07:17',\n",
       "  '推 amercedes: 有 06/17 07:17',\n",
       "  '推 NiMaDerB: 有感 06/17 07:17',\n",
       "  '推 jive060: 讚 06/17 07:17',\n",
       "  '推 tony77998: 抖 06/17 07:17',\n",
       "  '推 HOLDSTEAK: 幹 06/17 07:17',\n",
       "  '推 mamaman: 哇嗚 06/17 07:17',\n",
       "  '推 kerberoSun: 好快 06/17 07:17',\n",
       "  '推 ernova831: u win 06/17 07:17',\n",
       "  '推 Despairile: 我還以為是我錯覺 幹 06/17 07:17',\n",
       "  '推 kyona: 有 06/17 07:17',\n",
       "  '推 j1992624: 你贏 06/17 07:17',\n",
       "  '推 love010431: 幹 06/17 07:17',\n",
       "  '推 gungunme5566: 快 06/17 07:17',\n",
       "  '推 s00105albert: 幹 06/17 07:17',\n",
       "  '→ dreamnook: rrrrr 06/17 07:17',\n",
       "  '推 juyac11: 你贏了 06/17 07:17',\n",
       "  '推 eggwhite: 怕 06/17 07:17',\n",
       "  '→ soren55200: 推 06/17 07:17',\n",
       "  '推 a3329: 怕 06/17 07:17',\n",
       "  '推 mahimahi: 有 小震 06/17 07:17',\n",
       "  '推 joycee: 贏了 06/17 07:17',\n",
       "  '推 LeMonad: 好震 06/17 07:17',\n",
       "  '推 imperium: 拍 06/17 07:17',\n",
       "  '→ FuySenk: 幹 有感 06/17 07:17',\n",
       "  '推 pim44442000: 震 06/17 07:17',\n",
       "  '推 MoriiKaho: 超大 06/17 07:17',\n",
       "  '推 hh440977: 桃園有感 06/17 07:17',\n",
       "  '推 ananan1414: 贏了 06/17 07:17',\n",
       "  '推 wvaidne3: 淡水 幹 06/17 07:17',\n",
       "  '推 ga762599: U win 06/17 07:17',\n",
       "  '推 a981196: 有 06/17 07:17',\n",
       "  '推 steven0100: win 06/17 07:17',\n",
       "  '推 APB0829: 地震 06/17 07:17',\n",
       "  '推 olvmsii: 推 06/17 07:17',\n",
       "  '推 bigheadkobe: 有 06/17 07:17',\n",
       "  '推 lpsobig: 震 06/17 07:17',\n",
       "  '推 yang5d2008: 贏了 06/17 07:17',\n",
       "  '推 ricemen: 超快欸哈哈哈哈 06/17 07:17',\n",
       "  '推 petegriffi68: 台北微微晃動..... 06/17 07:17',\n",
       "  '推 znling: 你贏了 06/17 07:17',\n",
       "  '推 juust: 怕 06/17 07:17',\n",
       "  '推 momo1244: 新北有感 06/17 07:17',\n",
       "  '推 goddog456: 阿怕斯 06/17 07:17',\n",
       "  '推 bluearcher: 好大... 06/17 07:17',\n",
       "  '推 oyabun: 蓋 06/17 07:17',\n",
       "  '推 icrticrt1682: 有 06/17 07:17',\n",
       "  '推 mengfan555: 微微的 06/17 07:17',\n",
       "  '推 safforn1020: 遙 06/17 07:17',\n",
       "  '推 enpin: 還已為沒人發 06/17 07:17',\n",
       "  '推 lemon5043: 很晃 06/17 07:17',\n",
       "  '推 Neverfor: 錢 06/17 07:17',\n",
       "  '推 casper50206: 太快了吧 06/17 07:17',\n",
       "  '推 twofoot: 台北超晃 06/17 07:17',\n",
       "  '推 thenolet: 快 06/17 07:17',\n",
       "  '推 paoqueen: 超快 06/17 07:17',\n",
       "  '推 ihl123456: 無感 06/17 07:17',\n",
       "  '推 mcgrady12336: 你贏了 06/17 07:17',\n",
       "  '推 b104202: 很小 06/17 07:17',\n",
       "  '推 c88tm: 怕 06/17 07:17',\n",
       "  '推 maple2378: 大 06/17 07:17',\n",
       "  '推 phillp0804: 台北感覺一點點 06/17 07:17',\n",
       "  '推 monar: 新北有感 06/17 07:17',\n",
       "  '推 Rsew: 你贏法 06/17 07:17',\n",
       "  '推 funkeyyou: 怕 06/17 07:17',\n",
       "  '推 NOINT: 你贏了 06/17 07:17',\n",
       "  '推 oriron: 幹 06/17 07:17',\n",
       "  '推 dav1a1223: 快 06/17 07:17',\n",
       "  '推 bust222: 晃了一下 06/17 07:17',\n",
       "  '推 inse: 你最快 06/17 07:17',\n",
       "  '→ hong414: 一下而已 06/17 07:17',\n",
       "  '推 sweetie196: 台北有感 06/17 07:17',\n",
       "  '推 Belanice: 你贏惹 06/17 07:17',\n",
       "  '推 foli365: 有 06/17 07:17',\n",
       "  '推 eric83827: 幹 06/17 07:17',\n",
       "  '推 kaiser0818: 推 06/17 07:17',\n",
       "  '噓 a08054491: 你又震了 06/17 07:17',\n",
       "  '推 diablohinet: 以為是睡覺 06/17 07:17',\n",
       "  '推 to255138: 推 06/17 07:17',\n",
       "  '推 Everyeeeee: 你贏了 06/17 07:17',\n",
       "  '推 dennis02: 震 06/17 07:17',\n",
       "  '推 klandakuei: 你贏了 06/17 07:17',\n",
       "  '推 JhouHank: 震 06/17 07:17',\n",
       "  '→ snowdream: 只有震三下吧 06/17 07:17',\n",
       "  '推 carbee: 台北有感 06/17 07:17',\n",
       "  '推 why98: 幹怎麼沒警告 06/17 07:17',\n",
       "  '推 aeiou888: 啊啊啊 06/17 07:17',\n",
       "  '推 mosuni971: 比我快 06/17 07:17',\n",
       "  '推 mjlookmj: 台北有感 06/17 07:17',\n",
       "  '推 kino7898: 塊陶啊 06/17 07:17',\n",
       "  '推 chino32818: 推 06/17 07:17',\n",
       "  '推 Nesis: 你贏了 06/17 07:17',\n",
       "  '推 Hsieh455125: 你也太快 06/17 07:17',\n",
       "  '推 montrita: 怕 06/17 07:17',\n",
       "  '推 willy0618: 快 06/17 07:17',\n",
       "  '推 AHsuanHsuan: 新竹有感 06/17 07:17',\n",
       "  '推 redmool: 靠北 在馬桶上 06/17 07:17',\n",
       "  '推 doublecc: 你贏了 06/17 07:17',\n",
       "  '推 EmiyaSaber: 怕 06/17 07:17',\n",
       "  '推 SchoolStore: 100推 06/17 07:17',\n",
       "  '推 bobby4755: 有感 06/17 07:17',\n",
       "  '推 singsing1130: 中壢有感 06/17 07:17',\n",
       "  '推 opszy: 你贏了 06/17 07:17',\n",
       "  '推 PhySeraph: 幹 你贏了 06/17 07:18',\n",
       "  '推 AetherG: 你真快 06/17 07:18',\n",
       "  '推 thumbsptt: 桃園有 06/17 07:18',\n",
       "  '推 zhenglin: 乾 06/17 07:18',\n",
       "  '推 he02789222: 0.0 06/17 07:18',\n",
       "  '推 o0kk0ogreen: 有 06/17 07:18',\n",
       "  '推 abc990a: U win 06/17 07:18',\n",
       "  '推 isiyou: 搖了一下QQ 06/17 07:18',\n",
       "  '→ xplan9: 幹 06/17 07:18',\n",
       "  '→ zakijudelo: 有，還以為是頭暈 06/17 07:18',\n",
       "  '推 Marceau: 淡水有感 06/17 07:18',\n",
       "  '推 WeGoYuSheng: 松山有感 一級吧 06/17 07:18',\n",
       "  '推 Hongmike: 這次有快 06/17 07:18',\n",
       "  '推 Jyery: 大便有感 06/17 07:18',\n",
       "  '推 amethystboy: 塊陶啊啊啊啊 06/17 07:18',\n",
       "  '推 linbenjamin: 台南無感啦 06/17 07:18',\n",
       "  '推 seo4327: 大家今天居然這麼慢 06/17 07:18',\n",
       "  '推 awer956: 桃園有感 06/17 07:18',\n",
       "  '推 jenhsiangyu: 還以為是我在嗨 看8掛準沒錯 06/17 07:18',\n",
       "  '推 omoideomoi: 不到一秒就沒了 06/17 07:18',\n",
       "  '推 clairebear: 有感！ 06/17 07:18',\n",
       "  '推 bbbruce: 怕豹 06/17 07:18',\n",
       "  '推 a27647535: 馬der 06/17 07:18',\n",
       "  '推 loveiu0406: 台北有欸.... 06/17 07:18',\n",
       "  '推 sanmaaa: 太快 06/17 07:18',\n",
       "  '推 vovhsin: 台北有感 06/17 07:18',\n",
       "  '推 michael0323: 你行 06/17 07:18',\n",
       "  '推 lsc0405: 贏 06/17 07:18',\n",
       "  '→ insurreal: 內湖2樓有感 06/17 07:18',\n",
       "  '推 c928lily: 你贏了 06/17 07:18',\n",
       "  '推 awaken: 太早 06/17 07:18',\n",
       "  '推 dumbo9439: 新店有感 06/17 07:18',\n",
       "  '推 AzirBird: 台北有感 06/17 07:18',\n",
       "  '推 HatefulEight: 還好 06/17 07:18',\n",
       "  '推 Fe11111: 晃 06/17 07:18',\n",
       "  '推 crazylovewow: 台北有感 06/17 07:18',\n",
       "  '推 Beee09: 贏 06/17 07:18',\n",
       "  '推 polo4213: 台北有感 06/17 07:18',\n",
       "  '推 cokecolatw: 搖 06/17 07:18',\n",
       "  '→ Sing0703: 北市有感 06/17 07:18',\n",
       "  '推 pisces2826: 有喔 06/17 07:18',\n",
       "  '推 The4sakenOne: 你贏了 06/17 07:18',\n",
       "  '推 parker246820: 桃園有感 06/17 07:18',\n",
       "  '推 hanklee66: 新竹有感 06/17 07:18',\n",
       "  '推 MizukiYuu: 有夠快的 06/17 07:18',\n",
       "  '推 WOTKVR: 超快 06/17 07:18',\n",
       "  '推 oreaptt: 台北輕輕搖 06/17 07:18',\n",
       "  '推 Cooooool: 很快 06/17 07:18',\n",
       "  '推 mid2sis: 你很快 06/17 07:18',\n",
       "  '推 vegeflower: 搖一下 06/17 07:18',\n",
       "  '推 OGC100times: 幹你娘以為是我心臟跳太大力 06/17 07:18',\n",
       "  '推 george40516: 太快了吧 06/17 07:18',\n",
       "  '推 MeeToo: 震好多下 06/17 07:18',\n",
       "  '推 jenny258654: 還在震 06/17 07:18',\n",
       "  '→ wz70403: 桃園有感 06/17 07:18',\n",
       "  '推 pinknana: 怕 06/17 07:18',\n",
       "  '推 q131452003: 你贏了 06/17 07:18',\n",
       "  '推 Perona: 地震 06/17 07:18',\n",
       "  '推 roc074: 果然有……就覺得有點暈暈的…… 06/17 07:18',\n",
       "  '推 ghjkl2222424: 桃園微搖 06/17 07:18',\n",
       "  '推 dppkmt: 速度之快 06/17 07:18',\n",
       "  '推 hardy12345: 強 06/17 07:18',\n",
       "  '→ frontpagexp: 台北好搖 06/17 07:18',\n",
       "  '噓 ENCOREH33456: 幹都沒簡訊 06/17 07:18',\n",
       "  '推 ask865134: 震醒我 06/17 07:18',\n",
       "  '推 mugicha: 怕QQ 06/17 07:18',\n",
       "  '推 arashikishu: 喔喔喔喔哦 06/17 07:18',\n",
       "  '→ joycee: 桃園有感 06/17 07:18',\n",
       "  '推 Ruowind: 震！ 06/17 07:18',\n",
       "  '推 azchannel: 幹 06/17 07:18',\n",
       "  '推 nutta: 才一下下 06/17 07:18',\n",
       "  '推 moon76213: 上來看地震文嘍 06/17 07:18',\n",
       "  '推 derekg8: 好大一下 06/17 07:18',\n",
       "  '→ a27647535: 肥宅跌下床 06/17 07:18',\n",
       "  '推 mayday218: 怕爆，超有感 06/17 07:18',\n",
       "  '推 Basilegggg: 上下抖了一下 06/17 07:18',\n",
       "  '推 Lin82219: 地震 06/17 07:18',\n",
       "  '→ a0913: 刷了快五秒沒人PO 以為錯覺 06/17 07:18',\n",
       "  '推 ksu45721475: 挖 06/17 07:18',\n",
       "  '噓 dlevel: 台北仔很怕 06/17 07:18',\n",
       "  '推 hengsao: 突然震一下 06/17 07:18',\n",
       "  '推 chin177: 台北怕怕 06/17 07:18',\n",
       "  '→ roc074: 我還以為是我太累頭暈@@ 06/17 07:18',\n",
       "  '→ laptic: なにですか？！ 06/17 07:18',\n",
       "  '推 RedestXrain: 好快 06/17 07:18',\n",
       "  '推 youaregeek: 好搖 06/17 07:18',\n",
       "  '推 vincentrufus: 快哦 06/17 07:18',\n",
       "  '推 eric4309: 快 06/17 07:18',\n",
       "  '推 elliotpvt: 還以為剛起床頭暈 06/17 07:18',\n",
       "  '推 Angel950083: 好像用抖的 06/17 07:18',\n",
       "  '推 visual: 快 06/17 07:18',\n",
       "  '→ jokem: 有彈一下 06/17 07:18',\n",
       "  '推 kr78963212: 好震 06/17 07:18',\n",
       "  '→ ihl123456: 小地震而已吧 06/17 07:18',\n",
       "  '推 polestar0505: 搖啊搖 06/17 07:18',\n",
       "  '→ sareed: 果然有 06/17 07:19',\n",
       "  '推 mecca: 火星有感 06/17 07:19',\n",
       "  '→ zag46900: 聽到門有怪聲 06/17 07:19',\n",
       "  '→ kaube: 我剛剛以為頭暈 06/17 07:19',\n",
       "  '推 ciltsinn: 台北有感 06/17 07:19',\n",
       "  '→ Angel950083: 以為是我家狗踹我 06/17 07:19',\n",
       "  '推 yukihira: 搖啊 06/17 07:19',\n",
       "  '→ roc074: 桃園內壢很微微的搖了幾下XD 06/17 07:19',\n",
       "  '推 wchad: 你真快！ 06/17 07:19',\n",
       "  '推 loverhangeng: 隔壁狗在叫才有感覺 06/17 07:19',\n",
       "  '推 Ewwhoo: 桃園有 06/17 07:19',\n",
       "  '推 cathyyf: 搖很大 06/17 07:19',\n",
       "  '推 z45678915: 有感 06/17 07:19',\n",
       "  '→ he02789222: 有那麼嚴重嗎== 新北無感 06/17 07:19',\n",
       "  '→ zakijudelo: 看來誤以為頭暈的不只我一人XD 06/17 07:19',\n",
       "  '推 wsung: 抖一下還以為是錯覺 06/17 07:19',\n",
       "  '推 chinick1478: 中壢無感... 06/17 07:20',\n",
       "  '推 syusuke12: 台北有感 06/17 07:20',\n",
       "  '推 seaforn388: 地震速報都沒發，以為我頭暈，看ptt 果然比較準 06/17 07:20',\n",
       "  '推 rhl21: 彰化無感 06/17 07:20',\n",
       "  '推 y15973: 還以為桌子壞掉不穩 06/17 07:20',\n",
       "  '推 coolman123: 新北小感 06/17 07:20',\n",
       "  '推 n20001006: 喔幹剛剛那個是喔 我以為是外面有東西掉下來== 06/17 07:20',\n",
       "  '推 horse2819: 火車上無感 06/17 07:20',\n",
       "  '推 pong9001: 新北有感 06/17 07:20',\n",
       "  '推 Kirari: 還以為錯覺 06/17 07:20',\n",
       "  '推 s8800892000: 還以為我錯覺 06/17 07:21',\n",
       "  '推 dream0131: 無感 06/17 07:21',\n",
       "  '推 steveatmos: 屏東無感 06/17 07:21',\n",
       "  '推 jakcycoco: 還以為隔壁阿肥睡到掉下來 06/17 07:22',\n",
       "  '推 aefoowkin: 這搖的很像是自己心跳太快欸 06/17 07:22',\n",
       "  '推 koxinga: 韓導生日快樂 06/17 07:23',\n",
       "  '推 mmx9797: 氣象局一直沒有 是測試秘密武器嗎? 06/17 07:23',\n",
       "  '推 boodui2: 真的有大欸 整個被搖醒 但醒來的時候又沒有 以為自己在 06/17 07:23',\n",
       "  '推 s540421: 內湖無感 06/17 07:23',\n",
       "  '推 kumori: 台中有感 沒搖晃但有震動 06/17 07:23',\n",
       "  '→ dt0312: 好快 06/17 07:23',\n",
       "  '推 apple82055: 有嘛@@a...? 06/17 07:23',\n",
       "  '推 j68Jiang: 我怎麼沒感覺 06/17 07:23',\n",
       "  '推 empire42s: 最好 06/17 07:23',\n",
       "  '推 faye112358: 台中無感 06/17 07:23',\n",
       "  '噓 NYPD319198: 新北無感 06/17 07:24',\n",
       "  '推 DWR: 原來真的有喔 難怪床微微震動 06/17 07:24',\n",
       "  '→ mmx9797: 氣象局報告出來了~~宜蘭外海 06/17 07:24',\n",
       "  '→ kumori: 大概發生1～2秒 06/17 07:24',\n",
       "  '推 jokerming847: 台中騎車無感 06/17 07:24',\n",
       "  '推 Sonia1022: 宜蘭外海 芮氏規模：4.7 06/17 07:25',\n",
       "  '推 j1992624: 世界末日 06/17 07:26',\n",
       "  '推 weebeer626: 淡水有感 06/17 07:27',\n",
       "  '推 sses60802: 淡水坐車無感 06/17 07:29',\n",
       "  '噓 r30385: 06/17 07:29',\n",
       "  '→ minagoroshi: 無感w 06/17 07:31',\n",
       "  '→ qazwsx1029: 無感 06/17 07:33',\n",
       "  '推 seal0903: 最近也太多地震@@ 06/17 07:34',\n",
       "  '推 ShibaTatsuya: 怕 06/17 07:35',\n",
       "  '→ BecKs0503: 有嗎 06/17 07:36',\n",
       "  '推 jtta: 可惡 沒搶到 06/17 07:36',\n",
       "  '→ kevinpc: 內湖微感 06/17 07:36',\n",
       "  '推 dnek: 有被搖醒又趴回去睡，還以為是錯覺== 06/17 07:40',\n",
       "  '推 xpsecret: 今天有雅筑嗎 06/17 07:40',\n",
       "  '→ lunarexia: 北七 06/17 07:44',\n",
       "  '推 a8813q: 你地震文是打好一直等著發吧…也太快 06/17 07:46',\n",
       "  '→ chunglee: 無感 06/17 07:46',\n",
       "  '※ 編輯: spirit119 (27.246.72.199 臺灣), 06/17/2020 07:48:57',\n",
       "  '推 Ericdion: 還以為是錯覺 06/17 07:51',\n",
       "  '推 F2307925: 無感 06/17 08:11',\n",
       "  '推 qqq5890003: 我以為是做夢 06/17 08:34',\n",
       "  '噓 noodlesnice: 無感 06/17 08:46',\n",
       "  '推 jcn69696: 最近地震好多，但台南一直無感 06/17 08:48',\n",
       "  '',\n",
       "  '',\n",
       "  '本網站已依台灣網站內容分級規定處理。此區域為限制級，未滿十八歲者不得瀏覽。',\n",
       "  '']}"
      ]
     },
     "execution_count": 16,
     "metadata": {},
     "output_type": "execute_result"
    }
   ],
   "source": [
    "earthquake_dict[\"M11\"]"
   ]
  },
  {
   "cell_type": "markdown",
   "metadata": {},
   "source": [
    "## 把IP拿去反查"
   ]
  },
  {
   "cell_type": "code",
   "execution_count": 17,
   "metadata": {},
   "outputs": [
    {
     "name": "stderr",
     "output_type": "stream",
     "text": [
      "/Users/jack1563311/anaconda3/lib/python3.7/site-packages/ipykernel_launcher.py:23: DeprecationWarning: use options instead of chrome_options\n"
     ]
    },
    {
     "name": "stdout",
     "output_type": "stream",
     "text": [
      "0 1 2 3 4 5 "
     ]
    }
   ],
   "source": [
    "#Use fake UserAgent\n",
    "def set_header_user_agent():\n",
    "    user_agent = UserAgent()\n",
    "    return user_agent.random\n",
    "\n",
    "#open browser #打開瀏覽器，但不要載入圖片\n",
    "options = webdriver.ChromeOptions()\n",
    "prefs = {\n",
    "    'profile.default_content_setting_values': {\n",
    "        'images': 2,\n",
    "        #'javascript': 2\n",
    "    }\n",
    "}\n",
    "options.add_experimental_option('prefs', prefs)\n",
    "\n",
    "#ua = \"Mozilla/5.0 (Windows NT 10.0; WOW64; rv:53.0) Gecko/20100101 Firefox/53.0\"\n",
    "#headers = {'User-Agent': 'User-Agent:Mozilla/5.0 (Macintosh; Intel Mac OS X 10_12_3) AppleWebKit/537.36 (KHTML, like Gecko) Chrome/56.0.2924.87 Safari/537.36'}\n",
    "#user_agent = set_header_user_agent()\n",
    "#headers={ 'user-agent': user_agent }\n",
    "#options.add_argument(\"user-agent={}\".format(user_agent)) # 使用偽造的 user-agent\n",
    "#options.add_argument(headers)\n",
    "\n",
    "driver = webdriver.Chrome('./chromedriver', chrome_options=options)\n",
    "\n",
    "count = 0\n",
    "\n",
    "for art in articles:\n",
    "    try:\n",
    "        #print(earthquake_dict[MMMM][\"IP\"])\n",
    "        ip_address = earthquake_dict[art][\"IP\"]\n",
    "        \n",
    "        #define urls\n",
    "        #IP_url1 = \"https://tw.geoipview.com/\"\n",
    "        IP_url2 = \"https://www.ez2o.com/App/Net/IP\"\n",
    "        \n",
    "        #用第一個反查IP網站\n",
    "        driver.get(IP_url2)\n",
    "        driver.implicitly_wait(5)\n",
    "        \n",
    "        # 點查詢欄位\n",
    "        search_field = driver.find_element_by_xpath(\"\"\"//*[@id=\"QueryIP\"]\"\"\")\n",
    "        search_field.click()\n",
    "        search_field.clear()\n",
    "\n",
    "        # 輸入IP\n",
    "        search_field.send_keys(ip_address)\n",
    "        search_field.send_keys(Keys.ENTER)\n",
    "        driver.implicitly_wait(5)\n",
    "\n",
    "        #拿到source page\n",
    "        IP_soup_2 = BeautifulSoup(driver.page_source, 'html.parser')\n",
    "        \n",
    "        # 找table\n",
    "        table_2 = IP_soup_2.find(\"table\")\n",
    "        df_2 = pd.read_html(str(table_2))[0]\n",
    "        \n",
    "        #新增到該筆文章的dictionary下面\n",
    "        earthquake_dict[art][\"Nation\"] = df_2.iloc[1][1] #國家\n",
    "        earthquake_dict[art][\"City\"] = df_2.iloc[2][1] #城市\n",
    "        earthquake_dict[art][\"Longitude and Latitude\"] = df_2.iloc[3][1] #經緯度\n",
    "        earthquake_dict[art][\"Mobile\"] = df_2.iloc[4][1] #電信名稱\n",
    "        \n",
    "        print(count, end = \" \")\n",
    "        count+=1\n",
    "        time.sleep(0.5)\n",
    "    except:\n",
    "        pass"
   ]
  },
  {
   "cell_type": "markdown",
   "metadata": {},
   "source": [
    "# Cleaning"
   ]
  },
  {
   "cell_type": "code",
   "execution_count": 26,
   "metadata": {},
   "outputs": [
    {
     "data": {
      "text/plain": [
       "1040"
      ]
     },
     "execution_count": 26,
     "metadata": {},
     "output_type": "execute_result"
    }
   ],
   "source": [
    "YouWin = [] #是dummy，看這篇文章的推文有沒有「你贏了」，藉以判斷是否是「地震文」\n",
    "for row in range(0, len(df_earthquake)):\n",
    "    push_content = \" \".join(df_earthquake.iloc[row][10])\n",
    "    if \"你贏了\" in push_content or \"贏了\" in push_content:\n",
    "        #print(push_content)\n",
    "        YouWin.append(1)\n",
    "    else:\n",
    "        YouWin.append(0)\n",
    "len(YouWin)"
   ]
  },
  {
   "cell_type": "code",
   "execution_count": 27,
   "metadata": {},
   "outputs": [],
   "source": [
    "df_earthquake[\"YouWin\"] = YouWin"
   ]
  },
  {
   "cell_type": "code",
   "execution_count": 28,
   "metadata": {},
   "outputs": [
    {
     "data": {
      "text/html": [
       "<div>\n",
       "<style scoped>\n",
       "    .dataframe tbody tr th:only-of-type {\n",
       "        vertical-align: middle;\n",
       "    }\n",
       "\n",
       "    .dataframe tbody tr th {\n",
       "        vertical-align: top;\n",
       "    }\n",
       "\n",
       "    .dataframe thead th {\n",
       "        text-align: right;\n",
       "    }\n",
       "</style>\n",
       "<table border=\"1\" class=\"dataframe\">\n",
       "  <thead>\n",
       "    <tr style=\"text-align: right;\">\n",
       "      <th></th>\n",
       "      <th>Author</th>\n",
       "      <th>Board</th>\n",
       "      <th>City</th>\n",
       "      <th>Content</th>\n",
       "      <th>Date</th>\n",
       "      <th>Full IP</th>\n",
       "      <th>IP</th>\n",
       "      <th>Longitude and Latitude</th>\n",
       "      <th>Mobile</th>\n",
       "      <th>Nation</th>\n",
       "      <th>Push</th>\n",
       "      <th>Title</th>\n",
       "      <th>YouWin</th>\n",
       "    </tr>\n",
       "  </thead>\n",
       "  <tbody>\n",
       "    <tr>\n",
       "      <th>M1</th>\n",
       "      <td>MiLuDaiBoom (ⓂⓛⓁⓤⒹⓐⓛⒷⓞⓞⓂ)</td>\n",
       "      <td>Gossiping</td>\n",
       "      <td>Keelung</td>\n",
       "      <td>\\n\\n欸欸欸欸欸\\n\\n最近覺得地震特別搖\\n\\n但看新聞都說還好\\n\\n所以是我太敏感\\...</td>\n",
       "      <td>Wed Jun 17 08:51:57 2020</td>\n",
       "      <td>110.50.130.167 (臺灣)</td>\n",
       "      <td>110.50.130.167</td>\n",
       "      <td>經度：121.742　緯度：25.128</td>\n",
       "      <td>Vibo Telecom</td>\n",
       "      <td>AS - Asia ( 亞洲 ) TW - Taiwan ( 台灣 )</td>\n",
       "      <td>[→ Usayhiisayha: 跟跌倒的人體重有關 06/17 08:52, 推 VViz...</td>\n",
       "      <td>[問卦] 地震搖晃程度和屋齡有關嗎？</td>\n",
       "      <td>0</td>\n",
       "    </tr>\n",
       "    <tr>\n",
       "      <th>M2</th>\n",
       "      <td>king1010 (玩酷)</td>\n",
       "      <td>Gossiping</td>\n",
       "      <td>Taipei</td>\n",
       "      <td>不想上班啊 有地震\\n\\n</td>\n",
       "      <td>Wed Jun 17 07:18:48 2020</td>\n",
       "      <td>42.72.69.21 (臺灣)</td>\n",
       "      <td>42.72.69.21</td>\n",
       "      <td>經度：121.532　緯度：25.048</td>\n",
       "      <td>Chunghwa Telecom</td>\n",
       "      <td>AS - Asia ( 亞洲 ) TW - Taiwan ( 台灣 )</td>\n",
       "      <td>[推 Beee09: 你最慢 06/17 07:20, 推 skbshawn: 抓最後一個 ...</td>\n",
       "      <td>[爆卦] 地震</td>\n",
       "      <td>0</td>\n",
       "    </tr>\n",
       "    <tr>\n",
       "      <th>M3</th>\n",
       "      <td>musashi4735 (武藏)</td>\n",
       "      <td>Gossiping</td>\n",
       "      <td>Taipei</td>\n",
       "      <td>地震!!中壢\\n\\n</td>\n",
       "      <td>Wed Jun 17 07:18:17 2020</td>\n",
       "      <td>114.32.216.39 (臺灣)</td>\n",
       "      <td>114.32.216.39</td>\n",
       "      <td>經度：121.532　緯度：25.048</td>\n",
       "      <td>Taiwan Academic Network</td>\n",
       "      <td>AS - Asia ( 亞洲 ) TW - Taiwan ( 台灣 )</td>\n",
       "      <td>[※ 編輯: musashi4735 (114.32.216.39 臺灣), 06/17/2...</td>\n",
       "      <td>[爆卦] 地震</td>\n",
       "      <td>0</td>\n",
       "    </tr>\n",
       "    <tr>\n",
       "      <th>M4</th>\n",
       "      <td>air121 (I GOT SPIRIT)</td>\n",
       "      <td>Gossiping</td>\n",
       "      <td>Taipei</td>\n",
       "      <td>台北\\n\\n</td>\n",
       "      <td>Wed Jun 17 07:18:12 2020</td>\n",
       "      <td>123.193.3.30 (臺灣)</td>\n",
       "      <td>123.193.3.30</td>\n",
       "      <td>經度：121.532　緯度：25.048</td>\n",
       "      <td>Taiwan Academic Network</td>\n",
       "      <td>AS - Asia ( 亞洲 ) TW - Taiwan ( 台灣 )</td>\n",
       "      <td>[推 newsun1997: CC 06/17 07:18, , , 本網站已依台灣網站內容...</td>\n",
       "      <td>[爆卦] 地震</td>\n",
       "      <td>0</td>\n",
       "    </tr>\n",
       "    <tr>\n",
       "      <th>M5</th>\n",
       "      <td>open20023 (open20023)</td>\n",
       "      <td>Gossiping</td>\n",
       "      <td>Taipei</td>\n",
       "      <td>\\n好可怕啊\\n\\n</td>\n",
       "      <td>Wed Jun 17 07:18:10 2020</td>\n",
       "      <td>110.26.190.162 (臺灣)</td>\n",
       "      <td>110.26.190.162</td>\n",
       "      <td>經度：121.532　緯度：25.048</td>\n",
       "      <td>LINE Mobile</td>\n",
       "      <td>AS - Asia ( 亞洲 ) TW - Taiwan ( 台灣 )</td>\n",
       "      <td>[, , 本網站已依台灣網站內容分級規定處理。此區域為限制級，未滿十八歲者不得瀏覽。, ]</td>\n",
       "      <td>地震</td>\n",
       "      <td>0</td>\n",
       "    </tr>\n",
       "  </tbody>\n",
       "</table>\n",
       "</div>"
      ],
      "text/plain": [
       "                       Author      Board     City  \\\n",
       "M1  MiLuDaiBoom (ⓂⓛⓁⓤⒹⓐⓛⒷⓞⓞⓂ)  Gossiping  Keelung   \n",
       "M2              king1010 (玩酷)  Gossiping   Taipei   \n",
       "M3           musashi4735 (武藏)  Gossiping   Taipei   \n",
       "M4      air121 (I GOT SPIRIT)  Gossiping   Taipei   \n",
       "M5      open20023 (open20023)  Gossiping   Taipei   \n",
       "\n",
       "                                              Content  \\\n",
       "M1  \\n\\n欸欸欸欸欸\\n\\n最近覺得地震特別搖\\n\\n但看新聞都說還好\\n\\n所以是我太敏感\\...   \n",
       "M2                                      不想上班啊 有地震\\n\\n   \n",
       "M3                                         地震!!中壢\\n\\n   \n",
       "M4                                             台北\\n\\n   \n",
       "M5                                         \\n好可怕啊\\n\\n   \n",
       "\n",
       "                        Date               Full IP              IP  \\\n",
       "M1  Wed Jun 17 08:51:57 2020   110.50.130.167 (臺灣)  110.50.130.167   \n",
       "M2  Wed Jun 17 07:18:48 2020      42.72.69.21 (臺灣)     42.72.69.21   \n",
       "M3  Wed Jun 17 07:18:17 2020    114.32.216.39 (臺灣)   114.32.216.39   \n",
       "M4  Wed Jun 17 07:18:12 2020     123.193.3.30 (臺灣)    123.193.3.30   \n",
       "M5  Wed Jun 17 07:18:10 2020   110.26.190.162 (臺灣)  110.26.190.162   \n",
       "\n",
       "   Longitude and Latitude                   Mobile  \\\n",
       "M1   經度：121.742　緯度：25.128             Vibo Telecom   \n",
       "M2   經度：121.532　緯度：25.048         Chunghwa Telecom   \n",
       "M3   經度：121.532　緯度：25.048  Taiwan Academic Network   \n",
       "M4   經度：121.532　緯度：25.048  Taiwan Academic Network   \n",
       "M5   經度：121.532　緯度：25.048              LINE Mobile   \n",
       "\n",
       "                                 Nation  \\\n",
       "M1  AS - Asia ( 亞洲 ) TW - Taiwan ( 台灣 )   \n",
       "M2  AS - Asia ( 亞洲 ) TW - Taiwan ( 台灣 )   \n",
       "M3  AS - Asia ( 亞洲 ) TW - Taiwan ( 台灣 )   \n",
       "M4  AS - Asia ( 亞洲 ) TW - Taiwan ( 台灣 )   \n",
       "M5  AS - Asia ( 亞洲 ) TW - Taiwan ( 台灣 )   \n",
       "\n",
       "                                                 Push               Title  \\\n",
       "M1  [→ Usayhiisayha: 跟跌倒的人體重有關 06/17 08:52, 推 VViz...  [問卦] 地震搖晃程度和屋齡有關嗎？   \n",
       "M2  [推 Beee09: 你最慢 06/17 07:20, 推 skbshawn: 抓最後一個 ...             [爆卦] 地震   \n",
       "M3  [※ 編輯: musashi4735 (114.32.216.39 臺灣), 06/17/2...             [爆卦] 地震   \n",
       "M4  [推 newsun1997: CC 06/17 07:18, , , 本網站已依台灣網站內容...             [爆卦] 地震   \n",
       "M5      [, , 本網站已依台灣網站內容分級規定處理。此區域為限制級，未滿十八歲者不得瀏覽。, ]                  地震   \n",
       "\n",
       "    YouWin  \n",
       "M1       0  \n",
       "M2       0  \n",
       "M3       0  \n",
       "M4       0  \n",
       "M5       0  "
      ]
     },
     "execution_count": 28,
     "metadata": {},
     "output_type": "execute_result"
    }
   ],
   "source": [
    "df_earthquake.head()"
   ]
  },
  {
   "cell_type": "markdown",
   "metadata": {},
   "source": [
    "# 處理時間格式"
   ]
  },
  {
   "cell_type": "markdown",
   "metadata": {},
   "source": [
    "eg. \"Sat May 30 22:18:19 2020\"\n",
    "\n",
    "ref: https://docs.python.org/zh-cn/3/library/datetime.html"
   ]
  },
  {
   "cell_type": "code",
   "execution_count": 36,
   "metadata": {},
   "outputs": [],
   "source": [
    "import datetime"
   ]
  },
  {
   "cell_type": "code",
   "execution_count": 37,
   "metadata": {},
   "outputs": [
    {
     "data": {
      "text/plain": [
       "datetime.datetime(1900, 5, 30, 0, 0)"
      ]
     },
     "execution_count": 37,
     "metadata": {},
     "output_type": "execute_result"
    }
   ],
   "source": [
    "dstr = \"Saturday May 30\"\n",
    "#datetime.datetime.strptime(dstr, \"%A %B %d\")\n",
    "datetime.datetime.strptime(dstr, \"%A %B %d\")"
   ]
  },
  {
   "cell_type": "code",
   "execution_count": 38,
   "metadata": {},
   "outputs": [],
   "source": [
    "d = datetime.date.fromordinal(730920)"
   ]
  },
  {
   "cell_type": "code",
   "execution_count": 39,
   "metadata": {},
   "outputs": [
    {
     "data": {
      "text/plain": [
       "datetime.date(2002, 3, 11)"
      ]
     },
     "execution_count": 39,
     "metadata": {},
     "output_type": "execute_result"
    }
   ],
   "source": [
    "d"
   ]
  },
  {
   "cell_type": "code",
   "execution_count": 40,
   "metadata": {},
   "outputs": [
    {
     "data": {
      "text/plain": [
       "'Monday 11. March 2002'"
      ]
     },
     "execution_count": 40,
     "metadata": {},
     "output_type": "execute_result"
    }
   ],
   "source": [
    "d.strftime(\"%A %d. %B %Y\")"
   ]
  },
  {
   "cell_type": "code",
   "execution_count": 41,
   "metadata": {},
   "outputs": [
    {
     "data": {
      "text/plain": [
       "datetime.datetime(1900, 2, 28, 0, 0)"
      ]
     },
     "execution_count": 41,
     "metadata": {},
     "output_type": "execute_result"
    }
   ],
   "source": [
    "dstr = \"Sat Feb 28\"\n",
    "datetime.datetime.strptime(dstr, \"%a %b %d\")"
   ]
  },
  {
   "cell_type": "code",
   "execution_count": 42,
   "metadata": {},
   "outputs": [],
   "source": [
    "# 正確的時間格式\n",
    "dstr = \"Sat May 30 22:18:19 2020\"\n",
    "d = datetime.datetime.strptime(dstr, \"%a %b %d %H:%M:%S %Y\")"
   ]
  },
  {
   "cell_type": "code",
   "execution_count": 43,
   "metadata": {},
   "outputs": [
    {
     "data": {
      "text/plain": [
       "'2020-05-30 22:18:19'"
      ]
     },
     "execution_count": 43,
     "metadata": {},
     "output_type": "execute_result"
    }
   ],
   "source": [
    "d.strftime(\"%Y-%m-%d %H:%M:%S\")"
   ]
  },
  {
   "cell_type": "code",
   "execution_count": 44,
   "metadata": {},
   "outputs": [
    {
     "data": {
      "text/plain": [
       "'Mon Jan 27 08:40:23 2020'"
      ]
     },
     "execution_count": 44,
     "metadata": {},
     "output_type": "execute_result"
    }
   ],
   "source": [
    "df_earthquake.iloc[row][4]"
   ]
  },
  {
   "cell_type": "code",
   "execution_count": 45,
   "metadata": {},
   "outputs": [
    {
     "name": "stdout",
     "output_type": "stream",
     "text": [
      "1040 1\n"
     ]
    }
   ],
   "source": [
    "# 修改時間格式\n",
    "Date_format = [] #經度\n",
    "count = 0\n",
    "for row in range(0, len(df_earthquake)):\n",
    "    try:\n",
    "        dstr = df_earthquake.iloc[row][4]\n",
    "        d = datetime.datetime.strptime(dstr, \"%a %b %d %H:%M:%S %Y\")\n",
    "        Date_format.append(d.strftime(\"%Y-%m-%d %H:%M:%S\"))\n",
    "    except:\n",
    "        Date_format.append(\"NaN\")\n",
    "        count+=1\n",
    "print(len(Date_format), count)"
   ]
  },
  {
   "cell_type": "code",
   "execution_count": 46,
   "metadata": {},
   "outputs": [],
   "source": [
    "df_earthquake[\"Date_format\"] = Date_format"
   ]
  },
  {
   "cell_type": "code",
   "execution_count": 47,
   "metadata": {},
   "outputs": [
    {
     "data": {
      "text/html": [
       "<div>\n",
       "<style scoped>\n",
       "    .dataframe tbody tr th:only-of-type {\n",
       "        vertical-align: middle;\n",
       "    }\n",
       "\n",
       "    .dataframe tbody tr th {\n",
       "        vertical-align: top;\n",
       "    }\n",
       "\n",
       "    .dataframe thead th {\n",
       "        text-align: right;\n",
       "    }\n",
       "</style>\n",
       "<table border=\"1\" class=\"dataframe\">\n",
       "  <thead>\n",
       "    <tr style=\"text-align: right;\">\n",
       "      <th></th>\n",
       "      <th>Author</th>\n",
       "      <th>Board</th>\n",
       "      <th>City</th>\n",
       "      <th>Content</th>\n",
       "      <th>Date</th>\n",
       "      <th>Full IP</th>\n",
       "      <th>IP</th>\n",
       "      <th>Longitude and Latitude</th>\n",
       "      <th>Mobile</th>\n",
       "      <th>Nation</th>\n",
       "      <th>Push</th>\n",
       "      <th>Title</th>\n",
       "      <th>YouWin</th>\n",
       "      <th>Longitude</th>\n",
       "      <th>Latitude</th>\n",
       "      <th>Date_format</th>\n",
       "    </tr>\n",
       "  </thead>\n",
       "  <tbody>\n",
       "    <tr>\n",
       "      <th>M1</th>\n",
       "      <td>MiLuDaiBoom (ⓂⓛⓁⓤⒹⓐⓛⒷⓞⓞⓂ)</td>\n",
       "      <td>Gossiping</td>\n",
       "      <td>Keelung</td>\n",
       "      <td>\\n\\n欸欸欸欸欸\\n\\n最近覺得地震特別搖\\n\\n但看新聞都說還好\\n\\n所以是我太敏感\\...</td>\n",
       "      <td>Wed Jun 17 08:51:57 2020</td>\n",
       "      <td>110.50.130.167 (臺灣)</td>\n",
       "      <td>110.50.130.167</td>\n",
       "      <td>經度：121.742　緯度：25.128</td>\n",
       "      <td>Vibo Telecom</td>\n",
       "      <td>AS - Asia ( 亞洲 ) TW - Taiwan ( 台灣 )</td>\n",
       "      <td>[→ Usayhiisayha: 跟跌倒的人體重有關 06/17 08:52, 推 VViz...</td>\n",
       "      <td>[問卦] 地震搖晃程度和屋齡有關嗎？</td>\n",
       "      <td>0</td>\n",
       "      <td>121.742</td>\n",
       "      <td>25.128</td>\n",
       "      <td>2020-06-17 08:51:57</td>\n",
       "    </tr>\n",
       "    <tr>\n",
       "      <th>M2</th>\n",
       "      <td>king1010 (玩酷)</td>\n",
       "      <td>Gossiping</td>\n",
       "      <td>Taipei</td>\n",
       "      <td>不想上班啊 有地震\\n\\n</td>\n",
       "      <td>Wed Jun 17 07:18:48 2020</td>\n",
       "      <td>42.72.69.21 (臺灣)</td>\n",
       "      <td>42.72.69.21</td>\n",
       "      <td>經度：121.532　緯度：25.048</td>\n",
       "      <td>Chunghwa Telecom</td>\n",
       "      <td>AS - Asia ( 亞洲 ) TW - Taiwan ( 台灣 )</td>\n",
       "      <td>[推 Beee09: 你最慢 06/17 07:20, 推 skbshawn: 抓最後一個 ...</td>\n",
       "      <td>[爆卦] 地震</td>\n",
       "      <td>0</td>\n",
       "      <td>121.532</td>\n",
       "      <td>25.048</td>\n",
       "      <td>2020-06-17 07:18:48</td>\n",
       "    </tr>\n",
       "    <tr>\n",
       "      <th>M3</th>\n",
       "      <td>musashi4735 (武藏)</td>\n",
       "      <td>Gossiping</td>\n",
       "      <td>Taipei</td>\n",
       "      <td>地震!!中壢\\n\\n</td>\n",
       "      <td>Wed Jun 17 07:18:17 2020</td>\n",
       "      <td>114.32.216.39 (臺灣)</td>\n",
       "      <td>114.32.216.39</td>\n",
       "      <td>經度：121.532　緯度：25.048</td>\n",
       "      <td>Taiwan Academic Network</td>\n",
       "      <td>AS - Asia ( 亞洲 ) TW - Taiwan ( 台灣 )</td>\n",
       "      <td>[※ 編輯: musashi4735 (114.32.216.39 臺灣), 06/17/2...</td>\n",
       "      <td>[爆卦] 地震</td>\n",
       "      <td>0</td>\n",
       "      <td>121.532</td>\n",
       "      <td>25.048</td>\n",
       "      <td>2020-06-17 07:18:17</td>\n",
       "    </tr>\n",
       "    <tr>\n",
       "      <th>M4</th>\n",
       "      <td>air121 (I GOT SPIRIT)</td>\n",
       "      <td>Gossiping</td>\n",
       "      <td>Taipei</td>\n",
       "      <td>台北\\n\\n</td>\n",
       "      <td>Wed Jun 17 07:18:12 2020</td>\n",
       "      <td>123.193.3.30 (臺灣)</td>\n",
       "      <td>123.193.3.30</td>\n",
       "      <td>經度：121.532　緯度：25.048</td>\n",
       "      <td>Taiwan Academic Network</td>\n",
       "      <td>AS - Asia ( 亞洲 ) TW - Taiwan ( 台灣 )</td>\n",
       "      <td>[推 newsun1997: CC 06/17 07:18, , , 本網站已依台灣網站內容...</td>\n",
       "      <td>[爆卦] 地震</td>\n",
       "      <td>0</td>\n",
       "      <td>121.532</td>\n",
       "      <td>25.048</td>\n",
       "      <td>2020-06-17 07:18:12</td>\n",
       "    </tr>\n",
       "    <tr>\n",
       "      <th>M5</th>\n",
       "      <td>open20023 (open20023)</td>\n",
       "      <td>Gossiping</td>\n",
       "      <td>Taipei</td>\n",
       "      <td>\\n好可怕啊\\n\\n</td>\n",
       "      <td>Wed Jun 17 07:18:10 2020</td>\n",
       "      <td>110.26.190.162 (臺灣)</td>\n",
       "      <td>110.26.190.162</td>\n",
       "      <td>經度：121.532　緯度：25.048</td>\n",
       "      <td>LINE Mobile</td>\n",
       "      <td>AS - Asia ( 亞洲 ) TW - Taiwan ( 台灣 )</td>\n",
       "      <td>[, , 本網站已依台灣網站內容分級規定處理。此區域為限制級，未滿十八歲者不得瀏覽。, ]</td>\n",
       "      <td>地震</td>\n",
       "      <td>0</td>\n",
       "      <td>121.532</td>\n",
       "      <td>25.048</td>\n",
       "      <td>2020-06-17 07:18:10</td>\n",
       "    </tr>\n",
       "  </tbody>\n",
       "</table>\n",
       "</div>"
      ],
      "text/plain": [
       "                       Author      Board     City  \\\n",
       "M1  MiLuDaiBoom (ⓂⓛⓁⓤⒹⓐⓛⒷⓞⓞⓂ)  Gossiping  Keelung   \n",
       "M2              king1010 (玩酷)  Gossiping   Taipei   \n",
       "M3           musashi4735 (武藏)  Gossiping   Taipei   \n",
       "M4      air121 (I GOT SPIRIT)  Gossiping   Taipei   \n",
       "M5      open20023 (open20023)  Gossiping   Taipei   \n",
       "\n",
       "                                              Content  \\\n",
       "M1  \\n\\n欸欸欸欸欸\\n\\n最近覺得地震特別搖\\n\\n但看新聞都說還好\\n\\n所以是我太敏感\\...   \n",
       "M2                                      不想上班啊 有地震\\n\\n   \n",
       "M3                                         地震!!中壢\\n\\n   \n",
       "M4                                             台北\\n\\n   \n",
       "M5                                         \\n好可怕啊\\n\\n   \n",
       "\n",
       "                        Date               Full IP              IP  \\\n",
       "M1  Wed Jun 17 08:51:57 2020   110.50.130.167 (臺灣)  110.50.130.167   \n",
       "M2  Wed Jun 17 07:18:48 2020      42.72.69.21 (臺灣)     42.72.69.21   \n",
       "M3  Wed Jun 17 07:18:17 2020    114.32.216.39 (臺灣)   114.32.216.39   \n",
       "M4  Wed Jun 17 07:18:12 2020     123.193.3.30 (臺灣)    123.193.3.30   \n",
       "M5  Wed Jun 17 07:18:10 2020   110.26.190.162 (臺灣)  110.26.190.162   \n",
       "\n",
       "   Longitude and Latitude                   Mobile  \\\n",
       "M1   經度：121.742　緯度：25.128             Vibo Telecom   \n",
       "M2   經度：121.532　緯度：25.048         Chunghwa Telecom   \n",
       "M3   經度：121.532　緯度：25.048  Taiwan Academic Network   \n",
       "M4   經度：121.532　緯度：25.048  Taiwan Academic Network   \n",
       "M5   經度：121.532　緯度：25.048              LINE Mobile   \n",
       "\n",
       "                                 Nation  \\\n",
       "M1  AS - Asia ( 亞洲 ) TW - Taiwan ( 台灣 )   \n",
       "M2  AS - Asia ( 亞洲 ) TW - Taiwan ( 台灣 )   \n",
       "M3  AS - Asia ( 亞洲 ) TW - Taiwan ( 台灣 )   \n",
       "M4  AS - Asia ( 亞洲 ) TW - Taiwan ( 台灣 )   \n",
       "M5  AS - Asia ( 亞洲 ) TW - Taiwan ( 台灣 )   \n",
       "\n",
       "                                                 Push               Title  \\\n",
       "M1  [→ Usayhiisayha: 跟跌倒的人體重有關 06/17 08:52, 推 VViz...  [問卦] 地震搖晃程度和屋齡有關嗎？   \n",
       "M2  [推 Beee09: 你最慢 06/17 07:20, 推 skbshawn: 抓最後一個 ...             [爆卦] 地震   \n",
       "M3  [※ 編輯: musashi4735 (114.32.216.39 臺灣), 06/17/2...             [爆卦] 地震   \n",
       "M4  [推 newsun1997: CC 06/17 07:18, , , 本網站已依台灣網站內容...             [爆卦] 地震   \n",
       "M5      [, , 本網站已依台灣網站內容分級規定處理。此區域為限制級，未滿十八歲者不得瀏覽。, ]                  地震   \n",
       "\n",
       "    YouWin Longitude Latitude          Date_format  \n",
       "M1       0   121.742   25.128  2020-06-17 08:51:57  \n",
       "M2       0   121.532   25.048  2020-06-17 07:18:48  \n",
       "M3       0   121.532   25.048  2020-06-17 07:18:17  \n",
       "M4       0   121.532   25.048  2020-06-17 07:18:12  \n",
       "M5       0   121.532   25.048  2020-06-17 07:18:10  "
      ]
     },
     "execution_count": 47,
     "metadata": {},
     "output_type": "execute_result"
    }
   ],
   "source": [
    "df_earthquake.head()"
   ]
  },
  {
   "cell_type": "code",
   "execution_count": 48,
   "metadata": {},
   "outputs": [],
   "source": [
    "df_earthquake.to_csv(\"PTT_earthquake_IPQuery_0617地震.csv\", encoding=\"utf-8\")"
   ]
  },
  {
   "cell_type": "code",
   "execution_count": null,
   "metadata": {},
   "outputs": [],
   "source": []
  }
 ],
 "metadata": {
  "kernelspec": {
   "display_name": "Python 3",
   "language": "python",
   "name": "python3"
  },
  "language_info": {
   "codemirror_mode": {
    "name": "ipython",
    "version": 3
   },
   "file_extension": ".py",
   "mimetype": "text/x-python",
   "name": "python",
   "nbconvert_exporter": "python",
   "pygments_lexer": "ipython3",
   "version": "3.7.3"
  }
 },
 "nbformat": 4,
 "nbformat_minor": 4
}
